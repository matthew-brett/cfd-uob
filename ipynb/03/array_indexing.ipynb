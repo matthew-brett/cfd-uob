{
 "cells": [
  {
   "cell_type": "markdown",
   "metadata": {},
   "source": [
    "# Selecting values from an array"
   ]
  },
  {
   "cell_type": "code",
   "execution_count": null,
   "metadata": {},
   "outputs": [],
   "source": [
    "import numpy as np"
   ]
  },
  {
   "cell_type": "markdown",
   "metadata": {},
   "source": [
    "We use arrays all the time, in data science.\n",
    "\n",
    "One of the most common tasks we have to do on arrays, is to select values.\n",
    "\n",
    "We do this with *array slicing*.\n",
    "\n",
    "We do array slicing when we follow the array variable name with\n",
    "`[` (open square brackets), followed by something to specify\n",
    "which elements we want, followed by `]` (close square brackets.\n",
    "\n",
    "The simplest case is when we want a single element from a one-dimensional array.  In that case the thing between the `[` and the `]` is the *index* of the value that we want.\n",
    "\n",
    "The *index* of the first value is 0, the index of the second value is 2, and so on.\n",
    "\n",
    "We start by loading data from a Comma Separated Value file (CSV\n",
    "file).\n",
    "\n",
    "This is summary data that [Andrew Rosen](https://asrosen.com) downloaded from\n",
    "<https://www.ratemyprofessors.com> for an analysis he reported in [a 2018\n",
    "paper](https://asrosen.com/wp-content/uploads/2018/07/postprint_rmp-1.pdf). The\n",
    "data file here is from the [supplementary\n",
    "material](https://www.tandfonline.com/doi/suppl/10.1080/02602938.2016.1276155);\n",
    "it has the average rating across academic discipline for all professors in\n",
    "a particular discipline who have more than 20 ratings.\n",
    "\n",
    "See [the dataset page](https://matthew-brett.github.io/cfd2019/data/rate_my_professors) for more\n",
    "detail.\n",
    "\n",
    "If you are running on your laptop, you should download the\n",
    "[rate_my_course.csv](https://matthew-brett.github.io/cfd2019/data/rate_my_course.csv) file to the\n",
    "same directory as this notebook.\n",
    "\n",
    "Don't worry about the next cell.  It just loads the data we need from a data file.  We will come on the machinery to do this very soon."
   ]
  },
  {
   "cell_type": "code",
   "execution_count": null,
   "metadata": {},
   "outputs": [],
   "source": [
    "# This code we have not covered yet.  We will soon.\n",
    "# It loads the data file, and makes some arrays.\n",
    "# Load the library for reading data files.\n",
    "import pandas as pd\n",
    "# Read the file.\n",
    "courses = pd.read_csv('rate_my_course.csv')\n",
    "# Sort the courses by number of rated teachers, most first.\n",
    "courses_by_n = courses.sort_values(\n",
    "    'Number of Professors', ascending=False)\n",
    "# Select the top eight easiest courses.\n",
    "big_courses = courses_by_n.head(8)\n",
    "big_courses"
   ]
  },
  {
   "cell_type": "code",
   "execution_count": null,
   "metadata": {},
   "outputs": [],
   "source": [
    "# Again - don't worry about this code - we will cover it later.\n",
    "# Put the columns into arrays\n",
    "disciplines = big_courses['Discipline'].values\n",
    "easiness = big_courses['Easiness'].values\n",
    "quality = big_courses['Overall Quality'].values"
   ]
  },
  {
   "cell_type": "markdown",
   "metadata": {},
   "source": [
    "We now have the names of the disciplines with the largest number of professors."
   ]
  },
  {
   "cell_type": "code",
   "execution_count": null,
   "metadata": {},
   "outputs": [],
   "source": [
    "disciplines"
   ]
  },
  {
   "cell_type": "markdown",
   "metadata": {},
   "source": [
    "Here we get the first value.  This value is at index 0."
   ]
  },
  {
   "cell_type": "code",
   "execution_count": null,
   "metadata": {},
   "outputs": [],
   "source": [
    "# Get the first value (at index position 0)\n",
    "disciplines[0]"
   ]
  },
  {
   "cell_type": "markdown",
   "metadata": {},
   "source": [
    "Notice that this is another way of writing:"
   ]
  },
  {
   "cell_type": "code",
   "execution_count": null,
   "metadata": {},
   "outputs": [],
   "source": [
    "disciplines.item(0)"
   ]
  },
  {
   "cell_type": "code",
   "execution_count": null,
   "metadata": {},
   "outputs": [],
   "source": [
    "# Get the second value (at index position 1)\n",
    "disciplines[1]"
   ]
  },
  {
   "cell_type": "code",
   "execution_count": null,
   "metadata": {},
   "outputs": [],
   "source": [
    "# Get the third value (at index position 2)\n",
    "disciplines[2]"
   ]
  },
  {
   "cell_type": "markdown",
   "metadata": {},
   "source": [
    "At first this will take some time to get used to, that the first\n",
    "value is at index position 0.  There are good reasons for this,\n",
    "and many programming languages have this convention, but it does a while to get this habit of mind."
   ]
  },
  {
   "cell_type": "markdown",
   "metadata": {},
   "source": [
    "Notice too that we use square brackets for indexing.\n",
    "\n",
    "We have seen square brackets before, when we create lists.  For example, we can create a list with `my_list = [1, 2, 3]`. (We usually then create an array with something like `my_array = np.array(my_list)`.  This is *a different use of square brackets*. When we create a list, the square brackets tell Python that the elements between the brackets should be the elements of the list.  This use is called a *list literal* expression.  The square brackets follow an equal sign, or some other operator, or start the line.\n",
    "\n",
    "When we use square brackets for indexing, the square brackets always follow an expression that returns an array.  For example, consider this line:"
   ]
  },
  {
   "cell_type": "code",
   "execution_count": null,
   "metadata": {},
   "outputs": [],
   "source": [
    "disciplines[2]"
   ]
  },
  {
   "cell_type": "markdown",
   "metadata": {},
   "source": [
    "`disciplines` is an expression that returns an array.  Therefore the open square brackets follows this expression, and therefore, Python can tell that this use of square brackets means *select an element or elements from the array*.\n",
    "\n",
    "So we have seen different uses of square brackets:\n",
    "\n",
    "* Creating a list (a *list literal*); (often uses in making arrays).\n",
    "* Indexing into an array.\n",
    "\n",
    "Python can tell which of these two we mean, from the context."
   ]
  },
  {
   "cell_type": "markdown",
   "metadata": {},
   "source": [
    "## Index with negative numbers"
   ]
  },
  {
   "cell_type": "markdown",
   "metadata": {},
   "source": [
    "If we know how many elements the array has, then we can get the last element by using the number of elements, minus one (why?).\n",
    "\n",
    "Here the number of elements is:"
   ]
  },
  {
   "cell_type": "code",
   "execution_count": null,
   "metadata": {},
   "outputs": [],
   "source": [
    "len(disciplines)"
   ]
  },
  {
   "cell_type": "markdown",
   "metadata": {},
   "source": [
    "So, the last element of the array is at index position 7:"
   ]
  },
  {
   "cell_type": "code",
   "execution_count": null,
   "metadata": {},
   "outputs": [],
   "source": [
    "disciplines[7]"
   ]
  },
  {
   "cell_type": "markdown",
   "metadata": {},
   "source": [
    "In fact, there is a short cut for getting elements at the end of the array, and that is to use an offset with a minus in front.  The number is then the offset from one past the last item.  For example, here is another way to get the last element:"
   ]
  },
  {
   "cell_type": "code",
   "execution_count": null,
   "metadata": {},
   "outputs": [],
   "source": [
    "disciplines[-1]"
   ]
  },
  {
   "cell_type": "markdown",
   "metadata": {},
   "source": [
    "The last but one element:"
   ]
  },
  {
   "cell_type": "code",
   "execution_count": null,
   "metadata": {},
   "outputs": [],
   "source": [
    "disciplines[-2]"
   ]
  },
  {
   "cell_type": "markdown",
   "metadata": {},
   "source": [
    "## Index with slices"
   ]
  },
  {
   "cell_type": "markdown",
   "metadata": {},
   "source": [
    "Sometimes we want more than one element from the array.  For example, we might want the first 4 elements from the array.  We can get these using an array *slice*.  It looks like this:"
   ]
  },
  {
   "cell_type": "code",
   "execution_count": null,
   "metadata": {},
   "outputs": [],
   "source": [
    "# All the elements from offset zero up to (not including) 4\n",
    "disciplines[0:4]"
   ]
  },
  {
   "cell_type": "code",
   "execution_count": null,
   "metadata": {},
   "outputs": [],
   "source": [
    "# All the elements from offset 4 up to (not including) 8\n",
    "disciplines[5:11]"
   ]
  },
  {
   "cell_type": "markdown",
   "metadata": {},
   "source": [
    "You can omit the first number, if you mean to start at offset 0:"
   ]
  },
  {
   "cell_type": "code",
   "execution_count": null,
   "metadata": {},
   "outputs": [],
   "source": [
    "disciplines[:4]"
   ]
  },
  {
   "cell_type": "markdown",
   "metadata": {},
   "source": [
    "You can omit the last number if you mean to end at the last element of the array:"
   ]
  },
  {
   "cell_type": "code",
   "execution_count": null,
   "metadata": {},
   "outputs": [],
   "source": [
    "disciplines[4:]"
   ]
  },
  {
   "cell_type": "markdown",
   "metadata": {},
   "source": [
    "## Indexing with Boolean arrays\n",
    "\n",
    "We often want to select several elements from an array according to some criterion.\n",
    "\n",
    "The most common way to do this, is to do array slicing, using\n",
    "a Boolean array between the square brackets.\n",
    "\n",
    "It can be easier to understand this by example than by description."
   ]
  },
  {
   "cell_type": "markdown",
   "metadata": {},
   "source": [
    "Here are the \"Overall Quality\" scores for the ten largest courses:"
   ]
  },
  {
   "cell_type": "code",
   "execution_count": null,
   "metadata": {},
   "outputs": [],
   "source": [
    "quality"
   ]
  },
  {
   "cell_type": "markdown",
   "metadata": {},
   "source": [
    "These are the quality ratings corresponding to the `disciplines` we saw earlier.  The top (largest) discipline is:"
   ]
  },
  {
   "cell_type": "code",
   "execution_count": null,
   "metadata": {},
   "outputs": [],
   "source": [
    "disciplines[0]"
   ]
  },
  {
   "cell_type": "markdown",
   "metadata": {},
   "source": [
    "The Overall Quality rating for that course is:"
   ]
  },
  {
   "cell_type": "code",
   "execution_count": null,
   "metadata": {},
   "outputs": [],
   "source": [
    "quality[0]"
   ]
  },
  {
   "cell_type": "markdown",
   "metadata": {},
   "source": [
    "You have already come across Boolean arrays.\n",
    "\n",
    "These are arrays of `True` and `False` values.\n",
    "\n",
    "Here is a Boolean array, created from applying a comparison to an array:"
   ]
  },
  {
   "cell_type": "code",
   "execution_count": null,
   "metadata": {},
   "outputs": [],
   "source": [
    "greater_than_3 = easiness > 3\n",
    "greater_than_3"
   ]
  },
  {
   "cell_type": "markdown",
   "metadata": {},
   "source": [
    "This has a `True` value at the positions of elements > 3, and `False` otherwise."
   ]
  },
  {
   "cell_type": "markdown",
   "metadata": {},
   "source": [
    "As you have already seen, we can do things like count the number\n",
    "of `True` values in the Boolean array:"
   ]
  },
  {
   "cell_type": "code",
   "execution_count": null,
   "metadata": {},
   "outputs": [],
   "source": [
    "np.count_nonzero(greater_than_3)"
   ]
  },
  {
   "cell_type": "markdown",
   "metadata": {},
   "source": [
    "Now let us say that we wanted to get the elements from `easiness`\n",
    "that are greater than 4.   That is, we want to get the elements\n",
    "in `easiness` for which the corresponding element in\n",
    "`greater_than_3` is `True`.\n",
    "\n",
    "We can do this with *Boolean array indexing*.  The Boolean array goes between the square brackets, like this:"
   ]
  },
  {
   "cell_type": "code",
   "execution_count": null,
   "metadata": {},
   "outputs": [],
   "source": [
    "easiness"
   ]
  },
  {
   "cell_type": "code",
   "execution_count": null,
   "metadata": {},
   "outputs": [],
   "source": [
    "greater_than_3"
   ]
  },
  {
   "cell_type": "code",
   "execution_count": null,
   "metadata": {},
   "outputs": [],
   "source": [
    "easiness[greater_than_3]"
   ]
  },
  {
   "cell_type": "markdown",
   "metadata": {},
   "source": [
    "We have selected the numbers in `easiness` that are greater than 3."
   ]
  },
  {
   "cell_type": "markdown",
   "metadata": {},
   "source": [
    "We can use this same Boolean array to index into another array.  For example, here we show the discipline *names* corresponding to the courses with Easiness scores greater than 3:"
   ]
  },
  {
   "cell_type": "code",
   "execution_count": null,
   "metadata": {},
   "outputs": [],
   "source": [
    "disciplines[greater_than_3]"
   ]
  },
  {
   "cell_type": "markdown",
   "metadata": {},
   "source": [
    "Just to confirm that these are the disciplines with \"Easiness\" ratings greater than 4, here are the first ten rows of the table.  These are the rows corresponding to numbers in the arrays."
   ]
  },
  {
   "cell_type": "code",
   "execution_count": null,
   "metadata": {},
   "outputs": [],
   "source": [
    "big_courses.head(10)"
   ]
  }
 ],
 "metadata": {
  "jupytext": {
   "notebook_metadata_filter": "all,-language_info",
   "split_at_heading": true
  },
  "kernelspec": {
   "display_name": "Python 3",
   "language": "python",
   "name": "python3"
  },
  "language_info": {
   "codemirror_mode": {
    "name": "ipython",
    "version": 3
   },
   "file_extension": ".py",
   "mimetype": "text/x-python",
   "name": "python",
   "nbconvert_exporter": "python",
   "pygments_lexer": "ipython3",
   "version": "3.7.1"
  }
 },
 "nbformat": 4,
 "nbformat_minor": 2
}
