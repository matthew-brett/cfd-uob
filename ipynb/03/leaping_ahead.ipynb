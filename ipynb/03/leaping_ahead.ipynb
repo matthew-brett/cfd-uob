{
 "cells": [
  {
   "cell_type": "markdown",
   "metadata": {},
   "source": [
    "We are still building up to a solution for the [three girls\n",
    "problem](../02/three_girls).\n",
    "\n",
    "We have more of the building blocks we need.\n",
    "\n",
    "First we load the Numpy library."
   ]
  },
  {
   "cell_type": "code",
   "execution_count": null,
   "metadata": {},
   "outputs": [],
   "source": [
    "# Load the Numpy package, and rename to \"np\"\n",
    "import numpy as np"
   ]
  },
  {
   "cell_type": "markdown",
   "metadata": {},
   "source": [
    "We are going to simulate 10000 families, each with four children.\n",
    "\n",
    "Here we put together some things you've seen before.  We are creating a Numpy array from an empty list.  We get an empty array."
   ]
  },
  {
   "cell_type": "code",
   "execution_count": null,
   "metadata": {},
   "outputs": [],
   "source": [
    "# Make an empty array to store counts of girls in each family\n",
    "counts = np.array([])\n",
    "counts"
   ]
  },
  {
   "cell_type": "markdown",
   "metadata": {},
   "source": [
    "`counts` will eventually have 10000 elements where each will be the number of girls in one simulated family.\n",
    "\n",
    "Remembering [function arguments](function_arguments), here is how we make\n",
    "an array that simulates a family of four children:"
   ]
  },
  {
   "cell_type": "code",
   "execution_count": null,
   "metadata": {},
   "outputs": [],
   "source": [
    "# Get an array of 4 integers from 0 up to, but not including 2.\n",
    "# (Therefore, 4 integers that can be either 0 or 1).\n",
    "family = np.random.randint(0, 2, size=4)\n",
    "family"
   ]
  },
  {
   "cell_type": "markdown",
   "metadata": {},
   "source": [
    "We represented girls with a value of one. We can count the number of girls by using the `np.sum` function on the `family` array:"
   ]
  },
  {
   "cell_type": "code",
   "execution_count": null,
   "metadata": {},
   "outputs": [],
   "source": [
    "count = np.sum(family)\n",
    "count"
   ]
  },
  {
   "cell_type": "markdown",
   "metadata": {},
   "source": [
    "We want to build up a lot of counts, in the `counts` array, so we start by appending the `count` value:"
   ]
  },
  {
   "cell_type": "code",
   "execution_count": null,
   "metadata": {},
   "outputs": [],
   "source": [
    "# Store the count in the counts array.\n",
    "counts = np.append(counts, count)\n",
    "counts"
   ]
  },
  {
   "cell_type": "markdown",
   "metadata": {},
   "source": [
    "We can do this again in a single cell, like this:"
   ]
  },
  {
   "cell_type": "code",
   "execution_count": null,
   "metadata": {},
   "outputs": [],
   "source": [
    "# A second family\n",
    "family = np.random.randint(0, 2, size=4)\n",
    "count = np.sum(family)\n",
    "\n",
    "# Store the count in the counts array.\n",
    "counts = np.append(counts, count)\n",
    "counts"
   ]
  },
  {
   "cell_type": "markdown",
   "metadata": {},
   "source": [
    "To add another family, we just repeat the same:"
   ]
  },
  {
   "cell_type": "code",
   "execution_count": null,
   "metadata": {},
   "outputs": [],
   "source": [
    "# A third family\n",
    "family = np.random.randint(0, 2, size=4)\n",
    "count = np.sum(family)\n",
    "\n",
    "# Store the count in the counts array.\n",
    "counts = np.append(counts, count)\n",
    "counts"
   ]
  },
  {
   "cell_type": "markdown",
   "metadata": {},
   "source": [
    "Obviously this is getting a bit boring and repetitive. Surely we can do better.\n",
    "\n",
    "Yes indeed, we can use a *for loop*.  We will see much more of for loops [very\n",
    "soon](Iteration).  Here's a preview:"
   ]
  },
  {
   "cell_type": "code",
   "execution_count": null,
   "metadata": {},
   "outputs": [],
   "source": [
    "# Reset the counts array to empty.\n",
    "counts = np.array([])\n",
    "\n",
    "# Repeat the indented stuff 10000 times.\n",
    "for i in np.arange(10000):\n",
    "    # The procedure for one family.\n",
    "    family = np.random.randint(0, 2, size=4)\n",
    "    count = np.sum(family)\n",
    "    # Store the count in the counts array.\n",
    "    counts = np.append(counts, count)\n",
    "counts"
   ]
  },
  {
   "cell_type": "markdown",
   "metadata": {},
   "source": [
    "Now we have a count of the number of girls, from 10000 simulated families:"
   ]
  },
  {
   "cell_type": "code",
   "execution_count": null,
   "metadata": {},
   "outputs": [],
   "source": [
    "len(counts)"
   ]
  },
  {
   "cell_type": "markdown",
   "metadata": {},
   "source": [
    "Our next problem is to find how many of these `counts` are equal to 3.\n",
    "\n",
    "Remember [comparison](Comparison)?\n",
    "\n",
    "Imagine I have some value `count`, like this:"
   ]
  },
  {
   "cell_type": "code",
   "execution_count": null,
   "metadata": {},
   "outputs": [],
   "source": [
    "count = 3\n",
    "count"
   ]
  },
  {
   "cell_type": "markdown",
   "metadata": {},
   "source": [
    "I can use the `==` comparison to test if `count` is equal to 3:"
   ]
  },
  {
   "cell_type": "code",
   "execution_count": null,
   "metadata": {},
   "outputs": [],
   "source": [
    "# A comparison expression, asking whether \"count\" is equal to 3.\n",
    "count == 3"
   ]
  },
  {
   "cell_type": "markdown",
   "metadata": {},
   "source": [
    "What do you think we will get if do the same test on all 10000 values in `counts`?"
   ]
  },
  {
   "cell_type": "code",
   "execution_count": null,
   "metadata": {},
   "outputs": [],
   "source": [
    "counts == 3"
   ]
  },
  {
   "cell_type": "markdown",
   "metadata": {},
   "source": [
    "This is a new 10000 element array of True and False values.  It is called a *Boolean array*.  We will see many more of these.\n",
    "\n",
    "Next we will use a Numpy function called `count_nonzero`.   It counts the number of values in an array that are not equivalent to 0.   It turns out that `False` is equivalent to 0, but `True` is not:"
   ]
  },
  {
   "cell_type": "code",
   "execution_count": null,
   "metadata": {},
   "outputs": [],
   "source": [
    "np.count_nonzero(False)"
   ]
  },
  {
   "cell_type": "code",
   "execution_count": null,
   "metadata": {},
   "outputs": [],
   "source": [
    "np.count_nonzero(True)"
   ]
  },
  {
   "cell_type": "code",
   "execution_count": null,
   "metadata": {},
   "outputs": [],
   "source": [
    "my_booleans = np.array([True, False, True])\n",
    "np.count_nonzero(my_booleans)"
   ]
  },
  {
   "cell_type": "markdown",
   "metadata": {},
   "source": [
    "This means that `count_nonzero` returns the number of True values in a Boolean array.  Now we can count how many of the `counts` array were equal to 3."
   ]
  },
  {
   "cell_type": "code",
   "execution_count": null,
   "metadata": {},
   "outputs": [],
   "source": [
    "# The Boolean array, with True where counts equal to 3, False otherwise.\n",
    "has_3_girls = counts == 3\n",
    "\n",
    "# Number of counts values equal to 3.\n",
    "n_3_girls = np.count_nonzero(has_3_girls)\n",
    "n_3_girls"
   ]
  },
  {
   "cell_type": "markdown",
   "metadata": {},
   "source": [
    "Finally we estimate the probability by dividing the number of times we saw 3 by the number of trials:"
   ]
  },
  {
   "cell_type": "code",
   "execution_count": null,
   "metadata": {},
   "outputs": [],
   "source": [
    "# Estimate probability of 3 girls.\n",
    "n_3_girls / 10000"
   ]
  },
  {
   "cell_type": "markdown",
   "metadata": {},
   "source": [
    "## The whole thing\n",
    "\n",
    "Here then is the whole solution to three girl problem.\n",
    "\n",
    "It is make from the combination of the code in the cells above."
   ]
  },
  {
   "cell_type": "code",
   "execution_count": null,
   "metadata": {},
   "outputs": [],
   "source": [
    "# Reset the counts array to empty.\n",
    "counts = np.array([])\n",
    "\n",
    "# Repeat the indented stuff 10000 times.\n",
    "for i in np.arange(10000):\n",
    "    # The procedure for one family.\n",
    "    family = np.random.randint(0, 2, size=4)\n",
    "    count = np.sum(family)\n",
    "    # Store the count in the counts array.\n",
    "    counts = np.append(counts, count)\n",
    "\n",
    "# True where counts has the value 3, False otherwise.\n",
    "has_3_girls = counts == 3\n",
    "\n",
    "# Number of counts values equal to 3.\n",
    "n_3_girls = np.count_nonzero(has_3_girls)\n",
    "\n",
    "# Estimate and show probability of 3 girls.\n",
    "n_3_girls / 10000"
   ]
  },
  {
   "cell_type": "markdown",
   "metadata": {},
   "source": [
    "## For loops.\n",
    "\n",
    "The new part of this story is the *for loop*.  On to [iteration with for\n",
    "loops](Iteration)."
   ]
  }
 ],
 "metadata": {
  "jupytext": {
   "split_at_heading": true
  },
  "kernelspec": {
   "display_name": "Python 3",
   "language": "python",
   "name": "python3"
  },
  "language_info": {
   "codemirror_mode": {
    "name": "ipython",
    "version": 3
   },
   "file_extension": ".py",
   "mimetype": "text/x-python",
   "name": "python",
   "nbconvert_exporter": "python",
   "pygments_lexer": "ipython3",
   "version": "3.7.1"
  }
 },
 "nbformat": 4,
 "nbformat_minor": 2
}
