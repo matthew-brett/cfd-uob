{
 "cells": [
  {
   "cell_type": "markdown",
   "metadata": {},
   "source": [
    "In [The Mean and Slopes](mean_and_slopes), we were looking for the best slope\n",
    "to predict one vector of values from another vector of values.\n",
    "\n",
    "Specifically, we wanted our slope to predict the Packed Cell Volume (PCV)\n",
    "values from the Hemoglobin (HGB) values.\n",
    "\n",
    "By analogy with [The Mean as Predictor](mean_meaning), we decided to choose our\n",
    "line to minimize the average prediction errors, and the sum of squared\n",
    "prediction errors.\n",
    "\n",
    "We found a solution, by trying many slopes, and choosing the slope giving use\n",
    "the smallest error.\n",
    "\n",
    "For our question, we were happy to assume that the line passed through 0,\n",
    "0 - meaning, that when the Hemoglobin is 0, the Packed Cell Volume value is 0.\n",
    "Put another way, we assumed that our line had an *intercept* value of 0.  The\n",
    "intercept is the y value at which the line crosses the y axis, or, put another\n",
    "way, the y value when the x value is 0.\n",
    "\n",
    "What if we are in a situation where we want to find a line that had a (not\n",
    "zero) intercept, as well as a slope?"
   ]
  },
  {
   "cell_type": "code",
   "execution_count": null,
   "metadata": {},
   "outputs": [],
   "source": [
    "import numpy as np\n",
    "import pandas as pd\n",
    "import matplotlib.pyplot as plt\n",
    "%matplotlib inline\n",
    "# Make plots look a little bit more fancy\n",
    "plt.style.use('fivethirtyeight')\n",
    "# Print to 4 decimal places, show tiny values as 0\n",
    "np.set_printoptions(precision=4, suppress=True)"
   ]
  },
  {
   "cell_type": "markdown",
   "metadata": {},
   "source": [
    "We return to the [students ratings dataset](https://matthew-brett.github.io/cfd2019/data/rate_my_professors) dataset.\n",
    "\n",
    "This is a dataset, in Excel form, where each row is the average of students'\n",
    "ratings from <RateMyProfessors.com> across a single subject.  Thus, the first\n",
    "row refers to the average of all professors teaching English, the second row\n",
    "refers to all professors teaching Mathematics, and so on.\n",
    "\n",
    "Download the data file via this link [disciplines_SI.xlsx](https://matthew-brett.github.io/cfd2019/data/disciplines_SI.xlsx).\n",
    "\n",
    "Next we load the data.  Notice we are using the Pandas\n",
    "[read_excel](https://pandas.pydata.org/pandas-docs/stable/reference/api/pandas.read_excel.html)\n",
    "function to read this Excel spreadsheet."
   ]
  },
  {
   "cell_type": "code",
   "execution_count": null,
   "metadata": {},
   "outputs": [],
   "source": [
    "# Read the Excel format data file\n",
    "ratings = pd.read_excel('disciplines_SI.xlsx')\n",
    "ratings.head()"
   ]
  },
  {
   "cell_type": "markdown",
   "metadata": {},
   "source": [
    "We are interested in the relationship of the \"Overall Quality\" measure to the\n",
    "\"Easiness\" measure."
   ]
  },
  {
   "cell_type": "code",
   "execution_count": null,
   "metadata": {},
   "outputs": [],
   "source": [
    "# Convert Easiness and Overall Quality measures to arrays.\n",
    "easiness = np.array(ratings['Easiness'])\n",
    "quality = np.array(ratings['Overall Quality'])"
   ]
  },
  {
   "cell_type": "markdown",
   "metadata": {},
   "source": [
    "Do students rate easier courses as being of better quality?"
   ]
  },
  {
   "cell_type": "code",
   "execution_count": null,
   "metadata": {},
   "outputs": [],
   "source": [
    "plt.plot(easiness, quality, 'o')\n",
    "plt.xlabel('Easiness')\n",
    "plt.ylabel('Overall Quality')"
   ]
  },
  {
   "cell_type": "markdown",
   "metadata": {},
   "source": [
    "There might be a straight-line relationship here, but it doesn't look as if it\n",
    "would go through 0, 0:"
   ]
  },
  {
   "cell_type": "code",
   "execution_count": null,
   "metadata": {},
   "outputs": [],
   "source": [
    "# The same plot as above, but showing the x, y origin at 0, 0\n",
    "plt.plot(easiness, quality, 'o')\n",
    "plt.xlabel('Easiness')\n",
    "plt.ylabel('Overall Quality')\n",
    "# Make sure 0, 0 is on the plot.\n",
    "plt.axis([0, 3.9, 0, 4.2])"
   ]
  },
  {
   "cell_type": "markdown",
   "metadata": {},
   "source": [
    "In [The Mean and Slopes](mean_and_slopes), we assumed that the intercept was zero, so we only had to try different slopes to get our best line."
   ]
  },
  {
   "cell_type": "markdown",
   "metadata": {},
   "source": [
    "Here we have a different problem, because we want to find a line that has an\n",
    "intercept that is not zero, so we need to find the *best slope* and the *best\n",
    "intercept* at the same time.  How do we search for a slope as well as an\n",
    "intercept?"
   ]
  },
  {
   "cell_type": "markdown",
   "metadata": {},
   "source": [
    "To be more formal, we describe the line with an *intercept* $c$ and a *slope*\n",
    "$s$.  A line predicts the $y$ values from the $x$ values, using the slope $s$\n",
    "and the intercept $c$:\n",
    "\n",
    "$$\n",
    "y = c + x * s\n",
    "$$"
   ]
  },
  {
   "cell_type": "markdown",
   "metadata": {},
   "source": [
    "Let's say we guess that:"
   ]
  },
  {
   "cell_type": "code",
   "execution_count": null,
   "metadata": {},
   "outputs": [],
   "source": [
    "# Intercept and slope for guessed line\n",
    "c_guess = 2.25\n",
    "s_guess = 0.47"
   ]
  },
  {
   "cell_type": "markdown",
   "metadata": {},
   "source": [
    "The *predicted* $y$ values from this line are (from the formula above):"
   ]
  },
  {
   "cell_type": "code",
   "execution_count": null,
   "metadata": {},
   "outputs": [],
   "source": [
    "predicted = c_guess + easiness * s_guess"
   ]
  },
  {
   "cell_type": "markdown",
   "metadata": {},
   "source": [
    "where `easiness` contains our actual $x$ values.\n",
    "\n",
    "The prediction error at each point come from the actual $y$ values minus the\n",
    "predicted $y$ values."
   ]
  },
  {
   "cell_type": "code",
   "execution_count": null,
   "metadata": {},
   "outputs": [],
   "source": [
    "error = quality - predicted"
   ]
  },
  {
   "cell_type": "markdown",
   "metadata": {},
   "source": [
    "where `quality` contains our actual $y$ values.\n",
    "\n",
    "The sum of squared errors is:"
   ]
  },
  {
   "cell_type": "code",
   "execution_count": null,
   "metadata": {},
   "outputs": [],
   "source": [
    "# Sum of squared error given c and s\n",
    "sse_c_s = np.sum(error ** 2)\n",
    "sse_c_s"
   ]
  },
  {
   "cell_type": "markdown",
   "metadata": {},
   "source": [
    "We want to find the *pair of values* --- `c` and `s`  --- such that we get the\n",
    "smallest possible value for `sse_c_s` above."
   ]
  },
  {
   "cell_type": "markdown",
   "metadata": {},
   "source": [
    "First we define a function, that gives the sum of squared error from our line, defined by the intercept, slope pair."
   ]
  },
  {
   "cell_type": "code",
   "execution_count": null,
   "metadata": {},
   "outputs": [],
   "source": [
    "def sos_error_c_s(c, s):\n",
    "    predicted = c + easiness * s\n",
    "    error = quality - predicted\n",
    "    return np.sum(error ** 2)"
   ]
  },
  {
   "cell_type": "markdown",
   "metadata": {},
   "source": [
    "Here we pass the new function our guessed intercept and slope function to confirm we get the same answer as we did before:"
   ]
  },
  {
   "cell_type": "code",
   "execution_count": null,
   "metadata": {},
   "outputs": [],
   "source": [
    "sos_error_c_s(c_guess, s_guess)"
   ]
  },
  {
   "cell_type": "markdown",
   "metadata": {},
   "source": [
    "We can try other values for the intercept and slope to see if we can make the\n",
    "sum of squared error go down:"
   ]
  },
  {
   "cell_type": "code",
   "execution_count": null,
   "metadata": {
    "lines_to_next_cell": 2
   },
   "outputs": [],
   "source": [
    "sos_error_c_s(2.2, 0.48)"
   ]
  },
  {
   "cell_type": "markdown",
   "metadata": {},
   "source": [
    "In [Mean and Slopes](mean_and_slopes), we found the best slope by trying lots\n",
    "of slopes and choosing the one the gave the minimum sum of squares. What do we\n",
    "do when we are trying to find the best slope *and* the best intercept at the same time?\n",
    "\n",
    "We can do the same thing as we did when we were just looking for the slope, but\n",
    "this time, instead of searching over many slopes, we search over many\n",
    "*combinations* of slopes and intercepts."
   ]
  },
  {
   "cell_type": "code",
   "execution_count": null,
   "metadata": {},
   "outputs": [],
   "source": [
    "# Some slopes and intercepts to try\n",
    "some_intercepts = np.arange(1, 3.2, 0.01)\n",
    "n_intercepts = len(some_intercepts)\n",
    "print('Number of intercepts to try:', n_intercepts)\n",
    "some_slopes = np.arange(0.2, 0.8, 0.001)\n",
    "n_slopes = len(some_slopes)\n",
    "print('Number of slopes to try:', n_slopes)"
   ]
  },
  {
   "cell_type": "markdown",
   "metadata": {},
   "source": [
    "When we searched many slopes, we collected the errors in a one-dimensional\n",
    "array, with each element carrying the error for a single slope.  For example,\n",
    "if we are trying 601 slopes, we make a one-dimensional array of length 601, to\n",
    "store the matching error values."
   ]
  },
  {
   "cell_type": "markdown",
   "metadata": {},
   "source": [
    "Now we are going to search for many slopes and many intercepts.  We need a\n",
    "two-dimensional array, where the rows (say) correspond to the different\n",
    "intercept values we try, and the columns (say) correspond to the slope values\n",
    "we try.  If we try 220 intercepts and 601 slopes, we need a two-dimensional\n",
    "array shape (220, 601) to store the corresponding errors."
   ]
  },
  {
   "cell_type": "markdown",
   "metadata": {},
   "source": [
    "For each of the 220 possible intercepts, we try all 601 possible slopes.  We\n",
    "fill in the corresponding values in the array, to have 220 * 601 sum of squared\n",
    "error values, for the 220 * 601 possible pairs of intercept and slope."
   ]
  },
  {
   "cell_type": "code",
   "execution_count": null,
   "metadata": {},
   "outputs": [],
   "source": [
    "# Make the two-dimensional array to store the errors.\n",
    "ss_errors = np.zeros((n_intercepts, n_slopes))\n",
    "# Try all possible intercepts\n",
    "for inter_i in np.arange(n_intercepts):\n",
    "    c = some_intercepts[inter_i]\n",
    "    # For each intercept, try all possible slopes\n",
    "    for slope_i in np.arange(n_slopes):\n",
    "        s = some_slopes[slope_i]\n",
    "        # Fill the corresponding position in the error array\n",
    "        ss_errors[inter_i, slope_i] = sos_error_c_s(c, s)"
   ]
  },
  {
   "cell_type": "markdown",
   "metadata": {},
   "source": [
    "We now have the error for all pair of intercepts and slopes.  We can display\n",
    "this as an array, to see where the minimum might be.  The smallest values will\n",
    "be blue, the largest will be red:"
   ]
  },
  {
   "cell_type": "code",
   "execution_count": null,
   "metadata": {},
   "outputs": [],
   "source": [
    "# Show the error array as an image.\n",
    "# Blue corresponds to low values, red to high values.\n",
    "plt.imshow(ss_errors, cmap='coolwarm')\n",
    "plt.colorbar()\n",
    "plt.ylabel('Intercepts')\n",
    "plt.xlabel('Slopes')\n",
    "plt.title('Sum of squared error')"
   ]
  },
  {
   "cell_type": "markdown",
   "metadata": {},
   "source": [
    "At the moment, it's a bit difficult to see what's going on, because the lowest\n",
    "point in the center is in a lake of undifferentiated blue.  We can make it\n",
    "easier to see by setting the very high values to be transparent, showing only\n",
    "the smaller values.  The details of this plotting code are not important."
   ]
  },
  {
   "cell_type": "code",
   "execution_count": null,
   "metadata": {},
   "outputs": [],
   "source": [
    "# The same plot as above, but removing the very high sum of squares values.\n",
    "# Set all sum of square values above 1.75 to be above threshold.\n",
    "img = plt.imshow(ss_errors, cmap='coolwarm', vmax=1.75)\n",
    "# Set above threshold values to be transparent.\n",
    "img.cmap.set_over([0, 0, 0, 0])\n",
    "plt.colorbar()\n",
    "plt.ylabel('Intercepts')\n",
    "plt.xlabel('Slopes')\n",
    "plt.title('Sum of squared error')"
   ]
  },
  {
   "cell_type": "markdown",
   "metadata": {},
   "source": [
    "We can display this as a 3D surface, to get a better idea of where the minimum\n",
    "is.  Don't worry about the specific code below, we don't often need these kinds\n",
    "of plots in data analysis."
   ]
  },
  {
   "cell_type": "code",
   "execution_count": null,
   "metadata": {},
   "outputs": [],
   "source": [
    "# Display sum of squared errors as surface.\n",
    "from mpl_toolkits.mplot3d import Axes3D\n",
    "\n",
    "fig = plt.figure()\n",
    "ax = fig.gca(projection='3d')\n",
    "X, Y = np.meshgrid(some_slopes, some_intercepts)\n",
    "# Make values above 5 transparent.\n",
    "mx = 5\n",
    "surf = ax.plot_surface(X, Y,\n",
    "                       np.clip(ss_errors, 0, mx),\n",
    "                       cmap='coolwarm',\n",
    "                       vmax=mx-0.01,\n",
    "                       linewidth=0, antialiased=False)\n",
    "img.cmap.set_over([0, 0, 0, 0])\n",
    "plt.ylabel('Intercepts')\n",
    "plt.xlabel('Slopes')\n",
    "plt.title('Sum of squared error')"
   ]
  },
  {
   "cell_type": "markdown",
   "metadata": {},
   "source": [
    "The minimum over all pairs of intercepts and slopes is at the bottom of the\n",
    "blue trough in the plot.  Looking at the plot and the axes, it seems that the best intercept, slope pair is around 2.2 and 0.5."
   ]
  },
  {
   "cell_type": "markdown",
   "metadata": {},
   "source": [
    "We find the smallest error from the whole array:"
   ]
  },
  {
   "cell_type": "code",
   "execution_count": null,
   "metadata": {},
   "outputs": [],
   "source": [
    "min_error = np.min(ss_errors)\n",
    "min_error"
   ]
  },
  {
   "cell_type": "markdown",
   "metadata": {},
   "source": [
    "Notice that this error is lower than the error we found for our guessed `c` and\n",
    "`s`:"
   ]
  },
  {
   "cell_type": "code",
   "execution_count": null,
   "metadata": {},
   "outputs": [],
   "source": [
    "sos_error_c_s(c_guess, s_guess)"
   ]
  },
  {
   "cell_type": "markdown",
   "metadata": {},
   "source": [
    "Using the tricks from [where and argmin](where_and_argmin), we find the row and\n",
    "column indices for the minimum value:"
   ]
  },
  {
   "cell_type": "code",
   "execution_count": null,
   "metadata": {},
   "outputs": [],
   "source": [
    "rows, cols = np.where(ss_errors == min_error)\n",
    "rows, cols"
   ]
  },
  {
   "cell_type": "markdown",
   "metadata": {},
   "source": [
    "We can now get the corresponding intercept and slope pair:"
   ]
  },
  {
   "cell_type": "code",
   "execution_count": null,
   "metadata": {},
   "outputs": [],
   "source": [
    "# The intercept giving the minimum error (with the slope below).\n",
    "best_c = some_intercepts[rows]\n",
    "best_c"
   ]
  },
  {
   "cell_type": "code",
   "execution_count": null,
   "metadata": {},
   "outputs": [],
   "source": [
    "# The slope giving the minimum error (with the intercept above).\n",
    "best_s = some_slopes[cols]\n",
    "best_s"
   ]
  },
  {
   "cell_type": "markdown",
   "metadata": {},
   "source": [
    "We calculate the predicted values for our new best line:"
   ]
  },
  {
   "cell_type": "code",
   "execution_count": null,
   "metadata": {},
   "outputs": [],
   "source": [
    "si_predicted = best_c + easiness * best_s"
   ]
  },
  {
   "cell_type": "markdown",
   "metadata": {},
   "source": [
    "Plot the data, predictions and errors for the line that minimizes the sum of\n",
    "squared error:"
   ]
  },
  {
   "cell_type": "code",
   "execution_count": null,
   "metadata": {},
   "outputs": [],
   "source": [
    "plt.plot(easiness, quality, 'o')\n",
    "plt.plot(easiness, si_predicted, 'o', color='red')\n",
    "for i in np.arange(len(easiness)):\n",
    "    x = easiness[i]\n",
    "    y_0 = si_predicted[i]\n",
    "    y_1 = quality[i]\n",
    "    plt.plot([x, x], [y_0, y_1], ':', color='black', linewidth=1)\n",
    "plt.title('The best-fit line using least-squared error')"
   ]
  },
  {
   "cell_type": "markdown",
   "metadata": {},
   "source": [
    "Now you know about [optimization](optimization), you will not be surprised to\n",
    "discover that Scipy `minimize` can also do the search for the intercept and\n",
    "slope pair for us.  We send `minimize` the function we are trying to minimize,\n",
    "and a starting guess for the intercept and slope."
   ]
  },
  {
   "cell_type": "markdown",
   "metadata": {},
   "source": [
    "`minimize` is a little fussy about the functions it will use.  It insists that all the parameters need to be passed in as a single argument.   In our case, we need to pass both parameters (the intercept and slope) as one value, containing two elements, like this:"
   ]
  },
  {
   "cell_type": "code",
   "execution_count": null,
   "metadata": {},
   "outputs": [],
   "source": [
    "def sos_error_for_minimize(c_s):\n",
    "    # c_s has two elements, the intercept c and the slope s.\n",
    "    c = c_s[0]\n",
    "    s = c_s[1]\n",
    "    predicted = c + easiness * s\n",
    "    error = quality - predicted\n",
    "    return np.sum(error ** 2)"
   ]
  },
  {
   "cell_type": "markdown",
   "metadata": {},
   "source": [
    "This is the form of the function that minimize can use.\n",
    "\n",
    "We first confirm this gives us the same answer we got before from our function with two arguments:"
   ]
  },
  {
   "cell_type": "code",
   "execution_count": null,
   "metadata": {},
   "outputs": [],
   "source": [
    "# The original function\n",
    "sos_error_c_s(2.25, 0.47)"
   ]
  },
  {
   "cell_type": "code",
   "execution_count": null,
   "metadata": {},
   "outputs": [],
   "source": [
    "# The function in the form that minimize wants\n",
    "# The two parameters go into a list, that we can pass as a single argument.\n",
    "sos_error_for_minimize([2.25, 0.47])"
   ]
  },
  {
   "cell_type": "markdown",
   "metadata": {},
   "source": [
    "As usual with `minimize` we need to give a starting guess for the intercept and\n",
    "slope.  We will start with our initial guess of `[2.25, 0.47]`, but any\n",
    "reasonable guess will do."
   ]
  },
  {
   "cell_type": "code",
   "execution_count": null,
   "metadata": {},
   "outputs": [],
   "source": [
    "from scipy.optimize import minimize\n",
    "minimize(sos_error_for_minimize, [2.25, 0.47])"
   ]
  },
  {
   "cell_type": "markdown",
   "metadata": {},
   "source": [
    "We won't spend any time justifying this, but this is also the answer we get\n",
    "from traditional fitting of the least-squares line, as implemented, for\n",
    "example, in the Scipy `linregress` function:"
   ]
  },
  {
   "cell_type": "code",
   "execution_count": null,
   "metadata": {},
   "outputs": [],
   "source": [
    "from scipy.stats import linregress\n",
    "linregress(easiness, quality)"
   ]
  },
  {
   "cell_type": "markdown",
   "metadata": {},
   "source": [
    "Notice the values for `slope` and `intercept` in the output above."
   ]
  }
 ],
 "metadata": {
  "jupytext": {
   "notebook_metadata_filter": "all,-language_info",
   "split_at_heading": true
  },
  "kernelspec": {
   "display_name": "Python 3",
   "language": "python",
   "name": "python3"
  },
  "language_info": {
   "codemirror_mode": {
    "name": "ipython",
    "version": 3
   },
   "file_extension": ".py",
   "mimetype": "text/x-python",
   "name": "python",
   "nbconvert_exporter": "python",
   "pygments_lexer": "ipython3",
   "version": "3.7.1"
  }
 },
 "nbformat": 4,
 "nbformat_minor": 2
}
