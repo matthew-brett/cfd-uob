{
 "cells": [
  {
   "cell_type": "markdown",
   "metadata": {},
   "source": [
    "In the [problem for the education minister](https://matthew-brett.github.io/cfd2019/chapters/10/havana_math) we had a sample of fast-track-marked exams from\n",
    "2019, and we found that the mean mark was 54.51.  We wondered what we could say\n",
    "about the eventual mean of the marks for all 8000 or so students.\n",
    "\n",
    "After a bit of development, we found, in the [reverse probability with bars](https://matthew-brett.github.io/cfd2019/chapters/10/bayes_bars) page, that we could use some\n",
    "probability calculations to draw conclusions about the state of the world, from\n",
    "some result.  In that page, we calculated the probability of the state of the\n",
    "world (a box we have been given) from a result (drawing a red ball).\n",
    "\n",
    "Now we want to draw a conclusion about the state of the world (the eventual\n",
    "mean of all the 2019 exams) from a result (the mean of the fast-marked sample\n",
    "of 50 2019 exams).\n",
    "\n",
    "We will call the 50 fast-track-marked exams the *sample*.  When the 2019\n",
    "marking is finished, we will have around 8000 marks.  We will call this the\n",
    "*population*.  We want to draw conclusions about the *population* from the\n",
    "*sample*.   In particular we want to draw conclusions about the population mean\n",
    "from the sample mean.\n",
    "\n",
    "Let us start with the following problem:\n",
    "\n",
    "**Problem 1**: What is the probability that we will observe a *sample* mean of\n",
    "*around* 54.51, given that the *population* mean is 62.25.\n",
    "\n",
    "Referring back to our box and ball problem, this probability is the equivalent\n",
    "of the probability of getting a red ball from a given box.  Given a state of\n",
    "the world (the population mean) what the is the probability of the result (the\n",
    "sample mean).  Once we have probabilities like these, we will be able to use\n",
    "the logic you have already seen to get the *reverse* probability - how likely\n",
    "was any particular state of the world (population mean), given the result (the\n",
    "sample mean).\n",
    "\n",
    "Returning to our mathematics exam problem: how will we calculate the\n",
    "probability of a sample mean of around 54.51, given a population mean of 62.25?\n",
    "\n",
    "As usual, this is a problem of *sampling*.  If the mean of the population is\n",
    "62.25, and we draw a sample of 50 marks, then the mean of the sample will be\n",
    "vary somewhat depending on the sample. That is, the *sample mean* will be 62.25\n",
    "plus or minus a bit.  As usual, we need to quantify what we mean by \"a bit\"."
   ]
  },
  {
   "cell_type": "markdown",
   "metadata": {},
   "source": [
    "For example, remember the population of 2018 marks, that do have a mean of\n",
    "around 62.25."
   ]
  },
  {
   "cell_type": "code",
   "execution_count": null,
   "metadata": {},
   "outputs": [],
   "source": [
    "import numpy as np\n",
    "import pandas as pd\n",
    "import matplotlib.pyplot as plt\n",
    "%matplotlib inline\n",
    "plt.style.use('fivethirtyeight')"
   ]
  },
  {
   "cell_type": "code",
   "execution_count": null,
   "metadata": {},
   "outputs": [],
   "source": [
    "havana_2018 = pd.read_csv('havana_math_2018.csv')\n",
    "marks_2018 = havana_2018['mark'].dropna()\n",
    "marks_2018.mean()"
   ]
  },
  {
   "cell_type": "markdown",
   "metadata": {},
   "source": [
    "To get the *sampling distribution* of the mean of a sample of 50, we would have\n",
    "to calculate the mean for every possible sample of 50 values from the 8000 or\n",
    "so marks.  As usual, we make do with an *estimate* of the sampling distribution\n",
    "by taking many thousands of samples."
   ]
  },
  {
   "cell_type": "code",
   "execution_count": null,
   "metadata": {},
   "outputs": [],
   "source": [
    "# Take 10000 samples, calculate their means.\n",
    "n_iters = 10000\n",
    "sample_means = np.zeros(n_iters)\n",
    "for i in np.arange(n_iters):\n",
    "    sample = np.random.choice(marks_2018, size=50, replace=False)\n",
    "    sample_means[i] = np.mean(sample)\n",
    "sample_means[:5]"
   ]
  },
  {
   "cell_type": "markdown",
   "metadata": {},
   "source": [
    "The next cell has a histogram of the sampling distribution.  Notice that we\n",
    "have asked `plt.hist` to break the histogram into bins with *edges*\n",
    "`np.arange(50, 80, 0.5)`.  This means that each bin covers a range of 0.5 units\n",
    "--- so the first bin in the histogram gives the counts of all sample means that\n",
    "were between 50 and 50.5 (excluding 50.5), the second bin covers 50.5 up to\n",
    "(not including) 51, and so on."
   ]
  },
  {
   "cell_type": "code",
   "execution_count": null,
   "metadata": {},
   "outputs": [],
   "source": [
    "bin_edges = np.arange(50, 80, 0.5)\n",
    "plt.hist(sample_means, bins=bin_edges)\n",
    "plt.xlabel('mean mark for sample of 50')\n",
    "plt.title('Estimated sampling distribution for mean of 50 marks');"
   ]
  },
  {
   "cell_type": "markdown",
   "metadata": {},
   "source": [
    "We can use `plt.hist` to give us the counts for each of these bins, by storing the values that `plt.hist` returns, like this:"
   ]
  },
  {
   "cell_type": "code",
   "execution_count": null,
   "metadata": {},
   "outputs": [],
   "source": [
    "# Store the values that plt.hist returns.\n",
    "hist_vals = plt.hist(sample_means, bins=bin_edges)\n",
    "# Counts per bin is the first returned value.\n",
    "counts = hist_vals[0]\n",
    "counts"
   ]
  },
  {
   "cell_type": "markdown",
   "metadata": {},
   "source": [
    "As we saw in the page on [using minimize](https://matthew-brett.github.io/cfd2019/chapters/08/using_minimize#unpacking), we can get this value a little more\n",
    "neatly by *unpacking* the return values from `plt.hist`, like this:"
   ]
  },
  {
   "cell_type": "code",
   "execution_count": null,
   "metadata": {},
   "outputs": [],
   "source": [
    "# Store the values that plt.hist returns.\n",
    "# We will only use the first of these.\n",
    "counts, edges, patches = plt.hist(sample_means, bins=bin_edges)\n",
    "# Counts per bin (again):\n",
    "counts"
   ]
  },
  {
   "cell_type": "markdown",
   "metadata": {},
   "source": [
    "These are the counts for how many of the 10000 samples we took had a mean\n",
    "between the bin edges.  For example, the left (lower) edge of the bin at index\n",
    "20 is:"
   ]
  },
  {
   "cell_type": "code",
   "execution_count": null,
   "metadata": {},
   "outputs": [],
   "source": [
    "bin_edges[20]"
   ]
  },
  {
   "cell_type": "markdown",
   "metadata": {},
   "source": [
    "This the bin counting all the sample mean values between 60 and 60.5.  The\n",
    "counts in that that bin are:"
   ]
  },
  {
   "cell_type": "code",
   "execution_count": null,
   "metadata": {},
   "outputs": [],
   "source": [
    "counts[20]"
   ]
  },
  {
   "cell_type": "markdown",
   "metadata": {},
   "source": [
    "This is the count of the 10000 sample means from our estimated sampling\n",
    "distribution, that were from 60 up to, but not including, 60.5.\n",
    "\n",
    "By dividing the counts by the number of samples, we get the proportion of\n",
    "samples that fall in this range:"
   ]
  },
  {
   "cell_type": "code",
   "execution_count": null,
   "metadata": {},
   "outputs": [],
   "source": [
    "proportions = counts / 10000\n",
    "proportions"
   ]
  },
  {
   "cell_type": "markdown",
   "metadata": {},
   "source": [
    "For example, here is the proportion of sample means that fell between 60 and 60.5:"
   ]
  },
  {
   "cell_type": "code",
   "execution_count": null,
   "metadata": {},
   "outputs": [],
   "source": [
    "proportions[20]"
   ]
  },
  {
   "cell_type": "markdown",
   "metadata": {},
   "source": [
    "In other words, given this estimated sampling distribution, for this world with\n",
    "a mean of 62.25, the probability of any one sample mean being between 60 and\n",
    "60.5 is:"
   ]
  },
  {
   "cell_type": "code",
   "execution_count": null,
   "metadata": {},
   "outputs": [],
   "source": [
    "proportions[20]"
   ]
  },
  {
   "cell_type": "markdown",
   "metadata": {},
   "source": [
    "Now we are in a position to answer our intermediate question:\n",
    "\n",
    "**Problem 1**: What is the probability that we will observe a *sample* mean of\n",
    "*around* 54.51, given that the *population* mean is 62.25.\n",
    "\n",
    "One difficulty with this question is that we do not know what the sampling\n",
    "distribution would be for this hypothetical 2019 full set of marks, where the\n",
    "population mean is 62.25.  For the moment, we will assume that the sampling\n",
    "distribution is exactly the same as it was in 2018; this is the sampling\n",
    "distribution we have already been using.\n",
    "\n",
    "We find the bin corresponding to the sample mean of 54.51; this is the bin with\n",
    "the left (lower) edge of 54.5.   It turns out this is the bin at index 9."
   ]
  },
  {
   "cell_type": "code",
   "execution_count": null,
   "metadata": {},
   "outputs": [],
   "source": [
    "bin_54p5 = np.where(bin_edges == 54.5)\n",
    "bin_54p5"
   ]
  },
  {
   "cell_type": "markdown",
   "metadata": {},
   "source": [
    "Look back at [where and argmin](https://matthew-brett.github.io/cfd2019/chapters/08/where_and_argmin) for this trick of using `np.where` to find the\n",
    "index.\n",
    "\n",
    "We get the proportion at that index, to give the probability that we will see a\n",
    "sample mean between 54.5 and 55:"
   ]
  },
  {
   "cell_type": "code",
   "execution_count": null,
   "metadata": {},
   "outputs": [],
   "source": [
    "p_around_54p5 = proportions[bin_54p5]\n",
    "p_around_54p5"
   ]
  }
 ],
 "metadata": {
  "jupytext": {
   "notebook_metadata_filter": "all,-language_info",
   "split_at_heading": true,
   "text_representation": {
    "extension": ".Rmd",
    "format_name": "rmarkdown",
    "format_version": "1.1",
    "jupytext_version": "1.2.4"
   }
  },
  "kernelspec": {
   "display_name": "Python 3",
   "language": "python",
   "name": "python3"
  },
  "language_info": {
   "codemirror_mode": {
    "name": "ipython",
    "version": 3
   },
   "file_extension": ".py",
   "mimetype": "text/x-python",
   "name": "python",
   "nbconvert_exporter": "python",
   "pygments_lexer": "ipython3",
   "version": "3.7.6"
  }
 },
 "nbformat": 4,
 "nbformat_minor": 2
}
