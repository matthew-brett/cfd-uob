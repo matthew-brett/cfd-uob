{
 "cells": [
  {
   "cell_type": "markdown",
   "metadata": {},
   "source": [
    "The [reverse probability page](first_bayes) has a game, that we analyzed by\n",
    "simulation, and then by reflection.\n",
    "\n",
    "The game is:\n",
    "\n",
    "* I have two boxes; *BOX4* with 4 red balls and 1 green ball, and *BOX2* with\n",
    "  two red balls and three green balls.\n",
    "* I offer you one of these two boxes at random, but with a 30% chance of\n",
    "  getting BOX4 and a 70% chance of getting BOX2.\n",
    "* You draw a ball at random from the box, and you get a red ball.\n",
    "* What is the probability that I gave you BOX4?\n",
    "\n",
    "We found by simulation, and later by reflection, that the probability is around\n",
    "0.462.\n",
    "\n",
    "The logic we discovered was:\n",
    "\n",
    "* We want the proportion of \"red\" trials that came from BOX4.\n",
    "* Calculate the proportion of trials that are *both* BOX4 and red, and divide\n",
    "  by the overall proportion of red trials.\n",
    "* The proportion of red trials that are *both* BOX4 *and* red is the\n",
    "  proportion of BOX4 trials multiplied by (the proportion of BOX4 trials that\n",
    "  are red)."
   ]
  },
  {
   "cell_type": "markdown",
   "metadata": {},
   "source": [
    "## Bayes calculation in bars\n",
    "\n",
    "This is another way to express that logic, using the height of bars to express\n",
    "the probabilities.\n",
    "\n",
    "First we express the initial probabilities of getting BOX4 and BOX2:"
   ]
  },
  {
   "cell_type": "code",
   "execution_count": null,
   "metadata": {},
   "outputs": [],
   "source": [
    "import numpy as np\n",
    "import matplotlib.pyplot as plt\n",
    "%matplotlib inline\n",
    "plt.style.use('fivethirtyeight')"
   ]
  },
  {
   "cell_type": "code",
   "execution_count": null,
   "metadata": {},
   "outputs": [],
   "source": [
    "box_probabilities = np.array([0.3, 0.7])\n",
    "x_locations = [0, 1]\n",
    "box_labels = ['BOX4', 'BOX2']\n",
    "plt.bar(x_locations, box_probabilities)\n",
    "plt.xticks(x_locations, box_labels)\n",
    "plt.ylabel(\"Probability of getting box\")\n",
    "plt.title('Initial probability of boxes; P(BOX4)=0.3)');"
   ]
  },
  {
   "cell_type": "markdown",
   "metadata": {},
   "source": [
    "Next we express the initial probabilities of getting a red ball from BOX4 and\n",
    "from BOX2:"
   ]
  },
  {
   "cell_type": "code",
   "execution_count": null,
   "metadata": {},
   "outputs": [],
   "source": [
    "red_probabilities = np.array([0.8, 0.4])\n",
    "plt.bar(x_locations, red_probabilities)\n",
    "plt.xticks(x_locations, box_labels)\n",
    "plt.ylabel(\"Probability of getting red ball\")\n",
    "plt.title('Probability of getting red for each box');"
   ]
  },
  {
   "cell_type": "markdown",
   "metadata": {},
   "source": [
    "Next we combine the two steps, of getting a box, and then drawing a ball.\n",
    "\n",
    "There is a 0.3 probability of BOX4 and a 0.7 probability of a red ball, given\n",
    "we have BOX4, so the probability of BOX4 *and* a red ball is 0.3 (for BOX4) *\n",
    "0.8 (for red given BOX4) = 0.24.\n",
    "\n",
    "Similarly, the probability of BOX2 *and* a red ball is 0.7 (for BOX2) * 0.4\n",
    "(for red given BOX2) = 0.28.\n",
    "\n",
    "We can think of this as multiplying the values expressed by heights in the\n",
    "first bar graph (0.3, and 0.7 in this case), by the values expressed by heights\n",
    "in the second bar graph (0.8 and 0.4 in this case)."
   ]
  },
  {
   "cell_type": "code",
   "execution_count": null,
   "metadata": {},
   "outputs": [],
   "source": [
    "box_and_red_probs = box_probabilities * red_probabilities\n",
    "plt.bar(x_locations, box_and_red_probs)\n",
    "plt.xticks(x_locations, box_labels)\n",
    "plt.ylabel(\"P of box and red ball\")\n",
    "plt.title('P for each box and red; P(BOX4)=0.3');"
   ]
  },
  {
   "cell_type": "markdown",
   "metadata": {},
   "source": [
    "Lastly, remember we are interested in the probability that we started with\n",
    "BOX4, given we have a red ball.\n",
    "\n",
    "To get this probability, we first take the probability of getting a red ball\n",
    "*and* BOX4.  This is the first bar on the graph above - 0.3 * 0.8 = 0.24.\n",
    "\n",
    "Next we divide by the overall probability of getting a red ball, which is the\n",
    "*sum of the heights of the two bars* above - 0.24 + 0.28 = 0.52.\n",
    "\n",
    "We can do this calculation by dividing the heights of the bars above by the sum\n",
    "of the heights, so the heights of the bars now sum to 1."
   ]
  },
  {
   "cell_type": "code",
   "execution_count": null,
   "metadata": {},
   "outputs": [],
   "source": [
    "box_given_red_probs = box_and_red_probs / np.sum(box_and_red_probs)\n",
    "plt.bar(x_locations, box_given_red_probs)\n",
    "plt.xticks(x_locations, box_labels)\n",
    "plt.ylabel('P of box given red')\n",
    "plt.title('P of box given red; P(BOX4)=0.3');"
   ]
  },
  {
   "cell_type": "markdown",
   "metadata": {},
   "source": [
    "The left bar is our familiar (0.24 * 0.8) / 0.52 = 0.462 value, from the\n",
    "[reverse probability page](first_bayes).  It is the probability that we were\n",
    "given BOX4, given that we have drawn a red ball.  The second bar is the\n",
    "probability that we were given BOX2, given we have drawn a red ball.  Note that\n",
    "the height of the bars sums to 1."
   ]
  },
  {
   "cell_type": "markdown",
   "metadata": {},
   "source": [
    "## Equal chances in bars\n",
    "\n",
    "Now imagine a slight change to the game; say there is an equal (50%) chance of\n",
    "getting BOX4 or BOX2:"
   ]
  },
  {
   "cell_type": "code",
   "execution_count": null,
   "metadata": {},
   "outputs": [],
   "source": [
    "box_probabilities = np.array([0.5, 0.5])"
   ]
  },
  {
   "cell_type": "markdown",
   "metadata": {},
   "source": [
    "Show the new probabilities:"
   ]
  },
  {
   "cell_type": "code",
   "execution_count": null,
   "metadata": {},
   "outputs": [],
   "source": [
    "plt.bar(x_locations, box_probabilities)\n",
    "plt.xticks(x_locations, box_labels)\n",
    "plt.ylabel('P of getting box')\n",
    "plt.title('Initial P of boxes; P(BOX4)=0.5');"
   ]
  },
  {
   "cell_type": "markdown",
   "metadata": {},
   "source": [
    "The probabilities of getting red from each box have not changed:"
   ]
  },
  {
   "cell_type": "code",
   "execution_count": null,
   "metadata": {},
   "outputs": [],
   "source": [
    "plt.bar(x_locations, red_probabilities)\n",
    "plt.xticks(x_locations, box_labels)\n",
    "plt.ylabel(\"Probability of getting red ball\")\n",
    "plt.title('Probability of getting red for each box');"
   ]
  },
  {
   "cell_type": "markdown",
   "metadata": {},
   "source": [
    "We scale the red-ball bars by the probabilities of the boxes:"
   ]
  },
  {
   "cell_type": "code",
   "execution_count": null,
   "metadata": {},
   "outputs": [],
   "source": [
    "box_and_red_probs = box_probabilities * red_probabilities\n",
    "plt.bar(x_locations, box_and_red_probs)\n",
    "plt.xticks(x_locations, box_labels)\n",
    "plt.ylabel(\"P of box and red ball\")\n",
    "plt.title('P for each box and red (box p equal)');"
   ]
  },
  {
   "cell_type": "markdown",
   "metadata": {},
   "source": [
    "Last we divide by the sum of the heights of the bars:"
   ]
  },
  {
   "cell_type": "code",
   "execution_count": null,
   "metadata": {},
   "outputs": [],
   "source": [
    "box_given_red_probs = box_and_red_probs / np.sum(box_and_red_probs)\n",
    "plt.bar(x_locations, box_given_red_probs)\n",
    "plt.xticks(x_locations, box_labels)\n",
    "plt.ylabel('P of box given red')\n",
    "plt.title('P of box given red; P(BOX4)=0.5');"
   ]
  },
  {
   "cell_type": "markdown",
   "metadata": {},
   "source": [
    "Because the probability that we got BOX4 increased, the probability that we got\n",
    "BOX4, given we drew a red ball, has also increased.  That probability is now:"
   ]
  },
  {
   "cell_type": "code",
   "execution_count": null,
   "metadata": {},
   "outputs": [],
   "source": [
    "print('P(BOX4 | red)', box_given_red_probs[0])"
   ]
  },
  {
   "cell_type": "markdown",
   "metadata": {},
   "source": [
    "Remember our steps:\n",
    "\n",
    "1. Get the probability of red given each box --- here: (0.8, 0.4);\n",
    "2. Scale these by the probability of each box --- here: (0.5, 0.5);\n",
    "3. Divide the results by the sum of the heights to get the reverse\n",
    "   probabilities --- here (0.67, 0.34)."
   ]
  },
  {
   "cell_type": "code",
   "execution_count": null,
   "metadata": {},
   "outputs": [],
   "source": [
    "# Step 1 - P of reds.\n",
    "red_probabilities = np.array([0.8, 0.4])\n",
    "# Step 2 - scale by P of the boxes\n",
    "box_probabilities = np.array([0.5, 0.5])\n",
    "box_and_red_probs = box_probabilities * red_probabilities\n",
    "# Step 3 - divide each bar by sum of bar heights.\n",
    "box_given_red_probs = box_and_red_probs / np.sum(box_and_red_probs)\n",
    "# Show result\n",
    "box_given_red_probs"
   ]
  },
  {
   "cell_type": "markdown",
   "metadata": {},
   "source": [
    "Notice also, in this case, where the probability of each box is the same, we\n",
    "can miss out step 2.  This is because, when the probability of each box is the\n",
    "same, scaling the probability does not change the heights of the bars relative\n",
    "to each other, so, when we divide each bar by the sum of the bar heights, the\n",
    "result is the same."
   ]
  },
  {
   "cell_type": "code",
   "execution_count": null,
   "metadata": {},
   "outputs": [],
   "source": [
    "# When box probabilities are equal, we can miss out step 2.\n",
    "# Step 1 - P of reds.\n",
    "red_probabilities = np.array([0.8, 0.4])\n",
    "# Step 3 - divide each bar by sum of bar heights.\n",
    "shortcut_box_given_red_probs = red_probabilities / np.sum(red_probabilities)\n",
    "# Show result is the same as with step 2.\n",
    "shortcut_box_given_red_probs"
   ]
  },
  {
   "cell_type": "markdown",
   "metadata": {},
   "source": [
    "If you do not mind a little basic algebra, see why this must be true in the\n",
    "[equal initial p](https://matthew-brett.github.io/cfd-uob/chapters/10/equal_initial_p) page."
   ]
  }
 ],
 "metadata": {
  "jupytext": {
   "notebook_metadata_filter": "all,-language_info",
   "split_at_heading": true,
   "text_representation": {
    "extension": ".Rmd",
    "format_name": "rmarkdown",
    "format_version": "1.1",
    "jupytext_version": "1.2.4"
   }
  },
  "kernelspec": {
   "display_name": "Python 3",
   "language": "python",
   "name": "python3"
  },
  "language_info": {
   "codemirror_mode": {
    "name": "ipython",
    "version": 3
   },
   "file_extension": ".py",
   "mimetype": "text/x-python",
   "name": "python",
   "nbconvert_exporter": "python",
   "pygments_lexer": "ipython3",
   "version": "3.7.6"
  }
 },
 "nbformat": 4,
 "nbformat_minor": 2
}
