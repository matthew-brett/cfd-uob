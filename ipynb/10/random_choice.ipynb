{
 "cells": [
  {
   "cell_type": "markdown",
   "metadata": {},
   "source": [
    "Sometimes it is useful to take a random choice between two or more options.\n",
    "\n",
    "Numpy has a function for that, called `random.choice`:"
   ]
  },
  {
   "cell_type": "code",
   "execution_count": null,
   "metadata": {},
   "outputs": [],
   "source": [
    "import numpy as np"
   ]
  },
  {
   "cell_type": "markdown",
   "metadata": {},
   "source": [
    "Say we want to choose randomly between 0 and 1.  We want an equal probability of getting 0 and getting 1.  We could do it like this:"
   ]
  },
  {
   "cell_type": "code",
   "execution_count": null,
   "metadata": {},
   "outputs": [],
   "source": [
    "np.random.randint(0, 2)"
   ]
  },
  {
   "cell_type": "markdown",
   "metadata": {},
   "source": [
    "If we do that lots of times, we see that we have a roughly 50% chance of getting 0 (and therefore, a roughly 50% chance of getting 1)."
   ]
  },
  {
   "cell_type": "code",
   "execution_count": null,
   "metadata": {},
   "outputs": [],
   "source": [
    "# Make 10000 random numbers that can be 0 or 1, with equal probability.\n",
    "lots_of_0_1 = np.random.randint(0, 2, size=10000)\n",
    "# Count the proportion that are 1.\n",
    "np.count_nonzero(lots_of_0_1) / 10000"
   ]
  },
  {
   "cell_type": "markdown",
   "metadata": {},
   "source": [
    "Run the cell above a few times to confirm you get numbers very close to 0.5."
   ]
  },
  {
   "cell_type": "markdown",
   "metadata": {},
   "source": [
    "Another way of doing this is to use `np.random.choice`.\n",
    "\n",
    "As usual, check the arguments that the function expects with `np.random.choice?` in a notebook cell.\n",
    "\n",
    "The first argument is a sequence, like a list, with the options that Numpy should chose from.\n",
    "\n",
    "For example, we can ask Numpy to choose randomly from the list `[0, 1]`:"
   ]
  },
  {
   "cell_type": "code",
   "execution_count": null,
   "metadata": {},
   "outputs": [],
   "source": [
    "np.random.choice([0, 1])"
   ]
  },
  {
   "cell_type": "markdown",
   "metadata": {},
   "source": [
    "A second `size` argument to the function says how many items to choose:"
   ]
  },
  {
   "cell_type": "code",
   "execution_count": null,
   "metadata": {},
   "outputs": [],
   "source": [
    "# Ten numbers, where each has a 50% chance of 0 and 50% chance of 1.\n",
    "np.random.choice([0, 1], size=10)"
   ]
  },
  {
   "cell_type": "markdown",
   "metadata": {},
   "source": [
    "By default, Numpy will chose each item in the sequence with equal probability,  In this case, Numpy will chose 0 with 50% probability, and 1 with 50% probability:"
   ]
  },
  {
   "cell_type": "code",
   "execution_count": null,
   "metadata": {},
   "outputs": [],
   "source": [
    "# Use choice to make another 10000 random numbers that can be 0 or 1,\n",
    "# with equal probability.\n",
    "more_0_1 = np.random.choice([0, 1], size=10000)\n",
    "# Count the proportion that are 1.\n",
    "np.count_nonzero(more_0_1) / 10000"
   ]
  },
  {
   "cell_type": "markdown",
   "metadata": {},
   "source": [
    "If you want, you can change these proportions with the `p` argument:"
   ]
  },
  {
   "cell_type": "code",
   "execution_count": null,
   "metadata": {},
   "outputs": [],
   "source": [
    "# Use choice to make another 10000 random numbers that can be 0 or 1,\n",
    "# where 0 has probability 0.25, and 1 has probability 0.75.\n",
    "weighted_0_1 = np.random.choice([0, 1], size=10000, p=[0.25, 0.75])\n",
    "# Count the proportion that are 1.\n",
    "np.count_nonzero(weighted_0_1) / 10000"
   ]
  },
  {
   "cell_type": "markdown",
   "metadata": {},
   "source": [
    "There can be more than two choices:"
   ]
  },
  {
   "cell_type": "code",
   "execution_count": null,
   "metadata": {},
   "outputs": [],
   "source": [
    "# Use choice to make another 10000 random numbers that can be 0 or 10 or 20, or\n",
    "# 30, where each has probability 0.25.\n",
    "multi_nos = np.random.choice([0, 10, 20, 30], size=10000)\n",
    "multi_nos[:10]"
   ]
  },
  {
   "cell_type": "code",
   "execution_count": null,
   "metadata": {},
   "outputs": [],
   "source": [
    "np.count_nonzero(multi_nos == 30) / 10000"
   ]
  },
  {
   "cell_type": "markdown",
   "metadata": {},
   "source": [
    "The choices don't have to be numbers:"
   ]
  },
  {
   "cell_type": "code",
   "execution_count": null,
   "metadata": {},
   "outputs": [],
   "source": [
    "np.random.choice(['Heads', 'Tails'], size=10)"
   ]
  },
  {
   "cell_type": "markdown",
   "metadata": {},
   "source": [
    "You can also do choices *without replacement*, so once you have chosen an element, all subsequent choices cannot chose that element again.   For example, this *must* return all the elements from the choices, but in random order:"
   ]
  },
  {
   "cell_type": "code",
   "execution_count": null,
   "metadata": {},
   "outputs": [],
   "source": [
    "np.random.choice([0, 10, 20, 30], size=4, replace=False)"
   ]
  }
 ],
 "metadata": {
  "jupytext": {
   "split_at_heading": true,
   "text_representation": {
    "extension": ".Rmd",
    "format_name": "rmarkdown",
    "format_version": "1.1",
    "jupytext_version": "1.2.4"
   }
  },
  "kernelspec": {
   "display_name": "Python 3",
   "language": "python",
   "name": "python3"
  },
  "language_info": {
   "codemirror_mode": {
    "name": "ipython",
    "version": 3
   },
   "file_extension": ".py",
   "mimetype": "text/x-python",
   "name": "python",
   "nbconvert_exporter": "python",
   "pygments_lexer": "ipython3",
   "version": "3.7.6"
  }
 },
 "nbformat": 4,
 "nbformat_minor": 2
}
