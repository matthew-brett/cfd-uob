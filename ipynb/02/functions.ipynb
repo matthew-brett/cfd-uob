{
 "cells": [
  {
   "cell_type": "markdown",
   "metadata": {},
   "source": [
    "This is a very short introduction to functions.\n",
    "\n",
    "We will soon go into more detail on functions, in the page on [call expressions](Calls).\n",
    "\n",
    "For now, we start with something simple, the function `cos`."
   ]
  },
  {
   "cell_type": "markdown",
   "metadata": {},
   "source": [
    "Remember functions from mathematics?  We might write something like this, in mathematics:\n",
    "\n",
    "$$\n",
    "y = cos(0)\n",
    "$$\n",
    "\n",
    "You can read $cos(0)$ as:\n",
    "\n",
    "> Call the function \"cos\" with the value 0, and return the result.\n",
    "\n",
    "Then $y = cos(0)$ means:\n",
    "\n",
    "> Call the function \"cos\" with the value 0, and return the result, storing the result in \"y\".\n",
    "\n",
    "We *pass* a value to the function.  In our case we pass the value $0$.\n",
    "\n",
    "The function *returns* a value.  In our case it returns the calculation of the cosine of $0$.\n",
    "\n",
    "You may remember that the cosine of 0 is 1.  So, after $y = cos(0)$, we expect $y$ to equal 1."
   ]
  },
  {
   "cell_type": "markdown",
   "metadata": {},
   "source": [
    "Functions in Python work in a similar way."
   ]
  },
  {
   "cell_type": "markdown",
   "metadata": {},
   "source": [
    "First we load up the `cos` function from a library called `numpy`.\n",
    "\n",
    "Don't worry about the command to load the function, for now.  We will come back\n",
    "to that later.  Here is the command you need. Just run it in the notebook."
   ]
  },
  {
   "cell_type": "code",
   "execution_count": null,
   "metadata": {},
   "outputs": [],
   "source": [
    "# Get the cos function from the numpy library.\n",
    "from numpy import cos"
   ]
  },
  {
   "cell_type": "markdown",
   "metadata": {},
   "source": [
    "Now we *call* the `cos` function with the value 0, and see what we get:"
   ]
  },
  {
   "cell_type": "code",
   "execution_count": null,
   "metadata": {},
   "outputs": [],
   "source": [
    "cos(0)"
   ]
  },
  {
   "cell_type": "markdown",
   "metadata": {},
   "source": [
    "* `cos` is the *name* of the function;\n",
    "* `0` is the *value* we as *passing* to the function.\n",
    "* The value we pass to the function goes between the parentheses `(` and `)`.\n",
    "* `1.0` is the value that the function *returns*.\n",
    "\n",
    "The value we pass to the function is also called the function *argument*.\n",
    "\n",
    "In our case we pass `0` as the *argument* to the `cos` function."
   ]
  },
  {
   "cell_type": "markdown",
   "metadata": {},
   "source": [
    "Let's try the same thing with the `sin` function:"
   ]
  },
  {
   "cell_type": "code",
   "execution_count": null,
   "metadata": {},
   "outputs": [],
   "source": [
    "# Get the sin function from the numpy library.\n",
    "from numpy import sin"
   ]
  },
  {
   "cell_type": "code",
   "execution_count": null,
   "metadata": {},
   "outputs": [],
   "source": [
    "sin(0)"
   ]
  },
  {
   "cell_type": "markdown",
   "metadata": {},
   "source": [
    "* `sin` - the function name;\n",
    "* `0` - the value we pass to the function;\n",
    "* The value goes after the function name, and between parentheses;\n",
    "* `0.0` - the value that the function returns.\n",
    "\n",
    "We pass `0` as the *argument* to the `sin` function."
   ]
  },
  {
   "cell_type": "markdown",
   "metadata": {},
   "source": [
    "Now your turn.\n",
    "\n",
    "Try importing the `sqrt` function."
   ]
  },
  {
   "cell_type": "code",
   "execution_count": null,
   "metadata": {},
   "outputs": [],
   "source": [
    "# Get the sqrt function from the numpy library.\n",
    "# Your code here."
   ]
  },
  {
   "cell_type": "markdown",
   "metadata": {},
   "source": [
    "Call the `sqrt` function with the value `9`; you should see this returns the value `3.0`."
   ]
  },
  {
   "cell_type": "code",
   "execution_count": null,
   "metadata": {},
   "outputs": [],
   "source": [
    "# Your code here."
   ]
  },
  {
   "cell_type": "markdown",
   "metadata": {},
   "source": [
    "We will see more about functions in the section on [call expressions](Calls)."
   ]
  }
 ],
 "metadata": {
  "jupytext": {
   "split_at_heading": true
  },
  "kernelspec": {
   "display_name": "Python 3",
   "language": "python",
   "name": "python3"
  },
  "language_info": {
   "codemirror_mode": {
    "name": "ipython",
    "version": 3
   },
   "file_extension": ".py",
   "mimetype": "text/x-python",
   "name": "python",
   "nbconvert_exporter": "python",
   "pygments_lexer": "ipython3",
   "version": "3.7.4"
  }
 },
 "nbformat": 4,
 "nbformat_minor": 2
}
