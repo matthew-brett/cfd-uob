{
 "cells": [
  {
   "cell_type": "markdown",
   "metadata": {},
   "source": [
    "This page has two aims:\n",
    "\n",
    "* to practice and extend [Pandas indexing](https://matthew-brett.github.io/cfd2019/chapters/07/pandas_indexing);\n",
    "* to extend the idea of permutation to data in categories;\n",
    "\n",
    "We also ask the question - is politics noble?"
   ]
  },
  {
   "cell_type": "code",
   "execution_count": null,
   "metadata": {},
   "outputs": [],
   "source": [
    "# Our usual imports\n",
    "import numpy as np\n",
    "import pandas as pd\n",
    "import matplotlib.pyplot as plt\n",
    "%matplotlib inline\n",
    "plt.style.use('fivethirtyeight')"
   ]
  },
  {
   "cell_type": "markdown",
   "metadata": {},
   "source": [
    "Our data is from this book:\n",
    "\n",
    "> Samuel P. Oliner and Pearl M. Oliner (1992) \"The Altruistic Personality:\n",
    "> Rescuers of Jews in Nazi Europe\". Free Press, New York. ISBN 0-02923829-3.\n",
    "\n",
    "See [the dataset page](https://github.com/matthew-brett/datasets/oliner1988)\n",
    "for some more details.\n",
    "\n",
    "Oliner and Oliner were interested to see if they could identify distinctive\n",
    "traits of people who rescued Jews in Nazi Europe.  In order to do that, they\n",
    "collected structured interviews with 231 people for whom there was strong\n",
    "documentary evidence that they had sheltered Jews, despite considerable risk to\n",
    "themselves. These are the \"rescuer\" group in the table below.  They also found\n",
    "126 controls with roughly similar background, nationality, age and education.\n",
    "Of these, 53 claimed to have either sheltered Jews, or to have been active in\n",
    "the resistance.  These are the \"actives\" group in the table.  This leaves 73\n",
    "controls who were not active, and the authors termed these \"bystanders\".\n",
    "\n",
    "The table below has data from table 6.8 of their book, where they break down the groups according to the answer they gave to the question \"Did you belong to a political party before the war?\".\n",
    "\n",
    "As usual, if you are running on your own computers, download the file\n",
    "[oliner_tab6_8a_1.csv](https://matthew-brett.github.io/cfd2019/data/oliner_tab6_8a_1.csv) to the same directory as this notebook."
   ]
  },
  {
   "cell_type": "code",
   "execution_count": null,
   "metadata": {},
   "outputs": [],
   "source": [
    "# Load the table\n",
    "party_tab = pd.read_csv('oliner_tab6_8a_1.csv')\n",
    "party_tab"
   ]
  },
  {
   "cell_type": "markdown",
   "metadata": {},
   "source": [
    "## Setting the index\n",
    "\n",
    "We have already seen [Pandas indexing](https://matthew-brett.github.io/cfd2019/chapters/07/pandas_indexing).   We are going to be selecting data out of this table with indexing, and we would like to make the index (row labels) be as informative as possible.  The current index, which Pandas created automatically, is sequential numbers, which are not memorable or informative."
   ]
  },
  {
   "cell_type": "code",
   "execution_count": null,
   "metadata": {},
   "outputs": [],
   "source": [
    "party_tab.index"
   ]
  },
  {
   "cell_type": "markdown",
   "metadata": {},
   "source": [
    "Row labels need not be numbers.  They can also be strings.  Strings are often more useful in identifying the data in the rows.\n",
    "\n",
    "We might prefer to use the values in the first column - `party_yn` as the labels for the rows.\n",
    "\n",
    "We can do this with the data frame `set_index` method.  It replaces the current index (the sequential numbers) with the data from a column."
   ]
  },
  {
   "cell_type": "code",
   "execution_count": null,
   "metadata": {},
   "outputs": [],
   "source": [
    "# Replace the numerical index with the party_yn labels.\n",
    "party_tab = party_tab.set_index('party_yn')\n",
    "party_tab"
   ]
  },
  {
   "cell_type": "markdown",
   "metadata": {},
   "source": [
    "Notice that Pandas took the `party_yn` column out of the data frame and used it to replace the index.\n",
    "\n",
    "This makes it easier to use the `.loc` attribute to select data, using row labels.  For example, we can select individual elements like this:"
   ]
  },
  {
   "cell_type": "code",
   "execution_count": null,
   "metadata": {},
   "outputs": [],
   "source": [
    "# How many rescuers were there, in total?\n",
    "party_tab.loc['out of', 'rescuers']"
   ]
  },
  {
   "cell_type": "markdown",
   "metadata": {},
   "source": [
    "## The question"
   ]
  },
  {
   "cell_type": "markdown",
   "metadata": {},
   "source": [
    "Looking at the data in the table, it seems as if the Rescuers had a stronger\n",
    "tendency to belong to a political party than, say, the Bystanders."
   ]
  },
  {
   "cell_type": "markdown",
   "metadata": {},
   "source": [
    "To get more specific, we look at the proportion of rescuers and bystanders that answered Yes (to being a member of a political party before the war).\n",
    "\n",
    "The `out of` row has the total number of people in each column."
   ]
  },
  {
   "cell_type": "code",
   "execution_count": null,
   "metadata": {},
   "outputs": [],
   "source": [
    "# Proportion of Yes for Rescuers.\n",
    "party_tab.loc['Yes', 'rescuers'] / party_tab.loc['out of', 'rescuers']"
   ]
  },
  {
   "cell_type": "code",
   "execution_count": null,
   "metadata": {},
   "outputs": [],
   "source": [
    "# Proportion of Yes for Bystanders.\n",
    "party_tab.loc['Yes', 'bystanders'] / party_tab.loc['out of', 'bystanders']"
   ]
  },
  {
   "cell_type": "markdown",
   "metadata": {},
   "source": [
    "That looks like a substantial difference - but could it have come about by chance?\n",
    "\n",
    "What do we mean by chance here?\n",
    "\n",
    "We imagine an ideal world where rescuers and bystanders have exactly the same tendency to belong to a political party.\n",
    "\n",
    "We will take random samples from this world, to see if the random samples look anything like the numbers we see in the actual data.  If they do, then we might not be very interested in the difference in proportion, in the actual data, because it could plausibly have come about from a world where there was no difference in tendency to belong to political parties.\n",
    "\n",
    "So, how do we take samples from this ideal world?\n",
    "\n",
    "We will take the same number of fake rescuers as there are real rescuers, and the same number of fake bystanders as there are real bystanders.\n",
    "\n",
    "We will assume that the same number of people overall are members of a political party:"
   ]
  },
  {
   "cell_type": "code",
   "execution_count": null,
   "metadata": {},
   "outputs": [],
   "source": [
    "# Number of people who belonged to a political party.\n",
    "n_yes = party_tab.loc['Yes', 'rescuers'] + party_tab.loc['Yes', 'bystanders']\n",
    "n_yes"
   ]
  },
  {
   "cell_type": "markdown",
   "metadata": {},
   "source": [
    "This leaves the rest, who were not a member of a political party:"
   ]
  },
  {
   "cell_type": "code",
   "execution_count": null,
   "metadata": {},
   "outputs": [],
   "source": [
    "# Number of people who did not belong to a political party.\n",
    "n_no = party_tab.loc['No', 'rescuers'] + party_tab.loc['No', 'bystanders']\n",
    "n_no"
   ]
  },
  {
   "cell_type": "markdown",
   "metadata": {},
   "source": [
    "This is a total of:"
   ]
  },
  {
   "cell_type": "code",
   "execution_count": null,
   "metadata": {},
   "outputs": [],
   "source": [
    "n_yes + n_no"
   ]
  },
  {
   "cell_type": "markdown",
   "metadata": {},
   "source": [
    "We therefore have 280 labels (51 Yes labels and 229 No labels) to assign to our\n",
    "280 people (209 rescuers and 71 bystanders).\n",
    "\n",
    "In our ideal world, this assignment is random.   We can shuffle up the labels\n",
    "(Yes, No), and assign each person (rescuer, bystander) a shuffled (therefore,\n",
    "random) label.  We take this fake pairing, and calculate the numbers in each of\n",
    "the four categories, to create a fake table, that is a random version of the\n",
    "actual table.  If we do that many times, we can get an idea of how the numbers\n",
    "vary in the fake tables, and therefore, what randomness looks like, in this\n",
    "ideal world, of no association between rescuer / bystander and Yes / No."
   ]
  },
  {
   "cell_type": "markdown",
   "metadata": {},
   "source": [
    "## Cleaning up the table\n",
    "\n",
    "We start by selecting the data we need from the original table.\n",
    "\n",
    "First we use `loc` indexing to specify that we want:\n",
    "\n",
    "* The rows labeled \"Yes\" and \"No\";\n",
    "* The columns labeled \"rescuers\" and \"bystanders\"."
   ]
  },
  {
   "cell_type": "code",
   "execution_count": null,
   "metadata": {},
   "outputs": [],
   "source": [
    "bystander_tab = party_tab.loc[['Yes', 'No'], ['rescuers', 'bystanders']]\n",
    "bystander_tab"
   ]
  },
  {
   "cell_type": "markdown",
   "metadata": {},
   "source": [
    "Notice the *lists* `['Yes', 'No']` and `['rescuers', 'bystanders']` specifying\n",
    "the row labels and columns labels that we want."
   ]
  },
  {
   "cell_type": "markdown",
   "metadata": {},
   "source": [
    "## Recreating the original data"
   ]
  },
  {
   "cell_type": "markdown",
   "metadata": {},
   "source": [
    "The table gives the counts of people in each of the four categories.\n",
    "\n",
    "We need to reconstruct the 280 people from these counts, so we can do our shuffling of 'Yes', 'No' labels, in order to make random assignments.\n",
    "\n",
    "First we create a list of 280 *respondent* labels, of which the first 209 are\n",
    "'rescuer' and the final 71 are 'bystander'.  These identify the type of respondent.\n",
    "\n",
    "To do this, we use `np.repeat`.  Check the function signature with `np.repeat?` and Enter in a new cell."
   ]
  },
  {
   "cell_type": "code",
   "execution_count": null,
   "metadata": {},
   "outputs": [],
   "source": [
    "# Make the 280 respondent labels.\n",
    "respondent = np.repeat(['rescuer', 'bystander'], [209, 71])\n",
    "# Show the first 10.\n",
    "print('First 10:', respondent[:10])\n",
    "# Show the last 10.\n",
    "print('Last 10:', respondent[-10:])"
   ]
  },
  {
   "cell_type": "markdown",
   "metadata": {},
   "source": [
    "Here we typed (\"hard-coded\") the numbers 209, 71.  We can also get these numbers using the sum of the values in the columns of our table:"
   ]
  },
  {
   "cell_type": "code",
   "execution_count": null,
   "metadata": {},
   "outputs": [],
   "source": [
    "bystander_tab.sum()"
   ]
  },
  {
   "cell_type": "markdown",
   "metadata": {},
   "source": [
    "Our code above is a little clearer as:"
   ]
  },
  {
   "cell_type": "code",
   "execution_count": null,
   "metadata": {},
   "outputs": [],
   "source": [
    "# Make the 280 respondent labels.\n",
    "respondent = np.repeat(['rescuer', 'bystander'], bystander_tab.sum())\n",
    "# Show the first 10.\n",
    "print('First 10:', respondent[:10])\n",
    "# Show the last 10.\n",
    "print('Last 10:', respondent[-10:])"
   ]
  },
  {
   "cell_type": "markdown",
   "metadata": {},
   "source": [
    "Now to create the 'Yes', 'No' labels.   Again, we could do this:"
   ]
  },
  {
   "cell_type": "code",
   "execution_count": null,
   "metadata": {},
   "outputs": [],
   "source": [
    "# Make the 280 Yes No labels.\n",
    "party_yn = np.repeat(['Yes', 'No'], [51, 229])\n",
    "# Show the first 10.\n",
    "print('First 10:', party_yn[:10])\n",
    "# Show the last 10.\n",
    "print('Last 10:', party_yn[-10:])"
   ]
  },
  {
   "cell_type": "markdown",
   "metadata": {},
   "source": [
    "We would like to use `sum` again to get those totals automatically, but we have already seen that `sum`, by default, works down the columns.\n",
    "\n",
    "Luckily Pandas has a method called `transpose` that flips the rows and columns of a data frame, like this:"
   ]
  },
  {
   "cell_type": "code",
   "execution_count": null,
   "metadata": {},
   "outputs": [],
   "source": [
    "flipped_tab = bystander_tab.transpose()\n",
    "flipped_tab"
   ]
  },
  {
   "cell_type": "markdown",
   "metadata": {},
   "source": [
    "We can get the sum of Yes and No with:"
   ]
  },
  {
   "cell_type": "code",
   "execution_count": null,
   "metadata": {},
   "outputs": [],
   "source": [
    "flipped_tab.sum()"
   ]
  },
  {
   "cell_type": "markdown",
   "metadata": {},
   "source": [
    "Or, all in one go:"
   ]
  },
  {
   "cell_type": "code",
   "execution_count": null,
   "metadata": {},
   "outputs": [],
   "source": [
    "bystander_tab.transpose().sum()"
   ]
  },
  {
   "cell_type": "markdown",
   "metadata": {},
   "source": [
    "This allows us to do:"
   ]
  },
  {
   "cell_type": "code",
   "execution_count": null,
   "metadata": {},
   "outputs": [],
   "source": [
    "# Make the 280 Yes No labels.\n",
    "party_yn = np.repeat(['Yes', 'No'], bystander_tab.transpose().sum())\n",
    "# Show the first 10.\n",
    "print('First 10:', party_yn[:10])\n",
    "# Show the last 10.\n",
    "print('Last 10:', party_yn[-10:])"
   ]
  },
  {
   "cell_type": "markdown",
   "metadata": {},
   "source": [
    "Next we shuffle the Yes, No labels randomly:"
   ]
  },
  {
   "cell_type": "code",
   "execution_count": null,
   "metadata": {},
   "outputs": [],
   "source": [
    "np.random.shuffle(party_yn)\n",
    "party_yn[:10]"
   ]
  },
  {
   "cell_type": "markdown",
   "metadata": {},
   "source": [
    "We can look at the new random pairing by putting the rows into a table, with 280 rows, one for each person:"
   ]
  },
  {
   "cell_type": "code",
   "execution_count": null,
   "metadata": {},
   "outputs": [],
   "source": [
    "fake_data = pd.DataFrame()\n",
    "fake_data['party_yn'] = party_yn\n",
    "fake_data['respondent'] = respondent\n",
    "fake_data.head()"
   ]
  },
  {
   "cell_type": "markdown",
   "metadata": {},
   "source": [
    "We now need the counts of people in each category.  That is we need counts for:\n",
    "\n",
    "* 'No' paired with 'bystander'\n",
    "* 'Yes' paired with 'bystander'\n",
    "* 'No' paired with 'rescuer'\n",
    "* 'Yes' paired with 'rescuer'\n",
    "\n",
    "We could do this this the long way round, with cells like:"
   ]
  },
  {
   "cell_type": "code",
   "execution_count": null,
   "metadata": {},
   "outputs": [],
   "source": [
    "# Just the Nos.\n",
    "fake_nos = fake_data[fake_data['party_yn'] == 'No']\n",
    "# From the Nos, just the Bystanders.\n",
    "fake_nos_bystanders = fake_nos[fake_nos['respondent'] == 'bystander']\n",
    "# How many rows?\n",
    "len(fake_nos_bystanders)"
   ]
  },
  {
   "cell_type": "markdown",
   "metadata": {},
   "source": [
    "Luckily, Pandas has a `crosstab` function that does this work for us:"
   ]
  },
  {
   "cell_type": "code",
   "execution_count": null,
   "metadata": {},
   "outputs": [],
   "source": [
    "fake_tab = pd.crosstab(party_yn, respondent)\n",
    "fake_tab"
   ]
  },
  {
   "cell_type": "markdown",
   "metadata": {},
   "source": [
    "We saw in the original data that the Bystanders seemed to have a lesser tendency to belong to a political party.  Let us restrict our attention to the count of \"Yes\" and \"bystander\" for now.\n",
    "\n",
    "That count, in our original data, was:"
   ]
  },
  {
   "cell_type": "code",
   "execution_count": null,
   "metadata": {},
   "outputs": [],
   "source": [
    "actual_y_by = bystander_tab.loc['Yes', 'bystanders']\n",
    "actual_y_by"
   ]
  },
  {
   "cell_type": "markdown",
   "metadata": {},
   "source": [
    "The equivalent count in our new fake table is:"
   ]
  },
  {
   "cell_type": "code",
   "execution_count": null,
   "metadata": {},
   "outputs": [],
   "source": [
    "fake_y_by = fake_tab.loc['Yes', 'bystander']\n",
    "fake_y_by"
   ]
  },
  {
   "cell_type": "markdown",
   "metadata": {},
   "source": [
    "We need more random samples to see if the fake value is often as small as the real value.  If so, then the ideal world, where the association between rescuer / bystander and Yes / No is random, is a reasonable explanation of what we see, and we might not want to investigate these data much further.\n",
    "\n",
    "Unfortunately, `pd.crosstab` is horribly slow, so we need to drop our usual number of iterations to 1000 to keep the run-time down."
   ]
  },
  {
   "cell_type": "code",
   "execution_count": null,
   "metadata": {},
   "outputs": [],
   "source": [
    "counts = np.zeros(1000)\n",
    "for i in np.arange(1000):\n",
    "    np.random.shuffle(party_yn)\n",
    "    fake_tab = pd.crosstab(party_yn, respondent)\n",
    "    counts[i] = fake_tab.loc['Yes', 'bystander']\n",
    "counts[:10]"
   ]
  },
  {
   "cell_type": "markdown",
   "metadata": {},
   "source": [
    "Here is our *sampling distribution* from sampling in the ideal world:"
   ]
  },
  {
   "cell_type": "code",
   "execution_count": null,
   "metadata": {},
   "outputs": [],
   "source": [
    "plt.hist(counts);"
   ]
  },
  {
   "cell_type": "markdown",
   "metadata": {},
   "source": [
    "How unusual is the actual value, in this ideal world?"
   ]
  },
  {
   "cell_type": "code",
   "execution_count": null,
   "metadata": {},
   "outputs": [],
   "source": [
    "# Proportion of times we see ideal world sample >= actual value.\n",
    "p_lte = np.count_nonzero(counts <= actual_y_by) / len(counts)\n",
    "p_lte"
   ]
  },
  {
   "cell_type": "markdown",
   "metadata": {},
   "source": [
    "## A question\n",
    "\n",
    "Now look at this.  Here I do the same test, but I am looking at the both of these counts:\n",
    "\n",
    "* \"No\", \"bystander\".\n",
    "* \"Yes\", \"rescuer\"."
   ]
  },
  {
   "cell_type": "code",
   "execution_count": null,
   "metadata": {},
   "outputs": [],
   "source": [
    "# Yes, bystander\n",
    "counts_y_by = np.zeros(1000)\n",
    "# No, rescuer\n",
    "counts_n_r = np.zeros(1000)\n",
    "for i in np.arange(1000):\n",
    "    np.random.shuffle(party_yn)\n",
    "    fake_tab = pd.crosstab(party_yn, respondent)\n",
    "    counts_y_by[i] = fake_tab.loc['Yes', 'bystander']\n",
    "    counts_n_r[i] = fake_tab.loc['No', 'rescuer']"
   ]
  },
  {
   "cell_type": "markdown",
   "metadata": {},
   "source": [
    "The test for \"Yes\", \"bystander\":"
   ]
  },
  {
   "cell_type": "code",
   "execution_count": null,
   "metadata": {},
   "outputs": [],
   "source": [
    "# Proportion of times we see ideal world sample >= actual value.\n",
    "actual_y_by = bystander_tab.loc['Yes', 'bystanders']\n",
    "p_lte_y_by = np.count_nonzero(counts_y_by <= actual_y_by) / len(counts)\n",
    "p_lte_y_by"
   ]
  },
  {
   "cell_type": "markdown",
   "metadata": {},
   "source": [
    "The test for \"No\", \"rescuer\":"
   ]
  },
  {
   "cell_type": "code",
   "execution_count": null,
   "metadata": {},
   "outputs": [],
   "source": [
    "# Proportion of times we see ideal world sample >= actual value.\n",
    "actual_n_r = bystander_tab.loc['No', 'rescuers']\n",
    "p_lte_n_r = np.count_nonzero(counts_n_r <= actual_n_r) / len(counts)\n",
    "p_lte_n_r"
   ]
  },
  {
   "cell_type": "markdown",
   "metadata": {},
   "source": [
    "See if you can work out why these two answers are *exactly* the same."
   ]
  }
 ],
 "metadata": {
  "jupytext": {
   "split_at_heading": true,
   "text_representation": {
    "extension": ".Rmd",
    "format_name": "rmarkdown",
    "format_version": "1.1",
    "jupytext_version": "1.2.4"
   }
  },
  "kernelspec": {
   "display_name": "Python 3",
   "language": "python",
   "name": "python3"
  },
  "language_info": {
   "codemirror_mode": {
    "name": "ipython",
    "version": 3
   },
   "file_extension": ".py",
   "mimetype": "text/x-python",
   "name": "python",
   "nbconvert_exporter": "python",
   "pygments_lexer": "ipython3",
   "version": "3.7.6"
  }
 },
 "nbformat": 4,
 "nbformat_minor": 2
}
