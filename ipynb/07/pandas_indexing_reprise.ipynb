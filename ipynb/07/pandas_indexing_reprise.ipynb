{
 "cells": [
  {
   "cell_type": "markdown",
   "metadata": {},
   "source": [
    "# Pandas indexing reprise\n",
    "\n",
    "This page is a reminder on indexing for Pandas data frames and Series.\n",
    "\n",
    "You have already seen the [basics of Pandas indexing](https://matthew-brett.github.io/cfd2019/chapters/07/pandas_indexing); this page is just a reminder of the later\n",
    "parts of the basic indexing page."
   ]
  },
  {
   "cell_type": "code",
   "execution_count": null,
   "metadata": {},
   "outputs": [],
   "source": [
    "import pandas as pd"
   ]
  },
  {
   "cell_type": "markdown",
   "metadata": {},
   "source": [
    "We use the familiar dataset on student ratings of professors.  It is a table\n",
    "where the rows are course subjects and the columns include average ratings for\n",
    "all University professors / lecturers teaching that subject. See [the dataset\n",
    "page](https://matthew-brett.github.io/cfd2019/data/rate_my_professors) for more detail."
   ]
  },
  {
   "cell_type": "code",
   "execution_count": null,
   "metadata": {},
   "outputs": [],
   "source": [
    "# Load the dataset as a data frame\n",
    "ratings = pd.read_csv('rate_my_course.csv')\n",
    "# Reorder by Easiness\n",
    "ratings_by_easy = ratings.sort_values('Easiness', ascending=False)\n",
    "# Make a smaller data frame with the first six rows\n",
    "top_by_easy = ratings_by_easy.head(6)\n",
    "# Show the smaller data frame.\n",
    "top_by_easy"
   ]
  },
  {
   "cell_type": "markdown",
   "metadata": {},
   "source": [
    "Here is an example *Boolean Series* that has True for rows where the \"Clarity\"\n",
    "rating was greater than 4.1, and False otherwise."
   ]
  },
  {
   "cell_type": "code",
   "execution_count": null,
   "metadata": {},
   "outputs": [],
   "source": [
    "is_clear = top_by_easy['Clarity'] > 4.1\n",
    "is_clear"
   ]
  },
  {
   "cell_type": "markdown",
   "metadata": {},
   "source": [
    "We will use that in the examples below."
   ]
  },
  {
   "cell_type": "markdown",
   "metadata": {},
   "source": [
    "## Direct indexing\n",
    "\n",
    "Direct indexing is where the indexing bracket `[` goes right after the data\n",
    "frame.  Examples are:"
   ]
  },
  {
   "cell_type": "code",
   "execution_count": null,
   "metadata": {},
   "outputs": [],
   "source": [
    "# Direct indexing with a column name.\n",
    "top_by_easy['Discipline']"
   ]
  },
  {
   "cell_type": "code",
   "execution_count": null,
   "metadata": {},
   "outputs": [],
   "source": [
    "# Direct indexing with a Boolean sequence.\n",
    "top_by_easy[is_clear]"
   ]
  },
  {
   "cell_type": "markdown",
   "metadata": {},
   "source": [
    "As you have seen in the [Pandas indexing page](https://matthew-brett.github.io/cfd2019/chapters/07/pandas_indexing), the examples above are the two types of safe\n",
    "direct indexing into Pandas data frames:\n",
    "\n",
    "1. Direct indexing with a column name.\n",
    "2. Direct indexing with a Boolean sequence."
   ]
  },
  {
   "cell_type": "markdown",
   "metadata": {},
   "source": [
    "## Indirect indexing by position with `iloc`\n",
    "\n",
    "Indirect indexing is where we use the special `.iloc` and `.loc` attributes of data frames and Series.  The data frame or series goes first, followed by `.iloc` or `.loc`, followed by the opening square bracket `[`, the specifiers for the values we want, and the closing square bracket `]`.\n",
    "\n",
    "`.iloc` selects rows and columns by *position*.  For example, here we ask for\n",
    "the first three rows:"
   ]
  },
  {
   "cell_type": "code",
   "execution_count": null,
   "metadata": {},
   "outputs": [],
   "source": [
    "top_by_easy.iloc[:3]"
   ]
  },
  {
   "cell_type": "markdown",
   "metadata": {},
   "source": [
    "If we send `.iloc` two arguments, separated by commas, then the first argument\n",
    "refers to the rows, and the second to the columns.  Here we ask for the first three rows and the first three columns:"
   ]
  },
  {
   "cell_type": "code",
   "execution_count": null,
   "metadata": {},
   "outputs": [],
   "source": [
    "top_by_easy.iloc[:3, :3]"
   ]
  },
  {
   "cell_type": "markdown",
   "metadata": {},
   "source": [
    "We can use `:` to select everything.  For example, this selects all rows, and\n",
    "the last column:"
   ]
  },
  {
   "cell_type": "code",
   "execution_count": null,
   "metadata": {},
   "outputs": [],
   "source": [
    "clarity_with_iloc = top_by_easy.iloc[:, -1]\n",
    "clarity_with_iloc"
   ]
  },
  {
   "cell_type": "markdown",
   "metadata": {},
   "source": [
    "## Indirect indexing by label with `.loc`\n",
    "\n",
    "We can also select items by their row and column *labels*.  In this case, the row labels are also counting numbers (integers), so they are easily mistaken for positions if you are not careful."
   ]
  },
  {
   "cell_type": "code",
   "execution_count": null,
   "metadata": {},
   "outputs": [],
   "source": [
    "row_labeled_64 = top_by_easy.loc[64]\n",
    "row_labeled_64"
   ]
  },
  {
   "cell_type": "markdown",
   "metadata": {},
   "source": [
    "This is a different result than the one we get from `iloc`, which does look at position rather than label:"
   ]
  },
  {
   "cell_type": "code",
   "execution_count": null,
   "metadata": {},
   "outputs": [],
   "source": [
    "row_position_0 = top_by_easy.iloc[0]\n",
    "row_position_0"
   ]
  },
  {
   "cell_type": "markdown",
   "metadata": {},
   "source": [
    "We can ask for multiple rows by label:"
   ]
  },
  {
   "cell_type": "code",
   "execution_count": null,
   "metadata": {},
   "outputs": [],
   "source": [
    "ratings_by_label = top_by_easy.loc[[64, 49, 31]]\n",
    "ratings_by_label"
   ]
  },
  {
   "cell_type": "markdown",
   "metadata": {},
   "source": [
    "If we send `.loc` two arguments, separated by commas, then the first argument\n",
    "refers to the rows, and the second to the columns.  The column labels are the\n",
    "column names.  Here we ask for the rows labeled 64, 49, 31, and the column labeled \"Discipline\":"
   ]
  },
  {
   "cell_type": "code",
   "execution_count": null,
   "metadata": {},
   "outputs": [],
   "source": [
    "ratings_by_row_col_label = top_by_easy.loc[[64, 49, 31], 'Discipline']\n",
    "ratings_by_row_col_label"
   ]
  },
  {
   "cell_type": "markdown",
   "metadata": {},
   "source": [
    "If we want multiple columns we can pass a list of column names:"
   ]
  },
  {
   "cell_type": "code",
   "execution_count": null,
   "metadata": {},
   "outputs": [],
   "source": [
    "ratings_by_row_col_label = top_by_easy.loc[[64, 49, 31], ['Discipline', 'Clarity']]\n",
    "ratings_by_row_col_label"
   ]
  },
  {
   "cell_type": "markdown",
   "metadata": {},
   "source": [
    "This is a good way of selecting a subset of the columns from the data frame,\n",
    "using `:` to select all the rows:"
   ]
  },
  {
   "cell_type": "code",
   "execution_count": null,
   "metadata": {},
   "outputs": [],
   "source": [
    "some_columns = top_by_easy.loc[:, ['Discipline', 'Easiness']]\n",
    "some_columns"
   ]
  },
  {
   "cell_type": "markdown",
   "metadata": {},
   "source": [
    "You can use Boolean sequences to select rows with `.loc`."
   ]
  },
  {
   "cell_type": "code",
   "execution_count": null,
   "metadata": {},
   "outputs": [],
   "source": [
    "clear_clarity = top_by_easy.loc[is_clear, 'Clarity']\n",
    "clear_clarity"
   ]
  },
  {
   "cell_type": "markdown",
   "metadata": {},
   "source": [
    "You can also use some Boolean sequences for `.iloc`, but it's a bit more\n",
    "complicated.  See [Booleans and labels](https://matthew-brett.github.io/cfd2019/chapters/07/booleans_and_labels) for more detail."
   ]
  }
 ],
 "metadata": {
  "jupytext": {
   "split_at_heading": true
  },
  "kernelspec": {
   "display_name": "Python 3",
   "language": "python",
   "name": "python3"
  },
  "language_info": {
   "codemirror_mode": {
    "name": "ipython",
    "version": 3
   },
   "file_extension": ".py",
   "mimetype": "text/x-python",
   "name": "python",
   "nbconvert_exporter": "python",
   "pygments_lexer": "ipython3",
   "version": "3.7.6"
  }
 },
 "nbformat": 4,
 "nbformat_minor": 2
}
