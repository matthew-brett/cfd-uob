{
 "cells": [
  {
   "cell_type": "markdown",
   "metadata": {},
   "source": [
    "# Introduction to data frames"
   ]
  },
  {
   "cell_type": "markdown",
   "metadata": {},
   "source": [
    "[Pandas](https://pandas.pydata.org) is a Python package that\n",
    "implements data frames, and functions that operate on data\n",
    "frames."
   ]
  },
  {
   "cell_type": "code",
   "execution_count": null,
   "metadata": {},
   "outputs": [],
   "source": [
    "# Load the Pands data science library, call it 'pd'\n",
    "import pandas as pd"
   ]
  },
  {
   "cell_type": "markdown",
   "metadata": {},
   "source": [
    "We will also use the usual Numpy array library:"
   ]
  },
  {
   "cell_type": "code",
   "execution_count": null,
   "metadata": {},
   "outputs": [],
   "source": [
    "# Load the Numpy array library, call it 'np'\n",
    "import numpy as np"
   ]
  },
  {
   "cell_type": "markdown",
   "metadata": {},
   "source": [
    "## Data frames and series\n",
    "\n",
    "We start by loading data from a Comma Separated Value file (CSV\n",
    "file).  If you are running on your laptop, you should download\n",
    "the [gender_stats.csv](https://matthew-brett.github.io/cfd-uob/data/gender_stats.csv)\n",
    "file to the same directory as this notebook.\n",
    "\n",
    "See the [gender statistics description page](https://matthew-brett.github.io/cfd-uob/data/gender_stats) for more detail on the dataset."
   ]
  },
  {
   "cell_type": "code",
   "execution_count": null,
   "metadata": {},
   "outputs": [],
   "source": [
    "# Load the data file\n",
    "gender_data = pd.read_csv('gender_stats.csv')"
   ]
  },
  {
   "cell_type": "markdown",
   "metadata": {},
   "source": [
    "This is our usual assignment statement. The LHS is `gender_data`, the variable name.  The RHS is an expression, that returns a value.\n",
    "\n",
    "What type of value does it return?"
   ]
  },
  {
   "cell_type": "code",
   "execution_count": null,
   "metadata": {},
   "outputs": [],
   "source": [
    "type(gender_data)"
   ]
  },
  {
   "cell_type": "markdown",
   "metadata": {},
   "source": [
    "Pandas integrates with the Notebook, so, if you display a data\n",
    "frame in the notebook, it does a nice display of rows and\n",
    "columns."
   ]
  },
  {
   "cell_type": "code",
   "execution_count": null,
   "metadata": {},
   "outputs": [],
   "source": [
    "gender_data"
   ]
  },
  {
   "cell_type": "markdown",
   "metadata": {},
   "source": [
    "The data frame has rows and columns.  Like other Python objects, it has *attributes*.  These are pieces of data associated with the data frame.  You have already seen *methods*, which are functions associated with the data frame.  You can access attributes in the same way as you access methods, by typing the variable name, followed by a dot `.`, followed by the attribute name.\n",
    "\n",
    "For example, one attribute of the data frame, is the `shape`:"
   ]
  },
  {
   "cell_type": "code",
   "execution_count": null,
   "metadata": {},
   "outputs": [],
   "source": [
    "gender_data.shape"
   ]
  },
  {
   "cell_type": "markdown",
   "metadata": {},
   "source": [
    "Another attribute is `columns`.  This has the column names. For\n",
    "example, here is a good way of quickly seeing the column names\n",
    "for a data frame:"
   ]
  },
  {
   "cell_type": "code",
   "execution_count": null,
   "metadata": {},
   "outputs": [],
   "source": [
    "gender_data.columns"
   ]
  },
  {
   "cell_type": "markdown",
   "metadata": {},
   "source": [
    "You need more information about what these column names refer to.  Here are the longer descriptions from the original data source (link above):\n",
    "\n",
    "* `fert_rate`: Fertility rate, total (births per woman).\n",
    "* `gdp_us_billion`: GDP (in current US \\$ billions).\n",
    "* `health_exp_per_cap`: Health expenditure per capita, PPP (constant 2011 international \\$).\n",
    "* `health_exp_pub`: Health expenditure, public (% of GDP).\n",
    "* `prim_ed_girls`: Primary education, pupils (% female).\n",
    "* `mat_mort_ratio`: Maternal mortality ratio (modeled estimate, per 100,000 live births).\n",
    "* `population`: Population, total.\n",
    "\n",
    "You have just seen array slicing (in [Selecting with\n",
    "arrays](../03/array_indexing).  You remember that array slicing\n",
    "uses square brackets.   Data frames also allow slicing.  For\n",
    "example, we often want to get all the data for a single column\n",
    "of the data frame.  To do this, we use the same square bracket\n",
    "notation as we use for array slicing, with the name of the\n",
    "column inside the square brackets."
   ]
  },
  {
   "cell_type": "code",
   "execution_count": null,
   "metadata": {},
   "outputs": [],
   "source": [
    "gdp = gender_data['gdp_us_billion']"
   ]
  },
  {
   "cell_type": "markdown",
   "metadata": {},
   "source": [
    "What `type` of thing is this column of data?"
   ]
  },
  {
   "cell_type": "code",
   "execution_count": null,
   "metadata": {},
   "outputs": [],
   "source": [
    "type(gdp)"
   ]
  },
  {
   "cell_type": "markdown",
   "metadata": {},
   "source": [
    "Here are the values for `gdp`.  You will notice that these are the\n",
    "same values you saw in the \"gdp_us_billion\" column when you displayed the whole\n",
    "data frame."
   ]
  },
  {
   "cell_type": "code",
   "execution_count": null,
   "metadata": {},
   "outputs": [],
   "source": [
    "gdp"
   ]
  },
  {
   "cell_type": "markdown",
   "metadata": {},
   "source": [
    "## Missing values and `NaN`\n",
    "\n",
    "Looking at the values of `gdp` (and therefore, the values of the\n",
    "`gdp_us_billion` column of `gender_data`, we see that some of the values are\n",
    "`NaN`, which means Not a Number.  Pandas uses this marker to indicate values\n",
    "that are not available, or *missing data*.\n",
    "\n",
    "Numpy does not like to calculate with `NaN` values.  Here is Numpy trying to\n",
    "calculate the median of the `gdp` values."
   ]
  },
  {
   "cell_type": "code",
   "execution_count": null,
   "metadata": {},
   "outputs": [],
   "source": [
    "np.median(gdp)"
   ]
  },
  {
   "cell_type": "markdown",
   "metadata": {},
   "source": [
    "Notice the warning about an invalid value.\n",
    "\n",
    "Numpy recognizes that one or more values are `NaN` and refuses to guess what to do, when calculating the median."
   ]
  },
  {
   "cell_type": "markdown",
   "metadata": {},
   "source": [
    "You saw from the shape above that `gender_data` has 263 rows.  We can use the\n",
    "general Python `len` function, to see how many elements there are in `gdp`."
   ]
  },
  {
   "cell_type": "code",
   "execution_count": null,
   "metadata": {},
   "outputs": [],
   "source": [
    "len(gdp)"
   ]
  },
  {
   "cell_type": "markdown",
   "metadata": {},
   "source": [
    "As expected, it has the same number of elements as there are rows in `gender_data`.\n",
    "\n",
    "The `count` method of the series gives the number of values that are not missing - that is - not `NaN`."
   ]
  },
  {
   "cell_type": "code",
   "execution_count": null,
   "metadata": {
    "lines_to_next_cell": 2
   },
   "outputs": [],
   "source": [
    "gdp.count()"
   ]
  },
  {
   "cell_type": "markdown",
   "metadata": {},
   "source": [
    "## Plotting with methods"
   ]
  },
  {
   "cell_type": "markdown",
   "metadata": {},
   "source": [
    "We start with the magic incantation to load the plotting library."
   ]
  },
  {
   "cell_type": "code",
   "execution_count": null,
   "metadata": {},
   "outputs": [],
   "source": [
    "# Load the library for plotting, name it 'plt'\n",
    "import matplotlib.pyplot as plt\n",
    "# Display plots inside the notebook.\n",
    "%matplotlib inline\n",
    "# Make plots look a little more fancy\n",
    "plt.style.use('fivethirtyeight')"
   ]
  },
  {
   "cell_type": "markdown",
   "metadata": {},
   "source": [
    "The `gdp` variable is a sequence of values, so we can do a histogram on these\n",
    "values, as we have done histograms on arrays."
   ]
  },
  {
   "cell_type": "code",
   "execution_count": null,
   "metadata": {},
   "outputs": [],
   "source": [
    "plt.hist(gdp);"
   ]
  },
  {
   "cell_type": "markdown",
   "metadata": {},
   "source": [
    "Notice the multiple warnings as Matplotlib tried to calculate the bin widths for the histogram.  These warnings result from Matplotlib struggline with `NaN` values."
   ]
  },
  {
   "cell_type": "markdown",
   "metadata": {},
   "source": [
    "Another way to do the histogram, is to use the `hist` *method* of the series.  \n",
    "\n",
    "A method is a function attached to a value.  In this case `hist` is a function attached to a value of type `Series`.\n",
    "\n",
    "Using the `hist` method instead of the `plt.hist` function can make the code a bit easier to read.  The method also has the advantage that it discards the `NaN` values, by default, so it does not generate the same warnings."
   ]
  },
  {
   "cell_type": "code",
   "execution_count": null,
   "metadata": {},
   "outputs": [],
   "source": [
    "gdp.hist();"
   ]
  },
  {
   "cell_type": "markdown",
   "metadata": {},
   "source": [
    "Now we have had a look at the GDP values, we will look at the\n",
    "values for the `mat_mort_ratio` column.  These are the numbers\n",
    "of women who die in childbirth for every 100,000 births."
   ]
  },
  {
   "cell_type": "code",
   "execution_count": null,
   "metadata": {},
   "outputs": [],
   "source": [
    "mmr = gender_data['mat_mort_ratio']\n",
    "mmr"
   ]
  },
  {
   "cell_type": "code",
   "execution_count": null,
   "metadata": {},
   "outputs": [],
   "source": [
    "mmr.hist();"
   ]
  },
  {
   "cell_type": "markdown",
   "metadata": {},
   "source": [
    "We are interested in the relationship of `gpp` and `mmr`.  Maybe richer countries have better health care, and fewer maternal deaths.\n",
    "\n",
    "Here is a plot, using the standard Matplotlib `scatter`\n",
    "function."
   ]
  },
  {
   "cell_type": "code",
   "execution_count": null,
   "metadata": {},
   "outputs": [],
   "source": [
    "plt.scatter(gdp, mmr);"
   ]
  },
  {
   "cell_type": "markdown",
   "metadata": {},
   "source": [
    "We can do the same plot using the `plot.scatter` method on the data frame.  In that case, we specify the column names that should go on the x and the y axes."
   ]
  },
  {
   "cell_type": "code",
   "execution_count": null,
   "metadata": {},
   "outputs": [],
   "source": [
    "gender_data.plot.scatter('gdp_us_billion', 'mat_mort_ratio');"
   ]
  },
  {
   "cell_type": "markdown",
   "metadata": {},
   "source": [
    "An advantage of doing it this way is that we get the column names on the x and y axes by default."
   ]
  },
  {
   "cell_type": "markdown",
   "metadata": {},
   "source": [
    "## Showing the top 5 values with the `head` method"
   ]
  },
  {
   "cell_type": "markdown",
   "metadata": {},
   "source": [
    "We have already seen that Pandas will display the data frame with nice formatting.  If the data frame is long, it will display only the first few and the last few rows:"
   ]
  },
  {
   "cell_type": "code",
   "execution_count": null,
   "metadata": {},
   "outputs": [],
   "source": [
    "gender_data"
   ]
  },
  {
   "cell_type": "markdown",
   "metadata": {},
   "source": [
    "Notice the `...` in the center of this listing, to show that it has not printed some rows."
   ]
  },
  {
   "cell_type": "markdown",
   "metadata": {},
   "source": [
    "Sometimes we do not want to see all these rows, but only - say - the top five rows.   The `head` method of the data frame is a useful way to do this:"
   ]
  },
  {
   "cell_type": "code",
   "execution_count": null,
   "metadata": {},
   "outputs": [],
   "source": [
    "gender_data.head()"
   ]
  },
  {
   "cell_type": "markdown",
   "metadata": {},
   "source": [
    "The `Series` also has a `head` method, that does the same thing:"
   ]
  },
  {
   "cell_type": "code",
   "execution_count": null,
   "metadata": {},
   "outputs": [],
   "source": [
    "gdp.head()"
   ]
  },
  {
   "cell_type": "markdown",
   "metadata": {},
   "source": [
    "## Selecting rows"
   ]
  },
  {
   "cell_type": "markdown",
   "metadata": {},
   "source": [
    "We often want to select rows from the data frame that match some criterion.\n",
    "\n",
    "Say we want to select the rows corresponding the countries with a high GDP.\n",
    "\n",
    "Looking at the histogram of `gdp` above, we could try this as a threshold to\n",
    "identify high GDP countries."
   ]
  },
  {
   "cell_type": "code",
   "execution_count": null,
   "metadata": {},
   "outputs": [],
   "source": [
    "high_gdp = gdp > 1000\n",
    "high_gdp.head()"
   ]
  },
  {
   "cell_type": "code",
   "execution_count": null,
   "metadata": {},
   "outputs": [],
   "source": [
    "type(high_gdp)"
   ]
  },
  {
   "cell_type": "markdown",
   "metadata": {},
   "source": [
    "Notice that `high_gdp` is a Boolean series, like the Boolean arrays you have\n",
    "already seen.  It has `True` for elements corresponding to countries with `gdp`\n",
    "value greater than `1000` and `False` otherwise.\n",
    "\n",
    "We can use this Boolean series to select rows from the data frame.\n",
    "\n",
    "Remember *indexing*.  When we follow a name of something, like an array or\n",
    "series or data frame, with an open square bracket, this means we are trying to\n",
    "get data from the array or Series.  The stuff inside the square brackets says\n",
    "what we want.\n",
    "\n",
    "When we put our Boolean series inside the square brackets, it works like this:"
   ]
  },
  {
   "cell_type": "code",
   "execution_count": null,
   "metadata": {},
   "outputs": [],
   "source": [
    "rich_gender_data = gender_data[high_gdp]\n",
    "rich_gender_data"
   ]
  },
  {
   "cell_type": "code",
   "execution_count": null,
   "metadata": {},
   "outputs": [],
   "source": [
    "type(rich_gender_data)"
   ]
  },
  {
   "cell_type": "markdown",
   "metadata": {},
   "source": [
    "`rich_gender_data` is a new data frame, that is a subset of the original\n",
    "`gender_data` frame.  It contains only the rows where the GDP value is greater\n",
    "than `1000` billion dollars.  Check the display of `rich_gender_data` above to\n",
    "confirm that the values in the `gdp_us_billion` column are all greater than\n",
    "`1000`.\n",
    "\n",
    "We can do a scatter plot of GDP values against maternal\n",
    "mortality rate, and we find, oddly, that for rich countries,\n",
    "there is little relationship between GDP and maternal mortality."
   ]
  },
  {
   "cell_type": "code",
   "execution_count": null,
   "metadata": {},
   "outputs": [],
   "source": [
    "rich_gender_data.plot.scatter('gdp_us_billion', 'mat_mort_ratio')"
   ]
  },
  {
   "cell_type": "markdown",
   "metadata": {},
   "source": [
    "One thing that stands out is the very high value at around 180.   Which country does this refer to?  We can use sorting to find out."
   ]
  },
  {
   "cell_type": "markdown",
   "metadata": {},
   "source": [
    "## Sorting data frames"
   ]
  },
  {
   "cell_type": "markdown",
   "metadata": {},
   "source": [
    "Data frames have a method `sort_value`.  This returns a new data frame with the\n",
    "rows sorted by the values in the column we specify.\n",
    "\n",
    "Here are the first five rows of the data frame of the rich countries:"
   ]
  },
  {
   "cell_type": "code",
   "execution_count": null,
   "metadata": {},
   "outputs": [],
   "source": [
    "rich_gender_data.head()"
   ]
  },
  {
   "cell_type": "markdown",
   "metadata": {},
   "source": [
    "We are interested to find which of these richer countries has a high maternal mortality ratio.  To do this, we can make a new data frame where the rows are sorted by the values in the\n",
    "`mat_mort_ratio` column:"
   ]
  },
  {
   "cell_type": "code",
   "execution_count": null,
   "metadata": {},
   "outputs": [],
   "source": [
    "rich_by_mmr = rich_gender_data.sort_values('mat_mort_ratio')\n",
    "rich_by_mmr.head()"
   ]
  },
  {
   "cell_type": "markdown",
   "metadata": {},
   "source": [
    "Notice that the rows are in *ascending* order of `mat_mort_ratio`.  To find the countries with high maternal mortality, we might prefer to sort in *descending* order.  As usual you can explore how\n",
    "you might do this by looking at the help for the `sort_values` method with:\n",
    "\n",
    "```\n",
    "rich_by_mmr.sort_values?\n",
    "```\n",
    "\n",
    "in a new cell.   If you do that, you discover the `ascending` argument, that\n",
    "you can use like this:"
   ]
  },
  {
   "cell_type": "code",
   "execution_count": null,
   "metadata": {},
   "outputs": [],
   "source": [
    "rich_by_descending_mmr = rich_gender_data.sort_values('mat_mort_ratio', ascending=False)\n",
    "rich_by_descending_mmr.head()"
   ]
  },
  {
   "cell_type": "markdown",
   "metadata": {},
   "source": [
    "As you might have guessed by now, `Series` also have a `sort_values` method.\n",
    "For a Series, you don't have to specify the column to sort from, because you\n",
    "are using the Series values."
   ]
  },
  {
   "cell_type": "code",
   "execution_count": null,
   "metadata": {},
   "outputs": [],
   "source": [
    "rich_mmr = rich_gender_data['mat_mort_ratio']\n",
    "type(rich_mmr)"
   ]
  },
  {
   "cell_type": "code",
   "execution_count": null,
   "metadata": {},
   "outputs": [],
   "source": [
    "rich_mmr.sort_values(ascending=False)"
   ]
  },
  {
   "cell_type": "markdown",
   "metadata": {},
   "source": [
    "## Calculation on data frames"
   ]
  },
  {
   "cell_type": "markdown",
   "metadata": {},
   "source": [
    "We can calculate with Pandas Series, just as we can with arrays.\n",
    "\n",
    "For example, now we know that India has both a high GDP, and a high maternal mortality ratio, we wonder whether this is because India also has a large population, and therefore, relatively little money per person to spend on health care.\n",
    "\n",
    "So, we would like know the GDP per capita.  Luckily the data frame as a column \"population\":"
   ]
  },
  {
   "cell_type": "code",
   "execution_count": null,
   "metadata": {},
   "outputs": [],
   "source": [
    "rich_population = rich_by_descending_mmr[\"population\"]\n",
    "rich_population"
   ]
  },
  {
   "cell_type": "markdown",
   "metadata": {},
   "source": [
    "We can divide the GDP by the population in millions to get US billion dollars per million population.\n",
    "\n",
    "This works exactly as it does for arrays:"
   ]
  },
  {
   "cell_type": "code",
   "execution_count": null,
   "metadata": {},
   "outputs": [],
   "source": [
    "rich_gdp = rich_by_descending_mmr[\"gdp_us_billion\"]\n",
    "rich_gdp"
   ]
  },
  {
   "cell_type": "code",
   "execution_count": null,
   "metadata": {},
   "outputs": [],
   "source": [
    "gdp_per_million = rich_gdp / rich_population\n",
    "gdp_per_million"
   ]
  },
  {
   "cell_type": "markdown",
   "metadata": {},
   "source": [
    "Notice that the result is *elementwise* division, that is Python divides\n",
    "each element in `rich_gdp` by the *corresponding* element in\n",
    "`rich_population`."
   ]
  },
  {
   "cell_type": "markdown",
   "metadata": {},
   "source": [
    "Remember that India is the first country in the `rich_by_descending_mmr`\n",
    "data frame.  It also has by far the lowest GDP per million population of\n",
    "any of this selection of rich countries.   Here's a plot of\n",
    "`gdp_per_million` against the corresponding values in `mat_mort_ratio`:"
   ]
  },
  {
   "cell_type": "code",
   "execution_count": null,
   "metadata": {},
   "outputs": [],
   "source": [
    "plt.scatter(gdp_per_million, rich_by_descending_mmr['mat_mort_ratio'])"
   ]
  },
  {
   "cell_type": "markdown",
   "metadata": {},
   "source": [
    "It does look as if low income per person predisposes to high maternal mortality."
   ]
  }
 ],
 "metadata": {
  "jupyterbook": {
   "show_stderr": true
  },
  "jupytext": {
   "formats": "",
   "split_at_heading": true
  },
  "kernelspec": {
   "display_name": "Python 3",
   "language": "python",
   "name": "python3"
  },
  "language_info": {
   "codemirror_mode": {
    "name": "ipython",
    "version": 3
   },
   "file_extension": ".py",
   "mimetype": "text/x-python",
   "name": "python",
   "nbconvert_exporter": "python",
   "pygments_lexer": "ipython3",
   "version": "3.7.6"
  }
 },
 "nbformat": 4,
 "nbformat_minor": 2
}
