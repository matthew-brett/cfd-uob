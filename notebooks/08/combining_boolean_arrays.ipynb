{
 "cells": [
  {
   "cell_type": "markdown",
   "metadata": {},
   "source": [
    "Sometimes we want to be able to combine several different criteria to select\n",
    "elements from arrays or tables.\n",
    "\n",
    "So far we have used *boolean* Series and arrays to select rows.  This works fine when we have some simple criterion, such as whether the value in the column or array is greater than 10.\n",
    "\n",
    "For example, consider the [students ratings dataset]({{ site.baseurl\n",
    "}}/data/rate_my_professors) dataset. Download the data file via\n",
    "[disciplines_SI.xlsx]({{ site.baseurl }}/data/disciplines_SI.xlsx)."
   ]
  },
  {
   "cell_type": "code",
   "execution_count": 1,
   "metadata": {},
   "outputs": [],
   "source": [
    "import numpy as np\n",
    "import pandas as pd\n",
    "import matplotlib.pyplot as plt\n",
    "%matplotlib inline\n",
    "# Make plots look a little bit more fancy\n",
    "plt.style.use('fivethirtyeight')"
   ]
  },
  {
   "cell_type": "code",
   "execution_count": 2,
   "metadata": {},
   "outputs": [
    {
     "data": {
      "text/html": [
       "<div>\n",
       "<style scoped>\n",
       "    .dataframe tbody tr th:only-of-type {\n",
       "        vertical-align: middle;\n",
       "    }\n",
       "\n",
       "    .dataframe tbody tr th {\n",
       "        vertical-align: top;\n",
       "    }\n",
       "\n",
       "    .dataframe thead th {\n",
       "        text-align: right;\n",
       "    }\n",
       "</style>\n",
       "<table border=\"1\" class=\"dataframe\">\n",
       "  <thead>\n",
       "    <tr style=\"text-align: right;\">\n",
       "      <th></th>\n",
       "      <th>Discipline</th>\n",
       "      <th>Number of Professors</th>\n",
       "      <th>Clarity</th>\n",
       "      <th>Helpfulness</th>\n",
       "      <th>Overall Quality</th>\n",
       "      <th>Easiness</th>\n",
       "    </tr>\n",
       "  </thead>\n",
       "  <tbody>\n",
       "    <tr>\n",
       "      <th>0</th>\n",
       "      <td>English</td>\n",
       "      <td>23343</td>\n",
       "      <td>3.756147</td>\n",
       "      <td>3.821866</td>\n",
       "      <td>3.791364</td>\n",
       "      <td>3.162754</td>\n",
       "    </tr>\n",
       "    <tr>\n",
       "      <th>1</th>\n",
       "      <td>Mathematics</td>\n",
       "      <td>22394</td>\n",
       "      <td>3.487379</td>\n",
       "      <td>3.641526</td>\n",
       "      <td>3.566867</td>\n",
       "      <td>3.063322</td>\n",
       "    </tr>\n",
       "    <tr>\n",
       "      <th>2</th>\n",
       "      <td>Biology</td>\n",
       "      <td>11774</td>\n",
       "      <td>3.608331</td>\n",
       "      <td>3.701530</td>\n",
       "      <td>3.657641</td>\n",
       "      <td>2.710459</td>\n",
       "    </tr>\n",
       "    <tr>\n",
       "      <th>3</th>\n",
       "      <td>Psychology</td>\n",
       "      <td>11179</td>\n",
       "      <td>3.909520</td>\n",
       "      <td>3.887536</td>\n",
       "      <td>3.900949</td>\n",
       "      <td>3.316210</td>\n",
       "    </tr>\n",
       "    <tr>\n",
       "      <th>4</th>\n",
       "      <td>History</td>\n",
       "      <td>11145</td>\n",
       "      <td>3.788818</td>\n",
       "      <td>3.753642</td>\n",
       "      <td>3.773746</td>\n",
       "      <td>3.053803</td>\n",
       "    </tr>\n",
       "  </tbody>\n",
       "</table>\n",
       "</div>"
      ],
      "text/plain": [
       "    Discipline  Number of Professors   Clarity  Helpfulness  Overall Quality  \\\n",
       "0      English                 23343  3.756147     3.821866         3.791364   \n",
       "1  Mathematics                 22394  3.487379     3.641526         3.566867   \n",
       "2      Biology                 11774  3.608331     3.701530         3.657641   \n",
       "3   Psychology                 11179  3.909520     3.887536         3.900949   \n",
       "4      History                 11145  3.788818     3.753642         3.773746   \n",
       "\n",
       "   Easiness  \n",
       "0  3.162754  \n",
       "1  3.063322  \n",
       "2  2.710459  \n",
       "3  3.316210  \n",
       "4  3.053803  "
      ]
     },
     "execution_count": 2,
     "metadata": {},
     "output_type": "execute_result"
    }
   ],
   "source": [
    "# Read the Excel format data file\n",
    "ratings = pd.read_excel('disciplines_SI.xlsx')\n",
    "ratings.head()"
   ]
  },
  {
   "cell_type": "markdown",
   "metadata": {},
   "source": [
    "We can select the rows from this table where the Easiness rating was above the median, using a *boolean series*:"
   ]
  },
  {
   "cell_type": "code",
   "execution_count": 3,
   "metadata": {},
   "outputs": [
    {
     "data": {
      "text/plain": [
       "0    False\n",
       "1    False\n",
       "2    False\n",
       "3     True\n",
       "4    False\n",
       "Name: Easiness, dtype: bool"
      ]
     },
     "execution_count": 3,
     "metadata": {},
     "output_type": "execute_result"
    }
   ],
   "source": [
    "easiness = ratings['Easiness']\n",
    "is_gt_median = easiness > np.median(easiness)\n",
    "is_gt_median.head()"
   ]
  },
  {
   "cell_type": "code",
   "execution_count": 4,
   "metadata": {},
   "outputs": [
    {
     "data": {
      "text/html": [
       "<div>\n",
       "<style scoped>\n",
       "    .dataframe tbody tr th:only-of-type {\n",
       "        vertical-align: middle;\n",
       "    }\n",
       "\n",
       "    .dataframe tbody tr th {\n",
       "        vertical-align: top;\n",
       "    }\n",
       "\n",
       "    .dataframe thead th {\n",
       "        text-align: right;\n",
       "    }\n",
       "</style>\n",
       "<table border=\"1\" class=\"dataframe\">\n",
       "  <thead>\n",
       "    <tr style=\"text-align: right;\">\n",
       "      <th></th>\n",
       "      <th>Discipline</th>\n",
       "      <th>Number of Professors</th>\n",
       "      <th>Clarity</th>\n",
       "      <th>Helpfulness</th>\n",
       "      <th>Overall Quality</th>\n",
       "      <th>Easiness</th>\n",
       "    </tr>\n",
       "  </thead>\n",
       "  <tbody>\n",
       "    <tr>\n",
       "      <th>3</th>\n",
       "      <td>Psychology</td>\n",
       "      <td>11179</td>\n",
       "      <td>3.909520</td>\n",
       "      <td>3.887536</td>\n",
       "      <td>3.900949</td>\n",
       "      <td>3.316210</td>\n",
       "    </tr>\n",
       "    <tr>\n",
       "      <th>6</th>\n",
       "      <td>Communications</td>\n",
       "      <td>6940</td>\n",
       "      <td>3.867349</td>\n",
       "      <td>3.878602</td>\n",
       "      <td>3.875019</td>\n",
       "      <td>3.379829</td>\n",
       "    </tr>\n",
       "    <tr>\n",
       "      <th>11</th>\n",
       "      <td>Sociology</td>\n",
       "      <td>4839</td>\n",
       "      <td>3.740980</td>\n",
       "      <td>3.748169</td>\n",
       "      <td>3.746962</td>\n",
       "      <td>3.395819</td>\n",
       "    </tr>\n",
       "    <tr>\n",
       "      <th>14</th>\n",
       "      <td>Languages</td>\n",
       "      <td>3867</td>\n",
       "      <td>3.772780</td>\n",
       "      <td>3.917949</td>\n",
       "      <td>3.846951</td>\n",
       "      <td>3.277406</td>\n",
       "    </tr>\n",
       "    <tr>\n",
       "      <th>17</th>\n",
       "      <td>Anthropology</td>\n",
       "      <td>2598</td>\n",
       "      <td>3.693222</td>\n",
       "      <td>3.704761</td>\n",
       "      <td>3.701674</td>\n",
       "      <td>3.248045</td>\n",
       "    </tr>\n",
       "  </tbody>\n",
       "</table>\n",
       "</div>"
      ],
      "text/plain": [
       "        Discipline  Number of Professors   Clarity  Helpfulness  \\\n",
       "3       Psychology                 11179  3.909520     3.887536   \n",
       "6   Communications                  6940  3.867349     3.878602   \n",
       "11       Sociology                  4839  3.740980     3.748169   \n",
       "14       Languages                  3867  3.772780     3.917949   \n",
       "17    Anthropology                  2598  3.693222     3.704761   \n",
       "\n",
       "    Overall Quality  Easiness  \n",
       "3          3.900949  3.316210  \n",
       "6          3.875019  3.379829  \n",
       "11         3.746962  3.395819  \n",
       "14         3.846951  3.277406  \n",
       "17         3.701674  3.248045  "
      ]
     },
     "execution_count": 4,
     "metadata": {},
     "output_type": "execute_result"
    }
   ],
   "source": [
    "above_median = ratings[is_gt_median]\n",
    "above_median.head()"
   ]
  },
  {
   "cell_type": "markdown",
   "metadata": {},
   "source": [
    "What if we wanted to select the rows that were between the 25th and 75th\n",
    "percentile?  Here's how to get the percentile values."
   ]
  },
  {
   "cell_type": "code",
   "execution_count": 5,
   "metadata": {},
   "outputs": [
    {
     "name": "stdout",
     "output_type": "stream",
     "text": [
      "3.0283298724604153 3.34694063174731\n"
     ]
    }
   ],
   "source": [
    "q25 = np.quantile(easiness, 0.25)\n",
    "q75 = np.quantile(easiness, 0.75)\n",
    "print(q25, q75)"
   ]
  },
  {
   "cell_type": "markdown",
   "metadata": {},
   "source": [
    "We can do this more neatly with [unpacking](using_minimize):"
   ]
  },
  {
   "cell_type": "code",
   "execution_count": 6,
   "metadata": {},
   "outputs": [
    {
     "name": "stdout",
     "output_type": "stream",
     "text": [
      "3.0283298724604153 3.34694063174731\n"
     ]
    }
   ],
   "source": [
    "q25, q75 = np.quantile(easiness, [0.25, 0.75])\n",
    "print(q25, q75)"
   ]
  },
  {
   "cell_type": "markdown",
   "metadata": {},
   "source": [
    "Now we want to select the rows where the Easiness score is between these\n",
    "values.   We can do this the long way round, by selecting twice:"
   ]
  },
  {
   "cell_type": "code",
   "execution_count": 7,
   "metadata": {},
   "outputs": [
    {
     "data": {
      "text/html": [
       "<div>\n",
       "<style scoped>\n",
       "    .dataframe tbody tr th:only-of-type {\n",
       "        vertical-align: middle;\n",
       "    }\n",
       "\n",
       "    .dataframe tbody tr th {\n",
       "        vertical-align: top;\n",
       "    }\n",
       "\n",
       "    .dataframe thead th {\n",
       "        text-align: right;\n",
       "    }\n",
       "</style>\n",
       "<table border=\"1\" class=\"dataframe\">\n",
       "  <thead>\n",
       "    <tr style=\"text-align: right;\">\n",
       "      <th></th>\n",
       "      <th>Discipline</th>\n",
       "      <th>Number of Professors</th>\n",
       "      <th>Clarity</th>\n",
       "      <th>Helpfulness</th>\n",
       "      <th>Overall Quality</th>\n",
       "      <th>Easiness</th>\n",
       "    </tr>\n",
       "  </thead>\n",
       "  <tbody>\n",
       "    <tr>\n",
       "      <th>0</th>\n",
       "      <td>English</td>\n",
       "      <td>23343</td>\n",
       "      <td>3.756147</td>\n",
       "      <td>3.821866</td>\n",
       "      <td>3.791364</td>\n",
       "      <td>3.162754</td>\n",
       "    </tr>\n",
       "    <tr>\n",
       "      <th>1</th>\n",
       "      <td>Mathematics</td>\n",
       "      <td>22394</td>\n",
       "      <td>3.487379</td>\n",
       "      <td>3.641526</td>\n",
       "      <td>3.566867</td>\n",
       "      <td>3.063322</td>\n",
       "    </tr>\n",
       "    <tr>\n",
       "      <th>3</th>\n",
       "      <td>Psychology</td>\n",
       "      <td>11179</td>\n",
       "      <td>3.909520</td>\n",
       "      <td>3.887536</td>\n",
       "      <td>3.900949</td>\n",
       "      <td>3.316210</td>\n",
       "    </tr>\n",
       "    <tr>\n",
       "      <th>4</th>\n",
       "      <td>History</td>\n",
       "      <td>11145</td>\n",
       "      <td>3.788818</td>\n",
       "      <td>3.753642</td>\n",
       "      <td>3.773746</td>\n",
       "      <td>3.053803</td>\n",
       "    </tr>\n",
       "    <tr>\n",
       "      <th>7</th>\n",
       "      <td>Business</td>\n",
       "      <td>6120</td>\n",
       "      <td>3.640327</td>\n",
       "      <td>3.680503</td>\n",
       "      <td>3.663332</td>\n",
       "      <td>3.172033</td>\n",
       "    </tr>\n",
       "  </tbody>\n",
       "</table>\n",
       "</div>"
      ],
      "text/plain": [
       "    Discipline  Number of Professors   Clarity  Helpfulness  Overall Quality  \\\n",
       "0      English                 23343  3.756147     3.821866         3.791364   \n",
       "1  Mathematics                 22394  3.487379     3.641526         3.566867   \n",
       "3   Psychology                 11179  3.909520     3.887536         3.900949   \n",
       "4      History                 11145  3.788818     3.753642         3.773746   \n",
       "7     Business                  6120  3.640327     3.680503         3.663332   \n",
       "\n",
       "   Easiness  \n",
       "0  3.162754  \n",
       "1  3.063322  \n",
       "3  3.316210  \n",
       "4  3.053803  \n",
       "7  3.172033  "
      ]
     },
     "execution_count": 7,
     "metadata": {},
     "output_type": "execute_result"
    }
   ],
   "source": [
    "# Select values above the 25th percentile.\n",
    "above_q25 = ratings[easiness > q25]\n",
    "# There are now fewer Easiness values, so we have to get the values remaining.\n",
    "q25_easiness = above_q25['Easiness']\n",
    "# Select values below the 75th percentile.\n",
    "between_25_75 = above_q25[q25_easiness < q75]\n",
    "between_25_75.head()"
   ]
  },
  {
   "cell_type": "markdown",
   "metadata": {},
   "source": [
    "Another, neater way of doing this is to make a single Boolean Series that has\n",
    "True only if the Easiness value is *both* above the 25th percentile *and*\n",
    "below the 75th percentile.\n",
    "\n",
    "This is called a *logical and*.\n",
    "\n",
    "To do this we can make a Boolean Series for each of these two criteria:"
   ]
  },
  {
   "cell_type": "code",
   "execution_count": 8,
   "metadata": {},
   "outputs": [
    {
     "data": {
      "text/plain": [
       "0     True\n",
       "1     True\n",
       "2    False\n",
       "3     True\n",
       "4     True\n",
       "5    False\n",
       "6     True\n",
       "7     True\n",
       "8     True\n",
       "9    False\n",
       "Name: Easiness, dtype: bool"
      ]
     },
     "execution_count": 8,
     "metadata": {},
     "output_type": "execute_result"
    }
   ],
   "source": [
    "# True if Easiness is above 25th percentile.\n",
    "is_gt_q25 = easiness > q25\n",
    "# Show the first 10 values\n",
    "is_gt_q25.head(10)"
   ]
  },
  {
   "cell_type": "code",
   "execution_count": 9,
   "metadata": {},
   "outputs": [
    {
     "data": {
      "text/plain": [
       "0     True\n",
       "1     True\n",
       "2     True\n",
       "3     True\n",
       "4     True\n",
       "5     True\n",
       "6    False\n",
       "7     True\n",
       "8     True\n",
       "9     True\n",
       "Name: Easiness, dtype: bool"
      ]
     },
     "execution_count": 9,
     "metadata": {},
     "output_type": "execute_result"
    }
   ],
   "source": [
    "# True if Easiness is below 75th percentile.\n",
    "is_lt_q75 = easiness < q75\n",
    "# Show the first 10 values\n",
    "is_lt_q75.head(10)"
   ]
  },
  {
   "cell_type": "markdown",
   "metadata": {},
   "source": [
    "We can combine these two with Numpy functions.  The function we need in this\n",
    "case is `np.logical_and`.\n",
    "\n",
    "`np.logical_and` can work on Pandas Series, or on Numpy arrays.   We will use\n",
    "the term *sequence* for something that can be a Pandas Series or a Numpy\n",
    "array.\n",
    "\n",
    "`np.logical_and` combines the two input sequences into a new sequence that\n",
    "only has True in positions where *both* of the input sequences have a True in\n",
    "the corresponding position:"
   ]
  },
  {
   "cell_type": "code",
   "execution_count": 10,
   "metadata": {},
   "outputs": [
    {
     "data": {
      "text/plain": [
       "0     True\n",
       "1     True\n",
       "2    False\n",
       "3     True\n",
       "4     True\n",
       "5    False\n",
       "6    False\n",
       "7     True\n",
       "8     True\n",
       "9    False\n",
       "Name: Easiness, dtype: bool"
      ]
     },
     "execution_count": 10,
     "metadata": {},
     "output_type": "execute_result"
    }
   ],
   "source": [
    "is_between_25_75 = np.logical_and(is_gt_q25, is_lt_q75)\n",
    "is_between_25_75.head(10)"
   ]
  },
  {
   "cell_type": "markdown",
   "metadata": {},
   "source": [
    "It might be easier to see what is going on if we make some small test arrays:"
   ]
  },
  {
   "cell_type": "code",
   "execution_count": 11,
   "metadata": {},
   "outputs": [],
   "source": [
    "a = np.array([True, True, False, False])\n",
    "b = np.array([True, False, True, False])"
   ]
  },
  {
   "cell_type": "markdown",
   "metadata": {},
   "source": [
    "We can show these conveniently as a DataFrame:"
   ]
  },
  {
   "cell_type": "code",
   "execution_count": 12,
   "metadata": {},
   "outputs": [
    {
     "data": {
      "text/html": [
       "<div>\n",
       "<style scoped>\n",
       "    .dataframe tbody tr th:only-of-type {\n",
       "        vertical-align: middle;\n",
       "    }\n",
       "\n",
       "    .dataframe tbody tr th {\n",
       "        vertical-align: top;\n",
       "    }\n",
       "\n",
       "    .dataframe thead th {\n",
       "        text-align: right;\n",
       "    }\n",
       "</style>\n",
       "<table border=\"1\" class=\"dataframe\">\n",
       "  <thead>\n",
       "    <tr style=\"text-align: right;\">\n",
       "      <th></th>\n",
       "      <th>first input</th>\n",
       "      <th>second input</th>\n",
       "    </tr>\n",
       "  </thead>\n",
       "  <tbody>\n",
       "    <tr>\n",
       "      <th>0</th>\n",
       "      <td>True</td>\n",
       "      <td>True</td>\n",
       "    </tr>\n",
       "    <tr>\n",
       "      <th>1</th>\n",
       "      <td>True</td>\n",
       "      <td>False</td>\n",
       "    </tr>\n",
       "    <tr>\n",
       "      <th>2</th>\n",
       "      <td>False</td>\n",
       "      <td>True</td>\n",
       "    </tr>\n",
       "    <tr>\n",
       "      <th>3</th>\n",
       "      <td>False</td>\n",
       "      <td>False</td>\n",
       "    </tr>\n",
       "  </tbody>\n",
       "</table>\n",
       "</div>"
      ],
      "text/plain": [
       "   first input  second input\n",
       "0         True          True\n",
       "1         True         False\n",
       "2        False          True\n",
       "3        False         False"
      ]
     },
     "execution_count": 12,
     "metadata": {},
     "output_type": "execute_result"
    }
   ],
   "source": [
    "ab = pd.DataFrame()\n",
    "ab['first input'] = a\n",
    "ab['second input'] = b\n",
    "ab"
   ]
  },
  {
   "cell_type": "markdown",
   "metadata": {},
   "source": [
    "Before you look, try to work out what you would get from `np.logical_and(a,\n",
    "b)`.\n",
    "\n",
    "Remember, the rule is, the result will have True where the corresponding\n",
    "element from *both* `a` and `b` are True, and False otherwise."
   ]
  },
  {
   "cell_type": "markdown",
   "metadata": {},
   "source": [
    "Here's something to keep you entertained while you are thinking:"
   ]
  },
  {
   "cell_type": "code",
   "execution_count": 13,
   "metadata": {},
   "outputs": [
    {
     "data": {
      "image/jpeg": "[encoded data removed]",
      "text/html": [
       "\n",
       "        <iframe\n",
       "            width=\"400\"\n",
       "            height=\"300\"\n",
       "            src=\"https://www.youtube.com/embed/gdJWZxPW45c\"\n",
       "            frameborder=\"0\"\n",
       "            allowfullscreen\n",
       "        ></iframe>\n",
       "        "
      ],
      "text/plain": [
       "<IPython.lib.display.YouTubeVideo at 0x1091d5f50>"
      ]
     },
     "execution_count": 13,
     "metadata": {},
     "output_type": "execute_result"
    }
   ],
   "source": [
    "from IPython.display import YouTubeVideo\n",
    "YouTubeVideo(\"gdJWZxPW45c\")"
   ]
  },
  {
   "cell_type": "markdown",
   "metadata": {},
   "source": [
    "The result:"
   ]
  },
  {
   "cell_type": "code",
   "execution_count": 14,
   "metadata": {},
   "outputs": [
    {
     "data": {
      "text/plain": [
       "array([ True, False, False, False])"
      ]
     },
     "execution_count": 14,
     "metadata": {},
     "output_type": "execute_result"
    }
   ],
   "source": [
    "np.logical_and(a, b)"
   ]
  },
  {
   "cell_type": "markdown",
   "metadata": {},
   "source": [
    "Here are the two input columns and the result, displayed as a data frame, to\n",
    "show them nicely:"
   ]
  },
  {
   "cell_type": "code",
   "execution_count": 15,
   "metadata": {},
   "outputs": [
    {
     "data": {
      "text/html": [
       "<div>\n",
       "<style scoped>\n",
       "    .dataframe tbody tr th:only-of-type {\n",
       "        vertical-align: middle;\n",
       "    }\n",
       "\n",
       "    .dataframe tbody tr th {\n",
       "        vertical-align: top;\n",
       "    }\n",
       "\n",
       "    .dataframe thead th {\n",
       "        text-align: right;\n",
       "    }\n",
       "</style>\n",
       "<table border=\"1\" class=\"dataframe\">\n",
       "  <thead>\n",
       "    <tr style=\"text-align: right;\">\n",
       "      <th></th>\n",
       "      <th>first input</th>\n",
       "      <th>second input</th>\n",
       "      <th>and result</th>\n",
       "    </tr>\n",
       "  </thead>\n",
       "  <tbody>\n",
       "    <tr>\n",
       "      <th>0</th>\n",
       "      <td>True</td>\n",
       "      <td>True</td>\n",
       "      <td>True</td>\n",
       "    </tr>\n",
       "    <tr>\n",
       "      <th>1</th>\n",
       "      <td>True</td>\n",
       "      <td>False</td>\n",
       "      <td>False</td>\n",
       "    </tr>\n",
       "    <tr>\n",
       "      <th>2</th>\n",
       "      <td>False</td>\n",
       "      <td>True</td>\n",
       "      <td>False</td>\n",
       "    </tr>\n",
       "    <tr>\n",
       "      <th>3</th>\n",
       "      <td>False</td>\n",
       "      <td>False</td>\n",
       "      <td>False</td>\n",
       "    </tr>\n",
       "  </tbody>\n",
       "</table>\n",
       "</div>"
      ],
      "text/plain": [
       "   first input  second input  and result\n",
       "0         True          True        True\n",
       "1         True         False       False\n",
       "2        False          True       False\n",
       "3        False         False       False"
      ]
     },
     "execution_count": 15,
     "metadata": {},
     "output_type": "execute_result"
    }
   ],
   "source": [
    "ab['and result'] = np.logical_and(a, b)\n",
    "ab"
   ]
  },
  {
   "cell_type": "markdown",
   "metadata": {},
   "source": [
    "Check that you agree with Python's results for combining `is_gt_q25` and\n",
    "`is_lt_q75` in the same way.  Here's a display showing `is_gt_q25`,\n",
    "`is_lt_q75` and the result of `logical_and`:"
   ]
  },
  {
   "cell_type": "code",
   "execution_count": 16,
   "metadata": {},
   "outputs": [
    {
     "data": {
      "text/html": [
       "<div>\n",
       "<style scoped>\n",
       "    .dataframe tbody tr th:only-of-type {\n",
       "        vertical-align: middle;\n",
       "    }\n",
       "\n",
       "    .dataframe tbody tr th {\n",
       "        vertical-align: top;\n",
       "    }\n",
       "\n",
       "    .dataframe thead th {\n",
       "        text-align: right;\n",
       "    }\n",
       "</style>\n",
       "<table border=\"1\" class=\"dataframe\">\n",
       "  <thead>\n",
       "    <tr style=\"text-align: right;\">\n",
       "      <th></th>\n",
       "      <th>is_gt_q25</th>\n",
       "      <th>is_lt_q75</th>\n",
       "      <th>and_result</th>\n",
       "    </tr>\n",
       "  </thead>\n",
       "  <tbody>\n",
       "    <tr>\n",
       "      <th>0</th>\n",
       "      <td>True</td>\n",
       "      <td>True</td>\n",
       "      <td>True</td>\n",
       "    </tr>\n",
       "    <tr>\n",
       "      <th>1</th>\n",
       "      <td>True</td>\n",
       "      <td>True</td>\n",
       "      <td>True</td>\n",
       "    </tr>\n",
       "    <tr>\n",
       "      <th>2</th>\n",
       "      <td>False</td>\n",
       "      <td>True</td>\n",
       "      <td>False</td>\n",
       "    </tr>\n",
       "    <tr>\n",
       "      <th>3</th>\n",
       "      <td>True</td>\n",
       "      <td>True</td>\n",
       "      <td>True</td>\n",
       "    </tr>\n",
       "    <tr>\n",
       "      <th>4</th>\n",
       "      <td>True</td>\n",
       "      <td>True</td>\n",
       "      <td>True</td>\n",
       "    </tr>\n",
       "    <tr>\n",
       "      <th>5</th>\n",
       "      <td>False</td>\n",
       "      <td>True</td>\n",
       "      <td>False</td>\n",
       "    </tr>\n",
       "    <tr>\n",
       "      <th>6</th>\n",
       "      <td>True</td>\n",
       "      <td>False</td>\n",
       "      <td>False</td>\n",
       "    </tr>\n",
       "    <tr>\n",
       "      <th>7</th>\n",
       "      <td>True</td>\n",
       "      <td>True</td>\n",
       "      <td>True</td>\n",
       "    </tr>\n",
       "    <tr>\n",
       "      <th>8</th>\n",
       "      <td>True</td>\n",
       "      <td>True</td>\n",
       "      <td>True</td>\n",
       "    </tr>\n",
       "    <tr>\n",
       "      <th>9</th>\n",
       "      <td>False</td>\n",
       "      <td>True</td>\n",
       "      <td>False</td>\n",
       "    </tr>\n",
       "  </tbody>\n",
       "</table>\n",
       "</div>"
      ],
      "text/plain": [
       "   is_gt_q25  is_lt_q75  and_result\n",
       "0       True       True        True\n",
       "1       True       True        True\n",
       "2      False       True       False\n",
       "3       True       True        True\n",
       "4       True       True        True\n",
       "5      False       True       False\n",
       "6       True      False       False\n",
       "7       True       True        True\n",
       "8       True       True        True\n",
       "9      False       True       False"
      ]
     },
     "execution_count": 16,
     "metadata": {},
     "output_type": "execute_result"
    }
   ],
   "source": [
    "qbools = pd.DataFrame()\n",
    "qbools['is_gt_q25'] = is_gt_q25\n",
    "qbools['is_lt_q75'] = is_lt_q75\n",
    "qbools['and_result'] = np.logical_and(is_gt_q25, is_lt_q75)\n",
    "qbools.head(10)"
   ]
  },
  {
   "cell_type": "markdown",
   "metadata": {},
   "source": [
    "We can use the combined Boolean series from `logical_and` to select the rows\n",
    "that we want:"
   ]
  },
  {
   "cell_type": "code",
   "execution_count": 17,
   "metadata": {},
   "outputs": [
    {
     "data": {
      "text/html": [
       "<div>\n",
       "<style scoped>\n",
       "    .dataframe tbody tr th:only-of-type {\n",
       "        vertical-align: middle;\n",
       "    }\n",
       "\n",
       "    .dataframe tbody tr th {\n",
       "        vertical-align: top;\n",
       "    }\n",
       "\n",
       "    .dataframe thead th {\n",
       "        text-align: right;\n",
       "    }\n",
       "</style>\n",
       "<table border=\"1\" class=\"dataframe\">\n",
       "  <thead>\n",
       "    <tr style=\"text-align: right;\">\n",
       "      <th></th>\n",
       "      <th>Discipline</th>\n",
       "      <th>Number of Professors</th>\n",
       "      <th>Clarity</th>\n",
       "      <th>Helpfulness</th>\n",
       "      <th>Overall Quality</th>\n",
       "      <th>Easiness</th>\n",
       "    </tr>\n",
       "  </thead>\n",
       "  <tbody>\n",
       "    <tr>\n",
       "      <th>0</th>\n",
       "      <td>English</td>\n",
       "      <td>23343</td>\n",
       "      <td>3.756147</td>\n",
       "      <td>3.821866</td>\n",
       "      <td>3.791364</td>\n",
       "      <td>3.162754</td>\n",
       "    </tr>\n",
       "    <tr>\n",
       "      <th>1</th>\n",
       "      <td>Mathematics</td>\n",
       "      <td>22394</td>\n",
       "      <td>3.487379</td>\n",
       "      <td>3.641526</td>\n",
       "      <td>3.566867</td>\n",
       "      <td>3.063322</td>\n",
       "    </tr>\n",
       "    <tr>\n",
       "      <th>3</th>\n",
       "      <td>Psychology</td>\n",
       "      <td>11179</td>\n",
       "      <td>3.909520</td>\n",
       "      <td>3.887536</td>\n",
       "      <td>3.900949</td>\n",
       "      <td>3.316210</td>\n",
       "    </tr>\n",
       "    <tr>\n",
       "      <th>4</th>\n",
       "      <td>History</td>\n",
       "      <td>11145</td>\n",
       "      <td>3.788818</td>\n",
       "      <td>3.753642</td>\n",
       "      <td>3.773746</td>\n",
       "      <td>3.053803</td>\n",
       "    </tr>\n",
       "    <tr>\n",
       "      <th>7</th>\n",
       "      <td>Business</td>\n",
       "      <td>6120</td>\n",
       "      <td>3.640327</td>\n",
       "      <td>3.680503</td>\n",
       "      <td>3.663332</td>\n",
       "      <td>3.172033</td>\n",
       "    </tr>\n",
       "  </tbody>\n",
       "</table>\n",
       "</div>"
      ],
      "text/plain": [
       "    Discipline  Number of Professors   Clarity  Helpfulness  Overall Quality  \\\n",
       "0      English                 23343  3.756147     3.821866         3.791364   \n",
       "1  Mathematics                 22394  3.487379     3.641526         3.566867   \n",
       "3   Psychology                 11179  3.909520     3.887536         3.900949   \n",
       "4      History                 11145  3.788818     3.753642         3.773746   \n",
       "7     Business                  6120  3.640327     3.680503         3.663332   \n",
       "\n",
       "   Easiness  \n",
       "0  3.162754  \n",
       "1  3.063322  \n",
       "3  3.316210  \n",
       "4  3.053803  \n",
       "7  3.172033  "
      ]
     },
     "execution_count": 17,
     "metadata": {},
     "output_type": "execute_result"
    }
   ],
   "source": [
    "betweeners = ratings[np.logical_and(is_gt_q25, is_lt_q75)]\n",
    "betweeners.head()"
   ]
  },
  {
   "cell_type": "markdown",
   "metadata": {},
   "source": [
    "Notice that we only have rows where there is a corresponding True value in the\n",
    "result of the `logical_and`, and therefore, that we only have rows that are\n",
    "above the 25th percentile, and below the 75th percentile."
   ]
  },
  {
   "cell_type": "markdown",
   "metadata": {},
   "source": [
    "You may not be surprised to know there is an equivalent function to\n",
    "`logical_and` called `logical_or`.  Like `logical_and` this returns a Boolean\n",
    "sequence of the same length as the input sequences.  There is a True in the\n",
    "output sequence where *one or both* of the input sequences have True in the\n",
    "corresponding positions."
   ]
  },
  {
   "cell_type": "code",
   "execution_count": 18,
   "metadata": {},
   "outputs": [
    {
     "data": {
      "text/plain": [
       "array([ True,  True, False, False])"
      ]
     },
     "execution_count": 18,
     "metadata": {},
     "output_type": "execute_result"
    }
   ],
   "source": [
    "a"
   ]
  },
  {
   "cell_type": "code",
   "execution_count": 19,
   "metadata": {},
   "outputs": [
    {
     "data": {
      "text/plain": [
       "array([ True, False,  True, False])"
      ]
     },
     "execution_count": 19,
     "metadata": {},
     "output_type": "execute_result"
    }
   ],
   "source": [
    "b"
   ]
  },
  {
   "cell_type": "code",
   "execution_count": 20,
   "metadata": {},
   "outputs": [
    {
     "data": {
      "text/plain": [
       "array([ True,  True,  True, False])"
      ]
     },
     "execution_count": 20,
     "metadata": {},
     "output_type": "execute_result"
    }
   ],
   "source": [
    "np.logical_or(a, b)"
   ]
  },
  {
   "cell_type": "code",
   "execution_count": 21,
   "metadata": {},
   "outputs": [
    {
     "data": {
      "text/html": [
       "<div>\n",
       "<style scoped>\n",
       "    .dataframe tbody tr th:only-of-type {\n",
       "        vertical-align: middle;\n",
       "    }\n",
       "\n",
       "    .dataframe tbody tr th {\n",
       "        vertical-align: top;\n",
       "    }\n",
       "\n",
       "    .dataframe thead th {\n",
       "        text-align: right;\n",
       "    }\n",
       "</style>\n",
       "<table border=\"1\" class=\"dataframe\">\n",
       "  <thead>\n",
       "    <tr style=\"text-align: right;\">\n",
       "      <th></th>\n",
       "      <th>first input</th>\n",
       "      <th>second input</th>\n",
       "      <th>and result</th>\n",
       "      <th>or result</th>\n",
       "    </tr>\n",
       "  </thead>\n",
       "  <tbody>\n",
       "    <tr>\n",
       "      <th>0</th>\n",
       "      <td>True</td>\n",
       "      <td>True</td>\n",
       "      <td>True</td>\n",
       "      <td>True</td>\n",
       "    </tr>\n",
       "    <tr>\n",
       "      <th>1</th>\n",
       "      <td>True</td>\n",
       "      <td>False</td>\n",
       "      <td>False</td>\n",
       "      <td>True</td>\n",
       "    </tr>\n",
       "    <tr>\n",
       "      <th>2</th>\n",
       "      <td>False</td>\n",
       "      <td>True</td>\n",
       "      <td>False</td>\n",
       "      <td>True</td>\n",
       "    </tr>\n",
       "    <tr>\n",
       "      <th>3</th>\n",
       "      <td>False</td>\n",
       "      <td>False</td>\n",
       "      <td>False</td>\n",
       "      <td>False</td>\n",
       "    </tr>\n",
       "  </tbody>\n",
       "</table>\n",
       "</div>"
      ],
      "text/plain": [
       "   first input  second input  and result  or result\n",
       "0         True          True        True       True\n",
       "1         True         False       False       True\n",
       "2        False          True       False       True\n",
       "3        False         False       False      False"
      ]
     },
     "execution_count": 21,
     "metadata": {},
     "output_type": "execute_result"
    }
   ],
   "source": [
    "ab['or result'] = np.logical_or(a, b)\n",
    "ab"
   ]
  },
  {
   "cell_type": "markdown",
   "metadata": {},
   "source": [
    "We can use this function to find all the rows that have Easiness ratings above\n",
    "the 75th percentile or below the 25th percentile:"
   ]
  },
  {
   "cell_type": "code",
   "execution_count": 22,
   "metadata": {},
   "outputs": [
    {
     "data": {
      "text/html": [
       "<div>\n",
       "<style scoped>\n",
       "    .dataframe tbody tr th:only-of-type {\n",
       "        vertical-align: middle;\n",
       "    }\n",
       "\n",
       "    .dataframe tbody tr th {\n",
       "        vertical-align: top;\n",
       "    }\n",
       "\n",
       "    .dataframe thead th {\n",
       "        text-align: right;\n",
       "    }\n",
       "</style>\n",
       "<table border=\"1\" class=\"dataframe\">\n",
       "  <thead>\n",
       "    <tr style=\"text-align: right;\">\n",
       "      <th></th>\n",
       "      <th>Discipline</th>\n",
       "      <th>Number of Professors</th>\n",
       "      <th>Clarity</th>\n",
       "      <th>Helpfulness</th>\n",
       "      <th>Overall Quality</th>\n",
       "      <th>Easiness</th>\n",
       "    </tr>\n",
       "  </thead>\n",
       "  <tbody>\n",
       "    <tr>\n",
       "      <th>2</th>\n",
       "      <td>Biology</td>\n",
       "      <td>11774</td>\n",
       "      <td>3.608331</td>\n",
       "      <td>3.701530</td>\n",
       "      <td>3.657641</td>\n",
       "      <td>2.710459</td>\n",
       "    </tr>\n",
       "    <tr>\n",
       "      <th>5</th>\n",
       "      <td>Chemistry</td>\n",
       "      <td>7346</td>\n",
       "      <td>3.387174</td>\n",
       "      <td>3.538980</td>\n",
       "      <td>3.465485</td>\n",
       "      <td>2.652054</td>\n",
       "    </tr>\n",
       "    <tr>\n",
       "      <th>6</th>\n",
       "      <td>Communications</td>\n",
       "      <td>6940</td>\n",
       "      <td>3.867349</td>\n",
       "      <td>3.878602</td>\n",
       "      <td>3.875019</td>\n",
       "      <td>3.379829</td>\n",
       "    </tr>\n",
       "    <tr>\n",
       "      <th>9</th>\n",
       "      <td>Economics</td>\n",
       "      <td>5540</td>\n",
       "      <td>3.382735</td>\n",
       "      <td>3.483617</td>\n",
       "      <td>3.435038</td>\n",
       "      <td>2.910078</td>\n",
       "    </tr>\n",
       "    <tr>\n",
       "      <th>11</th>\n",
       "      <td>Sociology</td>\n",
       "      <td>4839</td>\n",
       "      <td>3.740980</td>\n",
       "      <td>3.748169</td>\n",
       "      <td>3.746962</td>\n",
       "      <td>3.395819</td>\n",
       "    </tr>\n",
       "  </tbody>\n",
       "</table>\n",
       "</div>"
      ],
      "text/plain": [
       "        Discipline  Number of Professors   Clarity  Helpfulness  \\\n",
       "2          Biology                 11774  3.608331     3.701530   \n",
       "5        Chemistry                  7346  3.387174     3.538980   \n",
       "6   Communications                  6940  3.867349     3.878602   \n",
       "9        Economics                  5540  3.382735     3.483617   \n",
       "11       Sociology                  4839  3.740980     3.748169   \n",
       "\n",
       "    Overall Quality  Easiness  \n",
       "2          3.657641  2.710459  \n",
       "5          3.465485  2.652054  \n",
       "6          3.875019  3.379829  \n",
       "9          3.435038  2.910078  \n",
       "11         3.746962  3.395819  "
      ]
     },
     "execution_count": 22,
     "metadata": {},
     "output_type": "execute_result"
    }
   ],
   "source": [
    "easy_or_hard = ratings[np.logical_or(easiness < q25, easiness > q75)]\n",
    "easy_or_hard.head()"
   ]
  }
 ],
 "metadata": {
  "kernelspec": {
   "display_name": "Python 3",
   "language": "python",
   "name": "python3"
  },
  "language_info": {
   "codemirror_mode": {
    "name": "ipython",
    "version": 3
   },
   "file_extension": ".py",
   "mimetype": "text/x-python",
   "name": "python",
   "nbconvert_exporter": "python",
   "pygments_lexer": "ipython3",
   "version": "3.7.5"
  }
 },
 "nbformat": 4,
 "nbformat_minor": 2
}
