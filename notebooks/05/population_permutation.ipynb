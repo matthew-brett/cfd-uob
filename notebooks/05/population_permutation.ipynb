{
 "cells": [
  {
   "cell_type": "markdown",
   "metadata": {},
   "source": [
    "## A problem of populations\n",
    "\n",
    "As in the [Brexit analysis\n",
    "exercise]({{ site.baseurl }}/exercises/brexiteering.zip),\n",
    "we analyze the [Brexit survey]({{ site.baseurl }}/data/brexit_survey).\n",
    "\n",
    "As you will see in the link above, the data are from a survey of the UK\n",
    "population.  Each row in the survey corresponds to one person answering.  One\n",
    "of the questions, named `cut15` is how the person voted in the Brexit\n",
    "referendum.  Another, `numage` is the age of the person in years.\n"
   ]
  },
  {
   "cell_type": "code",
   "execution_count": 1,
   "metadata": {},
   "outputs": [],
   "source": [
    "# Array library.\n",
    "import numpy as np\n",
    "\n",
    "# Data frame library.\n",
    "import pandas as pd\n",
    "\n",
    "# Plotting\n",
    "import matplotlib.pyplot as plt\n",
    "%matplotlib inline\n",
    "\n",
    "# Fancy plots\n",
    "plt.style.use('fivethirtyeight')"
   ]
  },
  {
   "cell_type": "markdown",
   "metadata": {},
   "source": [
    "If you are running on your laptop, first [download the data file]({{ site.baseurl }}/data/audit_of_political_engagement_14_2017.tab) to the same directory as this notebook.\n",
    "\n",
    "We load the data:"
   ]
  },
  {
   "cell_type": "code",
   "execution_count": 2,
   "metadata": {},
   "outputs": [],
   "source": [
    "# Load the data frame, and put it in the variable \"audit_data\".\n",
    "# The values are separated by tab characters, written as \"\\t\" in Python\n",
    "# strings.\n",
    "audit_data = pd.read_csv('audit_of_political_engagement_14_2017.tab', sep='\\t')"
   ]
  },
  {
   "cell_type": "markdown",
   "metadata": {},
   "source": [
    "Now get the ages for the Leavers and the Remainers.\n",
    "\n",
    "A small number of ages are recorded as 0, meaning we do not have the correct age for that person / row.  First we drop rows with ages recorded as 0, then select the remaining rows corresponding to people who voted to remain (`cut15` value of 1) and leave (`cut15` value of 2):"
   ]
  },
  {
   "cell_type": "code",
   "execution_count": 3,
   "metadata": {},
   "outputs": [],
   "source": [
    "# Drop rows where age is 0\n",
    "good_data = audit_data[audit_data['numage'] != 0]\n",
    "# Get data frames for leavers and remainers\n",
    "remain_ages = good_data[good_data['cut15'] == 1]['numage']\n",
    "leave_ages = good_data[good_data['cut15'] == 2]['numage']"
   ]
  },
  {
   "cell_type": "markdown",
   "metadata": {},
   "source": [
    "Show the age distributions for the two groups:"
   ]
  },
  {
   "cell_type": "code",
   "execution_count": 4,
   "metadata": {},
   "outputs": [
    {
     "data": {
      "text/plain": [
       "774"
      ]
     },
     "execution_count": 4,
     "metadata": {},
     "output_type": "execute_result"
    },
    {
     "data": {
      "image/png": "[encoded data removed]",
      "text/plain": [
       "<Figure size 432x288 with 1 Axes>"
      ]
     },
     "metadata": {
      "needs_background": "light"
     },
     "output_type": "display_data"
    }
   ],
   "source": [
    "remain_ages.hist()\n",
    "len(remain_ages)"
   ]
  },
  {
   "cell_type": "code",
   "execution_count": 5,
   "metadata": {},
   "outputs": [
    {
     "data": {
      "text/plain": [
       "541"
      ]
     },
     "execution_count": 5,
     "metadata": {},
     "output_type": "execute_result"
    },
    {
     "data": {
      "image/png": "[encoded data removed]",
      "text/plain": [
       "<Figure size 432x288 with 1 Axes>"
      ]
     },
     "metadata": {
      "needs_background": "light"
     },
     "output_type": "display_data"
    }
   ],
   "source": [
    "leave_ages.hist()\n",
    "len(leave_ages)"
   ]
  },
  {
   "cell_type": "markdown",
   "metadata": {},
   "source": [
    "These certainly look like different distributions."
   ]
  },
  {
   "cell_type": "markdown",
   "metadata": {},
   "source": [
    "We might summarize the difference, by looking at the difference in means:"
   ]
  },
  {
   "cell_type": "code",
   "execution_count": 6,
   "metadata": {},
   "outputs": [
    {
     "data": {
      "text/plain": [
       "51.715341959334566"
      ]
     },
     "execution_count": 6,
     "metadata": {},
     "output_type": "execute_result"
    }
   ],
   "source": [
    "leave_mean = np.mean(leave_ages)\n",
    "leave_mean"
   ]
  },
  {
   "cell_type": "code",
   "execution_count": 7,
   "metadata": {},
   "outputs": [
    {
     "data": {
      "text/plain": [
       "48.01550387596899"
      ]
     },
     "execution_count": 7,
     "metadata": {},
     "output_type": "execute_result"
    }
   ],
   "source": [
    "remain_mean = np.mean(remain_ages)\n",
    "remain_mean"
   ]
  },
  {
   "cell_type": "code",
   "execution_count": 8,
   "metadata": {},
   "outputs": [
    {
     "data": {
      "text/plain": [
       "3.6998380833655773"
      ]
     },
     "execution_count": 8,
     "metadata": {},
     "output_type": "execute_result"
    }
   ],
   "source": [
    "difference = leave_mean - remain_mean\n",
    "difference"
   ]
  },
  {
   "cell_type": "markdown",
   "metadata": {},
   "source": [
    "The distributions do look different.\n",
    "\n",
    "They have a mean difference of nearly 4 years.\n",
    "\n",
    "Could this be due to sampling error?\n",
    "\n",
    "If we took two random samples of 774 and 541 voters, *from the same\n",
    "population*, we would expect to see some difference, just by chance.\n",
    "\n",
    "*By chance* means, because random samples vary."
   ]
  },
  {
   "cell_type": "markdown",
   "metadata": {},
   "source": [
    "What is the population, in this case?"
   ]
  },
  {
   "cell_type": "markdown",
   "metadata": {},
   "source": [
    "It is not exactly the whole UK population, because the survey only sampled\n",
    "people who were eligible to vote."
   ]
  },
  {
   "cell_type": "markdown",
   "metadata": {},
   "source": [
    "It might not even be the whole UK population, who are eligible to vote.\n",
    "Perhaps the survey company got a not-representative range of ages, for some\n",
    "reason.  We are not interested in that question, only the question of whether\n",
    "the Leave and Remain voters could come from the same population, where the\n",
    "population is, people selected by the survey company."
   ]
  },
  {
   "cell_type": "markdown",
   "metadata": {},
   "source": [
    "How do we find this population, to do our simulation?"
   ]
  },
  {
   "cell_type": "markdown",
   "metadata": {},
   "source": [
    "## Population by permutation\n",
    "\n",
    "Here comes a nice trick.   We can use the data that we already have, to\n",
    "simulate the effect of drawing lots of random samples, from the underlying\n",
    "population."
   ]
  },
  {
   "cell_type": "markdown",
   "metadata": {},
   "source": [
    "Let us assume that the Leave voters and the Remain voters are in fact samples\n",
    "from the same underlying population.\n",
    "\n",
    "If that is the case, we can throw the Leave and Remain voters into one big pool\n",
    "of 774 + 541 == 1315 voters.\n",
    "\n",
    "Then we can take split this new mixed sample into two groups, at\n",
    "random, one with 774 voters, and the other with 541.  The new groups\n",
    "have a random mix of the original Leave and Remain voters.  Then we\n",
    "calculate the difference in means between these two new, fake groups."
   ]
  },
  {
   "cell_type": "code",
   "execution_count": 9,
   "metadata": {},
   "outputs": [
    {
     "data": {
      "text/plain": [
       "array([37, 55, 37, ..., 20, 40, 31])"
      ]
     },
     "execution_count": 9,
     "metadata": {},
     "output_type": "execute_result"
    }
   ],
   "source": [
    "pooled = np.append(remain_ages, leave_ages)\n",
    "pooled"
   ]
  },
  {
   "cell_type": "code",
   "execution_count": 10,
   "metadata": {},
   "outputs": [
    {
     "data": {
      "text/plain": [
       "1315"
      ]
     },
     "execution_count": 10,
     "metadata": {},
     "output_type": "execute_result"
    }
   ],
   "source": [
    "len(pooled)"
   ]
  },
  {
   "cell_type": "markdown",
   "metadata": {},
   "source": [
    "We mix the two samples together, using `np.random.shuffle`.  It works like\n",
    "this:"
   ]
  },
  {
   "cell_type": "code",
   "execution_count": 11,
   "metadata": {},
   "outputs": [
    {
     "data": {
      "text/plain": [
       "array(['cat', 'dog', 'rabbit'], dtype='<U6')"
      ]
     },
     "execution_count": 11,
     "metadata": {},
     "output_type": "execute_result"
    }
   ],
   "source": [
    "pets = np.array(['cat', 'dog', 'rabbit'])\n",
    "pets"
   ]
  },
  {
   "cell_type": "code",
   "execution_count": 12,
   "metadata": {},
   "outputs": [
    {
     "data": {
      "text/plain": [
       "array(['cat', 'rabbit', 'dog'], dtype='<U6')"
      ]
     },
     "execution_count": 12,
     "metadata": {},
     "output_type": "execute_result"
    }
   ],
   "source": [
    "np.random.shuffle(pets)\n",
    "pets"
   ]
  },
  {
   "cell_type": "code",
   "execution_count": 13,
   "metadata": {},
   "outputs": [
    {
     "data": {
      "text/plain": [
       "array(['cat', 'rabbit', 'dog'], dtype='<U6')"
      ]
     },
     "execution_count": 13,
     "metadata": {},
     "output_type": "execute_result"
    }
   ],
   "source": [
    "np.random.shuffle(pets)\n",
    "pets"
   ]
  },
  {
   "cell_type": "markdown",
   "metadata": {},
   "source": [
    "Now to mix up ages of the Leavers and Remainers:"
   ]
  },
  {
   "cell_type": "code",
   "execution_count": 14,
   "metadata": {},
   "outputs": [
    {
     "data": {
      "text/plain": [
       "array([54, 50, 19, ..., 52, 80, 92])"
      ]
     },
     "execution_count": 14,
     "metadata": {},
     "output_type": "execute_result"
    }
   ],
   "source": [
    "np.random.shuffle(pooled)\n",
    "pooled"
   ]
  },
  {
   "cell_type": "markdown",
   "metadata": {},
   "source": [
    "We split the newly mixed group into 774 simulated Remain voters and 541\n",
    "simulated Leave voters, where each group is a random mix of the original Leave\n",
    "and Remain ages."
   ]
  },
  {
   "cell_type": "code",
   "execution_count": 15,
   "metadata": {},
   "outputs": [
    {
     "data": {
      "text/plain": [
       "541"
      ]
     },
     "execution_count": 15,
     "metadata": {},
     "output_type": "execute_result"
    }
   ],
   "source": [
    "# The first 774 values\n",
    "fake_remainers = pooled[:774]\n",
    "# The rest\n",
    "fake_leavers = pooled[774:]\n",
    "len(fake_leavers)"
   ]
  },
  {
   "cell_type": "markdown",
   "metadata": {},
   "source": [
    "Now we can calculate the mean difference.  This is our first simulation:"
   ]
  },
  {
   "cell_type": "code",
   "execution_count": 16,
   "metadata": {},
   "outputs": [
    {
     "data": {
      "text/plain": [
       "0.11033973835417754"
      ]
     },
     "execution_count": 16,
     "metadata": {},
     "output_type": "execute_result"
    }
   ],
   "source": [
    "fake_difference = np.mean(fake_leavers) - np.mean(fake_remainers)\n",
    "fake_difference"
   ]
  },
  {
   "cell_type": "markdown",
   "metadata": {},
   "source": [
    "That looks a lot smaller than the difference we saw.   We want to keep doing\n",
    "this, to collect more simulations.  We need to mix up the ages again, to give\n",
    "us new random samples of fake Remainers and fake Leavers."
   ]
  },
  {
   "cell_type": "code",
   "execution_count": 17,
   "metadata": {},
   "outputs": [
    {
     "data": {
      "text/plain": [
       "-1.5329493186605347"
      ]
     },
     "execution_count": 17,
     "metadata": {},
     "output_type": "execute_result"
    }
   ],
   "source": [
    "np.random.shuffle(pooled)\n",
    "fake_difference_2 = np.mean(pooled[:774]) - np.mean(pooled[774:])\n",
    "fake_difference_2"
   ]
  },
  {
   "cell_type": "markdown",
   "metadata": {},
   "source": [
    "We want to keep doing this - and that calls for a `for` loop."
   ]
  }
 ],
 "metadata": {
  "kernelspec": {
   "display_name": "Python 3",
   "language": "python",
   "name": "python3"
  },
  "language_info": {
   "codemirror_mode": {
    "name": "ipython",
    "version": 3
   },
   "file_extension": ".py",
   "mimetype": "text/x-python",
   "name": "python",
   "nbconvert_exporter": "python",
   "pygments_lexer": "ipython3",
   "version": "3.7.1"
  }
 },
 "nbformat": 4,
 "nbformat_minor": 2
}
