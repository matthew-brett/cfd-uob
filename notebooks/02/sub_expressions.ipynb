{
 "cells": [
  {
   "cell_type": "markdown",
   "metadata": {},
   "source": [
    "The [expressions](Expressions) page introduced the idea of expressions as:\n",
    "\n",
    "> a recipe that returns a value.\n",
    "\n",
    "When Python *evaluates* an expression, it follows the recipe to return the\n",
    "value.\n",
    "\n",
    "In this page we go into a little more detail on expressions, and we consider sub-expressions.\n",
    "\n",
    "We do this to get used to the more general idea in programming, of building\n",
    "complex things from simple building blocks, according to simple rules.\n",
    "\n",
    "A large part of learning how to program is understanding what the computer is doing as a result of the code you type.  You can do this by breaking down code into simpler building blocks, and understanding how the parts are combined.\n",
    "\n",
    "Consider this expression:"
   ]
  },
  {
   "cell_type": "code",
   "execution_count": 1,
   "metadata": {},
   "outputs": [
    {
     "data": {
      "text/plain": [
       "2.9625"
      ]
     },
     "execution_count": 1,
     "metadata": {},
     "output_type": "execute_result"
    }
   ],
   "source": [
    "(10.50 + 9.25) * 0.15"
   ]
  },
  {
   "cell_type": "markdown",
   "metadata": {},
   "source": [
    "Here is the full process that Python goes through, when evaluating `(10.50 + 9.25) * 0.15`. Python will:\n",
    "\n",
    "* evaluate the expression `10.50` to give the computer representation (CR) of 10.50;\n",
    "* evaluate the expression `9.25` to give the CR of 10.50;\n",
    "* evaluate the expression 10.50 `+` 9.25 to give the CR of 19.75;\n",
    "* evaluate the expression 19.75 `*` 0.15 to give the CR of 2.9625.\n",
    "\n",
    "## Sub-expressions\n",
    "\n",
    "A *compound* expression is an expression made up of smaller *sub-expressions*.\n",
    "\n",
    "A *sub-expression* is a smaller part of the compound expression, that Python will evaluate as part of evaluating the compound expression.\n",
    "\n",
    "For example: here is a compound expression, made up of two sub-expressions:"
   ]
  },
  {
   "cell_type": "code",
   "execution_count": 2,
   "metadata": {},
   "outputs": [
    {
     "data": {
      "text/plain": [
       "19.75"
      ]
     },
     "execution_count": 2,
     "metadata": {},
     "output_type": "execute_result"
    }
   ],
   "source": [
    "10.50 + 9.25"
   ]
  },
  {
   "cell_type": "markdown",
   "metadata": {},
   "source": [
    "The two sub-expressions are:\n",
    "\n",
    "* `10.50`: an expression that returns the CR of the number 10.50;\n",
    "* `9.25`: an expression that returns the CR of the number 9.25.\n",
    "\n",
    "When Python evaluates `10.50 + 9.25`, it first evaluates these two sub-expressions, then evaluates the final result by adding the results of these two sub-expressions.\n",
    "\n",
    "Reconsider:"
   ]
  },
  {
   "cell_type": "code",
   "execution_count": 3,
   "metadata": {},
   "outputs": [
    {
     "data": {
      "text/plain": [
       "2.9625"
      ]
     },
     "execution_count": 3,
     "metadata": {},
     "output_type": "execute_result"
    }
   ],
   "source": [
    "(10.50 + 9.25) * 0.15"
   ]
  },
  {
   "cell_type": "markdown",
   "metadata": {},
   "source": [
    "There are four sub-expressions here:\n",
    "\n",
    "* `10.50` as above;\n",
    "* `9.25` as above;\n",
    "* `0.15` returns the CR of the number 0.15;\n",
    "* `(10.50 + 9.25)` is a compound expression that is itself a sub-expression of\n",
    "  the full expression above.  It returns the CR of the\n",
    "  number 19.75.\n",
    "\n",
    "Each of these sub-expressions will be evaluated in the process of evaluating `(10.50 + 9.25) * 0.15`.\n",
    "\n",
    "Now consider:"
   ]
  },
  {
   "cell_type": "code",
   "execution_count": 4,
   "metadata": {},
   "outputs": [
    {
     "data": {
      "text/plain": [
       "11.8875"
      ]
     },
     "execution_count": 4,
     "metadata": {},
     "output_type": "execute_result"
    }
   ],
   "source": [
    "10.50 + 9.25 * 0.15"
   ]
  },
  {
   "cell_type": "markdown",
   "metadata": {},
   "source": [
    "Be careful - remember the rules of [operator precedence](https://en.wikipedia.org/wiki/Order_of_operations).\n",
    "\n",
    "Let's think again what Python will do here.  It will:\n",
    "\n",
    "* evaluate the expression `10.50` to gives the CR of 10.50;\n",
    "* evaluate the expression `9.25` to gives the CR of 10.50;\n",
    "* (because of the precedence rules) evaluate  9.25 `*` 1.15 to give the\n",
    "  CR of 1.3875;\n",
    "* evaluate 10.50 `*` 1.3875 to give the CR of 11.8875.\n",
    "\n",
    "So, these are the sub-expressions:\n",
    "\n",
    "* `10.50`;\n",
    "* `9.25`;\n",
    "* `0.15`;\n",
    "* `9.25 * 0.15`.\n",
    "\n",
    "Note that `10.50 + 9.25` is *not* a sub-expression, because this does not return a value, in the process of evaluating the whole expression.  The value that `9.25` is involved in is 9.25 * 1.3875, where 1.3875 is the value that comes back from `9.25 * 0.15` above.\n",
    "\n",
    "Let's say I have imported my `cos` function (see the [functions](functions) page):"
   ]
  },
  {
   "cell_type": "code",
   "execution_count": 5,
   "metadata": {},
   "outputs": [],
   "source": [
    "# Get the cos function from the numpy library.\n",
    "from numpy import cos"
   ]
  },
  {
   "cell_type": "markdown",
   "metadata": {},
   "source": [
    "Now consider:"
   ]
  },
  {
   "cell_type": "code",
   "execution_count": 6,
   "metadata": {},
   "outputs": [
    {
     "data": {
      "text/plain": [
       "1.0"
      ]
     },
     "execution_count": 6,
     "metadata": {},
     "output_type": "execute_result"
    }
   ],
   "source": [
    "cos(0)"
   ]
  },
  {
   "cell_type": "markdown",
   "metadata": {},
   "source": [
    "`cos(0)` is an expression, because it is a recipe that returns a value.   In fact, it is a [call expression](Calls).\n",
    "\n",
    "There is one sub-expression to this expression, which is:\n",
    "\n",
    "* `0` returns the CR of 0;"
   ]
  },
  {
   "cell_type": "code",
   "execution_count": 7,
   "metadata": {},
   "outputs": [
    {
     "data": {
      "text/plain": [
       "3.0"
      ]
     },
     "execution_count": 7,
     "metadata": {},
     "output_type": "execute_result"
    }
   ],
   "source": [
    "cos(0) + 2"
   ]
  },
  {
   "cell_type": "markdown",
   "metadata": {},
   "source": [
    "has three sub-expressions:\n",
    "\n",
    "* `0` returns the CR of 0;\n",
    "* `cos( )` with argument 0, from above, returns the CR of the number 1;\n",
    "* `2` returns the CR of 2."
   ]
  },
  {
   "cell_type": "markdown",
   "metadata": {},
   "source": [
    "Finally, let's say I have defined this variable:"
   ]
  },
  {
   "cell_type": "code",
   "execution_count": 8,
   "metadata": {},
   "outputs": [],
   "source": [
    "a = 10.50"
   ]
  },
  {
   "cell_type": "markdown",
   "metadata": {},
   "source": [
    "Here is an expression:"
   ]
  },
  {
   "cell_type": "code",
   "execution_count": 9,
   "metadata": {},
   "outputs": [
    {
     "data": {
      "text/plain": [
       "10.5"
      ]
     },
     "execution_count": 9,
     "metadata": {},
     "output_type": "execute_result"
    }
   ],
   "source": [
    "a"
   ]
  },
  {
   "cell_type": "markdown",
   "metadata": {},
   "source": [
    "It is an expression because it is a recipe that returns a value - in this\n",
    "case, the CR of the number 10.50."
   ]
  }
 ],
 "metadata": {
  "anaconda-cloud": {},
  "kernelspec": {
   "display_name": "Python 3",
   "language": "python",
   "name": "python3"
  },
  "language_info": {
   "codemirror_mode": {
    "name": "ipython",
    "version": 3
   },
   "file_extension": ".py",
   "mimetype": "text/x-python",
   "name": "python",
   "nbconvert_exporter": "python",
   "pygments_lexer": "ipython3",
   "version": "3.7.1"
  }
 },
 "nbformat": 4,
 "nbformat_minor": 2
}
