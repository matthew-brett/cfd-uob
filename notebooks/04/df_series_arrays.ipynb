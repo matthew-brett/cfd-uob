{
 "cells": [
  {
   "cell_type": "markdown",
   "metadata": {},
   "source": [
    "We have now come across three important structures that Python uses to store and access data:\n",
    "\n",
    "* arrays\n",
    "* data frames\n",
    "* series\n",
    "\n",
    "Here we stop to go back over the differences between these structures, and how to convert between them."
   ]
  },
  {
   "cell_type": "markdown",
   "metadata": {},
   "source": [
    "## Data frames"
   ]
  },
  {
   "cell_type": "markdown",
   "metadata": {},
   "source": [
    "We start by loading a data frame from a Comma Separated Value file (CSV\n",
    "file).\n",
    "\n",
    "The data file we will load is a table with average\n",
    "<https://ratemyprofessors.com> scores across all professors teaching\n",
    "a particular academic discipline.\n",
    "\n",
    "See the [array indexing page](../03/array_indexing) for more detail.\n",
    "\n",
    "Each row in this table corresponds to one *discipline*.  Each column corresponds to a different *rating*.\n",
    "\n",
    "If you are running on your laptop, you should download\n",
    "the [rate_my_course.csv]({{ site.baseurl }}/data/rate_my_course.csv)\n",
    "file to the same directory as this notebook."
   ]
  },
  {
   "cell_type": "code",
   "execution_count": 1,
   "metadata": {},
   "outputs": [],
   "source": [
    "# Load the Numpy library, rename to \"np\"\n",
    "import numpy as np\n",
    "\n",
    "# Load the Pandas data science library, rename to \"pd\"\n",
    "import pandas as pd"
   ]
  },
  {
   "cell_type": "code",
   "execution_count": 2,
   "metadata": {},
   "outputs": [],
   "source": [
    "# Read the file.\n",
    "courses = pd.read_csv('rate_my_course.csv')"
   ]
  },
  {
   "cell_type": "code",
   "execution_count": 3,
   "metadata": {},
   "outputs": [
    {
     "data": {
      "text/html": [
       "<div>\n",
       "<style scoped>\n",
       "    .dataframe tbody tr th:only-of-type {\n",
       "        vertical-align: middle;\n",
       "    }\n",
       "\n",
       "    .dataframe tbody tr th {\n",
       "        vertical-align: top;\n",
       "    }\n",
       "\n",
       "    .dataframe thead th {\n",
       "        text-align: right;\n",
       "    }\n",
       "</style>\n",
       "<table border=\"1\" class=\"dataframe\">\n",
       "  <thead>\n",
       "    <tr style=\"text-align: right;\">\n",
       "      <th></th>\n",
       "      <th>Discipline</th>\n",
       "      <th>Number of Professors</th>\n",
       "      <th>Clarity</th>\n",
       "      <th>Helpfulness</th>\n",
       "      <th>Overall Quality</th>\n",
       "      <th>Easiness</th>\n",
       "    </tr>\n",
       "  </thead>\n",
       "  <tbody>\n",
       "    <tr>\n",
       "      <th>0</th>\n",
       "      <td>English</td>\n",
       "      <td>23343</td>\n",
       "      <td>3.756147</td>\n",
       "      <td>3.821866</td>\n",
       "      <td>3.791364</td>\n",
       "      <td>3.162754</td>\n",
       "    </tr>\n",
       "    <tr>\n",
       "      <th>1</th>\n",
       "      <td>Mathematics</td>\n",
       "      <td>22394</td>\n",
       "      <td>3.487379</td>\n",
       "      <td>3.641526</td>\n",
       "      <td>3.566867</td>\n",
       "      <td>3.063322</td>\n",
       "    </tr>\n",
       "    <tr>\n",
       "      <th>2</th>\n",
       "      <td>Biology</td>\n",
       "      <td>11774</td>\n",
       "      <td>3.608331</td>\n",
       "      <td>3.701530</td>\n",
       "      <td>3.657641</td>\n",
       "      <td>2.710459</td>\n",
       "    </tr>\n",
       "    <tr>\n",
       "      <th>3</th>\n",
       "      <td>Psychology</td>\n",
       "      <td>11179</td>\n",
       "      <td>3.909520</td>\n",
       "      <td>3.887536</td>\n",
       "      <td>3.900949</td>\n",
       "      <td>3.316210</td>\n",
       "    </tr>\n",
       "    <tr>\n",
       "      <th>4</th>\n",
       "      <td>History</td>\n",
       "      <td>11145</td>\n",
       "      <td>3.788818</td>\n",
       "      <td>3.753642</td>\n",
       "      <td>3.773746</td>\n",
       "      <td>3.053803</td>\n",
       "    </tr>\n",
       "  </tbody>\n",
       "</table>\n",
       "</div>"
      ],
      "text/plain": [
       "    Discipline  Number of Professors   Clarity  Helpfulness  Overall Quality  \\\n",
       "0      English                 23343  3.756147     3.821866         3.791364   \n",
       "1  Mathematics                 22394  3.487379     3.641526         3.566867   \n",
       "2      Biology                 11774  3.608331     3.701530         3.657641   \n",
       "3   Psychology                 11179  3.909520     3.887536         3.900949   \n",
       "4      History                 11145  3.788818     3.753642         3.773746   \n",
       "\n",
       "   Easiness  \n",
       "0  3.162754  \n",
       "1  3.063322  \n",
       "2  2.710459  \n",
       "3  3.316210  \n",
       "4  3.053803  "
      ]
     },
     "execution_count": 3,
     "metadata": {},
     "output_type": "execute_result"
    }
   ],
   "source": [
    "# Show the first five rows.\n",
    "courses.head()"
   ]
  },
  {
   "cell_type": "markdown",
   "metadata": {},
   "source": [
    "The `pd.read_csv` function returned this table in a structure called a *data frame*."
   ]
  },
  {
   "cell_type": "code",
   "execution_count": 4,
   "metadata": {},
   "outputs": [
    {
     "data": {
      "text/plain": [
       "pandas.core.frame.DataFrame"
      ]
     },
     "execution_count": 4,
     "metadata": {},
     "output_type": "execute_result"
    }
   ],
   "source": [
    "type(courses)"
   ]
  },
  {
   "cell_type": "markdown",
   "metadata": {},
   "source": [
    "The data frame is a two-dimensional structure. It has rows, and columns.   We can see the number of rows and columns with:"
   ]
  },
  {
   "cell_type": "code",
   "execution_count": 5,
   "metadata": {},
   "outputs": [
    {
     "data": {
      "text/plain": [
       "(75, 6)"
      ]
     },
     "execution_count": 5,
     "metadata": {},
     "output_type": "execute_result"
    }
   ],
   "source": [
    "courses.shape"
   ]
  },
  {
   "cell_type": "markdown",
   "metadata": {},
   "source": [
    "This means there are 75 rows.  In this case, each row corresponds to one discpline.\n",
    "\n",
    "There are 6 columns.  In this case, each column corresponds to a different student rating."
   ]
  },
  {
   "cell_type": "markdown",
   "metadata": {},
   "source": [
    "Passing the data frame to the Python `len` function shows us the number of rows:"
   ]
  },
  {
   "cell_type": "code",
   "execution_count": 6,
   "metadata": {},
   "outputs": [
    {
     "data": {
      "text/plain": [
       "75"
      ]
     },
     "execution_count": 6,
     "metadata": {},
     "output_type": "execute_result"
    }
   ],
   "source": [
    "len(courses)"
   ]
  },
  {
   "cell_type": "markdown",
   "metadata": {},
   "source": [
    "### Indexing into data frames"
   ]
  },
  {
   "cell_type": "markdown",
   "metadata": {},
   "source": [
    "There are two simple ways of indexing into data frames.\n",
    "\n",
    "We index into a data frame to get a subset of of the data.\n",
    "\n",
    "To index into anything, we can give the name of thing - in this case `courses` - followed by an opening square bracket `[`, followed by something to specify which subset of the data we want, followed by a closing square bracket `]`.\n",
    "\n",
    "The two simple ways of indexing into a data frame are:\n",
    "\n",
    "* Indexing with a string to get a column.\n",
    "* Indexing with a Boolean sequence to get a subset of the rows."
   ]
  },
  {
   "cell_type": "markdown",
   "metadata": {},
   "source": [
    "When we index with a string, the string should be a column name:"
   ]
  },
  {
   "cell_type": "code",
   "execution_count": 7,
   "metadata": {},
   "outputs": [],
   "source": [
    "easiness = courses['Easiness']"
   ]
  },
  {
   "cell_type": "markdown",
   "metadata": {},
   "source": [
    "The result is a *series*:"
   ]
  },
  {
   "cell_type": "code",
   "execution_count": 8,
   "metadata": {},
   "outputs": [
    {
     "data": {
      "text/plain": [
       "pandas.core.series.Series"
      ]
     },
     "execution_count": 8,
     "metadata": {},
     "output_type": "execute_result"
    }
   ],
   "source": [
    "type(easiness)"
   ]
  },
  {
   "cell_type": "markdown",
   "metadata": {},
   "source": [
    "The Series is a structure that holds the data for a single column."
   ]
  },
  {
   "cell_type": "code",
   "execution_count": 9,
   "metadata": {},
   "outputs": [
    {
     "data": {
      "text/plain": [
       "0     3.162754\n",
       "1     3.063322\n",
       "2     2.710459\n",
       "3     3.316210\n",
       "4     3.053803\n",
       "5     2.652054\n",
       "6     3.379829\n",
       "7     3.172033\n",
       "8     3.057758\n",
       "9     2.910078\n",
       "10    3.115357\n",
       "11    3.395819\n",
       "12    3.132724\n",
       "13    2.784706\n",
       "14    3.277406\n",
       "15    2.854413\n",
       "16    2.785668\n",
       "17    3.248045\n",
       "18    3.430916\n",
       "19    3.542273\n",
       "20    3.138076\n",
       "21    3.468012\n",
       "22    3.344138\n",
       "23    2.885714\n",
       "24    3.469440\n",
       "25    3.244433\n",
       "26    3.194300\n",
       "27    3.338846\n",
       "28    3.144567\n",
       "29    2.868762\n",
       "        ...   \n",
       "45    3.324156\n",
       "46    3.276412\n",
       "47    3.180846\n",
       "48    3.423021\n",
       "49    3.674701\n",
       "50    3.314322\n",
       "51    3.199716\n",
       "52    2.978182\n",
       "53    2.977254\n",
       "54    3.471498\n",
       "55    2.825019\n",
       "56    3.178866\n",
       "57    2.887940\n",
       "58    3.323158\n",
       "59    3.365544\n",
       "60    2.830455\n",
       "61    3.606082\n",
       "62    3.002857\n",
       "63    3.267099\n",
       "64    3.882635\n",
       "65    3.275238\n",
       "66    3.402397\n",
       "67    3.541439\n",
       "68    3.468333\n",
       "69    2.969417\n",
       "70    2.863504\n",
       "71    3.106727\n",
       "72    3.309636\n",
       "73    2.799135\n",
       "74    3.109118\n",
       "Name: Easiness, Length: 75, dtype: float64"
      ]
     },
     "execution_count": 9,
     "metadata": {},
     "output_type": "execute_result"
    }
   ],
   "source": [
    "easiness"
   ]
  },
  {
   "cell_type": "markdown",
   "metadata": {},
   "source": [
    "We will come back to the Series soon.\n",
    "\n",
    "Notice that, if your string specifying the column name does not match a column name exactly, you will get a long error.   This gives you some practice in reading long error messages - skip to the end first, you will often see the most helpful information there."
   ]
  },
  {
   "cell_type": "code",
   "execution_count": 10,
   "metadata": {
    "tags": [
     "raises-exception"
    ]
   },
   "outputs": [
    {
     "ename": "KeyError",
     "evalue": "'easiness'",
     "output_type": "error",
     "traceback": [
      "\u001b[0;31m---------------------------------------------------------------------------\u001b[0m",
      "\u001b[0;31mKeyError\u001b[0m                                  Traceback (most recent call last)",
      "\u001b[0;32m~/Library/Python/3.7/lib/python/site-packages/pandas/core/indexes/base.py\u001b[0m in \u001b[0;36mget_loc\u001b[0;34m(self, key, method, tolerance)\u001b[0m\n\u001b[1;32m   3077\u001b[0m             \u001b[0;32mtry\u001b[0m\u001b[0;34m:\u001b[0m\u001b[0;34m\u001b[0m\u001b[0;34m\u001b[0m\u001b[0m\n\u001b[0;32m-> 3078\u001b[0;31m                 \u001b[0;32mreturn\u001b[0m \u001b[0mself\u001b[0m\u001b[0;34m.\u001b[0m\u001b[0m_engine\u001b[0m\u001b[0;34m.\u001b[0m\u001b[0mget_loc\u001b[0m\u001b[0;34m(\u001b[0m\u001b[0mkey\u001b[0m\u001b[0;34m)\u001b[0m\u001b[0;34m\u001b[0m\u001b[0;34m\u001b[0m\u001b[0m\n\u001b[0m\u001b[1;32m   3079\u001b[0m             \u001b[0;32mexcept\u001b[0m \u001b[0mKeyError\u001b[0m\u001b[0;34m:\u001b[0m\u001b[0;34m\u001b[0m\u001b[0;34m\u001b[0m\u001b[0m\n",
      "\u001b[0;32mpandas/_libs/index.pyx\u001b[0m in \u001b[0;36mpandas._libs.index.IndexEngine.get_loc\u001b[0;34m()\u001b[0m\n",
      "\u001b[0;32mpandas/_libs/index.pyx\u001b[0m in \u001b[0;36mpandas._libs.index.IndexEngine.get_loc\u001b[0;34m()\u001b[0m\n",
      "\u001b[0;32mpandas/_libs/hashtable_class_helper.pxi\u001b[0m in \u001b[0;36mpandas._libs.hashtable.PyObjectHashTable.get_item\u001b[0;34m()\u001b[0m\n",
      "\u001b[0;32mpandas/_libs/hashtable_class_helper.pxi\u001b[0m in \u001b[0;36mpandas._libs.hashtable.PyObjectHashTable.get_item\u001b[0;34m()\u001b[0m\n",
      "\u001b[0;31mKeyError\u001b[0m: 'easiness'",
      "\nDuring handling of the above exception, another exception occurred:\n",
      "\u001b[0;31mKeyError\u001b[0m                                  Traceback (most recent call last)",
      "\u001b[0;32m<ipython-input-10-cd3826a0b407>\u001b[0m in \u001b[0;36m<module>\u001b[0;34m\u001b[0m\n\u001b[1;32m      1\u001b[0m \u001b[0;31m# The exact column name starts with capital E\u001b[0m\u001b[0;34m\u001b[0m\u001b[0;34m\u001b[0m\u001b[0;34m\u001b[0m\u001b[0m\n\u001b[0;32m----> 2\u001b[0;31m \u001b[0mcourses\u001b[0m\u001b[0;34m[\u001b[0m\u001b[0;34m'easiness'\u001b[0m\u001b[0;34m]\u001b[0m\u001b[0;34m\u001b[0m\u001b[0;34m\u001b[0m\u001b[0m\n\u001b[0m",
      "\u001b[0;32m~/Library/Python/3.7/lib/python/site-packages/pandas/core/frame.py\u001b[0m in \u001b[0;36m__getitem__\u001b[0;34m(self, key)\u001b[0m\n\u001b[1;32m   2686\u001b[0m             \u001b[0;32mreturn\u001b[0m \u001b[0mself\u001b[0m\u001b[0;34m.\u001b[0m\u001b[0m_getitem_multilevel\u001b[0m\u001b[0;34m(\u001b[0m\u001b[0mkey\u001b[0m\u001b[0;34m)\u001b[0m\u001b[0;34m\u001b[0m\u001b[0;34m\u001b[0m\u001b[0m\n\u001b[1;32m   2687\u001b[0m         \u001b[0;32melse\u001b[0m\u001b[0;34m:\u001b[0m\u001b[0;34m\u001b[0m\u001b[0;34m\u001b[0m\u001b[0m\n\u001b[0;32m-> 2688\u001b[0;31m             \u001b[0;32mreturn\u001b[0m \u001b[0mself\u001b[0m\u001b[0;34m.\u001b[0m\u001b[0m_getitem_column\u001b[0m\u001b[0;34m(\u001b[0m\u001b[0mkey\u001b[0m\u001b[0;34m)\u001b[0m\u001b[0;34m\u001b[0m\u001b[0;34m\u001b[0m\u001b[0m\n\u001b[0m\u001b[1;32m   2689\u001b[0m \u001b[0;34m\u001b[0m\u001b[0m\n\u001b[1;32m   2690\u001b[0m     \u001b[0;32mdef\u001b[0m \u001b[0m_getitem_column\u001b[0m\u001b[0;34m(\u001b[0m\u001b[0mself\u001b[0m\u001b[0;34m,\u001b[0m \u001b[0mkey\u001b[0m\u001b[0;34m)\u001b[0m\u001b[0;34m:\u001b[0m\u001b[0;34m\u001b[0m\u001b[0;34m\u001b[0m\u001b[0m\n",
      "\u001b[0;32m~/Library/Python/3.7/lib/python/site-packages/pandas/core/frame.py\u001b[0m in \u001b[0;36m_getitem_column\u001b[0;34m(self, key)\u001b[0m\n\u001b[1;32m   2693\u001b[0m         \u001b[0;31m# get column\u001b[0m\u001b[0;34m\u001b[0m\u001b[0;34m\u001b[0m\u001b[0;34m\u001b[0m\u001b[0m\n\u001b[1;32m   2694\u001b[0m         \u001b[0;32mif\u001b[0m \u001b[0mself\u001b[0m\u001b[0;34m.\u001b[0m\u001b[0mcolumns\u001b[0m\u001b[0;34m.\u001b[0m\u001b[0mis_unique\u001b[0m\u001b[0;34m:\u001b[0m\u001b[0;34m\u001b[0m\u001b[0;34m\u001b[0m\u001b[0m\n\u001b[0;32m-> 2695\u001b[0;31m             \u001b[0;32mreturn\u001b[0m \u001b[0mself\u001b[0m\u001b[0;34m.\u001b[0m\u001b[0m_get_item_cache\u001b[0m\u001b[0;34m(\u001b[0m\u001b[0mkey\u001b[0m\u001b[0;34m)\u001b[0m\u001b[0;34m\u001b[0m\u001b[0;34m\u001b[0m\u001b[0m\n\u001b[0m\u001b[1;32m   2696\u001b[0m \u001b[0;34m\u001b[0m\u001b[0m\n\u001b[1;32m   2697\u001b[0m         \u001b[0;31m# duplicate columns & possible reduce dimensionality\u001b[0m\u001b[0;34m\u001b[0m\u001b[0;34m\u001b[0m\u001b[0;34m\u001b[0m\u001b[0m\n",
      "\u001b[0;32m~/Library/Python/3.7/lib/python/site-packages/pandas/core/generic.py\u001b[0m in \u001b[0;36m_get_item_cache\u001b[0;34m(self, item)\u001b[0m\n\u001b[1;32m   2487\u001b[0m         \u001b[0mres\u001b[0m \u001b[0;34m=\u001b[0m \u001b[0mcache\u001b[0m\u001b[0;34m.\u001b[0m\u001b[0mget\u001b[0m\u001b[0;34m(\u001b[0m\u001b[0mitem\u001b[0m\u001b[0;34m)\u001b[0m\u001b[0;34m\u001b[0m\u001b[0;34m\u001b[0m\u001b[0m\n\u001b[1;32m   2488\u001b[0m         \u001b[0;32mif\u001b[0m \u001b[0mres\u001b[0m \u001b[0;32mis\u001b[0m \u001b[0;32mNone\u001b[0m\u001b[0;34m:\u001b[0m\u001b[0;34m\u001b[0m\u001b[0;34m\u001b[0m\u001b[0m\n\u001b[0;32m-> 2489\u001b[0;31m             \u001b[0mvalues\u001b[0m \u001b[0;34m=\u001b[0m \u001b[0mself\u001b[0m\u001b[0;34m.\u001b[0m\u001b[0m_data\u001b[0m\u001b[0;34m.\u001b[0m\u001b[0mget\u001b[0m\u001b[0;34m(\u001b[0m\u001b[0mitem\u001b[0m\u001b[0;34m)\u001b[0m\u001b[0;34m\u001b[0m\u001b[0;34m\u001b[0m\u001b[0m\n\u001b[0m\u001b[1;32m   2490\u001b[0m             \u001b[0mres\u001b[0m \u001b[0;34m=\u001b[0m \u001b[0mself\u001b[0m\u001b[0;34m.\u001b[0m\u001b[0m_box_item_values\u001b[0m\u001b[0;34m(\u001b[0m\u001b[0mitem\u001b[0m\u001b[0;34m,\u001b[0m \u001b[0mvalues\u001b[0m\u001b[0;34m)\u001b[0m\u001b[0;34m\u001b[0m\u001b[0;34m\u001b[0m\u001b[0m\n\u001b[1;32m   2491\u001b[0m             \u001b[0mcache\u001b[0m\u001b[0;34m[\u001b[0m\u001b[0mitem\u001b[0m\u001b[0;34m]\u001b[0m \u001b[0;34m=\u001b[0m \u001b[0mres\u001b[0m\u001b[0;34m\u001b[0m\u001b[0;34m\u001b[0m\u001b[0m\n",
      "\u001b[0;32m~/Library/Python/3.7/lib/python/site-packages/pandas/core/internals.py\u001b[0m in \u001b[0;36mget\u001b[0;34m(self, item, fastpath)\u001b[0m\n\u001b[1;32m   4113\u001b[0m \u001b[0;34m\u001b[0m\u001b[0m\n\u001b[1;32m   4114\u001b[0m             \u001b[0;32mif\u001b[0m \u001b[0;32mnot\u001b[0m \u001b[0misna\u001b[0m\u001b[0;34m(\u001b[0m\u001b[0mitem\u001b[0m\u001b[0;34m)\u001b[0m\u001b[0;34m:\u001b[0m\u001b[0;34m\u001b[0m\u001b[0;34m\u001b[0m\u001b[0m\n\u001b[0;32m-> 4115\u001b[0;31m                 \u001b[0mloc\u001b[0m \u001b[0;34m=\u001b[0m \u001b[0mself\u001b[0m\u001b[0;34m.\u001b[0m\u001b[0mitems\u001b[0m\u001b[0;34m.\u001b[0m\u001b[0mget_loc\u001b[0m\u001b[0;34m(\u001b[0m\u001b[0mitem\u001b[0m\u001b[0;34m)\u001b[0m\u001b[0;34m\u001b[0m\u001b[0;34m\u001b[0m\u001b[0m\n\u001b[0m\u001b[1;32m   4116\u001b[0m             \u001b[0;32melse\u001b[0m\u001b[0;34m:\u001b[0m\u001b[0;34m\u001b[0m\u001b[0;34m\u001b[0m\u001b[0m\n\u001b[1;32m   4117\u001b[0m                 \u001b[0mindexer\u001b[0m \u001b[0;34m=\u001b[0m \u001b[0mnp\u001b[0m\u001b[0;34m.\u001b[0m\u001b[0marange\u001b[0m\u001b[0;34m(\u001b[0m\u001b[0mlen\u001b[0m\u001b[0;34m(\u001b[0m\u001b[0mself\u001b[0m\u001b[0;34m.\u001b[0m\u001b[0mitems\u001b[0m\u001b[0;34m)\u001b[0m\u001b[0;34m)\u001b[0m\u001b[0;34m[\u001b[0m\u001b[0misna\u001b[0m\u001b[0;34m(\u001b[0m\u001b[0mself\u001b[0m\u001b[0;34m.\u001b[0m\u001b[0mitems\u001b[0m\u001b[0;34m)\u001b[0m\u001b[0;34m]\u001b[0m\u001b[0;34m\u001b[0m\u001b[0;34m\u001b[0m\u001b[0m\n",
      "\u001b[0;32m~/Library/Python/3.7/lib/python/site-packages/pandas/core/indexes/base.py\u001b[0m in \u001b[0;36mget_loc\u001b[0;34m(self, key, method, tolerance)\u001b[0m\n\u001b[1;32m   3078\u001b[0m                 \u001b[0;32mreturn\u001b[0m \u001b[0mself\u001b[0m\u001b[0;34m.\u001b[0m\u001b[0m_engine\u001b[0m\u001b[0;34m.\u001b[0m\u001b[0mget_loc\u001b[0m\u001b[0;34m(\u001b[0m\u001b[0mkey\u001b[0m\u001b[0;34m)\u001b[0m\u001b[0;34m\u001b[0m\u001b[0;34m\u001b[0m\u001b[0m\n\u001b[1;32m   3079\u001b[0m             \u001b[0;32mexcept\u001b[0m \u001b[0mKeyError\u001b[0m\u001b[0;34m:\u001b[0m\u001b[0;34m\u001b[0m\u001b[0;34m\u001b[0m\u001b[0m\n\u001b[0;32m-> 3080\u001b[0;31m                 \u001b[0;32mreturn\u001b[0m \u001b[0mself\u001b[0m\u001b[0;34m.\u001b[0m\u001b[0m_engine\u001b[0m\u001b[0;34m.\u001b[0m\u001b[0mget_loc\u001b[0m\u001b[0;34m(\u001b[0m\u001b[0mself\u001b[0m\u001b[0;34m.\u001b[0m\u001b[0m_maybe_cast_indexer\u001b[0m\u001b[0;34m(\u001b[0m\u001b[0mkey\u001b[0m\u001b[0;34m)\u001b[0m\u001b[0;34m)\u001b[0m\u001b[0;34m\u001b[0m\u001b[0;34m\u001b[0m\u001b[0m\n\u001b[0m\u001b[1;32m   3081\u001b[0m \u001b[0;34m\u001b[0m\u001b[0m\n\u001b[1;32m   3082\u001b[0m         \u001b[0mindexer\u001b[0m \u001b[0;34m=\u001b[0m \u001b[0mself\u001b[0m\u001b[0;34m.\u001b[0m\u001b[0mget_indexer\u001b[0m\u001b[0;34m(\u001b[0m\u001b[0;34m[\u001b[0m\u001b[0mkey\u001b[0m\u001b[0;34m]\u001b[0m\u001b[0;34m,\u001b[0m \u001b[0mmethod\u001b[0m\u001b[0;34m=\u001b[0m\u001b[0mmethod\u001b[0m\u001b[0;34m,\u001b[0m \u001b[0mtolerance\u001b[0m\u001b[0;34m=\u001b[0m\u001b[0mtolerance\u001b[0m\u001b[0;34m)\u001b[0m\u001b[0;34m\u001b[0m\u001b[0;34m\u001b[0m\u001b[0m\n",
      "\u001b[0;32mpandas/_libs/index.pyx\u001b[0m in \u001b[0;36mpandas._libs.index.IndexEngine.get_loc\u001b[0;34m()\u001b[0m\n",
      "\u001b[0;32mpandas/_libs/index.pyx\u001b[0m in \u001b[0;36mpandas._libs.index.IndexEngine.get_loc\u001b[0;34m()\u001b[0m\n",
      "\u001b[0;32mpandas/_libs/hashtable_class_helper.pxi\u001b[0m in \u001b[0;36mpandas._libs.hashtable.PyObjectHashTable.get_item\u001b[0;34m()\u001b[0m\n",
      "\u001b[0;32mpandas/_libs/hashtable_class_helper.pxi\u001b[0m in \u001b[0;36mpandas._libs.hashtable.PyObjectHashTable.get_item\u001b[0;34m()\u001b[0m\n",
      "\u001b[0;31mKeyError\u001b[0m: 'easiness'"
     ]
    }
   ],
   "source": [
    "# The exact column name starts with capital E\n",
    "courses['easiness']"
   ]
  },
  {
   "cell_type": "markdown",
   "metadata": {},
   "source": [
    "You have just seen indexing into the data frame with a string to get the data for one column.\n",
    "\n",
    "The other simple way of indexing into a data frame is with a Boolean sequence.\n",
    "\n",
    "A Boolean sequence is a sequence of values, all of which are either True or False.  Examples of sequences are series and arrays."
   ]
  },
  {
   "cell_type": "markdown",
   "metadata": {},
   "source": [
    "For example, imagine we only wanted to look at courses with an easiness rating of greater than 3.25.\n",
    "\n",
    "We first make the Boolean sequence, by asking the question `> 3.25` of the values in the \"Easiness\" column, like this:"
   ]
  },
  {
   "cell_type": "code",
   "execution_count": 11,
   "metadata": {},
   "outputs": [],
   "source": [
    "is_easy = easiness > 3.25"
   ]
  },
  {
   "cell_type": "markdown",
   "metadata": {},
   "source": [
    "This is a series that has True and False values:"
   ]
  },
  {
   "cell_type": "code",
   "execution_count": 12,
   "metadata": {},
   "outputs": [
    {
     "data": {
      "text/plain": [
       "pandas.core.series.Series"
      ]
     },
     "execution_count": 12,
     "metadata": {},
     "output_type": "execute_result"
    }
   ],
   "source": [
    "type(is_easy)"
   ]
  },
  {
   "cell_type": "code",
   "execution_count": 13,
   "metadata": {},
   "outputs": [
    {
     "data": {
      "text/plain": [
       "0     False\n",
       "1     False\n",
       "2     False\n",
       "3      True\n",
       "4     False\n",
       "5     False\n",
       "6      True\n",
       "7     False\n",
       "8     False\n",
       "9     False\n",
       "10    False\n",
       "11     True\n",
       "12    False\n",
       "13    False\n",
       "14     True\n",
       "15    False\n",
       "16    False\n",
       "17    False\n",
       "18     True\n",
       "19     True\n",
       "20    False\n",
       "21     True\n",
       "22     True\n",
       "23    False\n",
       "24     True\n",
       "25    False\n",
       "26    False\n",
       "27     True\n",
       "28    False\n",
       "29    False\n",
       "      ...  \n",
       "45     True\n",
       "46     True\n",
       "47    False\n",
       "48     True\n",
       "49     True\n",
       "50     True\n",
       "51    False\n",
       "52    False\n",
       "53    False\n",
       "54     True\n",
       "55    False\n",
       "56    False\n",
       "57    False\n",
       "58     True\n",
       "59     True\n",
       "60    False\n",
       "61     True\n",
       "62    False\n",
       "63     True\n",
       "64     True\n",
       "65     True\n",
       "66     True\n",
       "67     True\n",
       "68     True\n",
       "69    False\n",
       "70    False\n",
       "71    False\n",
       "72     True\n",
       "73    False\n",
       "74    False\n",
       "Name: Easiness, Length: 75, dtype: bool"
      ]
     },
     "execution_count": 13,
     "metadata": {},
     "output_type": "execute_result"
    }
   ],
   "source": [
    "is_easy"
   ]
  },
  {
   "cell_type": "markdown",
   "metadata": {},
   "source": [
    "It has True values where the corresponding row had an \"Easiness\" score greater than 3.25, and False values where the corresponding row had an \"Easiness\" score of less than or equal to 3.25."
   ]
  },
  {
   "cell_type": "markdown",
   "metadata": {},
   "source": [
    "We can index into the data frame with this Boolean series.\n",
    "\n",
    "When we do this, we ask the data frame to give us a new version of itself, that only has the rows where there was a True value in the Boolean series:"
   ]
  },
  {
   "cell_type": "code",
   "execution_count": 14,
   "metadata": {},
   "outputs": [],
   "source": [
    "easy_courses = courses[is_easy]"
   ]
  },
  {
   "cell_type": "markdown",
   "metadata": {},
   "source": [
    "The result is a data frame:"
   ]
  },
  {
   "cell_type": "code",
   "execution_count": 15,
   "metadata": {},
   "outputs": [
    {
     "data": {
      "text/plain": [
       "pandas.core.frame.DataFrame"
      ]
     },
     "execution_count": 15,
     "metadata": {},
     "output_type": "execute_result"
    }
   ],
   "source": [
    "type(easy_courses)"
   ]
  },
  {
   "cell_type": "markdown",
   "metadata": {},
   "source": [
    "The data frame contains only the rows where the \"Easiness\" score is greater than 3.25:"
   ]
  },
  {
   "cell_type": "code",
   "execution_count": 16,
   "metadata": {},
   "outputs": [
    {
     "data": {
      "text/html": [
       "<div>\n",
       "<style scoped>\n",
       "    .dataframe tbody tr th:only-of-type {\n",
       "        vertical-align: middle;\n",
       "    }\n",
       "\n",
       "    .dataframe tbody tr th {\n",
       "        vertical-align: top;\n",
       "    }\n",
       "\n",
       "    .dataframe thead th {\n",
       "        text-align: right;\n",
       "    }\n",
       "</style>\n",
       "<table border=\"1\" class=\"dataframe\">\n",
       "  <thead>\n",
       "    <tr style=\"text-align: right;\">\n",
       "      <th></th>\n",
       "      <th>Discipline</th>\n",
       "      <th>Number of Professors</th>\n",
       "      <th>Clarity</th>\n",
       "      <th>Helpfulness</th>\n",
       "      <th>Overall Quality</th>\n",
       "      <th>Easiness</th>\n",
       "    </tr>\n",
       "  </thead>\n",
       "  <tbody>\n",
       "    <tr>\n",
       "      <th>3</th>\n",
       "      <td>Psychology</td>\n",
       "      <td>11179</td>\n",
       "      <td>3.909520</td>\n",
       "      <td>3.887536</td>\n",
       "      <td>3.900949</td>\n",
       "      <td>3.316210</td>\n",
       "    </tr>\n",
       "    <tr>\n",
       "      <th>6</th>\n",
       "      <td>Communications</td>\n",
       "      <td>6940</td>\n",
       "      <td>3.867349</td>\n",
       "      <td>3.878602</td>\n",
       "      <td>3.875019</td>\n",
       "      <td>3.379829</td>\n",
       "    </tr>\n",
       "    <tr>\n",
       "      <th>11</th>\n",
       "      <td>Sociology</td>\n",
       "      <td>4839</td>\n",
       "      <td>3.740980</td>\n",
       "      <td>3.748169</td>\n",
       "      <td>3.746962</td>\n",
       "      <td>3.395819</td>\n",
       "    </tr>\n",
       "    <tr>\n",
       "      <th>14</th>\n",
       "      <td>Languages</td>\n",
       "      <td>3867</td>\n",
       "      <td>3.772780</td>\n",
       "      <td>3.917949</td>\n",
       "      <td>3.846951</td>\n",
       "      <td>3.277406</td>\n",
       "    </tr>\n",
       "    <tr>\n",
       "      <th>18</th>\n",
       "      <td>Education</td>\n",
       "      <td>2544</td>\n",
       "      <td>3.707429</td>\n",
       "      <td>3.806128</td>\n",
       "      <td>3.758211</td>\n",
       "      <td>3.430916</td>\n",
       "    </tr>\n",
       "    <tr>\n",
       "      <th>19</th>\n",
       "      <td>Music</td>\n",
       "      <td>2455</td>\n",
       "      <td>3.844509</td>\n",
       "      <td>3.787804</td>\n",
       "      <td>3.818114</td>\n",
       "      <td>3.542273</td>\n",
       "    </tr>\n",
       "    <tr>\n",
       "      <th>21</th>\n",
       "      <td>Health</td>\n",
       "      <td>1937</td>\n",
       "      <td>3.891177</td>\n",
       "      <td>3.884729</td>\n",
       "      <td>3.891213</td>\n",
       "      <td>3.468012</td>\n",
       "    </tr>\n",
       "    <tr>\n",
       "      <th>22</th>\n",
       "      <td>Humanities</td>\n",
       "      <td>1897</td>\n",
       "      <td>3.806969</td>\n",
       "      <td>3.816299</td>\n",
       "      <td>3.813569</td>\n",
       "      <td>3.344138</td>\n",
       "    </tr>\n",
       "    <tr>\n",
       "      <th>24</th>\n",
       "      <td>Criminal Justice</td>\n",
       "      <td>1786</td>\n",
       "      <td>4.056685</td>\n",
       "      <td>4.033779</td>\n",
       "      <td>4.046702</td>\n",
       "      <td>3.469440</td>\n",
       "    </tr>\n",
       "    <tr>\n",
       "      <th>27</th>\n",
       "      <td>Social Science</td>\n",
       "      <td>1412</td>\n",
       "      <td>3.683555</td>\n",
       "      <td>3.691133</td>\n",
       "      <td>3.690262</td>\n",
       "      <td>3.338846</td>\n",
       "    </tr>\n",
       "    <tr>\n",
       "      <th>31</th>\n",
       "      <td>Theater</td>\n",
       "      <td>1078</td>\n",
       "      <td>3.876633</td>\n",
       "      <td>3.821503</td>\n",
       "      <td>3.851837</td>\n",
       "      <td>3.584508</td>\n",
       "    </tr>\n",
       "    <tr>\n",
       "      <th>36</th>\n",
       "      <td>Physical Education</td>\n",
       "      <td>991</td>\n",
       "      <td>4.078698</td>\n",
       "      <td>4.030797</td>\n",
       "      <td>4.057719</td>\n",
       "      <td>3.832250</td>\n",
       "    </tr>\n",
       "    <tr>\n",
       "      <th>42</th>\n",
       "      <td>Spanish</td>\n",
       "      <td>584</td>\n",
       "      <td>3.854932</td>\n",
       "      <td>3.993716</td>\n",
       "      <td>3.928750</td>\n",
       "      <td>3.349743</td>\n",
       "    </tr>\n",
       "    <tr>\n",
       "      <th>43</th>\n",
       "      <td>Art</td>\n",
       "      <td>574</td>\n",
       "      <td>3.797073</td>\n",
       "      <td>3.799216</td>\n",
       "      <td>3.800157</td>\n",
       "      <td>3.268293</td>\n",
       "    </tr>\n",
       "    <tr>\n",
       "      <th>44</th>\n",
       "      <td>Ethnic Studies</td>\n",
       "      <td>481</td>\n",
       "      <td>3.533597</td>\n",
       "      <td>3.578337</td>\n",
       "      <td>3.556923</td>\n",
       "      <td>3.387630</td>\n",
       "    </tr>\n",
       "    <tr>\n",
       "      <th>45</th>\n",
       "      <td>Film</td>\n",
       "      <td>450</td>\n",
       "      <td>3.788933</td>\n",
       "      <td>3.764689</td>\n",
       "      <td>3.778689</td>\n",
       "      <td>3.324156</td>\n",
       "    </tr>\n",
       "    <tr>\n",
       "      <th>46</th>\n",
       "      <td>Women's Studies</td>\n",
       "      <td>393</td>\n",
       "      <td>3.639949</td>\n",
       "      <td>3.652087</td>\n",
       "      <td>3.646743</td>\n",
       "      <td>3.276412</td>\n",
       "    </tr>\n",
       "    <tr>\n",
       "      <th>48</th>\n",
       "      <td>Government</td>\n",
       "      <td>374</td>\n",
       "      <td>3.957540</td>\n",
       "      <td>3.916070</td>\n",
       "      <td>3.938663</td>\n",
       "      <td>3.423021</td>\n",
       "    </tr>\n",
       "    <tr>\n",
       "      <th>49</th>\n",
       "      <td>Speech</td>\n",
       "      <td>351</td>\n",
       "      <td>4.133191</td>\n",
       "      <td>4.101197</td>\n",
       "      <td>4.119345</td>\n",
       "      <td>3.674701</td>\n",
       "    </tr>\n",
       "    <tr>\n",
       "      <th>50</th>\n",
       "      <td>Social Work</td>\n",
       "      <td>317</td>\n",
       "      <td>3.770726</td>\n",
       "      <td>3.834700</td>\n",
       "      <td>3.806246</td>\n",
       "      <td>3.314322</td>\n",
       "    </tr>\n",
       "    <tr>\n",
       "      <th>54</th>\n",
       "      <td>Hospitality</td>\n",
       "      <td>267</td>\n",
       "      <td>3.697228</td>\n",
       "      <td>3.744607</td>\n",
       "      <td>3.719476</td>\n",
       "      <td>3.471498</td>\n",
       "    </tr>\n",
       "    <tr>\n",
       "      <th>58</th>\n",
       "      <td>Foreign Language</td>\n",
       "      <td>209</td>\n",
       "      <td>3.914641</td>\n",
       "      <td>4.057751</td>\n",
       "      <td>3.991675</td>\n",
       "      <td>3.323158</td>\n",
       "    </tr>\n",
       "    <tr>\n",
       "      <th>59</th>\n",
       "      <td>Religious Studies</td>\n",
       "      <td>193</td>\n",
       "      <td>3.932746</td>\n",
       "      <td>3.985751</td>\n",
       "      <td>3.962280</td>\n",
       "      <td>3.365544</td>\n",
       "    </tr>\n",
       "    <tr>\n",
       "      <th>61</th>\n",
       "      <td>Child Development</td>\n",
       "      <td>171</td>\n",
       "      <td>3.950585</td>\n",
       "      <td>4.008070</td>\n",
       "      <td>3.979766</td>\n",
       "      <td>3.606082</td>\n",
       "    </tr>\n",
       "    <tr>\n",
       "      <th>63</th>\n",
       "      <td>French</td>\n",
       "      <td>162</td>\n",
       "      <td>3.775370</td>\n",
       "      <td>3.943086</td>\n",
       "      <td>3.860679</td>\n",
       "      <td>3.267099</td>\n",
       "    </tr>\n",
       "    <tr>\n",
       "      <th>64</th>\n",
       "      <td>Reading</td>\n",
       "      <td>148</td>\n",
       "      <td>4.159392</td>\n",
       "      <td>4.188919</td>\n",
       "      <td>4.177500</td>\n",
       "      <td>3.882635</td>\n",
       "    </tr>\n",
       "    <tr>\n",
       "      <th>65</th>\n",
       "      <td>Modern Languages</td>\n",
       "      <td>147</td>\n",
       "      <td>3.858503</td>\n",
       "      <td>3.971293</td>\n",
       "      <td>3.916259</td>\n",
       "      <td>3.275238</td>\n",
       "    </tr>\n",
       "    <tr>\n",
       "      <th>66</th>\n",
       "      <td>Agriculture</td>\n",
       "      <td>146</td>\n",
       "      <td>3.767466</td>\n",
       "      <td>3.863219</td>\n",
       "      <td>3.820068</td>\n",
       "      <td>3.402397</td>\n",
       "    </tr>\n",
       "    <tr>\n",
       "      <th>67</th>\n",
       "      <td>Kinesiology</td>\n",
       "      <td>132</td>\n",
       "      <td>3.995000</td>\n",
       "      <td>3.972879</td>\n",
       "      <td>3.988712</td>\n",
       "      <td>3.541439</td>\n",
       "    </tr>\n",
       "    <tr>\n",
       "      <th>68</th>\n",
       "      <td>Nutrition</td>\n",
       "      <td>120</td>\n",
       "      <td>3.815167</td>\n",
       "      <td>3.844333</td>\n",
       "      <td>3.831500</td>\n",
       "      <td>3.468333</td>\n",
       "    </tr>\n",
       "    <tr>\n",
       "      <th>72</th>\n",
       "      <td>Linguistics</td>\n",
       "      <td>110</td>\n",
       "      <td>3.749000</td>\n",
       "      <td>3.834545</td>\n",
       "      <td>3.798182</td>\n",
       "      <td>3.309636</td>\n",
       "    </tr>\n",
       "  </tbody>\n",
       "</table>\n",
       "</div>"
      ],
      "text/plain": [
       "            Discipline  Number of Professors   Clarity  Helpfulness  \\\n",
       "3           Psychology                 11179  3.909520     3.887536   \n",
       "6       Communications                  6940  3.867349     3.878602   \n",
       "11           Sociology                  4839  3.740980     3.748169   \n",
       "14           Languages                  3867  3.772780     3.917949   \n",
       "18           Education                  2544  3.707429     3.806128   \n",
       "19               Music                  2455  3.844509     3.787804   \n",
       "21              Health                  1937  3.891177     3.884729   \n",
       "22          Humanities                  1897  3.806969     3.816299   \n",
       "24    Criminal Justice                  1786  4.056685     4.033779   \n",
       "27      Social Science                  1412  3.683555     3.691133   \n",
       "31             Theater                  1078  3.876633     3.821503   \n",
       "36  Physical Education                   991  4.078698     4.030797   \n",
       "42             Spanish                   584  3.854932     3.993716   \n",
       "43                 Art                   574  3.797073     3.799216   \n",
       "44      Ethnic Studies                   481  3.533597     3.578337   \n",
       "45                Film                   450  3.788933     3.764689   \n",
       "46     Women's Studies                   393  3.639949     3.652087   \n",
       "48          Government                   374  3.957540     3.916070   \n",
       "49              Speech                   351  4.133191     4.101197   \n",
       "50         Social Work                   317  3.770726     3.834700   \n",
       "54         Hospitality                   267  3.697228     3.744607   \n",
       "58    Foreign Language                   209  3.914641     4.057751   \n",
       "59   Religious Studies                   193  3.932746     3.985751   \n",
       "61   Child Development                   171  3.950585     4.008070   \n",
       "63              French                   162  3.775370     3.943086   \n",
       "64             Reading                   148  4.159392     4.188919   \n",
       "65    Modern Languages                   147  3.858503     3.971293   \n",
       "66         Agriculture                   146  3.767466     3.863219   \n",
       "67         Kinesiology                   132  3.995000     3.972879   \n",
       "68           Nutrition                   120  3.815167     3.844333   \n",
       "72         Linguistics                   110  3.749000     3.834545   \n",
       "\n",
       "    Overall Quality  Easiness  \n",
       "3          3.900949  3.316210  \n",
       "6          3.875019  3.379829  \n",
       "11         3.746962  3.395819  \n",
       "14         3.846951  3.277406  \n",
       "18         3.758211  3.430916  \n",
       "19         3.818114  3.542273  \n",
       "21         3.891213  3.468012  \n",
       "22         3.813569  3.344138  \n",
       "24         4.046702  3.469440  \n",
       "27         3.690262  3.338846  \n",
       "31         3.851837  3.584508  \n",
       "36         4.057719  3.832250  \n",
       "42         3.928750  3.349743  \n",
       "43         3.800157  3.268293  \n",
       "44         3.556923  3.387630  \n",
       "45         3.778689  3.324156  \n",
       "46         3.646743  3.276412  \n",
       "48         3.938663  3.423021  \n",
       "49         4.119345  3.674701  \n",
       "50         3.806246  3.314322  \n",
       "54         3.719476  3.471498  \n",
       "58         3.991675  3.323158  \n",
       "59         3.962280  3.365544  \n",
       "61         3.979766  3.606082  \n",
       "63         3.860679  3.267099  \n",
       "64         4.177500  3.882635  \n",
       "65         3.916259  3.275238  \n",
       "66         3.820068  3.402397  \n",
       "67         3.988712  3.541439  \n",
       "68         3.831500  3.468333  \n",
       "72         3.798182  3.309636  "
      ]
     },
     "execution_count": 16,
     "metadata": {},
     "output_type": "execute_result"
    }
   ],
   "source": [
    "easy_courses"
   ]
  },
  {
   "cell_type": "markdown",
   "metadata": {},
   "source": [
    "The way this works can be easier to see when we use a smaller data frame.\n",
    "\n",
    "Here we take the first eight rows from the data frame, by using the `head` method.\n",
    "\n",
    "The `head` method can take an argument, which is the number of rows we want."
   ]
  },
  {
   "cell_type": "code",
   "execution_count": 17,
   "metadata": {},
   "outputs": [],
   "source": [
    "first_8 = courses.head(8)"
   ]
  },
  {
   "cell_type": "markdown",
   "metadata": {},
   "source": [
    "The result is a new data frame:"
   ]
  },
  {
   "cell_type": "code",
   "execution_count": 18,
   "metadata": {},
   "outputs": [
    {
     "data": {
      "text/plain": [
       "pandas.core.frame.DataFrame"
      ]
     },
     "execution_count": 18,
     "metadata": {},
     "output_type": "execute_result"
    }
   ],
   "source": [
    "type(first_8)"
   ]
  },
  {
   "cell_type": "code",
   "execution_count": 19,
   "metadata": {},
   "outputs": [
    {
     "data": {
      "text/html": [
       "<div>\n",
       "<style scoped>\n",
       "    .dataframe tbody tr th:only-of-type {\n",
       "        vertical-align: middle;\n",
       "    }\n",
       "\n",
       "    .dataframe tbody tr th {\n",
       "        vertical-align: top;\n",
       "    }\n",
       "\n",
       "    .dataframe thead th {\n",
       "        text-align: right;\n",
       "    }\n",
       "</style>\n",
       "<table border=\"1\" class=\"dataframe\">\n",
       "  <thead>\n",
       "    <tr style=\"text-align: right;\">\n",
       "      <th></th>\n",
       "      <th>Discipline</th>\n",
       "      <th>Number of Professors</th>\n",
       "      <th>Clarity</th>\n",
       "      <th>Helpfulness</th>\n",
       "      <th>Overall Quality</th>\n",
       "      <th>Easiness</th>\n",
       "    </tr>\n",
       "  </thead>\n",
       "  <tbody>\n",
       "    <tr>\n",
       "      <th>0</th>\n",
       "      <td>English</td>\n",
       "      <td>23343</td>\n",
       "      <td>3.756147</td>\n",
       "      <td>3.821866</td>\n",
       "      <td>3.791364</td>\n",
       "      <td>3.162754</td>\n",
       "    </tr>\n",
       "    <tr>\n",
       "      <th>1</th>\n",
       "      <td>Mathematics</td>\n",
       "      <td>22394</td>\n",
       "      <td>3.487379</td>\n",
       "      <td>3.641526</td>\n",
       "      <td>3.566867</td>\n",
       "      <td>3.063322</td>\n",
       "    </tr>\n",
       "    <tr>\n",
       "      <th>2</th>\n",
       "      <td>Biology</td>\n",
       "      <td>11774</td>\n",
       "      <td>3.608331</td>\n",
       "      <td>3.701530</td>\n",
       "      <td>3.657641</td>\n",
       "      <td>2.710459</td>\n",
       "    </tr>\n",
       "    <tr>\n",
       "      <th>3</th>\n",
       "      <td>Psychology</td>\n",
       "      <td>11179</td>\n",
       "      <td>3.909520</td>\n",
       "      <td>3.887536</td>\n",
       "      <td>3.900949</td>\n",
       "      <td>3.316210</td>\n",
       "    </tr>\n",
       "    <tr>\n",
       "      <th>4</th>\n",
       "      <td>History</td>\n",
       "      <td>11145</td>\n",
       "      <td>3.788818</td>\n",
       "      <td>3.753642</td>\n",
       "      <td>3.773746</td>\n",
       "      <td>3.053803</td>\n",
       "    </tr>\n",
       "    <tr>\n",
       "      <th>5</th>\n",
       "      <td>Chemistry</td>\n",
       "      <td>7346</td>\n",
       "      <td>3.387174</td>\n",
       "      <td>3.538980</td>\n",
       "      <td>3.465485</td>\n",
       "      <td>2.652054</td>\n",
       "    </tr>\n",
       "    <tr>\n",
       "      <th>6</th>\n",
       "      <td>Communications</td>\n",
       "      <td>6940</td>\n",
       "      <td>3.867349</td>\n",
       "      <td>3.878602</td>\n",
       "      <td>3.875019</td>\n",
       "      <td>3.379829</td>\n",
       "    </tr>\n",
       "    <tr>\n",
       "      <th>7</th>\n",
       "      <td>Business</td>\n",
       "      <td>6120</td>\n",
       "      <td>3.640327</td>\n",
       "      <td>3.680503</td>\n",
       "      <td>3.663332</td>\n",
       "      <td>3.172033</td>\n",
       "    </tr>\n",
       "  </tbody>\n",
       "</table>\n",
       "</div>"
      ],
      "text/plain": [
       "       Discipline  Number of Professors   Clarity  Helpfulness  \\\n",
       "0         English                 23343  3.756147     3.821866   \n",
       "1     Mathematics                 22394  3.487379     3.641526   \n",
       "2         Biology                 11774  3.608331     3.701530   \n",
       "3      Psychology                 11179  3.909520     3.887536   \n",
       "4         History                 11145  3.788818     3.753642   \n",
       "5       Chemistry                  7346  3.387174     3.538980   \n",
       "6  Communications                  6940  3.867349     3.878602   \n",
       "7        Business                  6120  3.640327     3.680503   \n",
       "\n",
       "   Overall Quality  Easiness  \n",
       "0         3.791364  3.162754  \n",
       "1         3.566867  3.063322  \n",
       "2         3.657641  2.710459  \n",
       "3         3.900949  3.316210  \n",
       "4         3.773746  3.053803  \n",
       "5         3.465485  2.652054  \n",
       "6         3.875019  3.379829  \n",
       "7         3.663332  3.172033  "
      ]
     },
     "execution_count": 19,
     "metadata": {},
     "output_type": "execute_result"
    }
   ],
   "source": [
    "first_8"
   ]
  },
  {
   "cell_type": "markdown",
   "metadata": {},
   "source": [
    "We index into the new data frame with a string, to get the \"Easiness\" column:"
   ]
  },
  {
   "cell_type": "code",
   "execution_count": 20,
   "metadata": {},
   "outputs": [
    {
     "data": {
      "text/plain": [
       "0    3.162754\n",
       "1    3.063322\n",
       "2    2.710459\n",
       "3    3.316210\n",
       "4    3.053803\n",
       "5    2.652054\n",
       "6    3.379829\n",
       "7    3.172033\n",
       "Name: Easiness, dtype: float64"
      ]
     },
     "execution_count": 20,
     "metadata": {},
     "output_type": "execute_result"
    }
   ],
   "source": [
    "easiness_first_8 = first_8[\"Easiness\"]\n",
    "easiness_first_8"
   ]
  },
  {
   "cell_type": "markdown",
   "metadata": {},
   "source": [
    "This Boolean series has True where the \"Easiness\" score is greater than 3.25, and False otherwise:"
   ]
  },
  {
   "cell_type": "code",
   "execution_count": 21,
   "metadata": {},
   "outputs": [
    {
     "data": {
      "text/plain": [
       "0    False\n",
       "1    False\n",
       "2    False\n",
       "3     True\n",
       "4    False\n",
       "5    False\n",
       "6     True\n",
       "7    False\n",
       "Name: Easiness, dtype: bool"
      ]
     },
     "execution_count": 21,
     "metadata": {},
     "output_type": "execute_result"
    }
   ],
   "source": [
    "is_easy_first_8 = easiness_first_8 > 3.25\n",
    "is_easy_first_8"
   ]
  },
  {
   "cell_type": "markdown",
   "metadata": {},
   "source": [
    "We index into the `first_8` data frame with this Boolean series, to select the rows where `is_easy_first_8` has True, and throw away the rows where it has False."
   ]
  },
  {
   "cell_type": "code",
   "execution_count": 22,
   "metadata": {},
   "outputs": [
    {
     "data": {
      "text/html": [
       "<div>\n",
       "<style scoped>\n",
       "    .dataframe tbody tr th:only-of-type {\n",
       "        vertical-align: middle;\n",
       "    }\n",
       "\n",
       "    .dataframe tbody tr th {\n",
       "        vertical-align: top;\n",
       "    }\n",
       "\n",
       "    .dataframe thead th {\n",
       "        text-align: right;\n",
       "    }\n",
       "</style>\n",
       "<table border=\"1\" class=\"dataframe\">\n",
       "  <thead>\n",
       "    <tr style=\"text-align: right;\">\n",
       "      <th></th>\n",
       "      <th>Discipline</th>\n",
       "      <th>Number of Professors</th>\n",
       "      <th>Clarity</th>\n",
       "      <th>Helpfulness</th>\n",
       "      <th>Overall Quality</th>\n",
       "      <th>Easiness</th>\n",
       "    </tr>\n",
       "  </thead>\n",
       "  <tbody>\n",
       "    <tr>\n",
       "      <th>3</th>\n",
       "      <td>Psychology</td>\n",
       "      <td>11179</td>\n",
       "      <td>3.909520</td>\n",
       "      <td>3.887536</td>\n",
       "      <td>3.900949</td>\n",
       "      <td>3.316210</td>\n",
       "    </tr>\n",
       "    <tr>\n",
       "      <th>6</th>\n",
       "      <td>Communications</td>\n",
       "      <td>6940</td>\n",
       "      <td>3.867349</td>\n",
       "      <td>3.878602</td>\n",
       "      <td>3.875019</td>\n",
       "      <td>3.379829</td>\n",
       "    </tr>\n",
       "  </tbody>\n",
       "</table>\n",
       "</div>"
      ],
      "text/plain": [
       "       Discipline  Number of Professors   Clarity  Helpfulness  \\\n",
       "3      Psychology                 11179  3.909520     3.887536   \n",
       "6  Communications                  6940  3.867349     3.878602   \n",
       "\n",
       "   Overall Quality  Easiness  \n",
       "3         3.900949  3.316210  \n",
       "6         3.875019  3.379829  "
      ]
     },
     "execution_count": 22,
     "metadata": {},
     "output_type": "execute_result"
    }
   ],
   "source": [
    "easy_first_8 = first_8[is_easy_first_8]\n",
    "easy_first_8"
   ]
  },
  {
   "cell_type": "markdown",
   "metadata": {},
   "source": [
    "Oh dear, Psychology looks pretty easy."
   ]
  },
  {
   "cell_type": "markdown",
   "metadata": {},
   "source": [
    "## Series and array"
   ]
  },
  {
   "cell_type": "markdown",
   "metadata": {},
   "source": [
    "The series, as you have seen, is the structure that Pandas uses to store the data from a column:"
   ]
  },
  {
   "cell_type": "code",
   "execution_count": 23,
   "metadata": {},
   "outputs": [
    {
     "data": {
      "text/html": [
       "<div>\n",
       "<style scoped>\n",
       "    .dataframe tbody tr th:only-of-type {\n",
       "        vertical-align: middle;\n",
       "    }\n",
       "\n",
       "    .dataframe tbody tr th {\n",
       "        vertical-align: top;\n",
       "    }\n",
       "\n",
       "    .dataframe thead th {\n",
       "        text-align: right;\n",
       "    }\n",
       "</style>\n",
       "<table border=\"1\" class=\"dataframe\">\n",
       "  <thead>\n",
       "    <tr style=\"text-align: right;\">\n",
       "      <th></th>\n",
       "      <th>Discipline</th>\n",
       "      <th>Number of Professors</th>\n",
       "      <th>Clarity</th>\n",
       "      <th>Helpfulness</th>\n",
       "      <th>Overall Quality</th>\n",
       "      <th>Easiness</th>\n",
       "    </tr>\n",
       "  </thead>\n",
       "  <tbody>\n",
       "    <tr>\n",
       "      <th>0</th>\n",
       "      <td>English</td>\n",
       "      <td>23343</td>\n",
       "      <td>3.756147</td>\n",
       "      <td>3.821866</td>\n",
       "      <td>3.791364</td>\n",
       "      <td>3.162754</td>\n",
       "    </tr>\n",
       "    <tr>\n",
       "      <th>1</th>\n",
       "      <td>Mathematics</td>\n",
       "      <td>22394</td>\n",
       "      <td>3.487379</td>\n",
       "      <td>3.641526</td>\n",
       "      <td>3.566867</td>\n",
       "      <td>3.063322</td>\n",
       "    </tr>\n",
       "    <tr>\n",
       "      <th>2</th>\n",
       "      <td>Biology</td>\n",
       "      <td>11774</td>\n",
       "      <td>3.608331</td>\n",
       "      <td>3.701530</td>\n",
       "      <td>3.657641</td>\n",
       "      <td>2.710459</td>\n",
       "    </tr>\n",
       "    <tr>\n",
       "      <th>3</th>\n",
       "      <td>Psychology</td>\n",
       "      <td>11179</td>\n",
       "      <td>3.909520</td>\n",
       "      <td>3.887536</td>\n",
       "      <td>3.900949</td>\n",
       "      <td>3.316210</td>\n",
       "    </tr>\n",
       "    <tr>\n",
       "      <th>4</th>\n",
       "      <td>History</td>\n",
       "      <td>11145</td>\n",
       "      <td>3.788818</td>\n",
       "      <td>3.753642</td>\n",
       "      <td>3.773746</td>\n",
       "      <td>3.053803</td>\n",
       "    </tr>\n",
       "    <tr>\n",
       "      <th>5</th>\n",
       "      <td>Chemistry</td>\n",
       "      <td>7346</td>\n",
       "      <td>3.387174</td>\n",
       "      <td>3.538980</td>\n",
       "      <td>3.465485</td>\n",
       "      <td>2.652054</td>\n",
       "    </tr>\n",
       "    <tr>\n",
       "      <th>6</th>\n",
       "      <td>Communications</td>\n",
       "      <td>6940</td>\n",
       "      <td>3.867349</td>\n",
       "      <td>3.878602</td>\n",
       "      <td>3.875019</td>\n",
       "      <td>3.379829</td>\n",
       "    </tr>\n",
       "    <tr>\n",
       "      <th>7</th>\n",
       "      <td>Business</td>\n",
       "      <td>6120</td>\n",
       "      <td>3.640327</td>\n",
       "      <td>3.680503</td>\n",
       "      <td>3.663332</td>\n",
       "      <td>3.172033</td>\n",
       "    </tr>\n",
       "  </tbody>\n",
       "</table>\n",
       "</div>"
      ],
      "text/plain": [
       "       Discipline  Number of Professors   Clarity  Helpfulness  \\\n",
       "0         English                 23343  3.756147     3.821866   \n",
       "1     Mathematics                 22394  3.487379     3.641526   \n",
       "2         Biology                 11774  3.608331     3.701530   \n",
       "3      Psychology                 11179  3.909520     3.887536   \n",
       "4         History                 11145  3.788818     3.753642   \n",
       "5       Chemistry                  7346  3.387174     3.538980   \n",
       "6  Communications                  6940  3.867349     3.878602   \n",
       "7        Business                  6120  3.640327     3.680503   \n",
       "\n",
       "   Overall Quality  Easiness  \n",
       "0         3.791364  3.162754  \n",
       "1         3.566867  3.063322  \n",
       "2         3.657641  2.710459  \n",
       "3         3.900949  3.316210  \n",
       "4         3.773746  3.053803  \n",
       "5         3.465485  2.652054  \n",
       "6         3.875019  3.379829  \n",
       "7         3.663332  3.172033  "
      ]
     },
     "execution_count": 23,
     "metadata": {},
     "output_type": "execute_result"
    }
   ],
   "source": [
    "first_8"
   ]
  },
  {
   "cell_type": "code",
   "execution_count": 24,
   "metadata": {},
   "outputs": [
    {
     "data": {
      "text/plain": [
       "0    3.162754\n",
       "1    3.063322\n",
       "2    2.710459\n",
       "3    3.316210\n",
       "4    3.053803\n",
       "5    2.652054\n",
       "6    3.379829\n",
       "7    3.172033\n",
       "Name: Easiness, dtype: float64"
      ]
     },
     "execution_count": 24,
     "metadata": {},
     "output_type": "execute_result"
    }
   ],
   "source": [
    "easiness_first_8 = first_8[\"Easiness\"]\n",
    "easiness_first_8"
   ]
  },
  {
   "cell_type": "markdown",
   "metadata": {},
   "source": [
    "You can index into a series, but this indexing is powerful and sophisticated, so we will not use that for now.\n",
    "\n",
    "For now, you can convert the series to an array, like this:"
   ]
  },
  {
   "cell_type": "code",
   "execution_count": 25,
   "metadata": {},
   "outputs": [
    {
     "data": {
      "text/plain": [
       "array([3.16275414, 3.06332232, 2.71045949, 3.31620986, 3.0538026 ,\n",
       "       2.65205418, 3.37982853, 3.17203268])"
      ]
     },
     "execution_count": 25,
     "metadata": {},
     "output_type": "execute_result"
    }
   ],
   "source": [
    "easi_8 = np.array(easiness_first_8)\n",
    "easi_8"
   ]
  },
  {
   "cell_type": "markdown",
   "metadata": {},
   "source": [
    "Then you can use the usual [array indexing](../03/array_indexing) to get the values you want:"
   ]
  },
  {
   "cell_type": "code",
   "execution_count": 26,
   "metadata": {},
   "outputs": [
    {
     "data": {
      "text/plain": [
       "3.1627541447114904"
      ]
     },
     "execution_count": 26,
     "metadata": {},
     "output_type": "execute_result"
    }
   ],
   "source": [
    "# The first value\n",
    "easi_8[0]"
   ]
  },
  {
   "cell_type": "code",
   "execution_count": 27,
   "metadata": {},
   "outputs": [
    {
     "data": {
      "text/plain": [
       "array([3.16275414, 3.06332232, 2.71045949, 3.31620986, 3.0538026 ])"
      ]
     },
     "execution_count": 27,
     "metadata": {},
     "output_type": "execute_result"
    }
   ],
   "source": [
    "# The first five values\n",
    "easi_8[:5]"
   ]
  },
  {
   "cell_type": "markdown",
   "metadata": {},
   "source": [
    "You can think of a data frame as sequence of columns, where each column is series.\n",
    "\n",
    "Here I take two columns from the data frame, as series:"
   ]
  },
  {
   "cell_type": "code",
   "execution_count": 28,
   "metadata": {},
   "outputs": [
    {
     "data": {
      "text/plain": [
       "0           English\n",
       "1       Mathematics\n",
       "2           Biology\n",
       "3        Psychology\n",
       "4           History\n",
       "5         Chemistry\n",
       "6    Communications\n",
       "7          Business\n",
       "Name: Discipline, dtype: object"
      ]
     },
     "execution_count": 28,
     "metadata": {},
     "output_type": "execute_result"
    }
   ],
   "source": [
    "disciplines = first_8['Discipline']\n",
    "disciplines"
   ]
  },
  {
   "cell_type": "code",
   "execution_count": 29,
   "metadata": {},
   "outputs": [
    {
     "data": {
      "text/plain": [
       "0    3.756147\n",
       "1    3.487379\n",
       "2    3.608331\n",
       "3    3.909520\n",
       "4    3.788818\n",
       "5    3.387174\n",
       "6    3.867349\n",
       "7    3.640327\n",
       "Name: Clarity, dtype: float64"
      ]
     },
     "execution_count": 29,
     "metadata": {},
     "output_type": "execute_result"
    }
   ],
   "source": [
    "clarity = first_8['Clarity']\n",
    "clarity"
   ]
  },
  {
   "cell_type": "markdown",
   "metadata": {},
   "source": [
    "I can make a new data frame by inserting these two columns:"
   ]
  },
  {
   "cell_type": "code",
   "execution_count": 30,
   "metadata": {},
   "outputs": [
    {
     "data": {
      "text/html": [
       "<div>\n",
       "<style scoped>\n",
       "    .dataframe tbody tr th:only-of-type {\n",
       "        vertical-align: middle;\n",
       "    }\n",
       "\n",
       "    .dataframe tbody tr th {\n",
       "        vertical-align: top;\n",
       "    }\n",
       "\n",
       "    .dataframe thead th {\n",
       "        text-align: right;\n",
       "    }\n",
       "</style>\n",
       "<table border=\"1\" class=\"dataframe\">\n",
       "  <thead>\n",
       "    <tr style=\"text-align: right;\">\n",
       "      <th></th>\n",
       "      <th>Discipline</th>\n",
       "      <th>Clarity</th>\n",
       "    </tr>\n",
       "  </thead>\n",
       "  <tbody>\n",
       "    <tr>\n",
       "      <th>0</th>\n",
       "      <td>English</td>\n",
       "      <td>3.756147</td>\n",
       "    </tr>\n",
       "    <tr>\n",
       "      <th>1</th>\n",
       "      <td>Mathematics</td>\n",
       "      <td>3.487379</td>\n",
       "    </tr>\n",
       "    <tr>\n",
       "      <th>2</th>\n",
       "      <td>Biology</td>\n",
       "      <td>3.608331</td>\n",
       "    </tr>\n",
       "    <tr>\n",
       "      <th>3</th>\n",
       "      <td>Psychology</td>\n",
       "      <td>3.909520</td>\n",
       "    </tr>\n",
       "    <tr>\n",
       "      <th>4</th>\n",
       "      <td>History</td>\n",
       "      <td>3.788818</td>\n",
       "    </tr>\n",
       "    <tr>\n",
       "      <th>5</th>\n",
       "      <td>Chemistry</td>\n",
       "      <td>3.387174</td>\n",
       "    </tr>\n",
       "    <tr>\n",
       "      <th>6</th>\n",
       "      <td>Communications</td>\n",
       "      <td>3.867349</td>\n",
       "    </tr>\n",
       "    <tr>\n",
       "      <th>7</th>\n",
       "      <td>Business</td>\n",
       "      <td>3.640327</td>\n",
       "    </tr>\n",
       "  </tbody>\n",
       "</table>\n",
       "</div>"
      ],
      "text/plain": [
       "       Discipline   Clarity\n",
       "0         English  3.756147\n",
       "1     Mathematics  3.487379\n",
       "2         Biology  3.608331\n",
       "3      Psychology  3.909520\n",
       "4         History  3.788818\n",
       "5       Chemistry  3.387174\n",
       "6  Communications  3.867349\n",
       "7        Business  3.640327"
      ]
     },
     "execution_count": 30,
     "metadata": {},
     "output_type": "execute_result"
    }
   ],
   "source": [
    "# A new data frame\n",
    "thinner_courses = pd.DataFrame()\n",
    "thinner_courses['Discipline'] = disciplines\n",
    "thinner_courses['Clarity'] = clarity\n",
    "thinner_courses"
   ]
  }
 ],
 "metadata": {
  "jupytext": {
   "split_at_heading": true
  },
  "kernelspec": {
   "display_name": "Python 3",
   "language": "python",
   "name": "python3"
  },
  "language_info": {
   "codemirror_mode": {
    "name": "ipython",
    "version": 3
   },
   "file_extension": ".py",
   "mimetype": "text/x-python",
   "name": "python",
   "nbconvert_exporter": "python",
   "pygments_lexer": "ipython3",
   "version": "3.7.1"
  }
 },
 "nbformat": 4,
 "nbformat_minor": 2
}
