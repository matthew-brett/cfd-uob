{
 "cells": [
  {
   "cell_type": "markdown",
   "metadata": {},
   "source": [
    "So far we have used function arguments in a basic way; this is the way that is familiar from mathematics:"
   ]
  },
  {
   "cell_type": "code",
   "execution_count": 1,
   "metadata": {},
   "outputs": [],
   "source": [
    "# Load the Numpy package, and rename to \"np\"\n",
    "import numpy as np"
   ]
  },
  {
   "cell_type": "code",
   "execution_count": 2,
   "metadata": {},
   "outputs": [
    {
     "data": {
      "text/plain": [
       "1.0"
      ]
     },
     "execution_count": 2,
     "metadata": {},
     "output_type": "execute_result"
    }
   ],
   "source": [
    "np.cos(0)"
   ]
  },
  {
   "cell_type": "markdown",
   "metadata": {},
   "source": [
    "Here is another Numpy function, from the `random` sub-package of the Numpy library.  We get to the sub-packages with the dot `.` - so to get to the `random` sub-package, we use `np.random`.  Then, to get to the functions in this sub-package, we use the dot again, like this:"
   ]
  },
  {
   "cell_type": "code",
   "execution_count": 3,
   "metadata": {},
   "outputs": [
    {
     "data": {
      "text/plain": [
       "0"
      ]
     },
     "execution_count": 3,
     "metadata": {},
     "output_type": "execute_result"
    }
   ],
   "source": [
    "np.random.randint(0, 2)"
   ]
  },
  {
   "cell_type": "markdown",
   "metadata": {},
   "source": [
    "Remember, this is a random integer from 0 up to, but *not including* 2, so it is a random integer that can either be 0 or 1.\n",
    "\n",
    "Now let us look at the help for the `np.random.randint` function.  As usual, we do this by appending `?` to the function name, and pressing Enter in the notebook."
   ]
  },
  {
   "cell_type": "code",
   "execution_count": 4,
   "metadata": {},
   "outputs": [],
   "source": [
    "# To see the help for np.random.randint, remove the # at the beginning\n",
    "# of the next line, and execute this cell.\n",
    "# np.random.randint?"
   ]
  },
  {
   "cell_type": "markdown",
   "metadata": {},
   "source": [
    "We find that the function can accept up to four arguments.  We have passed two.\n",
    "The first sets the argument called `low` to be 0, and the second sets the\n",
    "argument called `high` to be 2.\n",
    "\n",
    "To take another example, in this case we are asking for a random number\n",
    "starting at 1 up to, but not including 11. This gives us a random integer from\n",
    "1 through 10. `low` is 1 and `high` is 11.\n"
   ]
  },
  {
   "cell_type": "code",
   "execution_count": 5,
   "metadata": {},
   "outputs": [
    {
     "data": {
      "text/plain": [
       "10"
      ]
     },
     "execution_count": 5,
     "metadata": {},
     "output_type": "execute_result"
    }
   ],
   "source": [
    "# Random integer from 1 through 10.\n",
    "np.random.randint(1, 11)"
   ]
  },
  {
   "cell_type": "markdown",
   "metadata": {},
   "source": [
    "If we pass three arguments, we also set the `size` argument.  This tells the function how many random numbers to return.  The following asks for an array of four random integers from 1 through 20:"
   ]
  },
  {
   "cell_type": "code",
   "execution_count": 6,
   "metadata": {},
   "outputs": [
    {
     "data": {
      "text/plain": [
       "array([10,  6, 11, 12])"
      ]
     },
     "execution_count": 6,
     "metadata": {},
     "output_type": "execute_result"
    }
   ],
   "source": [
    "# Four random integers from 1 through 20.\n",
    "np.random.randint(1, 21, 4)"
   ]
  },
  {
   "cell_type": "markdown",
   "metadata": {},
   "source": [
    "Notice that this is an *array*.\n",
    "\n",
    "Now look again at the help.  Notice that the help gives each argument a *name*\n",
    "--- `low`, `high`, `size`.  We can also use these names when we set these\n",
    "arguments.  For example, the cell below does exactly the same thing as the cell\n",
    "above."
   ]
  },
  {
   "cell_type": "code",
   "execution_count": 7,
   "metadata": {},
   "outputs": [
    {
     "data": {
      "text/plain": [
       "array([ 1, 18,  7,  3])"
      ]
     },
     "execution_count": 7,
     "metadata": {},
     "output_type": "execute_result"
    }
   ],
   "source": [
    "# Four random integers from 1 through 20, using keyword arguments.\n",
    "np.random.randint(low=1, high=21, size=4)"
   ]
  },
  {
   "cell_type": "markdown",
   "metadata": {},
   "source": [
    "When we call the function using the arguments with their names like this, the named arguments are called *keyword* arguments."
   ]
  },
  {
   "cell_type": "markdown",
   "metadata": {},
   "source": [
    "Passing the arguments like this, using keywords, can be very useful, to make it\n",
    "clearer what each argument means.   For example, it's a common pattern to call a function with one or a few keyword arguments, like this:"
   ]
  },
  {
   "cell_type": "code",
   "execution_count": 8,
   "metadata": {},
   "outputs": [
    {
     "data": {
      "text/plain": [
       "array([18, 18,  4,  9])"
      ]
     },
     "execution_count": 8,
     "metadata": {},
     "output_type": "execute_result"
    }
   ],
   "source": [
    "# Four random integers from 1 through 20.\n",
    "np.random.randint(1, 21, size=4)"
   ]
  },
  {
   "cell_type": "markdown",
   "metadata": {},
   "source": [
    "Writing the call like the cell gives exactly the same result as the cell below,\n",
    "but the cell above can be easier to follow, because the person reading the code\n",
    "does not have to guess what the 4 means --- they can see that it means the size\n",
    "of the output array."
   ]
  },
  {
   "cell_type": "code",
   "execution_count": 9,
   "metadata": {},
   "outputs": [
    {
     "data": {
      "text/plain": [
       "array([ 5,  7, 16, 19])"
      ]
     },
     "execution_count": 9,
     "metadata": {},
     "output_type": "execute_result"
    }
   ],
   "source": [
    "# Four random integers from 1 through 20 - but no keyword argument.\n",
    "np.random.randint(1, 21, size=4)"
   ]
  },
  {
   "cell_type": "markdown",
   "metadata": {},
   "source": [
    "To take another example, we have already seen the function `round`.  Inspect\n",
    "the help for `round` with `round?` and Enter in a notebook cell.\n",
    "\n",
    "`round` takes up to two arguments.  If we pass one argument, it is just the value that `round` will round to the nearest integer:"
   ]
  },
  {
   "cell_type": "code",
   "execution_count": 10,
   "metadata": {},
   "outputs": [
    {
     "data": {
      "text/plain": [
       "3"
      ]
     },
     "execution_count": 10,
     "metadata": {},
     "output_type": "execute_result"
    }
   ],
   "source": [
    "round(3.1415)"
   ]
  },
  {
   "cell_type": "markdown",
   "metadata": {},
   "source": [
    "If we pass two arguments, the first argument is the value we will round, and the second is the number of digits to round to, like this:"
   ]
  },
  {
   "cell_type": "code",
   "execution_count": 11,
   "metadata": {},
   "outputs": [
    {
     "data": {
      "text/plain": [
       "3.14"
      ]
     },
     "execution_count": 11,
     "metadata": {},
     "output_type": "execute_result"
    }
   ],
   "source": [
    "round(3.1415, 2)"
   ]
  },
  {
   "cell_type": "markdown",
   "metadata": {},
   "source": [
    "As you saw in the help, the second argument has the name `ndigits`, so we can also write:"
   ]
  },
  {
   "cell_type": "code",
   "execution_count": 12,
   "metadata": {},
   "outputs": [
    {
     "data": {
      "text/plain": [
       "3.14"
      ]
     },
     "execution_count": 12,
     "metadata": {},
     "output_type": "execute_result"
    }
   ],
   "source": [
    "round(3.1415, ndigits=2)"
   ]
  },
  {
   "cell_type": "markdown",
   "metadata": {},
   "source": [
    "As before, this makes the code a little bit easier to read and understand,\n",
    "because it is immediately clear from the name `ndigits` that the 2 means the\n",
    "number of digits to round to."
   ]
  }
 ],
 "metadata": {
  "jupytext": {
   "split_at_heading": true
  },
  "kernelspec": {
   "display_name": "Python 3",
   "language": "python",
   "name": "python3"
  },
  "language_info": {
   "codemirror_mode": {
    "name": "ipython",
    "version": 3
   },
   "file_extension": ".py",
   "mimetype": "text/x-python",
   "name": "python",
   "nbconvert_exporter": "python",
   "pygments_lexer": "ipython3",
   "version": "3.7.1"
  }
 },
 "nbformat": 4,
 "nbformat_minor": 2
}
