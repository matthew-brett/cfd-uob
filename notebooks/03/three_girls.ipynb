{
 "cells": [
  {
   "cell_type": "markdown",
   "metadata": {},
   "source": [
    "# Three girls\n",
    "\n",
    "In which we solve the three-girls-in-family problem."
   ]
  },
  {
   "cell_type": "markdown",
   "metadata": {},
   "source": [
    "## The problem\n",
    "\n",
    "If there is a family of four children, what is the chance that\n",
    "family will consist of exactly three girls and one boy?\n",
    "\n",
    "We decided we could simulate this situation, by taking four\n",
    "random numbers, between 0 and 1.  For each number, if it is less\n",
    "than 0.5, we label this as a girl, otherwise we label it as\n",
    "a boy.  Then we could count how many girls we got.  That is one\n",
    "family.  We repeat the procedure many times, and count how many\n",
    "families have three girls (three of four random numbers less\n",
    "than 0.5)."
   ]
  },
  {
   "cell_type": "markdown",
   "metadata": {},
   "source": [
    "## A simulation"
   ]
  },
  {
   "cell_type": "code",
   "execution_count": 1,
   "metadata": {},
   "outputs": [],
   "source": [
    "import numpy as np\n",
    "np.set_printoptions(precision=2)"
   ]
  },
  {
   "cell_type": "markdown",
   "metadata": {},
   "source": [
    "First we do a simulation of a single family.\n",
    "\n",
    "Start with 4 random numbers, between 0 and 1.\n",
    "\n",
    "We could do these one at a time:"
   ]
  },
  {
   "cell_type": "code",
   "execution_count": 2,
   "metadata": {},
   "outputs": [
    {
     "data": {
      "text/plain": [
       "0.40513462796313826"
      ]
     },
     "execution_count": 2,
     "metadata": {},
     "output_type": "execute_result"
    }
   ],
   "source": [
    "first_child = np.random.uniform()\n",
    "first_child"
   ]
  },
  {
   "cell_type": "code",
   "execution_count": 3,
   "metadata": {},
   "outputs": [
    {
     "data": {
      "text/plain": [
       "0.5363529670678105"
      ]
     },
     "execution_count": 3,
     "metadata": {},
     "output_type": "execute_result"
    }
   ],
   "source": [
    "second_child = np.random.uniform()\n",
    "second_child"
   ]
  },
  {
   "cell_type": "code",
   "execution_count": 4,
   "metadata": {},
   "outputs": [
    {
     "data": {
      "text/plain": [
       "0.2141145240592952"
      ]
     },
     "execution_count": 4,
     "metadata": {},
     "output_type": "execute_result"
    }
   ],
   "source": [
    "third_child = np.random.uniform()\n",
    "third_child"
   ]
  },
  {
   "cell_type": "code",
   "execution_count": 5,
   "metadata": {},
   "outputs": [
    {
     "data": {
      "text/plain": [
       "0.053217053717968255"
      ]
     },
     "execution_count": 5,
     "metadata": {},
     "output_type": "execute_result"
    }
   ],
   "source": [
    "fourth_child = np.random.uniform()\n",
    "fourth_child"
   ]
  },
  {
   "cell_type": "markdown",
   "metadata": {},
   "source": [
    "That gets boring.  It is neater to make an array of 4 numbers in one shot, like this:"
   ]
  },
  {
   "cell_type": "code",
   "execution_count": 6,
   "metadata": {},
   "outputs": [
    {
     "data": {
      "text/plain": [
       "array([0.85, 0.18, 0.99, 0.5 ])"
      ]
     },
     "execution_count": 6,
     "metadata": {},
     "output_type": "execute_result"
    }
   ],
   "source": [
    "one_family = np.random.uniform(size=4)\n",
    "one_family"
   ]
  },
  {
   "cell_type": "markdown",
   "metadata": {},
   "source": [
    "Arrays allow us to do the same operation on all the elements.\n",
    "\n",
    "For example, we can ask whether each random number is less than\n",
    "0\\.5."
   ]
  },
  {
   "cell_type": "code",
   "execution_count": 7,
   "metadata": {},
   "outputs": [
    {
     "data": {
      "text/plain": [
       "array([False,  True, False,  True])"
      ]
     },
     "execution_count": 7,
     "metadata": {},
     "output_type": "execute_result"
    }
   ],
   "source": [
    "girls = one_family < 0.5\n",
    "girls"
   ]
  },
  {
   "cell_type": "markdown",
   "metadata": {},
   "source": [
    "Notice that the new array, `girls`, has four elements, like the\n",
    "original array `one_family`.  At each position in the `girls`\n",
    "array, there is a `True` if the corresponding element in\n",
    "`one_family` was less than 0.5, and `False` otherwise.\n",
    "\n",
    "We consider `True` to mean \"girl\" and `False` to mean \"boy\".  To count the number of girls in this family, we need to count the number of `True` values in the array."
   ]
  },
  {
   "cell_type": "code",
   "execution_count": 8,
   "metadata": {},
   "outputs": [
    {
     "data": {
      "text/plain": [
       "2"
      ]
     },
     "execution_count": 8,
     "metadata": {},
     "output_type": "execute_result"
    }
   ],
   "source": [
    "n_girls = np.count_nonzero(girls)\n",
    "n_girls"
   ]
  },
  {
   "cell_type": "markdown",
   "metadata": {},
   "source": [
    "That is the result of our simulation, for one family.\n",
    "\n",
    "We want to do this many times.  How would we do that?\n",
    "\n",
    "One way is to make a two-dimensional array of random numbers.\n",
    "\n",
    "A two-dimensional array has rows and columns.\n",
    "\n",
    "In our case, the row will be a single family.  There are four columns, so each row has four elements, corresponding to the four children in the family.\n",
    "\n",
    "Here we get ready to simulate 10 families, with one 2D array."
   ]
  },
  {
   "cell_type": "code",
   "execution_count": 9,
   "metadata": {},
   "outputs": [
    {
     "data": {
      "text/plain": [
       "array([[0.02, 0.61, 0.36, 0.09],\n",
       "       [0.1 , 0.4 , 0.45, 0.43],\n",
       "       [0.33, 0.75, 0.43, 0.05],\n",
       "       [0.02, 0.2 , 0.19, 0.82],\n",
       "       [0.25, 0.06, 0.35, 0.36],\n",
       "       [0.22, 0.83, 0.14, 0.95],\n",
       "       [0.21, 0.54, 0.08, 0.59],\n",
       "       [0.6 , 0.68, 0.92, 0.75],\n",
       "       [0.76, 0.49, 0.01, 0.58],\n",
       "       [0.95, 0.25, 0.7 , 0.61]])"
      ]
     },
     "execution_count": 9,
     "metadata": {},
     "output_type": "execute_result"
    }
   ],
   "source": [
    "ten_families = np.random.uniform(size=(10, 4))\n",
    "ten_families"
   ]
  },
  {
   "cell_type": "markdown",
   "metadata": {},
   "source": [
    "Notice the `size=` argument to `np.random.uniform`.  When we\n",
    "wanted an array of 4 values the size was `4`.  Now we want a 2D\n",
    "array, the size is two values, between parentheses, the first\n",
    "value is the number of rows, and the second is the number of\n",
    "columns.\n",
    "\n",
    "We can apply our test `< 0.5` to all the 10 * 4 elements at the\n",
    "same time."
   ]
  },
  {
   "cell_type": "code",
   "execution_count": 10,
   "metadata": {},
   "outputs": [
    {
     "data": {
      "text/plain": [
       "array([[ True, False,  True,  True],\n",
       "       [ True,  True,  True,  True],\n",
       "       [ True, False,  True,  True],\n",
       "       [ True,  True,  True, False],\n",
       "       [ True,  True,  True,  True],\n",
       "       [ True, False,  True, False],\n",
       "       [ True, False,  True, False],\n",
       "       [False, False, False, False],\n",
       "       [False,  True,  True, False],\n",
       "       [False,  True, False, False]])"
      ]
     },
     "execution_count": 10,
     "metadata": {},
     "output_type": "execute_result"
    }
   ],
   "source": [
    "are_girls = ten_families < 0.5\n",
    "are_girls"
   ]
  },
  {
   "cell_type": "markdown",
   "metadata": {},
   "source": [
    "Remember, each row represents a family, and each `True` value\n",
    "represents a girl.  We want to count how many `True` values\n",
    "there are in each row.  We can try `np.count_nonzero` on this\n",
    "array, but:"
   ]
  },
  {
   "cell_type": "code",
   "execution_count": 11,
   "metadata": {},
   "outputs": [
    {
     "data": {
      "text/plain": [
       "24"
      ]
     },
     "execution_count": 11,
     "metadata": {},
     "output_type": "execute_result"
    }
   ],
   "source": [
    "np.count_nonzero(are_girls)"
   ]
  },
  {
   "cell_type": "markdown",
   "metadata": {},
   "source": [
    "By default, `np.count_nonzero` counts the number of True values in the entire 2D array.\n",
    "\n",
    "We want it to count the number of `True` value in each *row*.\n",
    "\n",
    "We can do that, by using the `axis` argument to\n",
    "`np.count_nonzero`.  See [Arrays and axes](arrays_and_axes) for\n",
    "a more detailed explanation."
   ]
  },
  {
   "cell_type": "code",
   "execution_count": 12,
   "metadata": {},
   "outputs": [
    {
     "data": {
      "text/plain": [
       "array([3, 4, 3, 3, 4, 2, 2, 0, 2, 1])"
      ]
     },
     "execution_count": 12,
     "metadata": {},
     "output_type": "execute_result"
    }
   ],
   "source": [
    "n_girls = np.count_nonzero(are_girls, axis=1)\n",
    "n_girls"
   ]
  },
  {
   "cell_type": "markdown",
   "metadata": {},
   "source": [
    "`n_girls` has one element per *row* in the `are_girls` array.  The element corresponding to the first row, has the count of `True` values in the first row, and so on.\n",
    "\n",
    "Now we need to ask the question, how many of the counts in `n_girls` are equal to 3?\n",
    "\n",
    "To do this, we can use another comparison operator, like `<` in\n",
    "as in `< 0.5`.  The operator is `==`.   Notice the double `=`\n",
    "sign, together.   It is a test, that returns `True` or `False`.\n",
    "For example:"
   ]
  },
  {
   "cell_type": "code",
   "execution_count": 13,
   "metadata": {},
   "outputs": [
    {
     "data": {
      "text/plain": [
       "False"
      ]
     },
     "execution_count": 13,
     "metadata": {},
     "output_type": "execute_result"
    }
   ],
   "source": [
    "4 == 3"
   ]
  },
  {
   "cell_type": "code",
   "execution_count": 14,
   "metadata": {},
   "outputs": [
    {
     "data": {
      "text/plain": [
       "True"
      ]
     },
     "execution_count": 14,
     "metadata": {},
     "output_type": "execute_result"
    }
   ],
   "source": [
    "4 == 4"
   ]
  },
  {
   "cell_type": "markdown",
   "metadata": {},
   "source": [
    "These are expressions, because they return values.\n",
    "\n",
    "Compare to the single equals, which is the assignment operator, in an assignment expression."
   ]
  },
  {
   "cell_type": "code",
   "execution_count": 15,
   "metadata": {},
   "outputs": [],
   "source": [
    "a = 4"
   ]
  },
  {
   "cell_type": "markdown",
   "metadata": {},
   "source": [
    "Notice this does not return anything, because it is not an expression, it is an assignment statement.  `a` now has the value 4."
   ]
  },
  {
   "cell_type": "code",
   "execution_count": 16,
   "metadata": {},
   "outputs": [
    {
     "data": {
      "text/plain": [
       "4"
      ]
     },
     "execution_count": 16,
     "metadata": {},
     "output_type": "execute_result"
    }
   ],
   "source": [
    "a"
   ]
  },
  {
   "cell_type": "markdown",
   "metadata": {},
   "source": [
    "We can test whether the value of `a` is 4 like this:"
   ]
  },
  {
   "cell_type": "code",
   "execution_count": 17,
   "metadata": {},
   "outputs": [
    {
     "data": {
      "text/plain": [
       "True"
      ]
     },
     "execution_count": 17,
     "metadata": {},
     "output_type": "execute_result"
    }
   ],
   "source": [
    "a == 4"
   ]
  },
  {
   "cell_type": "markdown",
   "metadata": {},
   "source": [
    "This is an equality test expression, so it does return a value.\n",
    "\n",
    "How does this operate on arrays?   It operates the same way as the other comparison operators - element by element:"
   ]
  },
  {
   "cell_type": "code",
   "execution_count": 18,
   "metadata": {},
   "outputs": [
    {
     "data": {
      "text/plain": [
       "array([2, 3, 4, 2])"
      ]
     },
     "execution_count": 18,
     "metadata": {},
     "output_type": "execute_result"
    }
   ],
   "source": [
    "my_array = np.array([2, 3, 4, 2])\n",
    "my_array"
   ]
  },
  {
   "cell_type": "code",
   "execution_count": 19,
   "metadata": {},
   "outputs": [
    {
     "data": {
      "text/plain": [
       "array([ True, False, False,  True])"
      ]
     },
     "execution_count": 19,
     "metadata": {},
     "output_type": "execute_result"
    }
   ],
   "source": [
    "my_array == 2"
   ]
  },
  {
   "cell_type": "markdown",
   "metadata": {},
   "source": [
    "We can use this trick on the `n_girl` array, to find counts that are equal to 3."
   ]
  },
  {
   "cell_type": "code",
   "execution_count": 20,
   "metadata": {},
   "outputs": [
    {
     "data": {
      "text/plain": [
       "array([ True, False,  True,  True, False, False, False, False, False,\n",
       "       False])"
      ]
     },
     "execution_count": 20,
     "metadata": {},
     "output_type": "execute_result"
    }
   ],
   "source": [
    "n_girls == 3"
   ]
  },
  {
   "cell_type": "markdown",
   "metadata": {},
   "source": [
    "To find the number of 3s in `n_girls`:"
   ]
  },
  {
   "cell_type": "code",
   "execution_count": 21,
   "metadata": {},
   "outputs": [
    {
     "data": {
      "text/plain": [
       "3"
      ]
     },
     "execution_count": 21,
     "metadata": {},
     "output_type": "execute_result"
    }
   ],
   "source": [
    "np.count_nonzero(n_girls == 3)"
   ]
  },
  {
   "cell_type": "markdown",
   "metadata": {},
   "source": [
    "Now the proportion of the counts, that are equal to 3:"
   ]
  },
  {
   "cell_type": "code",
   "execution_count": 22,
   "metadata": {},
   "outputs": [
    {
     "data": {
      "text/plain": [
       "0.3"
      ]
     },
     "execution_count": 22,
     "metadata": {},
     "output_type": "execute_result"
    }
   ],
   "source": [
    "prop_3 = np.count_nonzero(n_girls == 3) / 10\n",
    "prop_3"
   ]
  },
  {
   "cell_type": "markdown",
   "metadata": {},
   "source": [
    "## Exercises\n",
    "\n",
    "See [three girl simulation exercises](../exercises/three_girl_simulations) for\n",
    "some exercises to extend the simulation on this page."
   ]
  }
 ],
 "metadata": {
  "jupytext": {
   "text_representation": {
    "extension": ".Rmd",
    "format_name": "rmarkdown",
    "format_version": "1.0",
    "jupytext_version": "0.8.5"
   }
  },
  "kernelspec": {
   "display_name": "Python 3",
   "language": "python",
   "name": "python3"
  },
  "language_info": {
   "codemirror_mode": {
    "name": "ipython",
    "version": 3
   },
   "file_extension": ".py",
   "mimetype": "text/x-python",
   "name": "python",
   "nbconvert_exporter": "python",
   "pygments_lexer": "ipython3",
   "version": "3.7.2"
  }
 },
 "nbformat": 4,
 "nbformat_minor": 2
}
