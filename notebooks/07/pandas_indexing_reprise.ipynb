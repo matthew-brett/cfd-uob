{
 "cells": [
  {
   "cell_type": "markdown",
   "metadata": {},
   "source": [
    "# Pandas indexing reprise\n",
    "\n",
    "This page is a reminder on indexing for Pandas data frames and Series.\n",
    "\n",
    "You have already seen the [basics of Pandas indexing]({{ site.baseurl\n",
    "}}/chapters/07/pandas_indexing); this page is just a reminder of the later\n",
    "parts of the basic indexing page."
   ]
  },
  {
   "cell_type": "code",
   "execution_count": 1,
   "metadata": {},
   "outputs": [],
   "source": [
    "import pandas as pd"
   ]
  },
  {
   "cell_type": "markdown",
   "metadata": {},
   "source": [
    "We use the familiar dataset on student ratings of professors.  It is a table\n",
    "where the rows are course subjects and the columns include average ratings for\n",
    "all University professors / lecturers teaching that subject. See [the dataset\n",
    "page]({{ site.baseurl }}/data/rate_my_professors) for more detail."
   ]
  },
  {
   "cell_type": "code",
   "execution_count": 2,
   "metadata": {},
   "outputs": [
    {
     "data": {
      "text/html": [
       "<div>\n",
       "<style scoped>\n",
       "    .dataframe tbody tr th:only-of-type {\n",
       "        vertical-align: middle;\n",
       "    }\n",
       "\n",
       "    .dataframe tbody tr th {\n",
       "        vertical-align: top;\n",
       "    }\n",
       "\n",
       "    .dataframe thead th {\n",
       "        text-align: right;\n",
       "    }\n",
       "</style>\n",
       "<table border=\"1\" class=\"dataframe\">\n",
       "  <thead>\n",
       "    <tr style=\"text-align: right;\">\n",
       "      <th></th>\n",
       "      <th>Discipline</th>\n",
       "      <th>Number of Professors</th>\n",
       "      <th>Clarity</th>\n",
       "      <th>Helpfulness</th>\n",
       "      <th>Overall Quality</th>\n",
       "      <th>Easiness</th>\n",
       "    </tr>\n",
       "  </thead>\n",
       "  <tbody>\n",
       "    <tr>\n",
       "      <th>64</th>\n",
       "      <td>Reading</td>\n",
       "      <td>148</td>\n",
       "      <td>4.159392</td>\n",
       "      <td>4.188919</td>\n",
       "      <td>4.177500</td>\n",
       "      <td>3.882635</td>\n",
       "    </tr>\n",
       "    <tr>\n",
       "      <th>36</th>\n",
       "      <td>Physical Education</td>\n",
       "      <td>991</td>\n",
       "      <td>4.078698</td>\n",
       "      <td>4.030797</td>\n",
       "      <td>4.057719</td>\n",
       "      <td>3.832250</td>\n",
       "    </tr>\n",
       "    <tr>\n",
       "      <th>49</th>\n",
       "      <td>Speech</td>\n",
       "      <td>351</td>\n",
       "      <td>4.133191</td>\n",
       "      <td>4.101197</td>\n",
       "      <td>4.119345</td>\n",
       "      <td>3.674701</td>\n",
       "    </tr>\n",
       "    <tr>\n",
       "      <th>61</th>\n",
       "      <td>Child Development</td>\n",
       "      <td>171</td>\n",
       "      <td>3.950585</td>\n",
       "      <td>4.008070</td>\n",
       "      <td>3.979766</td>\n",
       "      <td>3.606082</td>\n",
       "    </tr>\n",
       "    <tr>\n",
       "      <th>31</th>\n",
       "      <td>Theater</td>\n",
       "      <td>1078</td>\n",
       "      <td>3.876633</td>\n",
       "      <td>3.821503</td>\n",
       "      <td>3.851837</td>\n",
       "      <td>3.584508</td>\n",
       "    </tr>\n",
       "    <tr>\n",
       "      <th>19</th>\n",
       "      <td>Music</td>\n",
       "      <td>2455</td>\n",
       "      <td>3.844509</td>\n",
       "      <td>3.787804</td>\n",
       "      <td>3.818114</td>\n",
       "      <td>3.542273</td>\n",
       "    </tr>\n",
       "  </tbody>\n",
       "</table>\n",
       "</div>"
      ],
      "text/plain": [
       "            Discipline  Number of Professors   Clarity  Helpfulness  \\\n",
       "64             Reading                   148  4.159392     4.188919   \n",
       "36  Physical Education                   991  4.078698     4.030797   \n",
       "49              Speech                   351  4.133191     4.101197   \n",
       "61   Child Development                   171  3.950585     4.008070   \n",
       "31             Theater                  1078  3.876633     3.821503   \n",
       "19               Music                  2455  3.844509     3.787804   \n",
       "\n",
       "    Overall Quality  Easiness  \n",
       "64         4.177500  3.882635  \n",
       "36         4.057719  3.832250  \n",
       "49         4.119345  3.674701  \n",
       "61         3.979766  3.606082  \n",
       "31         3.851837  3.584508  \n",
       "19         3.818114  3.542273  "
      ]
     },
     "execution_count": 2,
     "metadata": {},
     "output_type": "execute_result"
    }
   ],
   "source": [
    "# Load the dataset as a data frame\n",
    "ratings = pd.read_csv('rate_my_course.csv')\n",
    "# Reorder by Easiness\n",
    "ratings_by_easy = ratings.sort_values('Easiness', ascending=False)\n",
    "# Make a smaller data frame with the first six rows\n",
    "top_by_easy = ratings_by_easy.head(6)\n",
    "# Show the smaller data frame.\n",
    "top_by_easy"
   ]
  },
  {
   "cell_type": "markdown",
   "metadata": {},
   "source": [
    "Here is an example *Boolean Series* that has True for rows where the \"Clarity\"\n",
    "rating was greater than 4.1, and False otherwise."
   ]
  },
  {
   "cell_type": "code",
   "execution_count": 3,
   "metadata": {},
   "outputs": [
    {
     "data": {
      "text/plain": [
       "64     True\n",
       "36    False\n",
       "49     True\n",
       "61    False\n",
       "31    False\n",
       "19    False\n",
       "Name: Clarity, dtype: bool"
      ]
     },
     "execution_count": 3,
     "metadata": {},
     "output_type": "execute_result"
    }
   ],
   "source": [
    "is_clear = top_by_easy['Clarity'] > 4.1\n",
    "is_clear"
   ]
  },
  {
   "cell_type": "markdown",
   "metadata": {},
   "source": [
    "We will use that in the examples below."
   ]
  },
  {
   "cell_type": "markdown",
   "metadata": {},
   "source": [
    "## Direct indexing\n",
    "\n",
    "Direct indexing is where the indexing bracket `[` goes right after the data\n",
    "frame.  Examples are:"
   ]
  },
  {
   "cell_type": "code",
   "execution_count": 4,
   "metadata": {},
   "outputs": [
    {
     "data": {
      "text/plain": [
       "64               Reading\n",
       "36    Physical Education\n",
       "49                Speech\n",
       "61     Child Development\n",
       "31               Theater\n",
       "19                 Music\n",
       "Name: Discipline, dtype: object"
      ]
     },
     "execution_count": 4,
     "metadata": {},
     "output_type": "execute_result"
    }
   ],
   "source": [
    "# Direct indexing with a column name.\n",
    "top_by_easy['Discipline']"
   ]
  },
  {
   "cell_type": "code",
   "execution_count": 5,
   "metadata": {},
   "outputs": [
    {
     "data": {
      "text/html": [
       "<div>\n",
       "<style scoped>\n",
       "    .dataframe tbody tr th:only-of-type {\n",
       "        vertical-align: middle;\n",
       "    }\n",
       "\n",
       "    .dataframe tbody tr th {\n",
       "        vertical-align: top;\n",
       "    }\n",
       "\n",
       "    .dataframe thead th {\n",
       "        text-align: right;\n",
       "    }\n",
       "</style>\n",
       "<table border=\"1\" class=\"dataframe\">\n",
       "  <thead>\n",
       "    <tr style=\"text-align: right;\">\n",
       "      <th></th>\n",
       "      <th>Discipline</th>\n",
       "      <th>Number of Professors</th>\n",
       "      <th>Clarity</th>\n",
       "      <th>Helpfulness</th>\n",
       "      <th>Overall Quality</th>\n",
       "      <th>Easiness</th>\n",
       "    </tr>\n",
       "  </thead>\n",
       "  <tbody>\n",
       "    <tr>\n",
       "      <th>64</th>\n",
       "      <td>Reading</td>\n",
       "      <td>148</td>\n",
       "      <td>4.159392</td>\n",
       "      <td>4.188919</td>\n",
       "      <td>4.177500</td>\n",
       "      <td>3.882635</td>\n",
       "    </tr>\n",
       "    <tr>\n",
       "      <th>49</th>\n",
       "      <td>Speech</td>\n",
       "      <td>351</td>\n",
       "      <td>4.133191</td>\n",
       "      <td>4.101197</td>\n",
       "      <td>4.119345</td>\n",
       "      <td>3.674701</td>\n",
       "    </tr>\n",
       "  </tbody>\n",
       "</table>\n",
       "</div>"
      ],
      "text/plain": [
       "   Discipline  Number of Professors   Clarity  Helpfulness  Overall Quality  \\\n",
       "64    Reading                   148  4.159392     4.188919         4.177500   \n",
       "49     Speech                   351  4.133191     4.101197         4.119345   \n",
       "\n",
       "    Easiness  \n",
       "64  3.882635  \n",
       "49  3.674701  "
      ]
     },
     "execution_count": 5,
     "metadata": {},
     "output_type": "execute_result"
    }
   ],
   "source": [
    "# Direct indexing with a Boolean sequence.\n",
    "top_by_easy[is_clear]"
   ]
  },
  {
   "cell_type": "markdown",
   "metadata": {},
   "source": [
    "As you have seen in the [Pandas indexing page]({{ site.baseurl\n",
    "}}/chapters/07/pandas_indexing), the examples above are the two types of safe\n",
    "direct indexing into Pandas data frames:\n",
    "\n",
    "1. Direct indexing with a column name.\n",
    "2. Direct indexing with a Boolean sequence."
   ]
  },
  {
   "cell_type": "markdown",
   "metadata": {},
   "source": [
    "## Indirect indexing by position with `iloc`\n",
    "\n",
    "Indirect indexing is where we use the special `.iloc` and `.loc` attributes of data frames and Series.  The data frame or series goes first, followed by `.iloc` or `.loc`, followed by the opening square bracket `[`, the specifiers for the values we want, and the closing square bracket `]`.\n",
    "\n",
    "`.iloc` selects rows and columns by *position*.  For example, here we ask for\n",
    "the first three rows:"
   ]
  },
  {
   "cell_type": "code",
   "execution_count": 6,
   "metadata": {},
   "outputs": [
    {
     "data": {
      "text/html": [
       "<div>\n",
       "<style scoped>\n",
       "    .dataframe tbody tr th:only-of-type {\n",
       "        vertical-align: middle;\n",
       "    }\n",
       "\n",
       "    .dataframe tbody tr th {\n",
       "        vertical-align: top;\n",
       "    }\n",
       "\n",
       "    .dataframe thead th {\n",
       "        text-align: right;\n",
       "    }\n",
       "</style>\n",
       "<table border=\"1\" class=\"dataframe\">\n",
       "  <thead>\n",
       "    <tr style=\"text-align: right;\">\n",
       "      <th></th>\n",
       "      <th>Discipline</th>\n",
       "      <th>Number of Professors</th>\n",
       "      <th>Clarity</th>\n",
       "      <th>Helpfulness</th>\n",
       "      <th>Overall Quality</th>\n",
       "      <th>Easiness</th>\n",
       "    </tr>\n",
       "  </thead>\n",
       "  <tbody>\n",
       "    <tr>\n",
       "      <th>64</th>\n",
       "      <td>Reading</td>\n",
       "      <td>148</td>\n",
       "      <td>4.159392</td>\n",
       "      <td>4.188919</td>\n",
       "      <td>4.177500</td>\n",
       "      <td>3.882635</td>\n",
       "    </tr>\n",
       "    <tr>\n",
       "      <th>36</th>\n",
       "      <td>Physical Education</td>\n",
       "      <td>991</td>\n",
       "      <td>4.078698</td>\n",
       "      <td>4.030797</td>\n",
       "      <td>4.057719</td>\n",
       "      <td>3.832250</td>\n",
       "    </tr>\n",
       "    <tr>\n",
       "      <th>49</th>\n",
       "      <td>Speech</td>\n",
       "      <td>351</td>\n",
       "      <td>4.133191</td>\n",
       "      <td>4.101197</td>\n",
       "      <td>4.119345</td>\n",
       "      <td>3.674701</td>\n",
       "    </tr>\n",
       "  </tbody>\n",
       "</table>\n",
       "</div>"
      ],
      "text/plain": [
       "            Discipline  Number of Professors   Clarity  Helpfulness  \\\n",
       "64             Reading                   148  4.159392     4.188919   \n",
       "36  Physical Education                   991  4.078698     4.030797   \n",
       "49              Speech                   351  4.133191     4.101197   \n",
       "\n",
       "    Overall Quality  Easiness  \n",
       "64         4.177500  3.882635  \n",
       "36         4.057719  3.832250  \n",
       "49         4.119345  3.674701  "
      ]
     },
     "execution_count": 6,
     "metadata": {},
     "output_type": "execute_result"
    }
   ],
   "source": [
    "top_by_easy.iloc[:3]"
   ]
  },
  {
   "cell_type": "markdown",
   "metadata": {},
   "source": [
    "If we send `.iloc` two arguments, separated by commas, then the first argument\n",
    "refers to the rows, and the second to the columns.  Here we ask for the first three rows and the first three columns:"
   ]
  },
  {
   "cell_type": "code",
   "execution_count": 7,
   "metadata": {},
   "outputs": [
    {
     "data": {
      "text/html": [
       "<div>\n",
       "<style scoped>\n",
       "    .dataframe tbody tr th:only-of-type {\n",
       "        vertical-align: middle;\n",
       "    }\n",
       "\n",
       "    .dataframe tbody tr th {\n",
       "        vertical-align: top;\n",
       "    }\n",
       "\n",
       "    .dataframe thead th {\n",
       "        text-align: right;\n",
       "    }\n",
       "</style>\n",
       "<table border=\"1\" class=\"dataframe\">\n",
       "  <thead>\n",
       "    <tr style=\"text-align: right;\">\n",
       "      <th></th>\n",
       "      <th>Discipline</th>\n",
       "      <th>Number of Professors</th>\n",
       "      <th>Clarity</th>\n",
       "    </tr>\n",
       "  </thead>\n",
       "  <tbody>\n",
       "    <tr>\n",
       "      <th>64</th>\n",
       "      <td>Reading</td>\n",
       "      <td>148</td>\n",
       "      <td>4.159392</td>\n",
       "    </tr>\n",
       "    <tr>\n",
       "      <th>36</th>\n",
       "      <td>Physical Education</td>\n",
       "      <td>991</td>\n",
       "      <td>4.078698</td>\n",
       "    </tr>\n",
       "    <tr>\n",
       "      <th>49</th>\n",
       "      <td>Speech</td>\n",
       "      <td>351</td>\n",
       "      <td>4.133191</td>\n",
       "    </tr>\n",
       "  </tbody>\n",
       "</table>\n",
       "</div>"
      ],
      "text/plain": [
       "            Discipline  Number of Professors   Clarity\n",
       "64             Reading                   148  4.159392\n",
       "36  Physical Education                   991  4.078698\n",
       "49              Speech                   351  4.133191"
      ]
     },
     "execution_count": 7,
     "metadata": {},
     "output_type": "execute_result"
    }
   ],
   "source": [
    "top_by_easy.iloc[:3, :3]"
   ]
  },
  {
   "cell_type": "markdown",
   "metadata": {},
   "source": [
    "We can use `:` to select everything.  For example, this selects all rows, and\n",
    "the last column:"
   ]
  },
  {
   "cell_type": "code",
   "execution_count": 8,
   "metadata": {},
   "outputs": [
    {
     "data": {
      "text/plain": [
       "64    3.882635\n",
       "36    3.832250\n",
       "49    3.674701\n",
       "61    3.606082\n",
       "31    3.584508\n",
       "19    3.542273\n",
       "Name: Easiness, dtype: float64"
      ]
     },
     "execution_count": 8,
     "metadata": {},
     "output_type": "execute_result"
    }
   ],
   "source": [
    "clarity_with_iloc = top_by_easy.iloc[:, -1]\n",
    "clarity_with_iloc"
   ]
  },
  {
   "cell_type": "markdown",
   "metadata": {},
   "source": [
    "## Indirect indexing by label with `.loc`\n",
    "\n",
    "We can also select items by their row and column *labels*.  In this case, the row labels are also counting numbers (integers), so they are easily mistaken for positions if you are not careful."
   ]
  },
  {
   "cell_type": "code",
   "execution_count": 9,
   "metadata": {},
   "outputs": [
    {
     "data": {
      "text/plain": [
       "Discipline              Reading\n",
       "Number of Professors        148\n",
       "Clarity                 4.15939\n",
       "Helpfulness             4.18892\n",
       "Overall Quality          4.1775\n",
       "Easiness                3.88264\n",
       "Name: 64, dtype: object"
      ]
     },
     "execution_count": 9,
     "metadata": {},
     "output_type": "execute_result"
    }
   ],
   "source": [
    "row_labeled_64 = top_by_easy.loc[64]\n",
    "row_labeled_64"
   ]
  },
  {
   "cell_type": "markdown",
   "metadata": {},
   "source": [
    "This is a different result than the one we get from `iloc`, which does look at position rather than label:"
   ]
  },
  {
   "cell_type": "code",
   "execution_count": 10,
   "metadata": {},
   "outputs": [
    {
     "data": {
      "text/plain": [
       "Discipline              Reading\n",
       "Number of Professors        148\n",
       "Clarity                 4.15939\n",
       "Helpfulness             4.18892\n",
       "Overall Quality          4.1775\n",
       "Easiness                3.88264\n",
       "Name: 64, dtype: object"
      ]
     },
     "execution_count": 10,
     "metadata": {},
     "output_type": "execute_result"
    }
   ],
   "source": [
    "row_position_0 = top_by_easy.iloc[0]\n",
    "row_position_0"
   ]
  },
  {
   "cell_type": "markdown",
   "metadata": {},
   "source": [
    "We can ask for multiple rows by label:"
   ]
  },
  {
   "cell_type": "code",
   "execution_count": 11,
   "metadata": {},
   "outputs": [
    {
     "data": {
      "text/html": [
       "<div>\n",
       "<style scoped>\n",
       "    .dataframe tbody tr th:only-of-type {\n",
       "        vertical-align: middle;\n",
       "    }\n",
       "\n",
       "    .dataframe tbody tr th {\n",
       "        vertical-align: top;\n",
       "    }\n",
       "\n",
       "    .dataframe thead th {\n",
       "        text-align: right;\n",
       "    }\n",
       "</style>\n",
       "<table border=\"1\" class=\"dataframe\">\n",
       "  <thead>\n",
       "    <tr style=\"text-align: right;\">\n",
       "      <th></th>\n",
       "      <th>Discipline</th>\n",
       "      <th>Number of Professors</th>\n",
       "      <th>Clarity</th>\n",
       "      <th>Helpfulness</th>\n",
       "      <th>Overall Quality</th>\n",
       "      <th>Easiness</th>\n",
       "    </tr>\n",
       "  </thead>\n",
       "  <tbody>\n",
       "    <tr>\n",
       "      <th>64</th>\n",
       "      <td>Reading</td>\n",
       "      <td>148</td>\n",
       "      <td>4.159392</td>\n",
       "      <td>4.188919</td>\n",
       "      <td>4.177500</td>\n",
       "      <td>3.882635</td>\n",
       "    </tr>\n",
       "    <tr>\n",
       "      <th>49</th>\n",
       "      <td>Speech</td>\n",
       "      <td>351</td>\n",
       "      <td>4.133191</td>\n",
       "      <td>4.101197</td>\n",
       "      <td>4.119345</td>\n",
       "      <td>3.674701</td>\n",
       "    </tr>\n",
       "    <tr>\n",
       "      <th>31</th>\n",
       "      <td>Theater</td>\n",
       "      <td>1078</td>\n",
       "      <td>3.876633</td>\n",
       "      <td>3.821503</td>\n",
       "      <td>3.851837</td>\n",
       "      <td>3.584508</td>\n",
       "    </tr>\n",
       "  </tbody>\n",
       "</table>\n",
       "</div>"
      ],
      "text/plain": [
       "   Discipline  Number of Professors   Clarity  Helpfulness  Overall Quality  \\\n",
       "64    Reading                   148  4.159392     4.188919         4.177500   \n",
       "49     Speech                   351  4.133191     4.101197         4.119345   \n",
       "31    Theater                  1078  3.876633     3.821503         3.851837   \n",
       "\n",
       "    Easiness  \n",
       "64  3.882635  \n",
       "49  3.674701  \n",
       "31  3.584508  "
      ]
     },
     "execution_count": 11,
     "metadata": {},
     "output_type": "execute_result"
    }
   ],
   "source": [
    "ratings_by_label = top_by_easy.loc[[64, 49, 31]]\n",
    "ratings_by_label"
   ]
  },
  {
   "cell_type": "markdown",
   "metadata": {},
   "source": [
    "If we send `.loc` two arguments, separated by commas, then the first argument\n",
    "refers to the rows, and the second to the columns.  The column labels are the\n",
    "column names.  Here we ask for the rows labeled 64, 49, 31, and the column labeled \"Discipline\":"
   ]
  },
  {
   "cell_type": "code",
   "execution_count": 12,
   "metadata": {},
   "outputs": [
    {
     "data": {
      "text/plain": [
       "64    Reading\n",
       "49     Speech\n",
       "31    Theater\n",
       "Name: Discipline, dtype: object"
      ]
     },
     "execution_count": 12,
     "metadata": {},
     "output_type": "execute_result"
    }
   ],
   "source": [
    "ratings_by_row_col_label = top_by_easy.loc[[64, 49, 31], 'Discipline']\n",
    "ratings_by_row_col_label"
   ]
  },
  {
   "cell_type": "markdown",
   "metadata": {},
   "source": [
    "If we want multiple columns we can pass a list of column names:"
   ]
  },
  {
   "cell_type": "code",
   "execution_count": 13,
   "metadata": {},
   "outputs": [
    {
     "data": {
      "text/html": [
       "<div>\n",
       "<style scoped>\n",
       "    .dataframe tbody tr th:only-of-type {\n",
       "        vertical-align: middle;\n",
       "    }\n",
       "\n",
       "    .dataframe tbody tr th {\n",
       "        vertical-align: top;\n",
       "    }\n",
       "\n",
       "    .dataframe thead th {\n",
       "        text-align: right;\n",
       "    }\n",
       "</style>\n",
       "<table border=\"1\" class=\"dataframe\">\n",
       "  <thead>\n",
       "    <tr style=\"text-align: right;\">\n",
       "      <th></th>\n",
       "      <th>Discipline</th>\n",
       "      <th>Clarity</th>\n",
       "    </tr>\n",
       "  </thead>\n",
       "  <tbody>\n",
       "    <tr>\n",
       "      <th>64</th>\n",
       "      <td>Reading</td>\n",
       "      <td>4.159392</td>\n",
       "    </tr>\n",
       "    <tr>\n",
       "      <th>49</th>\n",
       "      <td>Speech</td>\n",
       "      <td>4.133191</td>\n",
       "    </tr>\n",
       "    <tr>\n",
       "      <th>31</th>\n",
       "      <td>Theater</td>\n",
       "      <td>3.876633</td>\n",
       "    </tr>\n",
       "  </tbody>\n",
       "</table>\n",
       "</div>"
      ],
      "text/plain": [
       "   Discipline   Clarity\n",
       "64    Reading  4.159392\n",
       "49     Speech  4.133191\n",
       "31    Theater  3.876633"
      ]
     },
     "execution_count": 13,
     "metadata": {},
     "output_type": "execute_result"
    }
   ],
   "source": [
    "ratings_by_row_col_label = top_by_easy.loc[[64, 49, 31], ['Discipline', 'Clarity']]\n",
    "ratings_by_row_col_label"
   ]
  },
  {
   "cell_type": "markdown",
   "metadata": {},
   "source": [
    "This is a good way of selecting a subset of the columns from the data frame,\n",
    "using `:` to select all the rows:"
   ]
  },
  {
   "cell_type": "code",
   "execution_count": 14,
   "metadata": {},
   "outputs": [
    {
     "data": {
      "text/html": [
       "<div>\n",
       "<style scoped>\n",
       "    .dataframe tbody tr th:only-of-type {\n",
       "        vertical-align: middle;\n",
       "    }\n",
       "\n",
       "    .dataframe tbody tr th {\n",
       "        vertical-align: top;\n",
       "    }\n",
       "\n",
       "    .dataframe thead th {\n",
       "        text-align: right;\n",
       "    }\n",
       "</style>\n",
       "<table border=\"1\" class=\"dataframe\">\n",
       "  <thead>\n",
       "    <tr style=\"text-align: right;\">\n",
       "      <th></th>\n",
       "      <th>Discipline</th>\n",
       "      <th>Easiness</th>\n",
       "    </tr>\n",
       "  </thead>\n",
       "  <tbody>\n",
       "    <tr>\n",
       "      <th>64</th>\n",
       "      <td>Reading</td>\n",
       "      <td>3.882635</td>\n",
       "    </tr>\n",
       "    <tr>\n",
       "      <th>36</th>\n",
       "      <td>Physical Education</td>\n",
       "      <td>3.832250</td>\n",
       "    </tr>\n",
       "    <tr>\n",
       "      <th>49</th>\n",
       "      <td>Speech</td>\n",
       "      <td>3.674701</td>\n",
       "    </tr>\n",
       "    <tr>\n",
       "      <th>61</th>\n",
       "      <td>Child Development</td>\n",
       "      <td>3.606082</td>\n",
       "    </tr>\n",
       "    <tr>\n",
       "      <th>31</th>\n",
       "      <td>Theater</td>\n",
       "      <td>3.584508</td>\n",
       "    </tr>\n",
       "    <tr>\n",
       "      <th>19</th>\n",
       "      <td>Music</td>\n",
       "      <td>3.542273</td>\n",
       "    </tr>\n",
       "  </tbody>\n",
       "</table>\n",
       "</div>"
      ],
      "text/plain": [
       "            Discipline  Easiness\n",
       "64             Reading  3.882635\n",
       "36  Physical Education  3.832250\n",
       "49              Speech  3.674701\n",
       "61   Child Development  3.606082\n",
       "31             Theater  3.584508\n",
       "19               Music  3.542273"
      ]
     },
     "execution_count": 14,
     "metadata": {},
     "output_type": "execute_result"
    }
   ],
   "source": [
    "some_columns = top_by_easy.loc[:, ['Discipline', 'Easiness']]\n",
    "some_columns"
   ]
  },
  {
   "cell_type": "markdown",
   "metadata": {},
   "source": [
    "You can use Boolean sequences to select rows with `.loc`."
   ]
  },
  {
   "cell_type": "code",
   "execution_count": 15,
   "metadata": {},
   "outputs": [
    {
     "data": {
      "text/plain": [
       "64    4.159392\n",
       "49    4.133191\n",
       "Name: Clarity, dtype: float64"
      ]
     },
     "execution_count": 15,
     "metadata": {},
     "output_type": "execute_result"
    }
   ],
   "source": [
    "clear_clarity = top_by_easy.loc[is_clear, 'Clarity']\n",
    "clear_clarity"
   ]
  },
  {
   "cell_type": "markdown",
   "metadata": {},
   "source": [
    "You can also use some Boolean sequences for `.iloc`, but it's a bit more\n",
    "complicated.  See [Booleans and labels]({{ site.baseurl\n",
    "}}/chapters/07/booleans_and_labels) for more detail."
   ]
  }
 ],
 "metadata": {
  "jupytext": {
   "split_at_heading": true
  },
  "kernelspec": {
   "display_name": "Python 3",
   "language": "python",
   "name": "python3"
  },
  "language_info": {
   "codemirror_mode": {
    "name": "ipython",
    "version": 3
   },
   "file_extension": ".py",
   "mimetype": "text/x-python",
   "name": "python",
   "nbconvert_exporter": "python",
   "pygments_lexer": "ipython3",
   "version": "3.7.6"
  }
 },
 "nbformat": 4,
 "nbformat_minor": 2
}
