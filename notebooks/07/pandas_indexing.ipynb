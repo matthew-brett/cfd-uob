{
 "cells": [
  {
   "cell_type": "markdown",
   "metadata": {},
   "source": [
    "Way back in the [introduction to data frames]({{ site.baseurl\n",
    "}}/chapters/03/data_frame_intro), we covered indexing into data frames with\n",
    "*Boolean vectors*, such as Pandas Series or Numpy arrays, and indexing into data frames with column names.\n",
    "\n",
    "This page covers more sophisticated indexing in Pandas.\n",
    "\n",
    "To understand this indexing, we first need to cover the *index* of data frames\n",
    "and Series.\n",
    "\n",
    "We start with our usual imports:"
   ]
  },
  {
   "cell_type": "code",
   "execution_count": 1,
   "metadata": {},
   "outputs": [],
   "source": [
    "# Load the Numpy library, rename to \"np\"\n",
    "import numpy as np\n",
    "\n",
    "# Load the Pandas data science library, rename to \"pd\"\n",
    "import pandas as pd"
   ]
  },
  {
   "cell_type": "markdown",
   "metadata": {},
   "source": [
    "## The index\n",
    "\n",
    "We return to our first data frame, containing statistics on development and\n",
    "gender from the World Bank.\n",
    "\n",
    "This is the [gender_stats.csv]({{ site.baseurl }}/data/gender_stats.csv) file.\n",
    "See [the gender stats data\n",
    "page](https://github.com/matthew-brett/datasets/tree/master/gender_stats) for\n",
    "some more detail.\n",
    "\n",
    "Download that file to the same directory as this notebook, if you are running\n",
    "on your own computer."
   ]
  },
  {
   "cell_type": "code",
   "execution_count": 2,
   "metadata": {},
   "outputs": [
    {
     "data": {
      "text/html": [
       "<div>\n",
       "<style scoped>\n",
       "    .dataframe tbody tr th:only-of-type {\n",
       "        vertical-align: middle;\n",
       "    }\n",
       "\n",
       "    .dataframe tbody tr th {\n",
       "        vertical-align: top;\n",
       "    }\n",
       "\n",
       "    .dataframe thead th {\n",
       "        text-align: right;\n",
       "    }\n",
       "</style>\n",
       "<table border=\"1\" class=\"dataframe\">\n",
       "  <thead>\n",
       "    <tr style=\"text-align: right;\">\n",
       "      <th></th>\n",
       "      <th>country_name</th>\n",
       "      <th>country_code</th>\n",
       "      <th>fert_rate</th>\n",
       "      <th>gdp_us_billion</th>\n",
       "      <th>health_exp_per_cap</th>\n",
       "      <th>health_exp_pub</th>\n",
       "      <th>prim_ed_girls</th>\n",
       "      <th>mat_mort_ratio</th>\n",
       "      <th>population</th>\n",
       "    </tr>\n",
       "  </thead>\n",
       "  <tbody>\n",
       "    <tr>\n",
       "      <th>0</th>\n",
       "      <td>Aruba</td>\n",
       "      <td>ABW</td>\n",
       "      <td>1.66325</td>\n",
       "      <td>NaN</td>\n",
       "      <td>NaN</td>\n",
       "      <td>NaN</td>\n",
       "      <td>48.721939</td>\n",
       "      <td>NaN</td>\n",
       "      <td>0.103744</td>\n",
       "    </tr>\n",
       "    <tr>\n",
       "      <th>1</th>\n",
       "      <td>Afghanistan</td>\n",
       "      <td>AFG</td>\n",
       "      <td>4.95450</td>\n",
       "      <td>19.961015</td>\n",
       "      <td>161.138034</td>\n",
       "      <td>2.834598</td>\n",
       "      <td>40.109708</td>\n",
       "      <td>444.00</td>\n",
       "      <td>32.715838</td>\n",
       "    </tr>\n",
       "    <tr>\n",
       "      <th>2</th>\n",
       "      <td>Angola</td>\n",
       "      <td>AGO</td>\n",
       "      <td>6.12300</td>\n",
       "      <td>111.936542</td>\n",
       "      <td>254.747970</td>\n",
       "      <td>2.447546</td>\n",
       "      <td>NaN</td>\n",
       "      <td>501.25</td>\n",
       "      <td>26.937545</td>\n",
       "    </tr>\n",
       "    <tr>\n",
       "      <th>3</th>\n",
       "      <td>Albania</td>\n",
       "      <td>ALB</td>\n",
       "      <td>1.76925</td>\n",
       "      <td>12.327586</td>\n",
       "      <td>574.202694</td>\n",
       "      <td>2.836021</td>\n",
       "      <td>47.201082</td>\n",
       "      <td>29.25</td>\n",
       "      <td>2.888280</td>\n",
       "    </tr>\n",
       "    <tr>\n",
       "      <th>4</th>\n",
       "      <td>Andorra</td>\n",
       "      <td>AND</td>\n",
       "      <td>NaN</td>\n",
       "      <td>3.197538</td>\n",
       "      <td>4421.224933</td>\n",
       "      <td>7.260281</td>\n",
       "      <td>47.123345</td>\n",
       "      <td>NaN</td>\n",
       "      <td>0.079547</td>\n",
       "    </tr>\n",
       "    <tr>\n",
       "      <th>5</th>\n",
       "      <td>United Arab Emirates</td>\n",
       "      <td>ARE</td>\n",
       "      <td>1.79300</td>\n",
       "      <td>375.027082</td>\n",
       "      <td>2202.407569</td>\n",
       "      <td>2.581168</td>\n",
       "      <td>48.789260</td>\n",
       "      <td>6.00</td>\n",
       "      <td>9.080299</td>\n",
       "    </tr>\n",
       "    <tr>\n",
       "      <th>6</th>\n",
       "      <td>Argentina</td>\n",
       "      <td>ARG</td>\n",
       "      <td>2.32800</td>\n",
       "      <td>550.980968</td>\n",
       "      <td>1148.256142</td>\n",
       "      <td>2.782216</td>\n",
       "      <td>48.915810</td>\n",
       "      <td>53.75</td>\n",
       "      <td>42.976675</td>\n",
       "    </tr>\n",
       "    <tr>\n",
       "      <th>7</th>\n",
       "      <td>Armenia</td>\n",
       "      <td>ARM</td>\n",
       "      <td>1.54550</td>\n",
       "      <td>10.885362</td>\n",
       "      <td>348.663884</td>\n",
       "      <td>1.916016</td>\n",
       "      <td>46.782180</td>\n",
       "      <td>27.25</td>\n",
       "      <td>2.904683</td>\n",
       "    </tr>\n",
       "    <tr>\n",
       "      <th>8</th>\n",
       "      <td>American Samoa</td>\n",
       "      <td>ASM</td>\n",
       "      <td>NaN</td>\n",
       "      <td>0.640500</td>\n",
       "      <td>NaN</td>\n",
       "      <td>NaN</td>\n",
       "      <td>NaN</td>\n",
       "      <td>NaN</td>\n",
       "      <td>0.055422</td>\n",
       "    </tr>\n",
       "    <tr>\n",
       "      <th>9</th>\n",
       "      <td>Antigua and Barbuda</td>\n",
       "      <td>ATG</td>\n",
       "      <td>2.08200</td>\n",
       "      <td>1.298213</td>\n",
       "      <td>1152.493656</td>\n",
       "      <td>3.676514</td>\n",
       "      <td>48.291463</td>\n",
       "      <td>NaN</td>\n",
       "      <td>0.098872</td>\n",
       "    </tr>\n",
       "  </tbody>\n",
       "</table>\n",
       "</div>"
      ],
      "text/plain": [
       "           country_name country_code  fert_rate  gdp_us_billion  \\\n",
       "0                 Aruba          ABW    1.66325             NaN   \n",
       "1           Afghanistan          AFG    4.95450       19.961015   \n",
       "2                Angola          AGO    6.12300      111.936542   \n",
       "3               Albania          ALB    1.76925       12.327586   \n",
       "4               Andorra          AND        NaN        3.197538   \n",
       "5  United Arab Emirates          ARE    1.79300      375.027082   \n",
       "6             Argentina          ARG    2.32800      550.980968   \n",
       "7               Armenia          ARM    1.54550       10.885362   \n",
       "8        American Samoa          ASM        NaN        0.640500   \n",
       "9   Antigua and Barbuda          ATG    2.08200        1.298213   \n",
       "\n",
       "   health_exp_per_cap  health_exp_pub  prim_ed_girls  mat_mort_ratio  \\\n",
       "0                 NaN             NaN      48.721939             NaN   \n",
       "1          161.138034        2.834598      40.109708          444.00   \n",
       "2          254.747970        2.447546            NaN          501.25   \n",
       "3          574.202694        2.836021      47.201082           29.25   \n",
       "4         4421.224933        7.260281      47.123345             NaN   \n",
       "5         2202.407569        2.581168      48.789260            6.00   \n",
       "6         1148.256142        2.782216      48.915810           53.75   \n",
       "7          348.663884        1.916016      46.782180           27.25   \n",
       "8                 NaN             NaN            NaN             NaN   \n",
       "9         1152.493656        3.676514      48.291463             NaN   \n",
       "\n",
       "   population  \n",
       "0    0.103744  \n",
       "1   32.715838  \n",
       "2   26.937545  \n",
       "3    2.888280  \n",
       "4    0.079547  \n",
       "5    9.080299  \n",
       "6   42.976675  \n",
       "7    2.904683  \n",
       "8    0.055422  \n",
       "9    0.098872  "
      ]
     },
     "execution_count": 2,
     "metadata": {},
     "output_type": "execute_result"
    }
   ],
   "source": [
    "# Load the data file as a data frame.\n",
    "gender_data = pd.read_csv('gender_stats.csv')\n",
    "\n",
    "# Show the first 10 rows\n",
    "gender_data.head(10)"
   ]
  },
  {
   "cell_type": "markdown",
   "metadata": {},
   "source": [
    "As you know, the names at the top, in **bold typeface**, are the names of the\n",
    "columns.  We can see these names using the `columns` attribute of the data\n",
    "frame:"
   ]
  },
  {
   "cell_type": "code",
   "execution_count": 3,
   "metadata": {},
   "outputs": [
    {
     "data": {
      "text/plain": [
       "Index(['country_name', 'country_code', 'fert_rate', 'gdp_us_billion',\n",
       "       'health_exp_per_cap', 'health_exp_pub', 'prim_ed_girls',\n",
       "       'mat_mort_ratio', 'population'],\n",
       "      dtype='object')"
      ]
     },
     "execution_count": 3,
     "metadata": {},
     "output_type": "execute_result"
    }
   ],
   "source": [
    "gender_data.columns"
   ]
  },
  {
   "cell_type": "markdown",
   "metadata": {},
   "source": [
    "These can also be called the *column labels*."
   ]
  },
  {
   "cell_type": "markdown",
   "metadata": {},
   "source": [
    "We have not paid attention so far to the numbers at the left of the table\n",
    "display, also in bold typeface.\n",
    "\n",
    "In this case, they are ascending integers, starting at 0, with value 0 for the\n",
    "first row, 1 for the second row, and so on.\n",
    "\n",
    "These numbers are the *index* of the data frame.  The index contains the *row\n",
    "labels*.\n",
    "\n",
    "We can see the row labels / index with the `index` attribute of the data frame."
   ]
  },
  {
   "cell_type": "code",
   "execution_count": 4,
   "metadata": {},
   "outputs": [
    {
     "data": {
      "text/plain": [
       "RangeIndex(start=0, stop=216, step=1)"
      ]
     },
     "execution_count": 4,
     "metadata": {},
     "output_type": "execute_result"
    }
   ],
   "source": [
    "gender_data.index"
   ]
  },
  {
   "cell_type": "markdown",
   "metadata": {},
   "source": [
    "This is saying we have a simple index, that is like a `np.arange`, starting at\n",
    "0, and continuing in steps of 1 up to, but not including 216.\n",
    "\n",
    "So far, the index looks like row numbers, with 0 for the first row, 1 for the\n",
    "second row.  We will soon see that the index is more than that."
   ]
  },
  {
   "cell_type": "markdown",
   "metadata": {},
   "source": [
    "For example, let us look at the last 15 rows.  We can get these with the `tail`\n",
    "method of the data frame."
   ]
  },
  {
   "cell_type": "code",
   "execution_count": 5,
   "metadata": {},
   "outputs": [
    {
     "data": {
      "text/html": [
       "<div>\n",
       "<style scoped>\n",
       "    .dataframe tbody tr th:only-of-type {\n",
       "        vertical-align: middle;\n",
       "    }\n",
       "\n",
       "    .dataframe tbody tr th {\n",
       "        vertical-align: top;\n",
       "    }\n",
       "\n",
       "    .dataframe thead th {\n",
       "        text-align: right;\n",
       "    }\n",
       "</style>\n",
       "<table border=\"1\" class=\"dataframe\">\n",
       "  <thead>\n",
       "    <tr style=\"text-align: right;\">\n",
       "      <th></th>\n",
       "      <th>country_name</th>\n",
       "      <th>country_code</th>\n",
       "      <th>fert_rate</th>\n",
       "      <th>gdp_us_billion</th>\n",
       "      <th>health_exp_per_cap</th>\n",
       "      <th>health_exp_pub</th>\n",
       "      <th>prim_ed_girls</th>\n",
       "      <th>mat_mort_ratio</th>\n",
       "      <th>population</th>\n",
       "    </tr>\n",
       "  </thead>\n",
       "  <tbody>\n",
       "    <tr>\n",
       "      <th>201</th>\n",
       "      <td>Uruguay</td>\n",
       "      <td>URY</td>\n",
       "      <td>2.027000</td>\n",
       "      <td>54.345132</td>\n",
       "      <td>1721.507752</td>\n",
       "      <td>6.044403</td>\n",
       "      <td>48.295555</td>\n",
       "      <td>15.50</td>\n",
       "      <td>3.419977</td>\n",
       "    </tr>\n",
       "    <tr>\n",
       "      <th>202</th>\n",
       "      <td>United States</td>\n",
       "      <td>USA</td>\n",
       "      <td>1.860875</td>\n",
       "      <td>17369.124600</td>\n",
       "      <td>9060.068657</td>\n",
       "      <td>8.121961</td>\n",
       "      <td>48.758830</td>\n",
       "      <td>14.00</td>\n",
       "      <td>318.558175</td>\n",
       "    </tr>\n",
       "    <tr>\n",
       "      <th>203</th>\n",
       "      <td>Uzbekistan</td>\n",
       "      <td>UZB</td>\n",
       "      <td>2.372750</td>\n",
       "      <td>61.340649</td>\n",
       "      <td>334.476754</td>\n",
       "      <td>3.118842</td>\n",
       "      <td>48.387434</td>\n",
       "      <td>37.00</td>\n",
       "      <td>30.784500</td>\n",
       "    </tr>\n",
       "    <tr>\n",
       "      <th>204</th>\n",
       "      <td>St. Vincent and the Grenadines</td>\n",
       "      <td>VCT</td>\n",
       "      <td>1.986000</td>\n",
       "      <td>0.730107</td>\n",
       "      <td>775.803386</td>\n",
       "      <td>4.365757</td>\n",
       "      <td>48.536415</td>\n",
       "      <td>45.75</td>\n",
       "      <td>0.109421</td>\n",
       "    </tr>\n",
       "    <tr>\n",
       "      <th>205</th>\n",
       "      <td>Venezuela, RB</td>\n",
       "      <td>VEN</td>\n",
       "      <td>2.378250</td>\n",
       "      <td>376.146268</td>\n",
       "      <td>896.815314</td>\n",
       "      <td>1.587088</td>\n",
       "      <td>48.400934</td>\n",
       "      <td>97.00</td>\n",
       "      <td>30.734524</td>\n",
       "    </tr>\n",
       "    <tr>\n",
       "      <th>206</th>\n",
       "      <td>British Virgin Islands</td>\n",
       "      <td>VGB</td>\n",
       "      <td>NaN</td>\n",
       "      <td>NaN</td>\n",
       "      <td>NaN</td>\n",
       "      <td>NaN</td>\n",
       "      <td>47.581520</td>\n",
       "      <td>NaN</td>\n",
       "      <td>0.029585</td>\n",
       "    </tr>\n",
       "    <tr>\n",
       "      <th>207</th>\n",
       "      <td>Virgin Islands (U.S.)</td>\n",
       "      <td>VIR</td>\n",
       "      <td>1.760000</td>\n",
       "      <td>3.812000</td>\n",
       "      <td>NaN</td>\n",
       "      <td>NaN</td>\n",
       "      <td>NaN</td>\n",
       "      <td>NaN</td>\n",
       "      <td>0.104141</td>\n",
       "    </tr>\n",
       "    <tr>\n",
       "      <th>208</th>\n",
       "      <td>Vietnam</td>\n",
       "      <td>VNM</td>\n",
       "      <td>1.959500</td>\n",
       "      <td>181.820736</td>\n",
       "      <td>368.374550</td>\n",
       "      <td>3.779501</td>\n",
       "      <td>48.021053</td>\n",
       "      <td>54.75</td>\n",
       "      <td>90.742400</td>\n",
       "    </tr>\n",
       "    <tr>\n",
       "      <th>209</th>\n",
       "      <td>Vanuatu</td>\n",
       "      <td>VUT</td>\n",
       "      <td>3.364750</td>\n",
       "      <td>0.782876</td>\n",
       "      <td>125.568712</td>\n",
       "      <td>3.689874</td>\n",
       "      <td>47.301617</td>\n",
       "      <td>82.50</td>\n",
       "      <td>0.258896</td>\n",
       "    </tr>\n",
       "    <tr>\n",
       "      <th>210</th>\n",
       "      <td>Samoa</td>\n",
       "      <td>WSM</td>\n",
       "      <td>4.118250</td>\n",
       "      <td>0.799887</td>\n",
       "      <td>366.353096</td>\n",
       "      <td>5.697059</td>\n",
       "      <td>48.350049</td>\n",
       "      <td>54.75</td>\n",
       "      <td>0.192225</td>\n",
       "    </tr>\n",
       "    <tr>\n",
       "      <th>211</th>\n",
       "      <td>Kosovo</td>\n",
       "      <td>XKX</td>\n",
       "      <td>2.142500</td>\n",
       "      <td>6.804620</td>\n",
       "      <td>NaN</td>\n",
       "      <td>NaN</td>\n",
       "      <td>NaN</td>\n",
       "      <td>NaN</td>\n",
       "      <td>1.813820</td>\n",
       "    </tr>\n",
       "    <tr>\n",
       "      <th>212</th>\n",
       "      <td>Yemen, Rep.</td>\n",
       "      <td>YEM</td>\n",
       "      <td>4.225750</td>\n",
       "      <td>36.819337</td>\n",
       "      <td>207.949700</td>\n",
       "      <td>1.417836</td>\n",
       "      <td>44.470076</td>\n",
       "      <td>399.75</td>\n",
       "      <td>26.246608</td>\n",
       "    </tr>\n",
       "    <tr>\n",
       "      <th>213</th>\n",
       "      <td>South Africa</td>\n",
       "      <td>ZAF</td>\n",
       "      <td>2.375250</td>\n",
       "      <td>345.209888</td>\n",
       "      <td>1123.142656</td>\n",
       "      <td>4.241441</td>\n",
       "      <td>48.516298</td>\n",
       "      <td>143.75</td>\n",
       "      <td>54.177209</td>\n",
       "    </tr>\n",
       "    <tr>\n",
       "      <th>214</th>\n",
       "      <td>Zambia</td>\n",
       "      <td>ZMB</td>\n",
       "      <td>5.394250</td>\n",
       "      <td>24.280990</td>\n",
       "      <td>185.556359</td>\n",
       "      <td>2.687290</td>\n",
       "      <td>49.934484</td>\n",
       "      <td>233.75</td>\n",
       "      <td>15.633220</td>\n",
       "    </tr>\n",
       "    <tr>\n",
       "      <th>215</th>\n",
       "      <td>Zimbabwe</td>\n",
       "      <td>ZWE</td>\n",
       "      <td>3.943000</td>\n",
       "      <td>15.495514</td>\n",
       "      <td>115.519881</td>\n",
       "      <td>2.695188</td>\n",
       "      <td>49.529875</td>\n",
       "      <td>398.00</td>\n",
       "      <td>15.420964</td>\n",
       "    </tr>\n",
       "  </tbody>\n",
       "</table>\n",
       "</div>"
      ],
      "text/plain": [
       "                       country_name country_code  fert_rate  gdp_us_billion  \\\n",
       "201                         Uruguay          URY   2.027000       54.345132   \n",
       "202                   United States          USA   1.860875    17369.124600   \n",
       "203                      Uzbekistan          UZB   2.372750       61.340649   \n",
       "204  St. Vincent and the Grenadines          VCT   1.986000        0.730107   \n",
       "205                   Venezuela, RB          VEN   2.378250      376.146268   \n",
       "206          British Virgin Islands          VGB        NaN             NaN   \n",
       "207           Virgin Islands (U.S.)          VIR   1.760000        3.812000   \n",
       "208                         Vietnam          VNM   1.959500      181.820736   \n",
       "209                         Vanuatu          VUT   3.364750        0.782876   \n",
       "210                           Samoa          WSM   4.118250        0.799887   \n",
       "211                          Kosovo          XKX   2.142500        6.804620   \n",
       "212                     Yemen, Rep.          YEM   4.225750       36.819337   \n",
       "213                    South Africa          ZAF   2.375250      345.209888   \n",
       "214                          Zambia          ZMB   5.394250       24.280990   \n",
       "215                        Zimbabwe          ZWE   3.943000       15.495514   \n",
       "\n",
       "     health_exp_per_cap  health_exp_pub  prim_ed_girls  mat_mort_ratio  \\\n",
       "201         1721.507752        6.044403      48.295555           15.50   \n",
       "202         9060.068657        8.121961      48.758830           14.00   \n",
       "203          334.476754        3.118842      48.387434           37.00   \n",
       "204          775.803386        4.365757      48.536415           45.75   \n",
       "205          896.815314        1.587088      48.400934           97.00   \n",
       "206                 NaN             NaN      47.581520             NaN   \n",
       "207                 NaN             NaN            NaN             NaN   \n",
       "208          368.374550        3.779501      48.021053           54.75   \n",
       "209          125.568712        3.689874      47.301617           82.50   \n",
       "210          366.353096        5.697059      48.350049           54.75   \n",
       "211                 NaN             NaN            NaN             NaN   \n",
       "212          207.949700        1.417836      44.470076          399.75   \n",
       "213         1123.142656        4.241441      48.516298          143.75   \n",
       "214          185.556359        2.687290      49.934484          233.75   \n",
       "215          115.519881        2.695188      49.529875          398.00   \n",
       "\n",
       "     population  \n",
       "201    3.419977  \n",
       "202  318.558175  \n",
       "203   30.784500  \n",
       "204    0.109421  \n",
       "205   30.734524  \n",
       "206    0.029585  \n",
       "207    0.104141  \n",
       "208   90.742400  \n",
       "209    0.258896  \n",
       "210    0.192225  \n",
       "211    1.813820  \n",
       "212   26.246608  \n",
       "213   54.177209  \n",
       "214   15.633220  \n",
       "215   15.420964  "
      ]
     },
     "execution_count": 5,
     "metadata": {},
     "output_type": "execute_result"
    }
   ],
   "source": [
    "last_15 = gender_data.tail(15)\n",
    "last_15"
   ]
  },
  {
   "cell_type": "markdown",
   "metadata": {},
   "source": [
    "Here is the `index` of this new data frame."
   ]
  },
  {
   "cell_type": "code",
   "execution_count": 6,
   "metadata": {},
   "outputs": [
    {
     "data": {
      "text/plain": [
       "RangeIndex(start=201, stop=216, step=1)"
      ]
     },
     "execution_count": 6,
     "metadata": {},
     "output_type": "execute_result"
    }
   ],
   "source": [
    "last_15.index"
   ]
  },
  {
   "cell_type": "markdown",
   "metadata": {},
   "source": [
    "Notice that the first row of this new data frame no longer has the label 0 - it\n",
    "has label 201.  These numbers are the labels from the original data frame, from\n",
    "which we selected the rows.\n",
    "\n",
    "Notice too that the second row in this table is the USA, and it has the label\n",
    "\\202."
   ]
  },
  {
   "cell_type": "markdown",
   "metadata": {},
   "source": [
    "Now imagine that I sort the original data frame by Gross Domestic Product, and\n",
    "select the top 15 rows.  By doing this, I select the top 15 richest countries."
   ]
  },
  {
   "cell_type": "code",
   "execution_count": 7,
   "metadata": {},
   "outputs": [
    {
     "data": {
      "text/html": [
       "<div>\n",
       "<style scoped>\n",
       "    .dataframe tbody tr th:only-of-type {\n",
       "        vertical-align: middle;\n",
       "    }\n",
       "\n",
       "    .dataframe tbody tr th {\n",
       "        vertical-align: top;\n",
       "    }\n",
       "\n",
       "    .dataframe thead th {\n",
       "        text-align: right;\n",
       "    }\n",
       "</style>\n",
       "<table border=\"1\" class=\"dataframe\">\n",
       "  <thead>\n",
       "    <tr style=\"text-align: right;\">\n",
       "      <th></th>\n",
       "      <th>country_name</th>\n",
       "      <th>country_code</th>\n",
       "      <th>fert_rate</th>\n",
       "      <th>gdp_us_billion</th>\n",
       "      <th>health_exp_per_cap</th>\n",
       "      <th>health_exp_pub</th>\n",
       "      <th>prim_ed_girls</th>\n",
       "      <th>mat_mort_ratio</th>\n",
       "      <th>population</th>\n",
       "    </tr>\n",
       "  </thead>\n",
       "  <tbody>\n",
       "    <tr>\n",
       "      <th>202</th>\n",
       "      <td>United States</td>\n",
       "      <td>USA</td>\n",
       "      <td>1.860875</td>\n",
       "      <td>17369.124600</td>\n",
       "      <td>9060.068657</td>\n",
       "      <td>8.121961</td>\n",
       "      <td>48.758830</td>\n",
       "      <td>14.00</td>\n",
       "      <td>318.558175</td>\n",
       "    </tr>\n",
       "    <tr>\n",
       "      <th>35</th>\n",
       "      <td>China</td>\n",
       "      <td>CHN</td>\n",
       "      <td>1.558750</td>\n",
       "      <td>10182.790479</td>\n",
       "      <td>657.748859</td>\n",
       "      <td>3.015530</td>\n",
       "      <td>46.297964</td>\n",
       "      <td>28.75</td>\n",
       "      <td>1364.446000</td>\n",
       "    </tr>\n",
       "    <tr>\n",
       "      <th>97</th>\n",
       "      <td>Japan</td>\n",
       "      <td>JPN</td>\n",
       "      <td>1.430000</td>\n",
       "      <td>5106.024760</td>\n",
       "      <td>3687.126279</td>\n",
       "      <td>8.496074</td>\n",
       "      <td>48.744199</td>\n",
       "      <td>5.75</td>\n",
       "      <td>127.297102</td>\n",
       "    </tr>\n",
       "    <tr>\n",
       "      <th>49</th>\n",
       "      <td>Germany</td>\n",
       "      <td>DEU</td>\n",
       "      <td>1.450000</td>\n",
       "      <td>3601.226158</td>\n",
       "      <td>4909.659884</td>\n",
       "      <td>8.542615</td>\n",
       "      <td>48.568695</td>\n",
       "      <td>6.25</td>\n",
       "      <td>81.281645</td>\n",
       "    </tr>\n",
       "    <tr>\n",
       "      <th>67</th>\n",
       "      <td>United Kingdom</td>\n",
       "      <td>GBR</td>\n",
       "      <td>1.842500</td>\n",
       "      <td>2768.864417</td>\n",
       "      <td>3357.983675</td>\n",
       "      <td>7.720655</td>\n",
       "      <td>48.791809</td>\n",
       "      <td>9.25</td>\n",
       "      <td>64.641557</td>\n",
       "    </tr>\n",
       "    <tr>\n",
       "      <th>63</th>\n",
       "      <td>France</td>\n",
       "      <td>FRA</td>\n",
       "      <td>2.005000</td>\n",
       "      <td>2647.649725</td>\n",
       "      <td>4387.835406</td>\n",
       "      <td>8.920420</td>\n",
       "      <td>48.772050</td>\n",
       "      <td>8.75</td>\n",
       "      <td>66.302099</td>\n",
       "    </tr>\n",
       "    <tr>\n",
       "      <th>26</th>\n",
       "      <td>Brazil</td>\n",
       "      <td>BRA</td>\n",
       "      <td>1.795250</td>\n",
       "      <td>2198.765606</td>\n",
       "      <td>1303.199104</td>\n",
       "      <td>3.773473</td>\n",
       "      <td>47.784577</td>\n",
       "      <td>49.50</td>\n",
       "      <td>204.159544</td>\n",
       "    </tr>\n",
       "    <tr>\n",
       "      <th>88</th>\n",
       "      <td>India</td>\n",
       "      <td>IND</td>\n",
       "      <td>2.449250</td>\n",
       "      <td>2019.005411</td>\n",
       "      <td>241.572477</td>\n",
       "      <td>1.292666</td>\n",
       "      <td>49.497234</td>\n",
       "      <td>185.25</td>\n",
       "      <td>1293.742537</td>\n",
       "    </tr>\n",
       "    <tr>\n",
       "      <th>94</th>\n",
       "      <td>Italy</td>\n",
       "      <td>ITA</td>\n",
       "      <td>1.390000</td>\n",
       "      <td>2005.983980</td>\n",
       "      <td>3266.984094</td>\n",
       "      <td>6.984374</td>\n",
       "      <td>48.407573</td>\n",
       "      <td>4.00</td>\n",
       "      <td>60.378795</td>\n",
       "    </tr>\n",
       "    <tr>\n",
       "      <th>164</th>\n",
       "      <td>Russian Federation</td>\n",
       "      <td>RUS</td>\n",
       "      <td>1.724500</td>\n",
       "      <td>1822.691700</td>\n",
       "      <td>1755.506635</td>\n",
       "      <td>3.731354</td>\n",
       "      <td>48.968070</td>\n",
       "      <td>25.25</td>\n",
       "      <td>143.793504</td>\n",
       "    </tr>\n",
       "    <tr>\n",
       "      <th>32</th>\n",
       "      <td>Canada</td>\n",
       "      <td>CAN</td>\n",
       "      <td>1.600300</td>\n",
       "      <td>1708.473627</td>\n",
       "      <td>4616.539134</td>\n",
       "      <td>7.546247</td>\n",
       "      <td>48.808926</td>\n",
       "      <td>7.25</td>\n",
       "      <td>35.517119</td>\n",
       "    </tr>\n",
       "    <tr>\n",
       "      <th>10</th>\n",
       "      <td>Australia</td>\n",
       "      <td>AUS</td>\n",
       "      <td>1.861500</td>\n",
       "      <td>1422.994116</td>\n",
       "      <td>4256.058988</td>\n",
       "      <td>6.292381</td>\n",
       "      <td>48.576707</td>\n",
       "      <td>6.00</td>\n",
       "      <td>23.444560</td>\n",
       "    </tr>\n",
       "    <tr>\n",
       "      <th>104</th>\n",
       "      <td>Korea, Rep.</td>\n",
       "      <td>KOR</td>\n",
       "      <td>1.232000</td>\n",
       "      <td>1346.751162</td>\n",
       "      <td>2385.447251</td>\n",
       "      <td>3.915606</td>\n",
       "      <td>48.023388</td>\n",
       "      <td>12.00</td>\n",
       "      <td>50.727212</td>\n",
       "    </tr>\n",
       "    <tr>\n",
       "      <th>58</th>\n",
       "      <td>Spain</td>\n",
       "      <td>ESP</td>\n",
       "      <td>1.307500</td>\n",
       "      <td>1299.724261</td>\n",
       "      <td>2963.832825</td>\n",
       "      <td>6.545739</td>\n",
       "      <td>48.722231</td>\n",
       "      <td>5.00</td>\n",
       "      <td>46.553128</td>\n",
       "    </tr>\n",
       "    <tr>\n",
       "      <th>124</th>\n",
       "      <td>Mexico</td>\n",
       "      <td>MEX</td>\n",
       "      <td>2.257000</td>\n",
       "      <td>1188.802780</td>\n",
       "      <td>1081.208948</td>\n",
       "      <td>3.225839</td>\n",
       "      <td>48.906296</td>\n",
       "      <td>40.00</td>\n",
       "      <td>124.203450</td>\n",
       "    </tr>\n",
       "  </tbody>\n",
       "</table>\n",
       "</div>"
      ],
      "text/plain": [
       "           country_name country_code  fert_rate  gdp_us_billion  \\\n",
       "202       United States          USA   1.860875    17369.124600   \n",
       "35                China          CHN   1.558750    10182.790479   \n",
       "97                Japan          JPN   1.430000     5106.024760   \n",
       "49              Germany          DEU   1.450000     3601.226158   \n",
       "67       United Kingdom          GBR   1.842500     2768.864417   \n",
       "63               France          FRA   2.005000     2647.649725   \n",
       "26               Brazil          BRA   1.795250     2198.765606   \n",
       "88                India          IND   2.449250     2019.005411   \n",
       "94                Italy          ITA   1.390000     2005.983980   \n",
       "164  Russian Federation          RUS   1.724500     1822.691700   \n",
       "32               Canada          CAN   1.600300     1708.473627   \n",
       "10            Australia          AUS   1.861500     1422.994116   \n",
       "104         Korea, Rep.          KOR   1.232000     1346.751162   \n",
       "58                Spain          ESP   1.307500     1299.724261   \n",
       "124              Mexico          MEX   2.257000     1188.802780   \n",
       "\n",
       "     health_exp_per_cap  health_exp_pub  prim_ed_girls  mat_mort_ratio  \\\n",
       "202         9060.068657        8.121961      48.758830           14.00   \n",
       "35           657.748859        3.015530      46.297964           28.75   \n",
       "97          3687.126279        8.496074      48.744199            5.75   \n",
       "49          4909.659884        8.542615      48.568695            6.25   \n",
       "67          3357.983675        7.720655      48.791809            9.25   \n",
       "63          4387.835406        8.920420      48.772050            8.75   \n",
       "26          1303.199104        3.773473      47.784577           49.50   \n",
       "88           241.572477        1.292666      49.497234          185.25   \n",
       "94          3266.984094        6.984374      48.407573            4.00   \n",
       "164         1755.506635        3.731354      48.968070           25.25   \n",
       "32          4616.539134        7.546247      48.808926            7.25   \n",
       "10          4256.058988        6.292381      48.576707            6.00   \n",
       "104         2385.447251        3.915606      48.023388           12.00   \n",
       "58          2963.832825        6.545739      48.722231            5.00   \n",
       "124         1081.208948        3.225839      48.906296           40.00   \n",
       "\n",
       "      population  \n",
       "202   318.558175  \n",
       "35   1364.446000  \n",
       "97    127.297102  \n",
       "49     81.281645  \n",
       "67     64.641557  \n",
       "63     66.302099  \n",
       "26    204.159544  \n",
       "88   1293.742537  \n",
       "94     60.378795  \n",
       "164   143.793504  \n",
       "32     35.517119  \n",
       "10     23.444560  \n",
       "104    50.727212  \n",
       "58     46.553128  \n",
       "124   124.203450  "
      ]
     },
     "execution_count": 7,
     "metadata": {},
     "output_type": "execute_result"
    }
   ],
   "source": [
    "# Sort by GDP.\n",
    "df_by_gdp = gender_data.sort_values('gdp_us_billion', ascending=False)\n",
    "# Take the top 15 rows.\n",
    "richest_15 = df_by_gdp.head(15)\n",
    "richest_15"
   ]
  },
  {
   "cell_type": "markdown",
   "metadata": {},
   "source": [
    "Now notice that the index values have followed their respective rows.  The row\n",
    "for the USA is now first, but it has kept its original index value (row label)\n",
    "\\- 202.  The index value *identifies* the row.\n",
    "\n",
    "Here is the index for this small table:"
   ]
  },
  {
   "cell_type": "code",
   "execution_count": 8,
   "metadata": {},
   "outputs": [
    {
     "data": {
      "text/plain": [
       "Int64Index([202, 35, 97, 49, 67, 63, 26, 88, 94, 164, 32, 10, 104, 58, 124], dtype='int64')"
      ]
     },
     "execution_count": 8,
     "metadata": {},
     "output_type": "execute_result"
    }
   ],
   "source": [
    "richest_15.index"
   ]
  },
  {
   "cell_type": "markdown",
   "metadata": {},
   "source": [
    "Now let us say that I wanted to get the eleventh row of this table.\n",
    "\n",
    "I would be tempted to do something like `richest_15[10]` - but then - what\n",
    "would Pandas give me?   Does `10` mean the row label for \"Australia\"?  Or does\n",
    "it mean the eleventh row of the table, as it would for an array, and therefore\n",
    "the row for \"Canada\"?  That is, will the indexing using the *labels* (index\n",
    "values)?  Or will it use the positions (as for indexing in Numpy arrays)?\n",
    "\n",
    "The answer is, it is ambiguous, and when things are ambiguous, Pandas has to\n",
    "guess.   That's a bad idea, because then we have to guess what Pandas has\n",
    "guessed, and it is starting to get really confusing.\n",
    "\n",
    "For that reason, we careful Pandas users do not index rows with code like\n",
    "`richest_15[10]`.  When we are not using Booleans to select rows, we always use\n",
    "one of the two indexing attributes that Pandas provides.  Each does a different\n",
    "type of indexing.\n",
    "\n",
    "* The `loc` (label locate) attribute indexes using the *labels* (row index).\n",
    "* The `iloc` (position locate) attribute indexes using the positions.\n",
    "\n",
    "Here they are in action:"
   ]
  },
  {
   "cell_type": "code",
   "execution_count": 9,
   "metadata": {},
   "outputs": [
    {
     "data": {
      "text/plain": [
       "country_name          Australia\n",
       "country_code                AUS\n",
       "fert_rate                1.8615\n",
       "gdp_us_billion          1422.99\n",
       "health_exp_per_cap      4256.06\n",
       "health_exp_pub          6.29238\n",
       "prim_ed_girls           48.5767\n",
       "mat_mort_ratio                6\n",
       "population              23.4446\n",
       "Name: 10, dtype: object"
      ]
     },
     "execution_count": 9,
     "metadata": {},
     "output_type": "execute_result"
    }
   ],
   "source": [
    "# Get the row with label 10\n",
    "richest_15.loc[10]"
   ]
  },
  {
   "cell_type": "code",
   "execution_count": 10,
   "metadata": {},
   "outputs": [
    {
     "data": {
      "text/plain": [
       "country_name           Canada\n",
       "country_code              CAN\n",
       "fert_rate              1.6003\n",
       "gdp_us_billion        1708.47\n",
       "health_exp_per_cap    4616.54\n",
       "health_exp_pub        7.54625\n",
       "prim_ed_girls         48.8089\n",
       "mat_mort_ratio           7.25\n",
       "population            35.5171\n",
       "Name: 32, dtype: object"
      ]
     },
     "execution_count": 10,
     "metadata": {},
     "output_type": "execute_result"
    }
   ],
   "source": [
    "# Get the row at position / offset 10\n",
    "richest_15.iloc[10]"
   ]
  },
  {
   "cell_type": "markdown",
   "metadata": {},
   "source": [
    "In more details, what is happening in the first cell above is that\n",
    "`richest_15.loc` gives us a special value (AKA *object*) that:\n",
    "\n",
    "* knows about the `richest_15` data frame;\n",
    "* will give us rows and columns, if we use `[ something ]` on it.\n",
    "\n",
    "So, read `richest_15.loc[10]` as:\n",
    "\n",
    "* Get the `richest_15` value (the data frame);\n",
    "* Get the `loc` attribute of this data frame. This evaluates to a special\n",
    "  object (value) that can give us rows and columns from the data frame, by\n",
    "  looking at labels;\n",
    "* Use this object to fetch the row labeled 10, by using indexing (`[10]`)"
   ]
  },
  {
   "cell_type": "markdown",
   "metadata": {},
   "source": [
    "Likewise, read `richest_15.iloc[10]` as:\n",
    "\n",
    "* Get the `richest_15` value (the data frame);\n",
    "* Get the `iloc` attribute of this data frame. This evaluates to a special\n",
    "  object (value) that can give us rows and columns from the data frame, by\n",
    "  looking at positions (offsets);\n",
    "* Use this object to fetch the row at offset 10, by using indexing (`[10]`)."
   ]
  },
  {
   "cell_type": "markdown",
   "metadata": {},
   "source": [
    "When you select rows and columns from a data frame, consider carefully what you\n",
    "want.\n",
    "\n",
    "Do you want to select rows and columns by *label* (by *index*, in the rows).\n",
    "Then you want `.loc`.\n",
    "\n",
    "Do you want to select rows and columns by *position* (offset).  Then you want\n",
    "`.iloc`."
   ]
  },
  {
   "cell_type": "markdown",
   "metadata": {},
   "source": [
    "## Loc and iloc indexing work on columns too"
   ]
  },
  {
   "cell_type": "markdown",
   "metadata": {},
   "source": [
    "Consider this.  We use `.loc` and the label for the *row*, followed by the\n",
    "label for the *column*."
   ]
  },
  {
   "cell_type": "code",
   "execution_count": 11,
   "metadata": {},
   "outputs": [
    {
     "data": {
      "text/plain": [
       "1422.994116449394"
      ]
     },
     "execution_count": 11,
     "metadata": {},
     "output_type": "execute_result"
    }
   ],
   "source": [
    "richest_15.loc[10, 'gdp_us_billion']"
   ]
  },
  {
   "cell_type": "markdown",
   "metadata": {},
   "source": [
    "This selects the row *labeled* 10 (the USA row) and returns the value from the\n",
    "`gdp_us_billion` column.\n",
    "\n",
    "Conversely, `iloc` only understands positions, and so, integers.  It does not\n",
    "understand or use labels:"
   ]
  },
  {
   "cell_type": "code",
   "execution_count": 12,
   "metadata": {
    "tags": [
     "raises-exception"
    ]
   },
   "outputs": [
    {
     "ename": "ValueError",
     "evalue": "Location based indexing can only have [integer, integer slice (START point is INCLUDED, END point is EXCLUDED), listlike of integers, boolean array] types",
     "output_type": "error",
     "traceback": [
      "\u001b[0;31m---------------------------------------------------------------------------\u001b[0m",
      "\u001b[0;31mValueError\u001b[0m                                Traceback (most recent call last)",
      "\u001b[0;32m~/Library/Python/3.7/lib/python/site-packages/pandas/core/indexing.py\u001b[0m in \u001b[0;36m_has_valid_tuple\u001b[0;34m(self, key)\u001b[0m\n\u001b[1;32m    222\u001b[0m             \u001b[0;32mtry\u001b[0m\u001b[0;34m:\u001b[0m\u001b[0;34m\u001b[0m\u001b[0;34m\u001b[0m\u001b[0m\n\u001b[0;32m--> 223\u001b[0;31m                 \u001b[0mself\u001b[0m\u001b[0;34m.\u001b[0m\u001b[0m_validate_key\u001b[0m\u001b[0;34m(\u001b[0m\u001b[0mk\u001b[0m\u001b[0;34m,\u001b[0m \u001b[0mi\u001b[0m\u001b[0;34m)\u001b[0m\u001b[0;34m\u001b[0m\u001b[0;34m\u001b[0m\u001b[0m\n\u001b[0m\u001b[1;32m    224\u001b[0m             \u001b[0;32mexcept\u001b[0m \u001b[0mValueError\u001b[0m\u001b[0;34m:\u001b[0m\u001b[0;34m\u001b[0m\u001b[0;34m\u001b[0m\u001b[0m\n",
      "\u001b[0;32m~/Library/Python/3.7/lib/python/site-packages/pandas/core/indexing.py\u001b[0m in \u001b[0;36m_validate_key\u001b[0;34m(self, key, axis)\u001b[0m\n\u001b[1;32m   2083\u001b[0m             raise ValueError(\"Can only index by location with \"\n\u001b[0;32m-> 2084\u001b[0;31m                              \"a [{types}]\".format(types=self._valid_types))\n\u001b[0m\u001b[1;32m   2085\u001b[0m \u001b[0;34m\u001b[0m\u001b[0m\n",
      "\u001b[0;31mValueError\u001b[0m: Can only index by location with a [integer, integer slice (START point is INCLUDED, END point is EXCLUDED), listlike of integers, boolean array]",
      "\nDuring handling of the above exception, another exception occurred:\n",
      "\u001b[0;31mValueError\u001b[0m                                Traceback (most recent call last)",
      "\u001b[0;32m<ipython-input-12-3b068730429a>\u001b[0m in \u001b[0;36m<module>\u001b[0;34m\u001b[0m\n\u001b[1;32m      1\u001b[0m \u001b[0;31m# We can't specify columns by label, using iloc.\u001b[0m\u001b[0;34m\u001b[0m\u001b[0;34m\u001b[0m\u001b[0;34m\u001b[0m\u001b[0m\n\u001b[0;32m----> 2\u001b[0;31m \u001b[0mrichest_15\u001b[0m\u001b[0;34m.\u001b[0m\u001b[0miloc\u001b[0m\u001b[0;34m[\u001b[0m\u001b[0;36m10\u001b[0m\u001b[0;34m,\u001b[0m \u001b[0;34m'gdp_us_billion'\u001b[0m\u001b[0;34m]\u001b[0m\u001b[0;34m\u001b[0m\u001b[0;34m\u001b[0m\u001b[0m\n\u001b[0m",
      "\u001b[0;32m~/Library/Python/3.7/lib/python/site-packages/pandas/core/indexing.py\u001b[0m in \u001b[0;36m__getitem__\u001b[0;34m(self, key)\u001b[0m\n\u001b[1;32m   1492\u001b[0m             \u001b[0;32mexcept\u001b[0m \u001b[0;34m(\u001b[0m\u001b[0mKeyError\u001b[0m\u001b[0;34m,\u001b[0m \u001b[0mIndexError\u001b[0m\u001b[0;34m,\u001b[0m \u001b[0mAttributeError\u001b[0m\u001b[0;34m)\u001b[0m\u001b[0;34m:\u001b[0m\u001b[0;34m\u001b[0m\u001b[0;34m\u001b[0m\u001b[0m\n\u001b[1;32m   1493\u001b[0m                 \u001b[0;32mpass\u001b[0m\u001b[0;34m\u001b[0m\u001b[0;34m\u001b[0m\u001b[0m\n\u001b[0;32m-> 1494\u001b[0;31m             \u001b[0;32mreturn\u001b[0m \u001b[0mself\u001b[0m\u001b[0;34m.\u001b[0m\u001b[0m_getitem_tuple\u001b[0m\u001b[0;34m(\u001b[0m\u001b[0mkey\u001b[0m\u001b[0;34m)\u001b[0m\u001b[0;34m\u001b[0m\u001b[0;34m\u001b[0m\u001b[0m\n\u001b[0m\u001b[1;32m   1495\u001b[0m         \u001b[0;32melse\u001b[0m\u001b[0;34m:\u001b[0m\u001b[0;34m\u001b[0m\u001b[0;34m\u001b[0m\u001b[0m\n\u001b[1;32m   1496\u001b[0m             \u001b[0;31m# we by definition only have the 0th axis\u001b[0m\u001b[0;34m\u001b[0m\u001b[0;34m\u001b[0m\u001b[0;34m\u001b[0m\u001b[0m\n",
      "\u001b[0;32m~/Library/Python/3.7/lib/python/site-packages/pandas/core/indexing.py\u001b[0m in \u001b[0;36m_getitem_tuple\u001b[0;34m(self, tup)\u001b[0m\n\u001b[1;32m   2141\u001b[0m     \u001b[0;32mdef\u001b[0m \u001b[0m_getitem_tuple\u001b[0m\u001b[0;34m(\u001b[0m\u001b[0mself\u001b[0m\u001b[0;34m,\u001b[0m \u001b[0mtup\u001b[0m\u001b[0;34m)\u001b[0m\u001b[0;34m:\u001b[0m\u001b[0;34m\u001b[0m\u001b[0;34m\u001b[0m\u001b[0m\n\u001b[1;32m   2142\u001b[0m \u001b[0;34m\u001b[0m\u001b[0m\n\u001b[0;32m-> 2143\u001b[0;31m         \u001b[0mself\u001b[0m\u001b[0;34m.\u001b[0m\u001b[0m_has_valid_tuple\u001b[0m\u001b[0;34m(\u001b[0m\u001b[0mtup\u001b[0m\u001b[0;34m)\u001b[0m\u001b[0;34m\u001b[0m\u001b[0;34m\u001b[0m\u001b[0m\n\u001b[0m\u001b[1;32m   2144\u001b[0m         \u001b[0;32mtry\u001b[0m\u001b[0;34m:\u001b[0m\u001b[0;34m\u001b[0m\u001b[0;34m\u001b[0m\u001b[0m\n\u001b[1;32m   2145\u001b[0m             \u001b[0;32mreturn\u001b[0m \u001b[0mself\u001b[0m\u001b[0;34m.\u001b[0m\u001b[0m_getitem_lowerdim\u001b[0m\u001b[0;34m(\u001b[0m\u001b[0mtup\u001b[0m\u001b[0;34m)\u001b[0m\u001b[0;34m\u001b[0m\u001b[0;34m\u001b[0m\u001b[0m\n",
      "\u001b[0;32m~/Library/Python/3.7/lib/python/site-packages/pandas/core/indexing.py\u001b[0m in \u001b[0;36m_has_valid_tuple\u001b[0;34m(self, key)\u001b[0m\n\u001b[1;32m    225\u001b[0m                 raise ValueError(\"Location based indexing can only have \"\n\u001b[1;32m    226\u001b[0m                                  \u001b[0;34m\"[{types}] types\"\u001b[0m\u001b[0;34m\u001b[0m\u001b[0;34m\u001b[0m\u001b[0m\n\u001b[0;32m--> 227\u001b[0;31m                                  .format(types=self._valid_types))\n\u001b[0m\u001b[1;32m    228\u001b[0m \u001b[0;34m\u001b[0m\u001b[0m\n\u001b[1;32m    229\u001b[0m     \u001b[0;32mdef\u001b[0m \u001b[0m_is_nested_tuple_indexer\u001b[0m\u001b[0;34m(\u001b[0m\u001b[0mself\u001b[0m\u001b[0;34m,\u001b[0m \u001b[0mtup\u001b[0m\u001b[0;34m)\u001b[0m\u001b[0;34m:\u001b[0m\u001b[0;34m\u001b[0m\u001b[0;34m\u001b[0m\u001b[0m\n",
      "\u001b[0;31mValueError\u001b[0m: Location based indexing can only have [integer, integer slice (START point is INCLUDED, END point is EXCLUDED), listlike of integers, boolean array] types"
     ]
    }
   ],
   "source": [
    "# We can't specify columns by label, using iloc.\n",
    "richest_15.iloc[10, 'gdp_us_billion']"
   ]
  },
  {
   "cell_type": "markdown",
   "metadata": {},
   "source": [
    "Notice the somewhat informative error right at the bottom of the error message."
   ]
  },
  {
   "cell_type": "markdown",
   "metadata": {},
   "source": [
    "`iloc` can get columns by their position.  For example, `fertility_rate` is the\n",
    "third column, and so we can get the fertility rate by asking `iloc` for the\n",
    "eleventh row, third column, like so:"
   ]
  },
  {
   "cell_type": "code",
   "execution_count": 13,
   "metadata": {},
   "outputs": [
    {
     "data": {
      "text/plain": [
       "1.6002999999999998"
      ]
     },
     "execution_count": 13,
     "metadata": {},
     "output_type": "execute_result"
    }
   ],
   "source": [
    "richest_15.iloc[10, 2]"
   ]
  },
  {
   "cell_type": "markdown",
   "metadata": {},
   "source": [
    "This is the value from the row at offset 10 and the column at offset 2.\n"
   ]
  },
  {
   "cell_type": "markdown",
   "metadata": {},
   "source": [
    "## Series have an index too"
   ]
  },
  {
   "cell_type": "markdown",
   "metadata": {},
   "source": [
    "Data frames have columns (and column labels), and rows (with row labels --- the\n",
    "index).\n",
    "\n",
    "Series also have element labels --- they also have an index.\n",
    "\n",
    "Consider this column, of the fertility rates of the richest countries:"
   ]
  },
  {
   "cell_type": "code",
   "execution_count": 14,
   "metadata": {},
   "outputs": [
    {
     "data": {
      "text/plain": [
       "202    1.860875\n",
       "35     1.558750\n",
       "97     1.430000\n",
       "49     1.450000\n",
       "67     1.842500\n",
       "Name: fert_rate, dtype: float64"
      ]
     },
     "execution_count": 14,
     "metadata": {},
     "output_type": "execute_result"
    }
   ],
   "source": [
    "# Get the fert_rate column from the data frame\n",
    "rich_ferts = richest_15['fert_rate']\n",
    "rich_ferts.head()"
   ]
  },
  {
   "cell_type": "markdown",
   "metadata": {},
   "source": [
    "As y'all know, this is a Series:"
   ]
  },
  {
   "cell_type": "code",
   "execution_count": 15,
   "metadata": {},
   "outputs": [
    {
     "data": {
      "text/plain": [
       "pandas.core.series.Series"
      ]
     },
     "execution_count": 15,
     "metadata": {},
     "output_type": "execute_result"
    }
   ],
   "source": [
    "type(rich_ferts)"
   ]
  },
  {
   "cell_type": "markdown",
   "metadata": {},
   "source": [
    "You probably also spotted the numbers to the left of the values.  Yes, the row\n",
    "labels have come across from the data frame into the Series.  We can see that\n",
    "the first element has row label 202, and we remember that this is the row label\n",
    "(index value) for the USA."
   ]
  },
  {
   "cell_type": "markdown",
   "metadata": {},
   "source": [
    "As for the data frames, here is the index for the series:"
   ]
  },
  {
   "cell_type": "code",
   "execution_count": 16,
   "metadata": {},
   "outputs": [
    {
     "data": {
      "text/plain": [
       "Int64Index([202, 35, 97, 49, 67, 63, 26, 88, 94, 164, 32, 10, 104, 58, 124], dtype='int64')"
      ]
     },
     "execution_count": 16,
     "metadata": {},
     "output_type": "execute_result"
    }
   ],
   "source": [
    "rich_ferts.index"
   ]
  },
  {
   "cell_type": "markdown",
   "metadata": {},
   "source": [
    "Like data frames, we can index by label, with `loc`, and by position, with\n",
    "`iloc`:"
   ]
  },
  {
   "cell_type": "code",
   "execution_count": 17,
   "metadata": {},
   "outputs": [
    {
     "data": {
      "text/plain": [
       "1.8615"
      ]
     },
     "execution_count": 17,
     "metadata": {},
     "output_type": "execute_result"
    }
   ],
   "source": [
    "# The value for row labeled 10 - Australia.\n",
    "rich_ferts.loc[10]"
   ]
  },
  {
   "cell_type": "code",
   "execution_count": 18,
   "metadata": {},
   "outputs": [
    {
     "data": {
      "text/plain": [
       "1.6002999999999998"
      ]
     },
     "execution_count": 18,
     "metadata": {},
     "output_type": "execute_result"
    }
   ],
   "source": [
    "# The value for the row at position 10 - Canada\n",
    "rich_ferts.iloc[10]"
   ]
  },
  {
   "cell_type": "markdown",
   "metadata": {},
   "source": [
    "## Rows from data frames are Series"
   ]
  },
  {
   "cell_type": "markdown",
   "metadata": {},
   "source": [
    "Here we select the row at position 0 (the first row):"
   ]
  },
  {
   "cell_type": "code",
   "execution_count": 19,
   "metadata": {},
   "outputs": [
    {
     "data": {
      "text/plain": [
       "country_name          United States\n",
       "country_code                    USA\n",
       "fert_rate                   1.86088\n",
       "gdp_us_billion              17369.1\n",
       "health_exp_per_cap          9060.07\n",
       "health_exp_pub              8.12196\n",
       "prim_ed_girls               48.7588\n",
       "mat_mort_ratio                   14\n",
       "population                  318.558\n",
       "Name: 202, dtype: object"
      ]
     },
     "execution_count": 19,
     "metadata": {},
     "output_type": "execute_result"
    }
   ],
   "source": [
    "first_row = richest_15.iloc[0]\n",
    "first_row"
   ]
  },
  {
   "cell_type": "markdown",
   "metadata": {},
   "source": [
    "This is a Series:"
   ]
  },
  {
   "cell_type": "code",
   "execution_count": 20,
   "metadata": {},
   "outputs": [
    {
     "data": {
      "text/plain": [
       "pandas.core.series.Series"
      ]
     },
     "execution_count": 20,
     "metadata": {},
     "output_type": "execute_result"
    }
   ],
   "source": [
    "type(first_row)"
   ]
  },
  {
   "cell_type": "markdown",
   "metadata": {},
   "source": [
    "Notice that the Series has 9 elements, one for each column in the data frame.\n",
    "\n",
    "As you remember, we can see the number of rows and columns in a data frame\n",
    "with:"
   ]
  },
  {
   "cell_type": "code",
   "execution_count": 21,
   "metadata": {},
   "outputs": [
    {
     "data": {
      "text/plain": [
       "(15, 9)"
      ]
     },
     "execution_count": 21,
     "metadata": {},
     "output_type": "execute_result"
    }
   ],
   "source": [
    "richest_15.shape"
   ]
  },
  {
   "cell_type": "markdown",
   "metadata": {},
   "source": [
    "Remember, the columns have names, which we can also call *labels*.\n",
    "\n",
    "When we select a row out of a data frame, we have one element per column, and\n",
    "the labels for the columns now become the labels for the rows."
   ]
  },
  {
   "cell_type": "code",
   "execution_count": 22,
   "metadata": {},
   "outputs": [
    {
     "data": {
      "text/plain": [
       "Index(['country_name', 'country_code', 'fert_rate', 'gdp_us_billion',\n",
       "       'health_exp_per_cap', 'health_exp_pub', 'prim_ed_girls',\n",
       "       'mat_mort_ratio', 'population'],\n",
       "      dtype='object')"
      ]
     },
     "execution_count": 22,
     "metadata": {},
     "output_type": "execute_result"
    }
   ],
   "source": [
    "first_row.index"
   ]
  },
  {
   "cell_type": "markdown",
   "metadata": {},
   "source": [
    "As for any other Series, we can get elements by label, with `loc`:"
   ]
  },
  {
   "cell_type": "code",
   "execution_count": 23,
   "metadata": {},
   "outputs": [
    {
     "data": {
      "text/plain": [
       "1.860875"
      ]
     },
     "execution_count": 23,
     "metadata": {},
     "output_type": "execute_result"
    }
   ],
   "source": [
    "first_row.loc['fert_rate']"
   ]
  },
  {
   "cell_type": "markdown",
   "metadata": {},
   "source": [
    "We can also get elements by position (offset), with `iloc`:"
   ]
  },
  {
   "cell_type": "code",
   "execution_count": 24,
   "metadata": {},
   "outputs": [
    {
     "data": {
      "text/plain": [
       "'United States'"
      ]
     },
     "execution_count": 24,
     "metadata": {},
     "output_type": "execute_result"
    }
   ],
   "source": [
    "first_row.iloc[0]"
   ]
  },
  {
   "cell_type": "markdown",
   "metadata": {},
   "source": [
    "## You can index without loc and iloc, but please don't, except ..."
   ]
  },
  {
   "cell_type": "markdown",
   "metadata": {},
   "source": [
    "In the [data frame introduction](../04/data_frame_intro), you saw that we can\n",
    "index into data frame directly, using `[ something ]` after the data frame\n",
    "value, without using `loc` or `iloc`.  Call this *direct indexing*.  This is\n",
    "a very reasonable thing to do if:\n",
    "\n",
    "* the `something` is a Boolean sequence.  This is not ambiguous.\n",
    "* the `something` is a column name.  This isn't ambiguous either.\n",
    "\n",
    "We used both types of direct indexing in the data frame introduction page.\n",
    "\n",
    "For example, both of these are entirely reasonable uses of direct indexing:"
   ]
  },
  {
   "cell_type": "code",
   "execution_count": 25,
   "metadata": {},
   "outputs": [
    {
     "data": {
      "text/html": [
       "<div>\n",
       "<style scoped>\n",
       "    .dataframe tbody tr th:only-of-type {\n",
       "        vertical-align: middle;\n",
       "    }\n",
       "\n",
       "    .dataframe tbody tr th {\n",
       "        vertical-align: top;\n",
       "    }\n",
       "\n",
       "    .dataframe thead th {\n",
       "        text-align: right;\n",
       "    }\n",
       "</style>\n",
       "<table border=\"1\" class=\"dataframe\">\n",
       "  <thead>\n",
       "    <tr style=\"text-align: right;\">\n",
       "      <th></th>\n",
       "      <th>country_name</th>\n",
       "      <th>country_code</th>\n",
       "      <th>fert_rate</th>\n",
       "      <th>gdp_us_billion</th>\n",
       "      <th>health_exp_per_cap</th>\n",
       "      <th>health_exp_pub</th>\n",
       "      <th>prim_ed_girls</th>\n",
       "      <th>mat_mort_ratio</th>\n",
       "      <th>population</th>\n",
       "    </tr>\n",
       "  </thead>\n",
       "  <tbody>\n",
       "    <tr>\n",
       "      <th>202</th>\n",
       "      <td>United States</td>\n",
       "      <td>USA</td>\n",
       "      <td>1.860875</td>\n",
       "      <td>17369.124600</td>\n",
       "      <td>9060.068657</td>\n",
       "      <td>8.121961</td>\n",
       "      <td>48.758830</td>\n",
       "      <td>14.00</td>\n",
       "      <td>318.558175</td>\n",
       "    </tr>\n",
       "    <tr>\n",
       "      <th>97</th>\n",
       "      <td>Japan</td>\n",
       "      <td>JPN</td>\n",
       "      <td>1.430000</td>\n",
       "      <td>5106.024760</td>\n",
       "      <td>3687.126279</td>\n",
       "      <td>8.496074</td>\n",
       "      <td>48.744199</td>\n",
       "      <td>5.75</td>\n",
       "      <td>127.297102</td>\n",
       "    </tr>\n",
       "    <tr>\n",
       "      <th>49</th>\n",
       "      <td>Germany</td>\n",
       "      <td>DEU</td>\n",
       "      <td>1.450000</td>\n",
       "      <td>3601.226158</td>\n",
       "      <td>4909.659884</td>\n",
       "      <td>8.542615</td>\n",
       "      <td>48.568695</td>\n",
       "      <td>6.25</td>\n",
       "      <td>81.281645</td>\n",
       "    </tr>\n",
       "    <tr>\n",
       "      <th>67</th>\n",
       "      <td>United Kingdom</td>\n",
       "      <td>GBR</td>\n",
       "      <td>1.842500</td>\n",
       "      <td>2768.864417</td>\n",
       "      <td>3357.983675</td>\n",
       "      <td>7.720655</td>\n",
       "      <td>48.791809</td>\n",
       "      <td>9.25</td>\n",
       "      <td>64.641557</td>\n",
       "    </tr>\n",
       "    <tr>\n",
       "      <th>63</th>\n",
       "      <td>France</td>\n",
       "      <td>FRA</td>\n",
       "      <td>2.005000</td>\n",
       "      <td>2647.649725</td>\n",
       "      <td>4387.835406</td>\n",
       "      <td>8.920420</td>\n",
       "      <td>48.772050</td>\n",
       "      <td>8.75</td>\n",
       "      <td>66.302099</td>\n",
       "    </tr>\n",
       "    <tr>\n",
       "      <th>94</th>\n",
       "      <td>Italy</td>\n",
       "      <td>ITA</td>\n",
       "      <td>1.390000</td>\n",
       "      <td>2005.983980</td>\n",
       "      <td>3266.984094</td>\n",
       "      <td>6.984374</td>\n",
       "      <td>48.407573</td>\n",
       "      <td>4.00</td>\n",
       "      <td>60.378795</td>\n",
       "    </tr>\n",
       "    <tr>\n",
       "      <th>32</th>\n",
       "      <td>Canada</td>\n",
       "      <td>CAN</td>\n",
       "      <td>1.600300</td>\n",
       "      <td>1708.473627</td>\n",
       "      <td>4616.539134</td>\n",
       "      <td>7.546247</td>\n",
       "      <td>48.808926</td>\n",
       "      <td>7.25</td>\n",
       "      <td>35.517119</td>\n",
       "    </tr>\n",
       "    <tr>\n",
       "      <th>10</th>\n",
       "      <td>Australia</td>\n",
       "      <td>AUS</td>\n",
       "      <td>1.861500</td>\n",
       "      <td>1422.994116</td>\n",
       "      <td>4256.058988</td>\n",
       "      <td>6.292381</td>\n",
       "      <td>48.576707</td>\n",
       "      <td>6.00</td>\n",
       "      <td>23.444560</td>\n",
       "    </tr>\n",
       "  </tbody>\n",
       "</table>\n",
       "</div>"
      ],
      "text/plain": [
       "       country_name country_code  fert_rate  gdp_us_billion  \\\n",
       "202   United States          USA   1.860875    17369.124600   \n",
       "97            Japan          JPN   1.430000     5106.024760   \n",
       "49          Germany          DEU   1.450000     3601.226158   \n",
       "67   United Kingdom          GBR   1.842500     2768.864417   \n",
       "63           France          FRA   2.005000     2647.649725   \n",
       "94            Italy          ITA   1.390000     2005.983980   \n",
       "32           Canada          CAN   1.600300     1708.473627   \n",
       "10        Australia          AUS   1.861500     1422.994116   \n",
       "\n",
       "     health_exp_per_cap  health_exp_pub  prim_ed_girls  mat_mort_ratio  \\\n",
       "202         9060.068657        8.121961      48.758830           14.00   \n",
       "97          3687.126279        8.496074      48.744199            5.75   \n",
       "49          4909.659884        8.542615      48.568695            6.25   \n",
       "67          3357.983675        7.720655      48.791809            9.25   \n",
       "63          4387.835406        8.920420      48.772050            8.75   \n",
       "94          3266.984094        6.984374      48.407573            4.00   \n",
       "32          4616.539134        7.546247      48.808926            7.25   \n",
       "10          4256.058988        6.292381      48.576707            6.00   \n",
       "\n",
       "     population  \n",
       "202  318.558175  \n",
       "97   127.297102  \n",
       "49    81.281645  \n",
       "67    64.641557  \n",
       "63    66.302099  \n",
       "94    60.378795  \n",
       "32    35.517119  \n",
       "10    23.444560  "
      ]
     },
     "execution_count": 25,
     "metadata": {},
     "output_type": "execute_result"
    }
   ],
   "source": [
    "# Direct Boolean indexing:\n",
    "# Select rows where 'health_exp_per_cap' is greater than 3000 dollars.\n",
    "is_big_spender = richest_15['health_exp_per_cap'] > 3000  # Boolean Series\n",
    "big_health_spenders = richest_15[is_big_spender]\n",
    "big_health_spenders"
   ]
  },
  {
   "cell_type": "code",
   "execution_count": 26,
   "metadata": {},
   "outputs": [
    {
     "data": {
      "text/plain": [
       "202    USA\n",
       "35     CHN\n",
       "97     JPN\n",
       "49     DEU\n",
       "67     GBR\n",
       "63     FRA\n",
       "26     BRA\n",
       "88     IND\n",
       "94     ITA\n",
       "164    RUS\n",
       "32     CAN\n",
       "10     AUS\n",
       "104    KOR\n",
       "58     ESP\n",
       "124    MEX\n",
       "Name: country_code, dtype: object"
      ]
     },
     "execution_count": 26,
     "metadata": {},
     "output_type": "execute_result"
    }
   ],
   "source": [
    "# Direct indexing with column label:\n",
    "# Select the 'country_code' column.\n",
    "country_code = richest_15['country_code']\n",
    "country_code"
   ]
  },
  {
   "cell_type": "markdown",
   "metadata": {},
   "source": [
    "Those uses of direct indexing are entirely sensible.  Other uses of direct indexing are not sensible, and we strongly encourage you not to use them.\n",
    "\n",
    "For example, Pandas will also allow you to this, with the Series we just made:"
   ]
  },
  {
   "cell_type": "code",
   "execution_count": 27,
   "metadata": {},
   "outputs": [
    {
     "data": {
      "text/plain": [
       "'AUS'"
      ]
     },
     "execution_count": 27,
     "metadata": {},
     "output_type": "execute_result"
    }
   ],
   "source": [
    "# Nooooooo !\n",
    "country_code[10]"
   ]
  },
  {
   "cell_type": "markdown",
   "metadata": {},
   "source": [
    "Please don't do that.  This is ambiguous.  Did you really mean the country with\n",
    "label 10?  Or did you mean the country at position 10?   Pandas will guess for\n",
    "you.  Don't let it.  If you are not selecting rows / elements with Booleans,\n",
    "always do this:"
   ]
  },
  {
   "cell_type": "code",
   "execution_count": 28,
   "metadata": {},
   "outputs": [
    {
     "data": {
      "text/plain": [
       "'AUS'"
      ]
     },
     "execution_count": 28,
     "metadata": {},
     "output_type": "execute_result"
    }
   ],
   "source": [
    "# By label\n",
    "country_code.loc[10]"
   ]
  },
  {
   "cell_type": "markdown",
   "metadata": {},
   "source": [
    "or this:"
   ]
  },
  {
   "cell_type": "code",
   "execution_count": 29,
   "metadata": {},
   "outputs": [
    {
     "data": {
      "text/plain": [
       "'CAN'"
      ]
     },
     "execution_count": 29,
     "metadata": {},
     "output_type": "execute_result"
    }
   ],
   "source": [
    "# By position\n",
    "country_code.iloc[10]"
   ]
  },
  {
   "cell_type": "markdown",
   "metadata": {},
   "source": [
    "## You can use Boolean indexing with loc"
   ]
  },
  {
   "cell_type": "markdown",
   "metadata": {},
   "source": [
    "It is often convenient to use direct indexing with Booleans, as we have just seen:"
   ]
  },
  {
   "cell_type": "code",
   "execution_count": 30,
   "metadata": {},
   "outputs": [
    {
     "data": {
      "text/plain": [
       "202     True\n",
       "35     False\n",
       "97      True\n",
       "49      True\n",
       "67      True\n",
       "63      True\n",
       "26     False\n",
       "88     False\n",
       "94      True\n",
       "164    False\n",
       "32      True\n",
       "10      True\n",
       "104    False\n",
       "58     False\n",
       "124    False\n",
       "Name: health_exp_per_cap, dtype: bool"
      ]
     },
     "execution_count": 30,
     "metadata": {},
     "output_type": "execute_result"
    }
   ],
   "source": [
    "# Create a Boolean series with True for big spender rows, False otherwise.\n",
    "is_big_spender = richest_15['health_exp_per_cap'] > 3000\n",
    "is_big_spender"
   ]
  },
  {
   "cell_type": "code",
   "execution_count": 31,
   "metadata": {},
   "outputs": [
    {
     "data": {
      "text/html": [
       "<div>\n",
       "<style scoped>\n",
       "    .dataframe tbody tr th:only-of-type {\n",
       "        vertical-align: middle;\n",
       "    }\n",
       "\n",
       "    .dataframe tbody tr th {\n",
       "        vertical-align: top;\n",
       "    }\n",
       "\n",
       "    .dataframe thead th {\n",
       "        text-align: right;\n",
       "    }\n",
       "</style>\n",
       "<table border=\"1\" class=\"dataframe\">\n",
       "  <thead>\n",
       "    <tr style=\"text-align: right;\">\n",
       "      <th></th>\n",
       "      <th>country_name</th>\n",
       "      <th>country_code</th>\n",
       "      <th>fert_rate</th>\n",
       "      <th>gdp_us_billion</th>\n",
       "      <th>health_exp_per_cap</th>\n",
       "      <th>health_exp_pub</th>\n",
       "      <th>prim_ed_girls</th>\n",
       "      <th>mat_mort_ratio</th>\n",
       "      <th>population</th>\n",
       "    </tr>\n",
       "  </thead>\n",
       "  <tbody>\n",
       "    <tr>\n",
       "      <th>202</th>\n",
       "      <td>United States</td>\n",
       "      <td>USA</td>\n",
       "      <td>1.860875</td>\n",
       "      <td>17369.124600</td>\n",
       "      <td>9060.068657</td>\n",
       "      <td>8.121961</td>\n",
       "      <td>48.758830</td>\n",
       "      <td>14.00</td>\n",
       "      <td>318.558175</td>\n",
       "    </tr>\n",
       "    <tr>\n",
       "      <th>97</th>\n",
       "      <td>Japan</td>\n",
       "      <td>JPN</td>\n",
       "      <td>1.430000</td>\n",
       "      <td>5106.024760</td>\n",
       "      <td>3687.126279</td>\n",
       "      <td>8.496074</td>\n",
       "      <td>48.744199</td>\n",
       "      <td>5.75</td>\n",
       "      <td>127.297102</td>\n",
       "    </tr>\n",
       "    <tr>\n",
       "      <th>49</th>\n",
       "      <td>Germany</td>\n",
       "      <td>DEU</td>\n",
       "      <td>1.450000</td>\n",
       "      <td>3601.226158</td>\n",
       "      <td>4909.659884</td>\n",
       "      <td>8.542615</td>\n",
       "      <td>48.568695</td>\n",
       "      <td>6.25</td>\n",
       "      <td>81.281645</td>\n",
       "    </tr>\n",
       "    <tr>\n",
       "      <th>67</th>\n",
       "      <td>United Kingdom</td>\n",
       "      <td>GBR</td>\n",
       "      <td>1.842500</td>\n",
       "      <td>2768.864417</td>\n",
       "      <td>3357.983675</td>\n",
       "      <td>7.720655</td>\n",
       "      <td>48.791809</td>\n",
       "      <td>9.25</td>\n",
       "      <td>64.641557</td>\n",
       "    </tr>\n",
       "    <tr>\n",
       "      <th>63</th>\n",
       "      <td>France</td>\n",
       "      <td>FRA</td>\n",
       "      <td>2.005000</td>\n",
       "      <td>2647.649725</td>\n",
       "      <td>4387.835406</td>\n",
       "      <td>8.920420</td>\n",
       "      <td>48.772050</td>\n",
       "      <td>8.75</td>\n",
       "      <td>66.302099</td>\n",
       "    </tr>\n",
       "    <tr>\n",
       "      <th>94</th>\n",
       "      <td>Italy</td>\n",
       "      <td>ITA</td>\n",
       "      <td>1.390000</td>\n",
       "      <td>2005.983980</td>\n",
       "      <td>3266.984094</td>\n",
       "      <td>6.984374</td>\n",
       "      <td>48.407573</td>\n",
       "      <td>4.00</td>\n",
       "      <td>60.378795</td>\n",
       "    </tr>\n",
       "    <tr>\n",
       "      <th>32</th>\n",
       "      <td>Canada</td>\n",
       "      <td>CAN</td>\n",
       "      <td>1.600300</td>\n",
       "      <td>1708.473627</td>\n",
       "      <td>4616.539134</td>\n",
       "      <td>7.546247</td>\n",
       "      <td>48.808926</td>\n",
       "      <td>7.25</td>\n",
       "      <td>35.517119</td>\n",
       "    </tr>\n",
       "    <tr>\n",
       "      <th>10</th>\n",
       "      <td>Australia</td>\n",
       "      <td>AUS</td>\n",
       "      <td>1.861500</td>\n",
       "      <td>1422.994116</td>\n",
       "      <td>4256.058988</td>\n",
       "      <td>6.292381</td>\n",
       "      <td>48.576707</td>\n",
       "      <td>6.00</td>\n",
       "      <td>23.444560</td>\n",
       "    </tr>\n",
       "  </tbody>\n",
       "</table>\n",
       "</div>"
      ],
      "text/plain": [
       "       country_name country_code  fert_rate  gdp_us_billion  \\\n",
       "202   United States          USA   1.860875    17369.124600   \n",
       "97            Japan          JPN   1.430000     5106.024760   \n",
       "49          Germany          DEU   1.450000     3601.226158   \n",
       "67   United Kingdom          GBR   1.842500     2768.864417   \n",
       "63           France          FRA   2.005000     2647.649725   \n",
       "94            Italy          ITA   1.390000     2005.983980   \n",
       "32           Canada          CAN   1.600300     1708.473627   \n",
       "10        Australia          AUS   1.861500     1422.994116   \n",
       "\n",
       "     health_exp_per_cap  health_exp_pub  prim_ed_girls  mat_mort_ratio  \\\n",
       "202         9060.068657        8.121961      48.758830           14.00   \n",
       "97          3687.126279        8.496074      48.744199            5.75   \n",
       "49          4909.659884        8.542615      48.568695            6.25   \n",
       "67          3357.983675        7.720655      48.791809            9.25   \n",
       "63          4387.835406        8.920420      48.772050            8.75   \n",
       "94          3266.984094        6.984374      48.407573            4.00   \n",
       "32          4616.539134        7.546247      48.808926            7.25   \n",
       "10          4256.058988        6.292381      48.576707            6.00   \n",
       "\n",
       "     population  \n",
       "202  318.558175  \n",
       "97   127.297102  \n",
       "49    81.281645  \n",
       "67    64.641557  \n",
       "63    66.302099  \n",
       "94    60.378795  \n",
       "32    35.517119  \n",
       "10    23.444560  "
      ]
     },
     "execution_count": 31,
     "metadata": {},
     "output_type": "execute_result"
    }
   ],
   "source": [
    "# Direct Boolean indexing:\n",
    "# Select rows where 'health_exp_per_cap' is greater than 3000 dollars.\n",
    "big_health_spenders = richest_15[is_big_spender]\n",
    "big_health_spenders"
   ]
  },
  {
   "cell_type": "markdown",
   "metadata": {},
   "source": [
    "We can also use Booleans with `loc` indexing.  This allows us to do things such\n",
    "as selecting rows with Booleans, and columns with labels, in one shot, like\n",
    "this:"
   ]
  },
  {
   "cell_type": "code",
   "execution_count": 32,
   "metadata": {},
   "outputs": [
    {
     "data": {
      "text/plain": [
       "202     United States\n",
       "97              Japan\n",
       "49            Germany\n",
       "67     United Kingdom\n",
       "63             France\n",
       "94              Italy\n",
       "32             Canada\n",
       "10          Australia\n",
       "Name: country_name, dtype: object"
      ]
     },
     "execution_count": 32,
     "metadata": {},
     "output_type": "execute_result"
    }
   ],
   "source": [
    "# Boolean indexing for rows, with \"loc\"\n",
    "# Get \"country_name\" column values for big health spenders:\n",
    "big_spender_names = richest_15.loc[is_big_spender, 'country_name']\n",
    "big_spender_names"
   ]
  },
  {
   "cell_type": "markdown",
   "metadata": {},
   "source": [
    "In fact you can use some Boolean sequences with `iloc` as well, but that needs\n",
    "[a little more explanation](booleans_and_labels)."
   ]
  }
 ],
 "metadata": {
  "jupytext": {
   "split_at_heading": true
  },
  "kernelspec": {
   "display_name": "Python 3",
   "language": "python",
   "name": "python3"
  },
  "language_info": {
   "codemirror_mode": {
    "name": "ipython",
    "version": 3
   },
   "file_extension": ".py",
   "mimetype": "text/x-python",
   "name": "python",
   "nbconvert_exporter": "python",
   "pygments_lexer": "ipython3",
   "version": "3.7.4"
  }
 },
 "nbformat": 4,
 "nbformat_minor": 2
}
