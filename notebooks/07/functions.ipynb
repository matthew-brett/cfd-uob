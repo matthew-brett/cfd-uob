{
 "cells": [
  {
   "cell_type": "markdown",
   "metadata": {},
   "source": [
    "# Functions\n",
    "\n",
    "We have already used functions.\n",
    "\n",
    "For example, we have used the `round` function:"
   ]
  },
  {
   "cell_type": "code",
   "execution_count": 1,
   "metadata": {},
   "outputs": [],
   "source": [
    "a = 3.1415"
   ]
  },
  {
   "cell_type": "code",
   "execution_count": 2,
   "metadata": {},
   "outputs": [],
   "source": [
    "# Call the \"round\" function\n",
    "b = round(a, 2)"
   ]
  },
  {
   "cell_type": "code",
   "execution_count": 3,
   "metadata": {},
   "outputs": [
    {
     "data": {
      "text/plain": [
       "3.14"
      ]
     },
     "execution_count": 3,
     "metadata": {},
     "output_type": "execute_result"
    }
   ],
   "source": [
    "b"
   ]
  },
  {
   "cell_type": "markdown",
   "metadata": {},
   "source": [
    "We often need to define our own functions. Before we do, we need to go into\n",
    "more detail about what functions are for, and what they are."
   ]
  },
  {
   "cell_type": "markdown",
   "metadata": {},
   "source": [
    "## Functions are like named recipes\n",
    "\n",
    "A function is a named recipe.  It is a name we give to a set of steps to\n",
    "follow, a piece of code to run.\n",
    "\n",
    "Thanks to [the Berkeley\n",
    "team](https://www.inferentialthinking.com/chapters/08/Functions_and_Tables)\n",
    "for this metaphor.\n",
    "\n",
    "A recipe is the *procedure* to go from *ingredients* to a *meal*.\n",
    "\n",
    "A function is the *procedure* to go from the *arguments* to the\n",
    "*return value*.\n",
    "\n",
    "For example, I might have a recipe with the procedure to go from the\n",
    "ingredients: two eggs; butter; and cheese \\- to the meal \\- a cheese\n",
    "omelette.\n",
    "\n",
    "The function `round` has the procedure to go from the arguments - two\n",
    "numbers, to the return value, which is the value of the first argument\n",
    "rounded to the number of digits specified in the second.\n",
    "\n",
    "I could call my recipe \"two egg cheese omelette\", or \"recipe number\n",
    "4\".  Whatever I called it, it would be the same recipe.  I might\n",
    "prefer a name that describes what the recipe makes, to help me\n",
    "remember.\n",
    "\n",
    "Likewise, the name `round` refers to a procedure above.  I could give it\n",
    "another name, like `my_function`, but `round` is a good name, because it helps\n",
    "me remember what the procedure does.\n",
    "\n",
    "I say `round` has a procedure, but we can't see what that procedure is, it's\n",
    "buried inside the internal workings of Python.\n",
    "\n",
    "Now we are going to write our own function, where we can see the\n",
    "procedure."
   ]
  },
  {
   "cell_type": "markdown",
   "metadata": {},
   "source": [
    "## Revision on variables\n",
    "\n",
    "Here is an *assignment statement*:"
   ]
  },
  {
   "cell_type": "code",
   "execution_count": 4,
   "metadata": {},
   "outputs": [],
   "source": [
    "a = 2"
   ]
  },
  {
   "cell_type": "markdown",
   "metadata": {},
   "source": [
    "As we know, we can read this as \"The variable 'a' gets the value 2\".\n",
    "\n",
    "We also know that we have, on the left, a variable name, 'a', and on\n",
    "the right, an expression, that gives a value.\n",
    "\n",
    "In this case, the expression on the right is `2`. Python evaluates\n",
    "this expression, to make its own internal computer representation of the\n",
    "integer 2.  Call this: Computer Representation (CR) of int 2.\n",
    "\n",
    "After Python executes this statement, the name \"a\" points to the CR of int 2.\n",
    "\n",
    "To continue the revision:"
   ]
  },
  {
   "cell_type": "code",
   "execution_count": 5,
   "metadata": {},
   "outputs": [],
   "source": [
    "b = a * 4"
   ]
  },
  {
   "cell_type": "markdown",
   "metadata": {},
   "source": [
    "The right side `a * 4` is an expression.  Python evaluates the\n",
    "expression.  First it gets the value of `a`.  This is the CR of int 2.\n",
    "Next it gets the value of `4`.  This is the CR of int 4. Then it\n",
    "multiplies these results to get an CR of int 8.\n",
    "\n",
    "\"b\" now points to the CR of int 8.\n",
    "\n",
    "Finally:"
   ]
  },
  {
   "cell_type": "code",
   "execution_count": 6,
   "metadata": {},
   "outputs": [],
   "source": [
    "a = 3"
   ]
  },
  {
   "cell_type": "markdown",
   "metadata": {},
   "source": [
    "\"a\" no longer points the CR of int 2, it points to the CR of int 3.\n",
    "\n",
    "What value does \"b\" have now?\n",
    "\n",
    "The same value as it had before.  It pointed to the CR of int\n",
    "8 before.  Changing `a` has no effect on `b`.\n",
    "\n",
    "## Defining a function\n",
    "\n",
    "We define our function called `double`.  It accepts one argument\n",
    "(ingredient), call that `x`.  It's procedure is to multiply the\n",
    "argument by 2.  The return value is the argument multiplied by 2.\n",
    "\n",
    "Here it is:"
   ]
  },
  {
   "cell_type": "code",
   "execution_count": 7,
   "metadata": {},
   "outputs": [],
   "source": [
    "def double(x):\n",
    "    d = x * 2\n",
    "    return d"
   ]
  },
  {
   "cell_type": "markdown",
   "metadata": {},
   "source": [
    "Let's look at the first line:\n",
    "\n",
    "```\n",
    "def double(x):\n",
    "```\n",
    "\n",
    "The first word `def` tells Python we are defining a function.\n",
    "\n",
    "The next word `double` is the name we will give to our function.\n",
    "\n",
    "Between the parentheses, we have the function signature.  This specifies how many arguments the function has.  In our case, there is only one argument, named `x`.\n",
    "\n",
    "Finally there is a colon `:` signifying the end of the signature.\n",
    "\n",
    "As in [for loops](../05/iteration), the colon signifies that the next\n",
    "bit of code must be [indented](../03/indentation).\n",
    "\n",
    "Here is the indented part:\n",
    "\n",
    "```\n",
    "    d = x * 2\n",
    "    return d\n",
    "```\n",
    "\n",
    "This is the *body* of the function.   It gives the function procedure; it defines what the function will do to its arguments, and what result it should return.\n",
    "\n",
    "For example, here we *call* the function we just created:"
   ]
  },
  {
   "cell_type": "code",
   "execution_count": 8,
   "metadata": {},
   "outputs": [
    {
     "data": {
      "text/plain": [
       "8"
      ]
     },
     "execution_count": 8,
     "metadata": {},
     "output_type": "execute_result"
    }
   ],
   "source": [
    "double(4)"
   ]
  },
  {
   "cell_type": "markdown",
   "metadata": {},
   "source": [
    "Notice that `double(4)` is a [call expression](../02/Calls).\n",
    "\n",
    "So, what just happened?\n",
    "\n",
    "1.  Python finds what `double` points to.  It points to internal\n",
    "    representation of our function (procedure).\n",
    "1.  Next it sees the parenthesis `(` and sees that we want to *call*\n",
    "    our function.\n",
    "1.  Now Python knows we want to call the function, it knows that\n",
    "    there are one or more *expressions* inside the parentheses.  In\n",
    "    our case there is one, `4`.  As usual, it evaluates this\n",
    "    expression to the CR of int 4.\n",
    "1.  Now Python does the *call*.  To do this it:\n",
    "\n",
    "    1. Puts itself into *function world* (more on this later).\n",
    "    2. Sets the new variable `x` to have the value CR of int 4, from\n",
    "       above.\n",
    "    3. Executes the code in the function body (procedure).\n",
    "    1. The first line `d = x * 2` is an assignment statement.  `x`\n",
    "       evaluates to CR of int 4, 2 evaluates to CR of int 2, so `d`\n",
    "       has the value CR of int 8.  This is how the statement would\n",
    "       work anywhere in Python, function body or not.\n",
    "    1. The next line starts with `return`.  This is a *return\n",
    "       statement*. When Python sees a `return` statement, it evaluates\n",
    "       the expression to the right, to get the *return value*, then\n",
    "    5. Pulls itself out of *function world*.\n",
    "    6. Gives the *return value* as the final result of the call\n",
    "       expression.  This is CR of int 8.\n",
    "\n",
    "We can run the function with any values for the argument."
   ]
  },
  {
   "cell_type": "code",
   "execution_count": 9,
   "metadata": {},
   "outputs": [
    {
     "data": {
      "text/plain": [
       "4"
      ]
     },
     "execution_count": 9,
     "metadata": {},
     "output_type": "execute_result"
    }
   ],
   "source": [
    "double(2)"
   ]
  },
  {
   "cell_type": "markdown",
   "metadata": {},
   "source": [
    "This time round, everything happened in the same way as before, except\n",
    "Python found the *argument* inside the parentheses evaluated to CR of\n",
    "int 2.  Thus, in *function world*, `x` gets the value CR of 2, and the *return value* becomes CR of int 4.\n",
    "\n",
    "## Function world\n",
    "\n",
    "I cryptically used the term *function world* for the state that Python goes into when it calls a function.\n",
    "\n",
    "This state has two important features.\n",
    "\n",
    "### Variables defined in functions have local scope\n",
    "\n",
    "The first feature of function world is that all variables defined\n",
    "inside function world, get thrown away when we leave function world.\n",
    "\n",
    "We can see this if we run the following code in a notebook cell.  This\n",
    "code runs in our usual top-level world, and so, not inside a function."
   ]
  },
  {
   "cell_type": "code",
   "execution_count": 10,
   "metadata": {
    "tags": [
     "raises-exception"
    ]
   },
   "outputs": [
    {
     "ename": "NameError",
     "evalue": "name 'd' is not defined",
     "output_type": "error",
     "traceback": [
      "\u001b[0;31m---------------------------------------------------------------------------\u001b[0m",
      "\u001b[0;31mNameError\u001b[0m                                 Traceback (most recent call last)",
      "\u001b[0;32m<ipython-input-10-e983f374794d>\u001b[0m in \u001b[0;36m<module>\u001b[0;34m\u001b[0m\n\u001b[0;32m----> 1\u001b[0;31m \u001b[0md\u001b[0m\u001b[0;34m\u001b[0m\u001b[0;34m\u001b[0m\u001b[0m\n\u001b[0m",
      "\u001b[0;31mNameError\u001b[0m: name 'd' is not defined"
     ]
    }
   ],
   "source": [
    "d"
   ]
  },
  {
   "cell_type": "markdown",
   "metadata": {},
   "source": [
    "Notice that, in the function, we set `d` to point to the result of `x * 2`.  We called the function a couple of times, so we executed this statement a couple of times.  But the `d` in the function, gets thrown away, when we come back from function world.\n",
    "\n",
    "In technical terms, this is called *scope*.   The *scope* of\n",
    "a variable, is the pieces of code in which the variable is visible.\n",
    "`d` can only be seen inside the function.  Its scope is the function.  We can also say that its scope is piece of code where it is defined, that is, it has *local* scope.\n",
    "\n",
    "The same is true for `x`, the argument variable:"
   ]
  },
  {
   "cell_type": "code",
   "execution_count": 11,
   "metadata": {
    "tags": [
     "raises-exception"
    ]
   },
   "outputs": [
    {
     "ename": "NameError",
     "evalue": "name 'x' is not defined",
     "output_type": "error",
     "traceback": [
      "\u001b[0;31m---------------------------------------------------------------------------\u001b[0m",
      "\u001b[0;31mNameError\u001b[0m                                 Traceback (most recent call last)",
      "\u001b[0;32m<ipython-input-11-6fcf9dfbd479>\u001b[0m in \u001b[0;36m<module>\u001b[0;34m\u001b[0m\n\u001b[0;32m----> 1\u001b[0;31m \u001b[0mx\u001b[0m\u001b[0;34m\u001b[0m\u001b[0;34m\u001b[0m\u001b[0m\n\u001b[0m",
      "\u001b[0;31mNameError\u001b[0m: name 'x' is not defined"
     ]
    }
   ],
   "source": [
    "x"
   ]
  },
  {
   "cell_type": "markdown",
   "metadata": {},
   "source": [
    "### The function has limited access to variables outside the function\n",
    "\n",
    "We have not seen this yet, but function world has limited access to variables defined at the top level.\n",
    "\n",
    "We won't go into much detail here, but the summary is that functions can see the values of variables defined at the top level, but they can't change what top level variables point to.  For example, say you have a variable `a` at the top level.  A function can see and use the value of `a`, but it cannot change top-level `a` to point to a different value.   We will come back to this later.\n",
    "\n",
    "## Python checks the function signature\n",
    "\n",
    "The signature for `double` is `(a)`.  That tells Python to expect one\n",
    "and only one argument.  If we try to call it with no arguments\n",
    "(nothing inside the parentheses), we get an error:"
   ]
  },
  {
   "cell_type": "code",
   "execution_count": 12,
   "metadata": {
    "tags": [
     "raises-exception"
    ]
   },
   "outputs": [
    {
     "ename": "TypeError",
     "evalue": "double() missing 1 required positional argument: 'x'",
     "output_type": "error",
     "traceback": [
      "\u001b[0;31m---------------------------------------------------------------------------\u001b[0m",
      "\u001b[0;31mTypeError\u001b[0m                                 Traceback (most recent call last)",
      "\u001b[0;32m<ipython-input-12-021efdc17f44>\u001b[0m in \u001b[0;36m<module>\u001b[0;34m\u001b[0m\n\u001b[0;32m----> 1\u001b[0;31m \u001b[0mdouble\u001b[0m\u001b[0;34m(\u001b[0m\u001b[0;34m)\u001b[0m\u001b[0;34m\u001b[0m\u001b[0;34m\u001b[0m\u001b[0m\n\u001b[0m",
      "\u001b[0;31mTypeError\u001b[0m: double() missing 1 required positional argument: 'x'"
     ]
    }
   ],
   "source": [
    "double()"
   ]
  },
  {
   "cell_type": "markdown",
   "metadata": {},
   "source": [
    "If we try and call it with more than one argument, we get an error.  We separate arguments with commas."
   ]
  },
  {
   "cell_type": "code",
   "execution_count": 13,
   "metadata": {
    "tags": [
     "raises-exception"
    ]
   },
   "outputs": [
    {
     "ename": "TypeError",
     "evalue": "double() takes 1 positional argument but 2 were given",
     "output_type": "error",
     "traceback": [
      "\u001b[0;31m---------------------------------------------------------------------------\u001b[0m",
      "\u001b[0;31mTypeError\u001b[0m                                 Traceback (most recent call last)",
      "\u001b[0;32m<ipython-input-13-00307dcfcdd5>\u001b[0m in \u001b[0;36m<module>\u001b[0;34m\u001b[0m\n\u001b[0;32m----> 1\u001b[0;31m \u001b[0mdouble\u001b[0m\u001b[0;34m(\u001b[0m\u001b[0;36m2\u001b[0m\u001b[0;34m,\u001b[0m \u001b[0;36m3\u001b[0m\u001b[0;34m)\u001b[0m\u001b[0;34m\u001b[0m\u001b[0;34m\u001b[0m\u001b[0m\n\u001b[0m",
      "\u001b[0;31mTypeError\u001b[0m: double() takes 1 positional argument but 2 were given"
     ]
    }
   ],
   "source": [
    "double(2, 3)"
   ]
  },
  {
   "cell_type": "code",
   "execution_count": 14,
   "metadata": {
    "tags": [
     "raises-exception"
    ]
   },
   "outputs": [
    {
     "ename": "TypeError",
     "evalue": "double() takes 1 positional argument but 3 were given",
     "output_type": "error",
     "traceback": [
      "\u001b[0;31m---------------------------------------------------------------------------\u001b[0m",
      "\u001b[0;31mTypeError\u001b[0m                                 Traceback (most recent call last)",
      "\u001b[0;32m<ipython-input-14-deb0fdbc1222>\u001b[0m in \u001b[0;36m<module>\u001b[0;34m\u001b[0m\n\u001b[0;32m----> 1\u001b[0;31m \u001b[0mdouble\u001b[0m\u001b[0;34m(\u001b[0m\u001b[0;36m2\u001b[0m\u001b[0;34m,\u001b[0m \u001b[0;36m3\u001b[0m\u001b[0;34m,\u001b[0m \u001b[0;36m4\u001b[0m\u001b[0;34m)\u001b[0m\u001b[0;34m\u001b[0m\u001b[0;34m\u001b[0m\u001b[0m\n\u001b[0m",
      "\u001b[0;31mTypeError\u001b[0m: double() takes 1 positional argument but 3 were given"
     ]
    }
   ],
   "source": [
    "double(2, 3, 4)"
   ]
  },
  {
   "cell_type": "markdown",
   "metadata": {},
   "source": [
    "## Function arguments are expressions\n",
    "\n",
    "Remember that Python knows that the arguments to a function are\n",
    "expressions, and evaluates them, before running the function.\n",
    "\n",
    "For example:"
   ]
  },
  {
   "cell_type": "code",
   "execution_count": 15,
   "metadata": {},
   "outputs": [
    {
     "data": {
      "text/plain": [
       "10"
      ]
     },
     "execution_count": 15,
     "metadata": {},
     "output_type": "execute_result"
    }
   ],
   "source": [
    "double(2 + 3)"
   ]
  },
  {
   "cell_type": "markdown",
   "metadata": {},
   "source": [
    "All the procedure is the same as above.  Python evaluates the\n",
    "expression `2 + 3`, to get CR of int 5, then goes into function world,\n",
    "sets `x` to have the value CR of int 5, and continues from there.\n",
    "\n",
    "## Functions can have many arguments\n",
    "\n",
    "Now we define a new function:\n"
   ]
  },
  {
   "cell_type": "code",
   "execution_count": 16,
   "metadata": {},
   "outputs": [],
   "source": [
    "def multiply(a, b):\n",
    "    return a * b"
   ]
  },
  {
   "cell_type": "markdown",
   "metadata": {},
   "source": [
    "The new thing here is that the function signature `(a, b)` has two arguments, separated by commas.  We need to give the function two values, when we call it:"
   ]
  },
  {
   "cell_type": "code",
   "execution_count": 17,
   "metadata": {},
   "outputs": [
    {
     "data": {
      "text/plain": [
       "6"
      ]
     },
     "execution_count": 17,
     "metadata": {},
     "output_type": "execute_result"
    }
   ],
   "source": [
    "multiply(2, 3)"
   ]
  },
  {
   "cell_type": "markdown",
   "metadata": {},
   "source": [
    "If we do not give it exactly two arguments, we get an error."
   ]
  },
  {
   "cell_type": "code",
   "execution_count": 18,
   "metadata": {
    "tags": [
     "raises-exception"
    ]
   },
   "outputs": [
    {
     "ename": "TypeError",
     "evalue": "multiply() missing 1 required positional argument: 'b'",
     "output_type": "error",
     "traceback": [
      "\u001b[0;31m---------------------------------------------------------------------------\u001b[0m",
      "\u001b[0;31mTypeError\u001b[0m                                 Traceback (most recent call last)",
      "\u001b[0;32m<ipython-input-18-64960a6c4018>\u001b[0m in \u001b[0;36m<module>\u001b[0;34m\u001b[0m\n\u001b[0;32m----> 1\u001b[0;31m \u001b[0mmultiply\u001b[0m\u001b[0;34m(\u001b[0m\u001b[0;36m2\u001b[0m\u001b[0;34m)\u001b[0m\u001b[0;34m\u001b[0m\u001b[0;34m\u001b[0m\u001b[0m\n\u001b[0m",
      "\u001b[0;31mTypeError\u001b[0m: multiply() missing 1 required positional argument: 'b'"
     ]
    }
   ],
   "source": [
    "multiply(2)"
   ]
  },
  {
   "cell_type": "code",
   "execution_count": 19,
   "metadata": {
    "tags": [
     "raises-exception"
    ]
   },
   "outputs": [
    {
     "ename": "TypeError",
     "evalue": "multiply() takes 2 positional arguments but 3 were given",
     "output_type": "error",
     "traceback": [
      "\u001b[0;31m---------------------------------------------------------------------------\u001b[0m",
      "\u001b[0;31mTypeError\u001b[0m                                 Traceback (most recent call last)",
      "\u001b[0;32m<ipython-input-19-9581b07c2e6f>\u001b[0m in \u001b[0;36m<module>\u001b[0;34m\u001b[0m\n\u001b[0;32m----> 1\u001b[0;31m \u001b[0mmultiply\u001b[0m\u001b[0;34m(\u001b[0m\u001b[0;36m2\u001b[0m\u001b[0;34m,\u001b[0m \u001b[0;36m3\u001b[0m\u001b[0;34m,\u001b[0m \u001b[0;36m4\u001b[0m\u001b[0;34m)\u001b[0m\u001b[0;34m\u001b[0m\u001b[0;34m\u001b[0m\u001b[0m\n\u001b[0m",
      "\u001b[0;31mTypeError\u001b[0m: multiply() takes 2 positional arguments but 3 were given"
     ]
    }
   ],
   "source": [
    "multiply(2, 3, 4)"
   ]
  },
  {
   "cell_type": "markdown",
   "metadata": {},
   "source": [
    "## Functions can have no arguments\n",
    "\n",
    "Perhaps the recipe analogy breaks down here, but sometimes functions take no arguments.  For example:"
   ]
  },
  {
   "cell_type": "code",
   "execution_count": 20,
   "metadata": {},
   "outputs": [],
   "source": [
    "import numpy as np"
   ]
  },
  {
   "cell_type": "code",
   "execution_count": 21,
   "metadata": {},
   "outputs": [],
   "source": [
    "# Notice - nothing between the parentheses\n",
    "\n",
    "def biased_coin():\n",
    "    # A single random number\n",
    "    r = np.random.uniform()\n",
    "    # A biased coin\n",
    "    result = r < 0.45\n",
    "    return result"
   ]
  },
  {
   "cell_type": "markdown",
   "metadata": {},
   "source": [
    "When we call the function, we have no arguments, so no expressions between the parentheses."
   ]
  },
  {
   "cell_type": "code",
   "execution_count": 22,
   "metadata": {},
   "outputs": [
    {
     "data": {
      "text/plain": [
       "False"
      ]
     },
     "execution_count": 22,
     "metadata": {},
     "output_type": "execute_result"
    }
   ],
   "source": [
    "biased_coin()"
   ]
  },
  {
   "cell_type": "markdown",
   "metadata": {},
   "source": [
    "As you would expect by now, if we try and send an argument, Python will complain:"
   ]
  },
  {
   "cell_type": "code",
   "execution_count": 23,
   "metadata": {
    "tags": [
     "raises-exception"
    ]
   },
   "outputs": [
    {
     "ename": "TypeError",
     "evalue": "biased_coin() takes 0 positional arguments but 1 was given",
     "output_type": "error",
     "traceback": [
      "\u001b[0;31m---------------------------------------------------------------------------\u001b[0m",
      "\u001b[0;31mTypeError\u001b[0m                                 Traceback (most recent call last)",
      "\u001b[0;32m<ipython-input-23-256c7c6a08cf>\u001b[0m in \u001b[0;36m<module>\u001b[0;34m\u001b[0m\n\u001b[0;32m----> 1\u001b[0;31m \u001b[0mbiased_coin\u001b[0m\u001b[0;34m(\u001b[0m\u001b[0;36m0.45\u001b[0m\u001b[0;34m)\u001b[0m\u001b[0;34m\u001b[0m\u001b[0;34m\u001b[0m\u001b[0m\n\u001b[0m",
      "\u001b[0;31mTypeError\u001b[0m: biased_coin() takes 0 positional arguments but 1 was given"
     ]
    }
   ],
   "source": [
    "biased_coin(0.45)"
   ]
  },
  {
   "cell_type": "markdown",
   "metadata": {},
   "source": [
    "## Without a return statement, functions return None\n",
    "\n",
    "Our functions so far all have a `return` statement.  This is not true of every function.\n",
    "\n",
    "If your function does not have a return statement, the function returns the value [None](none)."
   ]
  },
  {
   "cell_type": "code",
   "execution_count": 24,
   "metadata": {},
   "outputs": [],
   "source": [
    "def silent_addition(first, second):\n",
    "    result = first + second"
   ]
  },
  {
   "cell_type": "markdown",
   "metadata": {},
   "source": [
    "Notice that the body of this function has no `return` statement.  When we call it, it returns `None`:"
   ]
  },
  {
   "cell_type": "code",
   "execution_count": 25,
   "metadata": {},
   "outputs": [],
   "source": [
    "result = silent_addition(10, 12)\n",
    "result"
   ]
  },
  {
   "cell_type": "code",
   "execution_count": 26,
   "metadata": {},
   "outputs": [
    {
     "data": {
      "text/plain": [
       "True"
      ]
     },
     "execution_count": 26,
     "metadata": {},
     "output_type": "execute_result"
    }
   ],
   "source": [
    "result is None"
   ]
  },
  {
   "cell_type": "markdown",
   "metadata": {},
   "source": [
    "## End of the introduction\n",
    "\n",
    "That's it for the introduction.  For a less basic description, have\n",
    "a look at the [Berkeley introduction to\n",
    "functions](../extra/data8_functions).\n",
    "\n",
    "Now try the [exercises](../exercises/function_exercises)."
   ]
  }
 ],
 "metadata": {
  "kernelspec": {
   "display_name": "Python 3",
   "language": "python",
   "name": "python3"
  },
  "language_info": {
   "codemirror_mode": {
    "name": "ipython",
    "version": 3
   },
   "file_extension": ".py",
   "mimetype": "text/x-python",
   "name": "python",
   "nbconvert_exporter": "python",
   "pygments_lexer": "ipython3",
   "version": "3.7.1"
  }
 },
 "nbformat": 4,
 "nbformat_minor": 2
}
