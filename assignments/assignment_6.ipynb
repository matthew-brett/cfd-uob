{
 "cells": [
  {
   "cell_type": "markdown",
   "metadata": {},
   "source": [
    "# Job Opportunities & Education in Rural India\n",
    "\n",
    "A [study](http://www.nber.org/papers/w16021.pdf) at UCLA investigated\n",
    "factors that might result in greater attention to the health and\n",
    "education of girls in rural India. One such factor is information\n",
    "about job opportunities for women. The idea is that if people know\n",
    "that educated women can get good jobs, they might take more care of\n",
    "the health and education of girls in their families, as an investment\n",
    "in the girls’ future potential as earners.\n",
    "\n",
    "The study focused on 160 villages outside the capital of India, all\n",
    "with little access to information about call centers and similar\n",
    "organizations that offer job opportunities to women. In 80 of the\n",
    "villages chosen at random, recruiters visited the village, described\n",
    "the opportunities, recruited women who had some English language\n",
    "proficiency and experience with computers, and provided ongoing\n",
    "support free of charge for three years. In the other 80 villages, no\n",
    "recruiters visited and no other intervention was made.\n",
    "\n",
    "At the end of the study period, the researchers recorded data about\n",
    "the school attendance and health of the children in the villages."
   ]
  },
  {
   "cell_type": "markdown",
   "metadata": {},
   "source": [
    "**Question 1.** Which statement best describes the *treatment* and *control* groups for this study? Assign either 1, 2, or 3 to the name `jobs_q1` below.\n",
    "\n",
    "1. The treatment group was the 80 villages visited by recruiters, and the control group was the other 80 villages with no intervention.\n",
    "\n",
    "2. The treatment group was the 160 villages selected, and the control group was the rest of the villages outside the capital of India.\n",
    "\n",
    "3. There is no clear notion of *treatment* and *control* group in this study."
   ]
  },
  {
   "cell_type": "code",
   "execution_count": null,
   "metadata": {},
   "outputs": [],
   "source": [
    "jobs_q1 = ..."
   ]
  },
  {
   "cell_type": "markdown",
   "metadata": {},
   "source": [
    "**Question 2.** Was this an observational study or a randomized\n",
    "controlled experiment? Assign either 1, 2, or 3 to the name `jobs_q2`\n",
    "below.\n",
    "\n",
    "1. This was an observational study.\n",
    "\n",
    "2. This was a randomized controlled experiment.\n",
    "\n",
    "3. This was a randomized observational study."
   ]
  },
  {
   "cell_type": "code",
   "execution_count": null,
   "metadata": {},
   "outputs": [],
   "source": [
    "jobs_q2 = ..."
   ]
  },
  {
   "cell_type": "markdown",
   "metadata": {},
   "source": [
    "**Question 3.** The study reported, “Girls aged 5-15 in villages that\n",
    "received the recruiting services were 3 to 5 percentage points more\n",
    "likely to be in school and experienced an increase in Body Mass Index,\n",
    "reflecting greater nutrition and/or medical care. However, there was\n",
    "no net gain in height. For boys, there was no change in any of these\n",
    "measures.” Why do you think the author points out the lack of change\n",
    "in the boys?"
   ]
  },
  {
   "cell_type": "markdown",
   "metadata": {},
   "source": [
    "*Write your answer here, replacing this text.*"
   ]
  },
  {
   "cell_type": "markdown",
   "metadata": {},
   "source": [
    "## Nearsightedness Study\n",
    "\n",
    "Myopia, or nearsightedness, results from a number of genetic and\n",
    "environmental factors. In 1999, Quinn *et al* studied the relation\n",
    "between myopia and ambient lighting at night (for example, from\n",
    "nightlights or room lights) during childhood.\n",
    "\n",
    "Quinn, G. E., Shin, C. H., Maguire, M. G., & Stone, R. A. (1999). Myopia and ambient lighting at night. Nature, 399(6732), 113."
   ]
  },
  {
   "cell_type": "markdown",
   "metadata": {},
   "source": [
    "**Question 1**. The data were gathered by the following procedure,\n",
    "reported in the study. “Between January and June 1998, parents of\n",
    "children aged 2-16 years ... that were seen as outpatients in\n",
    "a university pediatric ophthalmology clinic completed a questionnaire\n",
    "on the child’s light exposure both at present and before the age of\n",
    "2 years.” Was this study observational, or was it a controlled\n",
    "experiment?"
   ]
  },
  {
   "cell_type": "markdown",
   "metadata": {},
   "source": [
    "*Write your answer here, replacing this text.*"
   ]
  },
  {
   "cell_type": "markdown",
   "metadata": {},
   "source": [
    "**Question 2**\n",
    "\n",
    "The study found that of the children who slept with a room light on\n",
    "before the age of 2, 55% were myopic. Of the children who slept with\n",
    "a night light on before the age of 2, 34% were myopic. Of the children\n",
    "who slept in the dark before the age of 2, 10% were myopic. The study\n",
    "concluded that, “The prevalence of myopia ... during childhood was\n",
    "strongly associated with ambient light exposure during sleep at night\n",
    "in the first two years after birth.” Do the data support this\n",
    "statement? You may interpret “strongly” in any reasonable qualitative\n",
    "way."
   ]
  },
  {
   "cell_type": "markdown",
   "metadata": {},
   "source": [
    "*Write your answer here, replacing this text.*"
   ]
  },
  {
   "cell_type": "markdown",
   "metadata": {},
   "source": [
    "**Question 3**\n",
    "\n",
    "On May 13, 1999, CNN reported the results of this study under the\n",
    "headline, [Night light may lead to\n",
    "nearsightedness](http://edition.cnn.com/HEALTH/9905/12/children.lights/index.html).\n",
    "Does the conclusion of the study claim that night light causes\n",
    "nearsightedness?"
   ]
  },
  {
   "cell_type": "markdown",
   "metadata": {},
   "source": [
    "*Write your answer here, replacing this text.*"
   ]
  },
  {
   "cell_type": "markdown",
   "metadata": {},
   "source": [
    "**Question 4**\n",
    "\n",
    "The final paragraph of the CNN report said that “several eye\n",
    "specialists” had pointed out that the study should have accounted for\n",
    "heredity. Myopia is passed down from parents to children. In what way\n",
    "do you think this fact might have affected the data?"
   ]
  },
  {
   "cell_type": "markdown",
   "metadata": {},
   "source": [
    "*Write your answer here, replacing this text.*"
   ]
  }
 ],
 "metadata": {
  "jupytext": {
   "text_representation": {
    "extension": ".Rmd",
    "format_name": "rmarkdown",
    "format_version": "1.0",
    "jupytext_version": "0.8.5"
   }
  },
  "kernelspec": {
   "display_name": "Python 3",
   "language": "python",
   "name": "python3"
  },
  "language_info": {
   "codemirror_mode": {
    "name": "ipython",
    "version": 3
   },
   "file_extension": ".py",
   "mimetype": "text/x-python",
   "name": "python",
   "nbconvert_exporter": "python",
   "pygments_lexer": "ipython3",
   "version": "3.7.1"
  }
 },
 "nbformat": 4,
 "nbformat_minor": 2
}
